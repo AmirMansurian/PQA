{
  "nbformat": 4,
  "nbformat_minor": 0,
  "metadata": {
    "colab": {
      "name": "ParsBert.ipynb",
      "provenance": [],
      "collapsed_sections": [
        "EgYAnFVzC2F_"
      ],
      "toc_visible": true
    },
    "kernelspec": {
      "name": "python3",
      "display_name": "Python 3"
    },
    "language_info": {
      "name": "python"
    },
    "widgets": {
      "application/vnd.jupyter.widget-state+json": {
        "9719f5e82e0542d78a42dc145284bad4": {
          "model_module": "@jupyter-widgets/controls",
          "model_name": "HBoxModel",
          "model_module_version": "1.5.0",
          "state": {
            "_dom_classes": [],
            "_model_module": "@jupyter-widgets/controls",
            "_model_module_version": "1.5.0",
            "_model_name": "HBoxModel",
            "_view_count": null,
            "_view_module": "@jupyter-widgets/controls",
            "_view_module_version": "1.5.0",
            "_view_name": "HBoxView",
            "box_style": "",
            "children": [
              "IPY_MODEL_2846d1e3b9f849c2a1847654f7ad8f2e",
              "IPY_MODEL_f309f02fd8a543d785433b771c123cb6",
              "IPY_MODEL_d02fd40752f447fabb0f6050c264a159"
            ],
            "layout": "IPY_MODEL_433cbcc0f32c4b47959d7d743c009d39"
          }
        },
        "2846d1e3b9f849c2a1847654f7ad8f2e": {
          "model_module": "@jupyter-widgets/controls",
          "model_name": "HTMLModel",
          "model_module_version": "1.5.0",
          "state": {
            "_dom_classes": [],
            "_model_module": "@jupyter-widgets/controls",
            "_model_module_version": "1.5.0",
            "_model_name": "HTMLModel",
            "_view_count": null,
            "_view_module": "@jupyter-widgets/controls",
            "_view_module_version": "1.5.0",
            "_view_name": "HTMLView",
            "description": "",
            "description_tooltip": null,
            "layout": "IPY_MODEL_ca5389bf21f4413b8856c05df132d29a",
            "placeholder": "​",
            "style": "IPY_MODEL_721c1fe6615e44bb8d2588af5adfb390",
            "value": "Downloading config.json: 100%"
          }
        },
        "f309f02fd8a543d785433b771c123cb6": {
          "model_module": "@jupyter-widgets/controls",
          "model_name": "FloatProgressModel",
          "model_module_version": "1.5.0",
          "state": {
            "_dom_classes": [],
            "_model_module": "@jupyter-widgets/controls",
            "_model_module_version": "1.5.0",
            "_model_name": "FloatProgressModel",
            "_view_count": null,
            "_view_module": "@jupyter-widgets/controls",
            "_view_module_version": "1.5.0",
            "_view_name": "ProgressView",
            "bar_style": "success",
            "description": "",
            "description_tooltip": null,
            "layout": "IPY_MODEL_73c73d129c6847c3b6a9f9f655a21270",
            "max": 440,
            "min": 0,
            "orientation": "horizontal",
            "style": "IPY_MODEL_230059ae19784e848f0b9d36d5c8f2ed",
            "value": 440
          }
        },
        "d02fd40752f447fabb0f6050c264a159": {
          "model_module": "@jupyter-widgets/controls",
          "model_name": "HTMLModel",
          "model_module_version": "1.5.0",
          "state": {
            "_dom_classes": [],
            "_model_module": "@jupyter-widgets/controls",
            "_model_module_version": "1.5.0",
            "_model_name": "HTMLModel",
            "_view_count": null,
            "_view_module": "@jupyter-widgets/controls",
            "_view_module_version": "1.5.0",
            "_view_name": "HTMLView",
            "description": "",
            "description_tooltip": null,
            "layout": "IPY_MODEL_74b248307e5b43b8876a2f1dfab13efb",
            "placeholder": "​",
            "style": "IPY_MODEL_7b672dcac2cf41d7884b7d062fee4336",
            "value": " 440/440 [00:00&lt;00:00, 12.9kB/s]"
          }
        },
        "433cbcc0f32c4b47959d7d743c009d39": {
          "model_module": "@jupyter-widgets/base",
          "model_name": "LayoutModel",
          "model_module_version": "1.2.0",
          "state": {
            "_model_module": "@jupyter-widgets/base",
            "_model_module_version": "1.2.0",
            "_model_name": "LayoutModel",
            "_view_count": null,
            "_view_module": "@jupyter-widgets/base",
            "_view_module_version": "1.2.0",
            "_view_name": "LayoutView",
            "align_content": null,
            "align_items": null,
            "align_self": null,
            "border": null,
            "bottom": null,
            "display": null,
            "flex": null,
            "flex_flow": null,
            "grid_area": null,
            "grid_auto_columns": null,
            "grid_auto_flow": null,
            "grid_auto_rows": null,
            "grid_column": null,
            "grid_gap": null,
            "grid_row": null,
            "grid_template_areas": null,
            "grid_template_columns": null,
            "grid_template_rows": null,
            "height": null,
            "justify_content": null,
            "justify_items": null,
            "left": null,
            "margin": null,
            "max_height": null,
            "max_width": null,
            "min_height": null,
            "min_width": null,
            "object_fit": null,
            "object_position": null,
            "order": null,
            "overflow": null,
            "overflow_x": null,
            "overflow_y": null,
            "padding": null,
            "right": null,
            "top": null,
            "visibility": null,
            "width": null
          }
        },
        "ca5389bf21f4413b8856c05df132d29a": {
          "model_module": "@jupyter-widgets/base",
          "model_name": "LayoutModel",
          "model_module_version": "1.2.0",
          "state": {
            "_model_module": "@jupyter-widgets/base",
            "_model_module_version": "1.2.0",
            "_model_name": "LayoutModel",
            "_view_count": null,
            "_view_module": "@jupyter-widgets/base",
            "_view_module_version": "1.2.0",
            "_view_name": "LayoutView",
            "align_content": null,
            "align_items": null,
            "align_self": null,
            "border": null,
            "bottom": null,
            "display": null,
            "flex": null,
            "flex_flow": null,
            "grid_area": null,
            "grid_auto_columns": null,
            "grid_auto_flow": null,
            "grid_auto_rows": null,
            "grid_column": null,
            "grid_gap": null,
            "grid_row": null,
            "grid_template_areas": null,
            "grid_template_columns": null,
            "grid_template_rows": null,
            "height": null,
            "justify_content": null,
            "justify_items": null,
            "left": null,
            "margin": null,
            "max_height": null,
            "max_width": null,
            "min_height": null,
            "min_width": null,
            "object_fit": null,
            "object_position": null,
            "order": null,
            "overflow": null,
            "overflow_x": null,
            "overflow_y": null,
            "padding": null,
            "right": null,
            "top": null,
            "visibility": null,
            "width": null
          }
        },
        "721c1fe6615e44bb8d2588af5adfb390": {
          "model_module": "@jupyter-widgets/controls",
          "model_name": "DescriptionStyleModel",
          "model_module_version": "1.5.0",
          "state": {
            "_model_module": "@jupyter-widgets/controls",
            "_model_module_version": "1.5.0",
            "_model_name": "DescriptionStyleModel",
            "_view_count": null,
            "_view_module": "@jupyter-widgets/base",
            "_view_module_version": "1.2.0",
            "_view_name": "StyleView",
            "description_width": ""
          }
        },
        "73c73d129c6847c3b6a9f9f655a21270": {
          "model_module": "@jupyter-widgets/base",
          "model_name": "LayoutModel",
          "model_module_version": "1.2.0",
          "state": {
            "_model_module": "@jupyter-widgets/base",
            "_model_module_version": "1.2.0",
            "_model_name": "LayoutModel",
            "_view_count": null,
            "_view_module": "@jupyter-widgets/base",
            "_view_module_version": "1.2.0",
            "_view_name": "LayoutView",
            "align_content": null,
            "align_items": null,
            "align_self": null,
            "border": null,
            "bottom": null,
            "display": null,
            "flex": null,
            "flex_flow": null,
            "grid_area": null,
            "grid_auto_columns": null,
            "grid_auto_flow": null,
            "grid_auto_rows": null,
            "grid_column": null,
            "grid_gap": null,
            "grid_row": null,
            "grid_template_areas": null,
            "grid_template_columns": null,
            "grid_template_rows": null,
            "height": null,
            "justify_content": null,
            "justify_items": null,
            "left": null,
            "margin": null,
            "max_height": null,
            "max_width": null,
            "min_height": null,
            "min_width": null,
            "object_fit": null,
            "object_position": null,
            "order": null,
            "overflow": null,
            "overflow_x": null,
            "overflow_y": null,
            "padding": null,
            "right": null,
            "top": null,
            "visibility": null,
            "width": null
          }
        },
        "230059ae19784e848f0b9d36d5c8f2ed": {
          "model_module": "@jupyter-widgets/controls",
          "model_name": "ProgressStyleModel",
          "model_module_version": "1.5.0",
          "state": {
            "_model_module": "@jupyter-widgets/controls",
            "_model_module_version": "1.5.0",
            "_model_name": "ProgressStyleModel",
            "_view_count": null,
            "_view_module": "@jupyter-widgets/base",
            "_view_module_version": "1.2.0",
            "_view_name": "StyleView",
            "bar_color": null,
            "description_width": ""
          }
        },
        "74b248307e5b43b8876a2f1dfab13efb": {
          "model_module": "@jupyter-widgets/base",
          "model_name": "LayoutModel",
          "model_module_version": "1.2.0",
          "state": {
            "_model_module": "@jupyter-widgets/base",
            "_model_module_version": "1.2.0",
            "_model_name": "LayoutModel",
            "_view_count": null,
            "_view_module": "@jupyter-widgets/base",
            "_view_module_version": "1.2.0",
            "_view_name": "LayoutView",
            "align_content": null,
            "align_items": null,
            "align_self": null,
            "border": null,
            "bottom": null,
            "display": null,
            "flex": null,
            "flex_flow": null,
            "grid_area": null,
            "grid_auto_columns": null,
            "grid_auto_flow": null,
            "grid_auto_rows": null,
            "grid_column": null,
            "grid_gap": null,
            "grid_row": null,
            "grid_template_areas": null,
            "grid_template_columns": null,
            "grid_template_rows": null,
            "height": null,
            "justify_content": null,
            "justify_items": null,
            "left": null,
            "margin": null,
            "max_height": null,
            "max_width": null,
            "min_height": null,
            "min_width": null,
            "object_fit": null,
            "object_position": null,
            "order": null,
            "overflow": null,
            "overflow_x": null,
            "overflow_y": null,
            "padding": null,
            "right": null,
            "top": null,
            "visibility": null,
            "width": null
          }
        },
        "7b672dcac2cf41d7884b7d062fee4336": {
          "model_module": "@jupyter-widgets/controls",
          "model_name": "DescriptionStyleModel",
          "model_module_version": "1.5.0",
          "state": {
            "_model_module": "@jupyter-widgets/controls",
            "_model_module_version": "1.5.0",
            "_model_name": "DescriptionStyleModel",
            "_view_count": null,
            "_view_module": "@jupyter-widgets/base",
            "_view_module_version": "1.2.0",
            "_view_name": "StyleView",
            "description_width": ""
          }
        },
        "48ed89ac9b1a4e5f9ff827c3324cca79": {
          "model_module": "@jupyter-widgets/controls",
          "model_name": "HBoxModel",
          "model_module_version": "1.5.0",
          "state": {
            "_dom_classes": [],
            "_model_module": "@jupyter-widgets/controls",
            "_model_module_version": "1.5.0",
            "_model_name": "HBoxModel",
            "_view_count": null,
            "_view_module": "@jupyter-widgets/controls",
            "_view_module_version": "1.5.0",
            "_view_name": "HBoxView",
            "box_style": "",
            "children": [
              "IPY_MODEL_f0754cc71a124c10ae776a2c53113add",
              "IPY_MODEL_c4dccc1079bd4564b659cb3fe0dbdacf",
              "IPY_MODEL_a0b943062397451eb3e303db3b93b9a7"
            ],
            "layout": "IPY_MODEL_33210b4f6e204a81870f311dfe1293fc"
          }
        },
        "f0754cc71a124c10ae776a2c53113add": {
          "model_module": "@jupyter-widgets/controls",
          "model_name": "HTMLModel",
          "model_module_version": "1.5.0",
          "state": {
            "_dom_classes": [],
            "_model_module": "@jupyter-widgets/controls",
            "_model_module_version": "1.5.0",
            "_model_name": "HTMLModel",
            "_view_count": null,
            "_view_module": "@jupyter-widgets/controls",
            "_view_module_version": "1.5.0",
            "_view_name": "HTMLView",
            "description": "",
            "description_tooltip": null,
            "layout": "IPY_MODEL_7122a623568a4f12aa9fb0c744dcfeb9",
            "placeholder": "​",
            "style": "IPY_MODEL_0b850c6be5d64e8ba4026d5c8e5fd06b",
            "value": "Downloading vocab.txt: 100%"
          }
        },
        "c4dccc1079bd4564b659cb3fe0dbdacf": {
          "model_module": "@jupyter-widgets/controls",
          "model_name": "FloatProgressModel",
          "model_module_version": "1.5.0",
          "state": {
            "_dom_classes": [],
            "_model_module": "@jupyter-widgets/controls",
            "_model_module_version": "1.5.0",
            "_model_name": "FloatProgressModel",
            "_view_count": null,
            "_view_module": "@jupyter-widgets/controls",
            "_view_module_version": "1.5.0",
            "_view_name": "ProgressView",
            "bar_style": "success",
            "description": "",
            "description_tooltip": null,
            "layout": "IPY_MODEL_e6903678772a48569f6df12398a9f5cb",
            "max": 1198122,
            "min": 0,
            "orientation": "horizontal",
            "style": "IPY_MODEL_7849cfba5e7143f3a80b6ae1ea2bb7ae",
            "value": 1198122
          }
        },
        "a0b943062397451eb3e303db3b93b9a7": {
          "model_module": "@jupyter-widgets/controls",
          "model_name": "HTMLModel",
          "model_module_version": "1.5.0",
          "state": {
            "_dom_classes": [],
            "_model_module": "@jupyter-widgets/controls",
            "_model_module_version": "1.5.0",
            "_model_name": "HTMLModel",
            "_view_count": null,
            "_view_module": "@jupyter-widgets/controls",
            "_view_module_version": "1.5.0",
            "_view_name": "HTMLView",
            "description": "",
            "description_tooltip": null,
            "layout": "IPY_MODEL_4dfcd513894148d6bf41ea3fe337981e",
            "placeholder": "​",
            "style": "IPY_MODEL_21133396ef6a4f19a5db5139c05a5fba",
            "value": " 1.14M/1.14M [00:00&lt;00:00, 1.35MB/s]"
          }
        },
        "33210b4f6e204a81870f311dfe1293fc": {
          "model_module": "@jupyter-widgets/base",
          "model_name": "LayoutModel",
          "model_module_version": "1.2.0",
          "state": {
            "_model_module": "@jupyter-widgets/base",
            "_model_module_version": "1.2.0",
            "_model_name": "LayoutModel",
            "_view_count": null,
            "_view_module": "@jupyter-widgets/base",
            "_view_module_version": "1.2.0",
            "_view_name": "LayoutView",
            "align_content": null,
            "align_items": null,
            "align_self": null,
            "border": null,
            "bottom": null,
            "display": null,
            "flex": null,
            "flex_flow": null,
            "grid_area": null,
            "grid_auto_columns": null,
            "grid_auto_flow": null,
            "grid_auto_rows": null,
            "grid_column": null,
            "grid_gap": null,
            "grid_row": null,
            "grid_template_areas": null,
            "grid_template_columns": null,
            "grid_template_rows": null,
            "height": null,
            "justify_content": null,
            "justify_items": null,
            "left": null,
            "margin": null,
            "max_height": null,
            "max_width": null,
            "min_height": null,
            "min_width": null,
            "object_fit": null,
            "object_position": null,
            "order": null,
            "overflow": null,
            "overflow_x": null,
            "overflow_y": null,
            "padding": null,
            "right": null,
            "top": null,
            "visibility": null,
            "width": null
          }
        },
        "7122a623568a4f12aa9fb0c744dcfeb9": {
          "model_module": "@jupyter-widgets/base",
          "model_name": "LayoutModel",
          "model_module_version": "1.2.0",
          "state": {
            "_model_module": "@jupyter-widgets/base",
            "_model_module_version": "1.2.0",
            "_model_name": "LayoutModel",
            "_view_count": null,
            "_view_module": "@jupyter-widgets/base",
            "_view_module_version": "1.2.0",
            "_view_name": "LayoutView",
            "align_content": null,
            "align_items": null,
            "align_self": null,
            "border": null,
            "bottom": null,
            "display": null,
            "flex": null,
            "flex_flow": null,
            "grid_area": null,
            "grid_auto_columns": null,
            "grid_auto_flow": null,
            "grid_auto_rows": null,
            "grid_column": null,
            "grid_gap": null,
            "grid_row": null,
            "grid_template_areas": null,
            "grid_template_columns": null,
            "grid_template_rows": null,
            "height": null,
            "justify_content": null,
            "justify_items": null,
            "left": null,
            "margin": null,
            "max_height": null,
            "max_width": null,
            "min_height": null,
            "min_width": null,
            "object_fit": null,
            "object_position": null,
            "order": null,
            "overflow": null,
            "overflow_x": null,
            "overflow_y": null,
            "padding": null,
            "right": null,
            "top": null,
            "visibility": null,
            "width": null
          }
        },
        "0b850c6be5d64e8ba4026d5c8e5fd06b": {
          "model_module": "@jupyter-widgets/controls",
          "model_name": "DescriptionStyleModel",
          "model_module_version": "1.5.0",
          "state": {
            "_model_module": "@jupyter-widgets/controls",
            "_model_module_version": "1.5.0",
            "_model_name": "DescriptionStyleModel",
            "_view_count": null,
            "_view_module": "@jupyter-widgets/base",
            "_view_module_version": "1.2.0",
            "_view_name": "StyleView",
            "description_width": ""
          }
        },
        "e6903678772a48569f6df12398a9f5cb": {
          "model_module": "@jupyter-widgets/base",
          "model_name": "LayoutModel",
          "model_module_version": "1.2.0",
          "state": {
            "_model_module": "@jupyter-widgets/base",
            "_model_module_version": "1.2.0",
            "_model_name": "LayoutModel",
            "_view_count": null,
            "_view_module": "@jupyter-widgets/base",
            "_view_module_version": "1.2.0",
            "_view_name": "LayoutView",
            "align_content": null,
            "align_items": null,
            "align_self": null,
            "border": null,
            "bottom": null,
            "display": null,
            "flex": null,
            "flex_flow": null,
            "grid_area": null,
            "grid_auto_columns": null,
            "grid_auto_flow": null,
            "grid_auto_rows": null,
            "grid_column": null,
            "grid_gap": null,
            "grid_row": null,
            "grid_template_areas": null,
            "grid_template_columns": null,
            "grid_template_rows": null,
            "height": null,
            "justify_content": null,
            "justify_items": null,
            "left": null,
            "margin": null,
            "max_height": null,
            "max_width": null,
            "min_height": null,
            "min_width": null,
            "object_fit": null,
            "object_position": null,
            "order": null,
            "overflow": null,
            "overflow_x": null,
            "overflow_y": null,
            "padding": null,
            "right": null,
            "top": null,
            "visibility": null,
            "width": null
          }
        },
        "7849cfba5e7143f3a80b6ae1ea2bb7ae": {
          "model_module": "@jupyter-widgets/controls",
          "model_name": "ProgressStyleModel",
          "model_module_version": "1.5.0",
          "state": {
            "_model_module": "@jupyter-widgets/controls",
            "_model_module_version": "1.5.0",
            "_model_name": "ProgressStyleModel",
            "_view_count": null,
            "_view_module": "@jupyter-widgets/base",
            "_view_module_version": "1.2.0",
            "_view_name": "StyleView",
            "bar_color": null,
            "description_width": ""
          }
        },
        "4dfcd513894148d6bf41ea3fe337981e": {
          "model_module": "@jupyter-widgets/base",
          "model_name": "LayoutModel",
          "model_module_version": "1.2.0",
          "state": {
            "_model_module": "@jupyter-widgets/base",
            "_model_module_version": "1.2.0",
            "_model_name": "LayoutModel",
            "_view_count": null,
            "_view_module": "@jupyter-widgets/base",
            "_view_module_version": "1.2.0",
            "_view_name": "LayoutView",
            "align_content": null,
            "align_items": null,
            "align_self": null,
            "border": null,
            "bottom": null,
            "display": null,
            "flex": null,
            "flex_flow": null,
            "grid_area": null,
            "grid_auto_columns": null,
            "grid_auto_flow": null,
            "grid_auto_rows": null,
            "grid_column": null,
            "grid_gap": null,
            "grid_row": null,
            "grid_template_areas": null,
            "grid_template_columns": null,
            "grid_template_rows": null,
            "height": null,
            "justify_content": null,
            "justify_items": null,
            "left": null,
            "margin": null,
            "max_height": null,
            "max_width": null,
            "min_height": null,
            "min_width": null,
            "object_fit": null,
            "object_position": null,
            "order": null,
            "overflow": null,
            "overflow_x": null,
            "overflow_y": null,
            "padding": null,
            "right": null,
            "top": null,
            "visibility": null,
            "width": null
          }
        },
        "21133396ef6a4f19a5db5139c05a5fba": {
          "model_module": "@jupyter-widgets/controls",
          "model_name": "DescriptionStyleModel",
          "model_module_version": "1.5.0",
          "state": {
            "_model_module": "@jupyter-widgets/controls",
            "_model_module_version": "1.5.0",
            "_model_name": "DescriptionStyleModel",
            "_view_count": null,
            "_view_module": "@jupyter-widgets/base",
            "_view_module_version": "1.2.0",
            "_view_name": "StyleView",
            "description_width": ""
          }
        },
        "760b5b9c4f9e437ea59435aea9e533e5": {
          "model_module": "@jupyter-widgets/controls",
          "model_name": "HBoxModel",
          "model_module_version": "1.5.0",
          "state": {
            "_dom_classes": [],
            "_model_module": "@jupyter-widgets/controls",
            "_model_module_version": "1.5.0",
            "_model_name": "HBoxModel",
            "_view_count": null,
            "_view_module": "@jupyter-widgets/controls",
            "_view_module_version": "1.5.0",
            "_view_name": "HBoxView",
            "box_style": "",
            "children": [
              "IPY_MODEL_72838322909e4424b1ac1333564950bd",
              "IPY_MODEL_99f7eafec59942e98683f431c7a23abb",
              "IPY_MODEL_24710bce0d334132a819b4cc039b77a8"
            ],
            "layout": "IPY_MODEL_294ec45b0024440bad1a6667f7162d9a"
          }
        },
        "72838322909e4424b1ac1333564950bd": {
          "model_module": "@jupyter-widgets/controls",
          "model_name": "HTMLModel",
          "model_module_version": "1.5.0",
          "state": {
            "_dom_classes": [],
            "_model_module": "@jupyter-widgets/controls",
            "_model_module_version": "1.5.0",
            "_model_name": "HTMLModel",
            "_view_count": null,
            "_view_module": "@jupyter-widgets/controls",
            "_view_module_version": "1.5.0",
            "_view_name": "HTMLView",
            "description": "",
            "description_tooltip": null,
            "layout": "IPY_MODEL_2f162655e4344031b086191f8176c2ed",
            "placeholder": "​",
            "style": "IPY_MODEL_bd9016cd02ad45e39ea4aab739726abf",
            "value": "100%"
          }
        },
        "99f7eafec59942e98683f431c7a23abb": {
          "model_module": "@jupyter-widgets/controls",
          "model_name": "FloatProgressModel",
          "model_module_version": "1.5.0",
          "state": {
            "_dom_classes": [],
            "_model_module": "@jupyter-widgets/controls",
            "_model_module_version": "1.5.0",
            "_model_name": "FloatProgressModel",
            "_view_count": null,
            "_view_module": "@jupyter-widgets/controls",
            "_view_module_version": "1.5.0",
            "_view_name": "ProgressView",
            "bar_style": "success",
            "description": "",
            "description_tooltip": null,
            "layout": "IPY_MODEL_a8bbbf4e68d4433c90c06874d2267e55",
            "max": 6,
            "min": 0,
            "orientation": "horizontal",
            "style": "IPY_MODEL_b94ed38d30494cd29b4840aa7be3cf37",
            "value": 6
          }
        },
        "24710bce0d334132a819b4cc039b77a8": {
          "model_module": "@jupyter-widgets/controls",
          "model_name": "HTMLModel",
          "model_module_version": "1.5.0",
          "state": {
            "_dom_classes": [],
            "_model_module": "@jupyter-widgets/controls",
            "_model_module_version": "1.5.0",
            "_model_name": "HTMLModel",
            "_view_count": null,
            "_view_module": "@jupyter-widgets/controls",
            "_view_module_version": "1.5.0",
            "_view_name": "HTMLView",
            "description": "",
            "description_tooltip": null,
            "layout": "IPY_MODEL_7096f7e147e94e30ab213dab9d17f183",
            "placeholder": "​",
            "style": "IPY_MODEL_856063aefe4e4197913cc7e67107cb73",
            "value": " 6/6 [00:03&lt;00:00,  1.65ba/s]"
          }
        },
        "294ec45b0024440bad1a6667f7162d9a": {
          "model_module": "@jupyter-widgets/base",
          "model_name": "LayoutModel",
          "model_module_version": "1.2.0",
          "state": {
            "_model_module": "@jupyter-widgets/base",
            "_model_module_version": "1.2.0",
            "_model_name": "LayoutModel",
            "_view_count": null,
            "_view_module": "@jupyter-widgets/base",
            "_view_module_version": "1.2.0",
            "_view_name": "LayoutView",
            "align_content": null,
            "align_items": null,
            "align_self": null,
            "border": null,
            "bottom": null,
            "display": null,
            "flex": null,
            "flex_flow": null,
            "grid_area": null,
            "grid_auto_columns": null,
            "grid_auto_flow": null,
            "grid_auto_rows": null,
            "grid_column": null,
            "grid_gap": null,
            "grid_row": null,
            "grid_template_areas": null,
            "grid_template_columns": null,
            "grid_template_rows": null,
            "height": null,
            "justify_content": null,
            "justify_items": null,
            "left": null,
            "margin": null,
            "max_height": null,
            "max_width": null,
            "min_height": null,
            "min_width": null,
            "object_fit": null,
            "object_position": null,
            "order": null,
            "overflow": null,
            "overflow_x": null,
            "overflow_y": null,
            "padding": null,
            "right": null,
            "top": null,
            "visibility": null,
            "width": null
          }
        },
        "2f162655e4344031b086191f8176c2ed": {
          "model_module": "@jupyter-widgets/base",
          "model_name": "LayoutModel",
          "model_module_version": "1.2.0",
          "state": {
            "_model_module": "@jupyter-widgets/base",
            "_model_module_version": "1.2.0",
            "_model_name": "LayoutModel",
            "_view_count": null,
            "_view_module": "@jupyter-widgets/base",
            "_view_module_version": "1.2.0",
            "_view_name": "LayoutView",
            "align_content": null,
            "align_items": null,
            "align_self": null,
            "border": null,
            "bottom": null,
            "display": null,
            "flex": null,
            "flex_flow": null,
            "grid_area": null,
            "grid_auto_columns": null,
            "grid_auto_flow": null,
            "grid_auto_rows": null,
            "grid_column": null,
            "grid_gap": null,
            "grid_row": null,
            "grid_template_areas": null,
            "grid_template_columns": null,
            "grid_template_rows": null,
            "height": null,
            "justify_content": null,
            "justify_items": null,
            "left": null,
            "margin": null,
            "max_height": null,
            "max_width": null,
            "min_height": null,
            "min_width": null,
            "object_fit": null,
            "object_position": null,
            "order": null,
            "overflow": null,
            "overflow_x": null,
            "overflow_y": null,
            "padding": null,
            "right": null,
            "top": null,
            "visibility": null,
            "width": null
          }
        },
        "bd9016cd02ad45e39ea4aab739726abf": {
          "model_module": "@jupyter-widgets/controls",
          "model_name": "DescriptionStyleModel",
          "model_module_version": "1.5.0",
          "state": {
            "_model_module": "@jupyter-widgets/controls",
            "_model_module_version": "1.5.0",
            "_model_name": "DescriptionStyleModel",
            "_view_count": null,
            "_view_module": "@jupyter-widgets/base",
            "_view_module_version": "1.2.0",
            "_view_name": "StyleView",
            "description_width": ""
          }
        },
        "a8bbbf4e68d4433c90c06874d2267e55": {
          "model_module": "@jupyter-widgets/base",
          "model_name": "LayoutModel",
          "model_module_version": "1.2.0",
          "state": {
            "_model_module": "@jupyter-widgets/base",
            "_model_module_version": "1.2.0",
            "_model_name": "LayoutModel",
            "_view_count": null,
            "_view_module": "@jupyter-widgets/base",
            "_view_module_version": "1.2.0",
            "_view_name": "LayoutView",
            "align_content": null,
            "align_items": null,
            "align_self": null,
            "border": null,
            "bottom": null,
            "display": null,
            "flex": null,
            "flex_flow": null,
            "grid_area": null,
            "grid_auto_columns": null,
            "grid_auto_flow": null,
            "grid_auto_rows": null,
            "grid_column": null,
            "grid_gap": null,
            "grid_row": null,
            "grid_template_areas": null,
            "grid_template_columns": null,
            "grid_template_rows": null,
            "height": null,
            "justify_content": null,
            "justify_items": null,
            "left": null,
            "margin": null,
            "max_height": null,
            "max_width": null,
            "min_height": null,
            "min_width": null,
            "object_fit": null,
            "object_position": null,
            "order": null,
            "overflow": null,
            "overflow_x": null,
            "overflow_y": null,
            "padding": null,
            "right": null,
            "top": null,
            "visibility": null,
            "width": null
          }
        },
        "b94ed38d30494cd29b4840aa7be3cf37": {
          "model_module": "@jupyter-widgets/controls",
          "model_name": "ProgressStyleModel",
          "model_module_version": "1.5.0",
          "state": {
            "_model_module": "@jupyter-widgets/controls",
            "_model_module_version": "1.5.0",
            "_model_name": "ProgressStyleModel",
            "_view_count": null,
            "_view_module": "@jupyter-widgets/base",
            "_view_module_version": "1.2.0",
            "_view_name": "StyleView",
            "bar_color": null,
            "description_width": ""
          }
        },
        "7096f7e147e94e30ab213dab9d17f183": {
          "model_module": "@jupyter-widgets/base",
          "model_name": "LayoutModel",
          "model_module_version": "1.2.0",
          "state": {
            "_model_module": "@jupyter-widgets/base",
            "_model_module_version": "1.2.0",
            "_model_name": "LayoutModel",
            "_view_count": null,
            "_view_module": "@jupyter-widgets/base",
            "_view_module_version": "1.2.0",
            "_view_name": "LayoutView",
            "align_content": null,
            "align_items": null,
            "align_self": null,
            "border": null,
            "bottom": null,
            "display": null,
            "flex": null,
            "flex_flow": null,
            "grid_area": null,
            "grid_auto_columns": null,
            "grid_auto_flow": null,
            "grid_auto_rows": null,
            "grid_column": null,
            "grid_gap": null,
            "grid_row": null,
            "grid_template_areas": null,
            "grid_template_columns": null,
            "grid_template_rows": null,
            "height": null,
            "justify_content": null,
            "justify_items": null,
            "left": null,
            "margin": null,
            "max_height": null,
            "max_width": null,
            "min_height": null,
            "min_width": null,
            "object_fit": null,
            "object_position": null,
            "order": null,
            "overflow": null,
            "overflow_x": null,
            "overflow_y": null,
            "padding": null,
            "right": null,
            "top": null,
            "visibility": null,
            "width": null
          }
        },
        "856063aefe4e4197913cc7e67107cb73": {
          "model_module": "@jupyter-widgets/controls",
          "model_name": "DescriptionStyleModel",
          "model_module_version": "1.5.0",
          "state": {
            "_model_module": "@jupyter-widgets/controls",
            "_model_module_version": "1.5.0",
            "_model_name": "DescriptionStyleModel",
            "_view_count": null,
            "_view_module": "@jupyter-widgets/base",
            "_view_module_version": "1.2.0",
            "_view_name": "StyleView",
            "description_width": ""
          }
        }
      }
    },
    "gpuClass": "standard",
    "accelerator": "GPU"
  },
  "cells": [
    {
      "cell_type": "markdown",
      "metadata": {
        "id": "TNJLAXpNS0Gm"
      },
      "source": [
        "- Fine-tuning ParsBERT on PersianQA and ParSQUAD Datasets "
      ]
    },
    {
      "cell_type": "markdown",
      "source": [
        "[Model and Datasets Path](https://drive.google.com/drive/folders/1_lgylP6jWCZGiqmvJWO-u7NOoqpD7LUp?usp=sharing)"
      ],
      "metadata": {
        "id": "TlKep2doPrGt"
      }
    },
    {
      "cell_type": "markdown",
      "source": [
        "# Setup"
      ],
      "metadata": {
        "id": "mPcc83AACWhs"
      }
    },
    {
      "cell_type": "code",
      "metadata": {
        "id": "lHVN4l1TH-OY"
      },
      "source": [
        "!pip install -q transformers\n",
        "!pip install -q datasets"
      ],
      "execution_count": null,
      "outputs": []
    },
    {
      "cell_type": "code",
      "source": [
        "import json\n",
        "import pandas as pd"
      ],
      "metadata": {
        "id": "_J2Pr9Gx-YQ8"
      },
      "execution_count": null,
      "outputs": []
    },
    {
      "cell_type": "code",
      "metadata": {
        "id": "wHCPGyyHIhOC"
      },
      "source": [
        "from datasets import load_dataset, load_from_disk, Dataset\n",
        "from transformers import AutoTokenizer, AutoModelForQuestionAnswering\n",
        "from transformers import TrainingArguments, Trainer"
      ],
      "execution_count": null,
      "outputs": []
    },
    {
      "cell_type": "code",
      "source": [
        ""
      ],
      "metadata": {
        "id": "0JqrhWB67Dn9"
      },
      "execution_count": null,
      "outputs": []
    },
    {
      "cell_type": "code",
      "source": [
        "from google.colab import drive\n",
        "drive.mount('/content/drive')"
      ],
      "metadata": {
        "colab": {
          "base_uri": "https://localhost:8080/"
        },
        "id": "VEhaGou2-JaD",
        "outputId": "217715bc-774c-412c-c36d-2cea8506e235"
      },
      "execution_count": null,
      "outputs": [
        {
          "output_type": "stream",
          "name": "stdout",
          "text": [
            "Mounted at /content/drive\n"
          ]
        }
      ]
    },
    {
      "cell_type": "code",
      "metadata": {
        "id": "gBbRz7mbJDqZ"
      },
      "source": [
        "model_checkpoint = \"HooshvareLab/bert-fa-base-uncased\"\n",
        "max_length = 512 # The maximum length of a feature (question and context)\n",
        "doc_stride = 256 # The authorized overlap between two part of the context when splitting it is needed.\n",
        "batch_size = 8\n",
        "lr = 3e-5\n",
        "epoch = 2\n",
        "DRIVE_PATH = \"/content/drive/MyDrive/NLP_Final/\"\n"
      ],
      "execution_count": null,
      "outputs": []
    },
    {
      "cell_type": "markdown",
      "source": [
        "# Load and Process Data"
      ],
      "metadata": {
        "id": "8t0OVB2uCnD-"
      }
    },
    {
      "cell_type": "code",
      "execution_count": null,
      "metadata": {
        "id": "g94m667Vf3Sr"
      },
      "outputs": [],
      "source": [
        "train_path = DRIVE_PATH + 'Datasets/train_merged.json'\n",
        "dev_path = DRIVE_PATH + 'Datasets/dev_merged.json'\n",
        "test_path = DRIVE_PATH + 'Datasets/test_merged.json'\n"
      ]
    },
    {
      "cell_type": "code",
      "source": [
        "with open(train_path,'r',encoding='utf-8') as f:\n",
        "  train_data = json.load(f)\n",
        "\n",
        "with open(dev_path,'r',encoding='utf-8') as f:\n",
        "  dev_data = json.load(f)\n",
        "\n",
        "with open(test_path,'r',encoding='utf-8') as f:\n",
        "  test_data = json.load(f)\n"
      ],
      "metadata": {
        "id": "OOKBiKrx02ss"
      },
      "execution_count": null,
      "outputs": []
    },
    {
      "cell_type": "code",
      "source": [
        "train_df = pd.DataFrame(columns=['context','question','answers'])\n",
        "for row in train_data:\n",
        "  for par in row['paragraphs']:\n",
        "    context = par['context']\n",
        "    qas = par['qas']\n",
        "    for qa in qas:\n",
        "      question = qa['question']\n",
        "      starts = []\n",
        "      texts = []\n",
        "      for ans in qa['answers']:\n",
        "        if len(ans) != 0:\n",
        "          answer_start = ans['answer_start']\n",
        "          answer_text = ans['text']\n",
        "        else:\n",
        "          answer_start = ''\n",
        "          answer_text = ''\n",
        "        starts.append(answer_start)\n",
        "        texts.append(answer_text)\n",
        "      train_df = train_df.append({'context': context, 'question': question, 'answers': {'answer_start': starts, 'text': texts}}, ignore_index=True)\n"
      ],
      "metadata": {
        "id": "ZdtOhMkOHfbZ"
      },
      "execution_count": null,
      "outputs": []
    },
    {
      "cell_type": "code",
      "source": [
        "dev_df = pd.DataFrame(columns=['context','question','answers'])\n",
        "for row in dev_data:\n",
        "  for par in row['paragraphs']:\n",
        "    context = par['context']\n",
        "    qas = par['qas']\n",
        "    for qa in qas:\n",
        "      question = qa['question']\n",
        "      starts = []\n",
        "      texts = []\n",
        "      for ans in qa['answers']:\n",
        "        if len(ans) != 0:\n",
        "          answer_start = ans['answer_start']\n",
        "          answer_text = ans['text']\n",
        "        else:\n",
        "          answer_start = ''\n",
        "          answer_text = ''\n",
        "        starts.append(answer_start)\n",
        "        texts.append(answer_text)\n",
        "      dev_df = dev_df.append({'context': context, 'question': question, 'answers': {'answer_start': starts, 'text': texts}}, ignore_index=True)\n"
      ],
      "metadata": {
        "id": "C8iQS2PFc0XC"
      },
      "execution_count": null,
      "outputs": []
    },
    {
      "cell_type": "code",
      "source": [
        "test_df = pd.DataFrame(columns=['context','question','answers'])\n",
        "for row in test_data:\n",
        "  for par in row['paragraphs']:\n",
        "    context = par['context']\n",
        "    qas = par['qas']\n",
        "    for qa in qas:\n",
        "      question = qa['question']\n",
        "      starts = []\n",
        "      texts = []\n",
        "      for ans in qa['answers']:\n",
        "        if len(ans) != 0:\n",
        "          answer_start = ans['answer_start']\n",
        "          answer_text = ans['text']\n",
        "        else:\n",
        "          answer_start = ''\n",
        "          answer_text = ''\n",
        "        starts.append(answer_start)\n",
        "        texts.append(answer_text)\n",
        "      test_df = test_df.append({'context': context, 'question': question, 'answers': {'answer_start': starts, 'text': texts}}, ignore_index=True)\n"
      ],
      "metadata": {
        "id": "6zLzcuXv-XCj"
      },
      "execution_count": null,
      "outputs": []
    },
    {
      "cell_type": "code",
      "source": [
        "print(train_df.shape)"
      ],
      "metadata": {
        "colab": {
          "base_uri": "https://localhost:8080/"
        },
        "id": "q5EJFNjFH6Yx",
        "outputId": "59892e19-4a10-450c-8a84-c9131209f49a"
      },
      "execution_count": null,
      "outputs": [
        {
          "output_type": "stream",
          "name": "stdout",
          "text": [
            "(68010, 3)\n"
          ]
        }
      ]
    },
    {
      "cell_type": "code",
      "source": [
        "train_dataset = Dataset.from_pandas(train_df)\n",
        "dev_dataset = Dataset.from_pandas(dev_df)\n",
        "test_dataset = Dataset.from_pandas(test_df)"
      ],
      "metadata": {
        "id": "VL26I2ih-K0E"
      },
      "execution_count": null,
      "outputs": []
    },
    {
      "cell_type": "code",
      "source": [
        "train_df = train_df.to_csv(DRIVE_PATH + 'Datasets/train.csv')\n",
        "dev_df = dev_df.to_csv(DRIVE_PATH + 'Datasets/dev.csv')\n",
        "test_df = test_df.to_csv(DRIVE_PATH + 'Datasets/test.csv')"
      ],
      "metadata": {
        "id": "8DWcNUxh2poC"
      },
      "execution_count": null,
      "outputs": []
    },
    {
      "cell_type": "code",
      "source": [
        "train_dataset.save_to_disk(\"train.hf\")\n",
        "dev_dataset.save_to_disk(\"dev.hf\")\n",
        "test_dataset.save_to_disk(\"test.hf\")"
      ],
      "metadata": {
        "id": "GS2lA3zp_pbV"
      },
      "execution_count": null,
      "outputs": []
    },
    {
      "cell_type": "code",
      "source": [
        "!cp -r '/content/train.hf' \"/content/drive/MyDrive/NLP_Final/Datasets/train.hf\"\n",
        "!cp -r '/content/test.hf' \"/content/drive/MyDrive/NLP_Final/Datasets/test.hf\"\n",
        "!cp -r '/content/dev.hf' \"/content/drive/MyDrive/NLP_Final/Datasets/dev.hf\""
      ],
      "metadata": {
        "id": "8c8BCOEOAGzT"
      },
      "execution_count": null,
      "outputs": []
    },
    {
      "cell_type": "markdown",
      "source": [
        "# Load Datasets"
      ],
      "metadata": {
        "id": "JCPsA1f0BwCT"
      }
    },
    {
      "cell_type": "code",
      "source": [
        "train_dataset = load_from_disk(DRIVE_PATH + \"Datasets/train.hf\").shuffle(seed=42)\n",
        "dev_dataset = load_from_disk(DRIVE_PATH + \"Datasets/dev.hf\").shuffle(seed=42)\n",
        "test_dataset = load_from_disk(DRIVE_PATH + \"Datasets/test.hf\").shuffle(seed=42)"
      ],
      "metadata": {
        "id": "-mT5GIAIBscY",
        "colab": {
          "base_uri": "https://localhost:8080/"
        },
        "outputId": "5160f096-94a4-4e95-c16a-a06e1f4d8828"
      },
      "execution_count": null,
      "outputs": [
        {
          "output_type": "stream",
          "name": "stderr",
          "text": [
            "WARNING:datasets.arrow_dataset:Loading cached shuffled indices for dataset at /content/drive/MyDrive/NLP_Final/Datasets/train.hf/cache-0abab45ba4e313cf.arrow\n",
            "WARNING:datasets.arrow_dataset:Loading cached shuffled indices for dataset at /content/drive/MyDrive/NLP_Final/Datasets/dev.hf/cache-93a2a09ce7a197bd.arrow\n",
            "WARNING:datasets.arrow_dataset:Loading cached shuffled indices for dataset at /content/drive/MyDrive/NLP_Final/Datasets/test.hf/cache-a8e9793b8e562ab4.arrow\n"
          ]
        }
      ]
    },
    {
      "cell_type": "code",
      "source": [
        "print(len(train_dataset))"
      ],
      "metadata": {
        "colab": {
          "base_uri": "https://localhost:8080/"
        },
        "id": "wCM25X_EHNPs",
        "outputId": "898ad3b6-af75-44d2-998c-e0704a2049e5"
      },
      "execution_count": null,
      "outputs": [
        {
          "output_type": "stream",
          "name": "stdout",
          "text": [
            "68010\n"
          ]
        }
      ]
    },
    {
      "cell_type": "markdown",
      "source": [
        "# Tokenize Datasets"
      ],
      "metadata": {
        "id": "EgYAnFVzC2F_"
      }
    },
    {
      "cell_type": "code",
      "metadata": {
        "colab": {
          "base_uri": "https://localhost:8080/",
          "height": 213,
          "referenced_widgets": [
            "9719f5e82e0542d78a42dc145284bad4",
            "2846d1e3b9f849c2a1847654f7ad8f2e",
            "f309f02fd8a543d785433b771c123cb6",
            "d02fd40752f447fabb0f6050c264a159",
            "433cbcc0f32c4b47959d7d743c009d39",
            "ca5389bf21f4413b8856c05df132d29a",
            "721c1fe6615e44bb8d2588af5adfb390",
            "73c73d129c6847c3b6a9f9f655a21270",
            "230059ae19784e848f0b9d36d5c8f2ed",
            "74b248307e5b43b8876a2f1dfab13efb",
            "7b672dcac2cf41d7884b7d062fee4336",
            "48ed89ac9b1a4e5f9ff827c3324cca79",
            "f0754cc71a124c10ae776a2c53113add",
            "c4dccc1079bd4564b659cb3fe0dbdacf",
            "a0b943062397451eb3e303db3b93b9a7",
            "33210b4f6e204a81870f311dfe1293fc",
            "7122a623568a4f12aa9fb0c744dcfeb9",
            "0b850c6be5d64e8ba4026d5c8e5fd06b",
            "e6903678772a48569f6df12398a9f5cb",
            "7849cfba5e7143f3a80b6ae1ea2bb7ae",
            "4dfcd513894148d6bf41ea3fe337981e",
            "21133396ef6a4f19a5db5139c05a5fba"
          ]
        },
        "id": "XMuH-jK9RK3O",
        "outputId": "302fc9d6-b01b-451b-bcea-25719a3edb38"
      },
      "source": [
        "tokenizer = AutoTokenizer.from_pretrained(model_checkpoint)"
      ],
      "execution_count": null,
      "outputs": [
        {
          "output_type": "display_data",
          "data": {
            "text/plain": [
              "Downloading config.json:   0%|          | 0.00/440 [00:00<?, ?B/s]"
            ],
            "application/vnd.jupyter.widget-view+json": {
              "version_major": 2,
              "version_minor": 0,
              "model_id": "9719f5e82e0542d78a42dc145284bad4"
            }
          },
          "metadata": {}
        },
        {
          "output_type": "display_data",
          "data": {
            "text/plain": [
              "Downloading vocab.txt:   0%|          | 0.00/1.14M [00:00<?, ?B/s]"
            ],
            "application/vnd.jupyter.widget-view+json": {
              "version_major": 2,
              "version_minor": 0,
              "model_id": "48ed89ac9b1a4e5f9ff827c3324cca79"
            }
          },
          "metadata": {}
        }
      ]
    },
    {
      "cell_type": "code",
      "metadata": {
        "id": "Nu4uNtRjJkYI"
      },
      "source": [
        "def prepare_train_features(examples):\n",
        "    tokenized_examples = tokenizer(\n",
        "        examples[\"question\"],\n",
        "        examples[\"context\"],\n",
        "        truncation=\"only_second\",\n",
        "        max_length=max_length,\n",
        "        stride=doc_stride,\n",
        "        return_overflowing_tokens=True,\n",
        "        return_offsets_mapping=True,)\n",
        "    \n",
        "    sample_mapping = tokenized_examples.pop(\"overflow_to_sample_mapping\")\n",
        "    offset_mapping = tokenized_examples.pop(\"offset_mapping\")\n",
        "    tokenized_examples[\"start_positions\"] = []\n",
        "    tokenized_examples[\"end_positions\"] = []\n",
        "    for i, offsets in enumerate(offset_mapping):\n",
        "        # We will label impossible answers with the index of the CLS token.\n",
        "        input_ids = tokenized_examples[\"input_ids\"][i]\n",
        "        cls_index = input_ids.index(tokenizer.cls_token_id)\n",
        "        # Grab the sequence corresponding to that example (to know what is the context and what is the question).\n",
        "        sequence_ids = tokenized_examples.sequence_ids(i)\n",
        "        # One example can give several spans, this is the index of the example containing this span of text.\n",
        "        sample_index = sample_mapping[i]\n",
        "        answers = examples[\"answers\"][sample_index]\n",
        "        # If no answers are given, set the cls_index as answer.\n",
        "        if len(answers[\"answer_start\"]) == 0:\n",
        "            tokenized_examples[\"start_positions\"].append(cls_index)\n",
        "            tokenized_examples[\"end_positions\"].append(cls_index)\n",
        "        else:\n",
        "            # Start/end character index of the answer in the text.\n",
        "            start_char = answers[\"answer_start\"][0]\n",
        "            end_char = start_char + len(answers[\"text\"][0])\n",
        "            # Start token index of the current span in the text.\n",
        "            token_start_index = 0\n",
        "            while sequence_ids[token_start_index] != 1:\n",
        "                token_start_index += 1\n",
        "            # End token index of the current span in the text.\n",
        "            token_end_index = len(input_ids) - 1\n",
        "            while sequence_ids[token_end_index] != 1:\n",
        "                token_end_index -= 1\n",
        "            # Detect if the answer is out of the span (in which case this feature is labeled with the CLS index).\n",
        "            if not (offsets[token_start_index][0] <= start_char and offsets[token_end_index][1] >= end_char):\n",
        "                tokenized_examples[\"start_positions\"].append(cls_index)\n",
        "                tokenized_examples[\"end_positions\"].append(cls_index)\n",
        "            else:\n",
        "                # Otherwise move the token_start_index and token_end_index to the two ends of the answer.\n",
        "                # Note: we could go after the last offset if the answer is the last word (edge case).\n",
        "                while token_start_index < len(offsets) and offsets[token_start_index][0] <= start_char:\n",
        "                    token_start_index += 1\n",
        "                tokenized_examples[\"start_positions\"].append(token_start_index - 1)\n",
        "                while offsets[token_end_index][1] >= end_char:\n",
        "                    token_end_index -= 1\n",
        "                tokenized_examples[\"end_positions\"].append(token_end_index + 1)\n",
        "\n",
        "    return tokenized_examples"
      ],
      "execution_count": null,
      "outputs": []
    },
    {
      "cell_type": "code",
      "metadata": {
        "colab": {
          "base_uri": "https://localhost:8080/",
          "height": 160,
          "referenced_widgets": [
            "760b5b9c4f9e437ea59435aea9e533e5",
            "72838322909e4424b1ac1333564950bd",
            "99f7eafec59942e98683f431c7a23abb",
            "24710bce0d334132a819b4cc039b77a8",
            "294ec45b0024440bad1a6667f7162d9a",
            "2f162655e4344031b086191f8176c2ed",
            "bd9016cd02ad45e39ea4aab739726abf",
            "a8bbbf4e68d4433c90c06874d2267e55",
            "b94ed38d30494cd29b4840aa7be3cf37",
            "7096f7e147e94e30ab213dab9d17f183",
            "856063aefe4e4197913cc7e67107cb73"
          ]
        },
        "id": "sN9zgfIUJzyy",
        "outputId": "b8041957-c9b6-48b6-e32d-6efff03ad743"
      },
      "source": [
        "# the datasets library does cashing itself, batched is multitreading for fast-tokenizer\n",
        "tokenized_train = train_dataset.map(prepare_train_features, batched=True, remove_columns=train_dataset.column_names)\n",
        "tokenized_dev = dev_dataset.map(prepare_train_features, batched=True, remove_columns=dev_dataset.column_names)\n",
        "tokenized_test = test_dataset.map(prepare_train_features, batched=True, remove_columns=test_dataset.column_names)"
      ],
      "execution_count": null,
      "outputs": [
        {
          "output_type": "stream",
          "name": "stderr",
          "text": [
            "WARNING:datasets.arrow_dataset:Loading cached processed dataset at /content/drive/MyDrive/NLP_Final/Datasets/train.hf/cache-69f844b700c19c0c.arrow\n"
          ]
        },
        {
          "output_type": "display_data",
          "data": {
            "text/plain": [
              "  0%|          | 0/6 [00:00<?, ?ba/s]"
            ],
            "application/vnd.jupyter.widget-view+json": {
              "version_major": 2,
              "version_minor": 0,
              "model_id": "760b5b9c4f9e437ea59435aea9e533e5"
            }
          },
          "metadata": {}
        },
        {
          "output_type": "stream",
          "name": "stderr",
          "text": [
            "WARNING:datasets.arrow_dataset:Loading cached processed dataset at /content/drive/MyDrive/NLP_Final/Datasets/test.hf/cache-60676130728acc8b.arrow\n"
          ]
        }
      ]
    },
    {
      "cell_type": "markdown",
      "source": [
        "# Training "
      ],
      "metadata": {
        "id": "x63Cfr4sG1lR"
      }
    },
    {
      "cell_type": "code",
      "metadata": {
        "id": "vvWF4N5uKAKk"
      },
      "source": [
        "model = AutoModelForQuestionAnswering.from_pretrained(model_checkpoint)"
      ],
      "execution_count": null,
      "outputs": []
    },
    {
      "cell_type": "code",
      "metadata": {
        "id": "k8WhilPvKD7M"
      },
      "source": [
        "args = TrainingArguments(\n",
        "    DRIVE_PATH + f\"checkpoints2\",\n",
        "    save_strategy = 'epoch',\n",
        "    evaluation_strategy = \"epoch\",\n",
        "    learning_rate=lr,\n",
        "    per_device_train_batch_size=batch_size,\n",
        "    per_device_eval_batch_size=batch_size,\n",
        "    num_train_epochs=epoch,\n",
        "    weight_decay=0.0001) "
      ],
      "execution_count": null,
      "outputs": []
    },
    {
      "cell_type": "code",
      "metadata": {
        "id": "_JExLUgTKMue"
      },
      "source": [
        "trainer = Trainer(\n",
        "    model=model,\n",
        "    args=args,\n",
        "    train_dataset=tokenized_train,\n",
        "    eval_dataset=tokenized_dev,\n",
        "    tokenizer=tokenizer)"
      ],
      "execution_count": null,
      "outputs": []
    },
    {
      "cell_type": "code",
      "metadata": {
        "id": "Q_B0VPLjKYxd",
        "colab": {
          "base_uri": "https://localhost:8080/",
          "height": 821
        },
        "outputId": "8fabeec9-fe47-4e26-e928-3de70a61ecc4"
      },
      "source": [
        "# start training\n",
        "trainer.train()"
      ],
      "execution_count": null,
      "outputs": [
        {
          "metadata": {
            "tags": null
          },
          "name": "stderr",
          "output_type": "stream",
          "text": [
            "/usr/local/lib/python3.7/dist-packages/transformers/optimization.py:310: FutureWarning: This implementation of AdamW is deprecated and will be removed in a future version. Use the PyTorch implementation torch.optim.AdamW instead, or set `no_deprecation_warning=True` to disable this warning\n",
            "  FutureWarning,\n",
            "***** Running training *****\n",
            "  Num examples = 68086\n",
            "  Num Epochs = 2\n",
            "  Instantaneous batch size per device = 8\n",
            "  Total train batch size (w. parallel, distributed & accumulation) = 8\n",
            "  Gradient Accumulation steps = 1\n",
            "  Total optimization steps = 17022\n"
          ]
        },
        {
          "data": {
            "text/html": [
              "\n",
              "    <div>\n",
              "      \n",
              "      <progress value='9670' max='17022' style='width:300px; height:20px; vertical-align: middle;'></progress>\n",
              "      [ 9670/17022 1:16:15 < 57:59, 2.11 it/s, Epoch 1.14/2]\n",
              "    </div>\n",
              "    <table border=\"1\" class=\"dataframe\">\n",
              "  <thead>\n",
              " <tr style=\"text-align: left;\">\n",
              "      <th>Epoch</th>\n",
              "      <th>Training Loss</th>\n",
              "      <th>Validation Loss</th>\n",
              "    </tr>\n",
              "  </thead>\n",
              "  <tbody>\n",
              "    <tr>\n",
              "      <td>1</td>\n",
              "      <td>1.382700</td>\n",
              "      <td>1.529800</td>\n",
              "    </tr>\n",
              "  </tbody>\n",
              "</table><p>"
            ],
            "text/plain": [
              "<IPython.core.display.HTML object>"
            ]
          },
          "metadata": {},
          "output_type": "display_data"
        },
        {
          "metadata": {
            "tags": null
          },
          "name": "stderr",
          "output_type": "stream",
          "text": [
            "***** Running Evaluation *****\n",
            "  Num examples = 5959\n",
            "  Batch size = 8\n",
            "Saving model checkpoint to /content/drive/MyDrive/NLP_Final/checkpoints2/checkpoint-8511\n",
            "Configuration saved in /content/drive/MyDrive/NLP_Final/checkpoints2/checkpoint-8511/config.json\n",
            "Model weights saved in /content/drive/MyDrive/NLP_Final/checkpoints2/checkpoint-8511/pytorch_model.bin\n",
            "tokenizer config file saved in /content/drive/MyDrive/NLP_Final/checkpoints2/checkpoint-8511/tokenizer_config.json\n",
            "Special tokens file saved in /content/drive/MyDrive/NLP_Final/checkpoints2/checkpoint-8511/special_tokens_map.json\n"
          ]
        },
        {
          "output_type": "display_data",
          "data": {
            "text/plain": [
              "<IPython.core.display.HTML object>"
            ],
            "text/html": [
              "\n",
              "    <div>\n",
              "      \n",
              "      <progress value='17022' max='17022' style='width:300px; height:20px; vertical-align: middle;'></progress>\n",
              "      [17022/17022 2:14:38, Epoch 2/2]\n",
              "    </div>\n",
              "    <table border=\"1\" class=\"dataframe\">\n",
              "  <thead>\n",
              " <tr style=\"text-align: left;\">\n",
              "      <th>Epoch</th>\n",
              "      <th>Training Loss</th>\n",
              "      <th>Validation Loss</th>\n",
              "    </tr>\n",
              "  </thead>\n",
              "  <tbody>\n",
              "    <tr>\n",
              "      <td>1</td>\n",
              "      <td>1.382700</td>\n",
              "      <td>1.529800</td>\n",
              "    </tr>\n",
              "    <tr>\n",
              "      <td>2</td>\n",
              "      <td>0.822400</td>\n",
              "      <td>1.609336</td>\n",
              "    </tr>\n",
              "  </tbody>\n",
              "</table><p>"
            ]
          },
          "metadata": {}
        },
        {
          "output_type": "stream",
          "name": "stderr",
          "text": [
            "***** Running Evaluation *****\n",
            "  Num examples = 5959\n",
            "  Batch size = 8\n",
            "Saving model checkpoint to /content/drive/MyDrive/NLP_Final/checkpoints2/checkpoint-17022\n",
            "Configuration saved in /content/drive/MyDrive/NLP_Final/checkpoints2/checkpoint-17022/config.json\n",
            "Model weights saved in /content/drive/MyDrive/NLP_Final/checkpoints2/checkpoint-17022/pytorch_model.bin\n",
            "tokenizer config file saved in /content/drive/MyDrive/NLP_Final/checkpoints2/checkpoint-17022/tokenizer_config.json\n",
            "Special tokens file saved in /content/drive/MyDrive/NLP_Final/checkpoints2/checkpoint-17022/special_tokens_map.json\n",
            "\n",
            "\n",
            "Training completed. Do not forget to share your model on huggingface.co/models =)\n",
            "\n",
            "\n"
          ]
        },
        {
          "output_type": "execute_result",
          "data": {
            "text/plain": [
              "TrainOutput(global_step=17022, training_loss=1.2338444949905203, metrics={'train_runtime': 8082.9396, 'train_samples_per_second': 16.847, 'train_steps_per_second': 2.106, 'total_flos': 1.88476616843136e+16, 'train_loss': 1.2338444949905203, 'epoch': 2.0})"
            ]
          },
          "metadata": {},
          "execution_count": 14
        }
      ]
    },
    {
      "cell_type": "markdown",
      "source": [
        "# Test Model"
      ],
      "metadata": {
        "id": "wQXLYbjYGyO5"
      }
    },
    {
      "cell_type": "code",
      "source": [
        "!pip install -q sentencepiece\n",
        "\n",
        "from tqdm import tqdm\n",
        "from IPython.display import clear_output\n",
        "import torch\n",
        "from transformers import AutoModelForQuestionAnswering, AutoTokenizer\n"
      ],
      "metadata": {
        "id": "mkfeOCMpGu9e",
        "colab": {
          "base_uri": "https://localhost:8080/"
        },
        "outputId": "fde2cad7-39b8-464a-f249-f5bd78e7092e"
      },
      "execution_count": null,
      "outputs": [
        {
          "output_type": "stream",
          "name": "stdout",
          "text": [
            "\u001b[?25l\r\u001b[K     |▎                               | 10 kB 24.9 MB/s eta 0:00:01\r\u001b[K     |▌                               | 20 kB 6.2 MB/s eta 0:00:01\r\u001b[K     |▊                               | 30 kB 8.9 MB/s eta 0:00:01\r\u001b[K     |█                               | 40 kB 3.5 MB/s eta 0:00:01\r\u001b[K     |█▎                              | 51 kB 2.2 MB/s eta 0:00:01\r\u001b[K     |█▌                              | 61 kB 2.6 MB/s eta 0:00:01\r\u001b[K     |█▉                              | 71 kB 3.1 MB/s eta 0:00:01\r\u001b[K     |██                              | 81 kB 3.5 MB/s eta 0:00:01\r\u001b[K     |██▎                             | 92 kB 3.9 MB/s eta 0:00:01\r\u001b[K     |██▋                             | 102 kB 3.2 MB/s eta 0:00:01\r\u001b[K     |██▉                             | 112 kB 3.2 MB/s eta 0:00:01\r\u001b[K     |███                             | 122 kB 3.2 MB/s eta 0:00:01\r\u001b[K     |███▍                            | 133 kB 3.2 MB/s eta 0:00:01\r\u001b[K     |███▋                            | 143 kB 3.2 MB/s eta 0:00:01\r\u001b[K     |███▉                            | 153 kB 3.2 MB/s eta 0:00:01\r\u001b[K     |████                            | 163 kB 3.2 MB/s eta 0:00:01\r\u001b[K     |████▍                           | 174 kB 3.2 MB/s eta 0:00:01\r\u001b[K     |████▋                           | 184 kB 3.2 MB/s eta 0:00:01\r\u001b[K     |████▉                           | 194 kB 3.2 MB/s eta 0:00:01\r\u001b[K     |█████▏                          | 204 kB 3.2 MB/s eta 0:00:01\r\u001b[K     |█████▍                          | 215 kB 3.2 MB/s eta 0:00:01\r\u001b[K     |█████▋                          | 225 kB 3.2 MB/s eta 0:00:01\r\u001b[K     |██████                          | 235 kB 3.2 MB/s eta 0:00:01\r\u001b[K     |██████▏                         | 245 kB 3.2 MB/s eta 0:00:01\r\u001b[K     |██████▍                         | 256 kB 3.2 MB/s eta 0:00:01\r\u001b[K     |██████▊                         | 266 kB 3.2 MB/s eta 0:00:01\r\u001b[K     |███████                         | 276 kB 3.2 MB/s eta 0:00:01\r\u001b[K     |███████▏                        | 286 kB 3.2 MB/s eta 0:00:01\r\u001b[K     |███████▍                        | 296 kB 3.2 MB/s eta 0:00:01\r\u001b[K     |███████▊                        | 307 kB 3.2 MB/s eta 0:00:01\r\u001b[K     |████████                        | 317 kB 3.2 MB/s eta 0:00:01\r\u001b[K     |████████▏                       | 327 kB 3.2 MB/s eta 0:00:01\r\u001b[K     |████████▌                       | 337 kB 3.2 MB/s eta 0:00:01\r\u001b[K     |████████▊                       | 348 kB 3.2 MB/s eta 0:00:01\r\u001b[K     |█████████                       | 358 kB 3.2 MB/s eta 0:00:01\r\u001b[K     |█████████▎                      | 368 kB 3.2 MB/s eta 0:00:01\r\u001b[K     |█████████▌                      | 378 kB 3.2 MB/s eta 0:00:01\r\u001b[K     |█████████▊                      | 389 kB 3.2 MB/s eta 0:00:01\r\u001b[K     |██████████                      | 399 kB 3.2 MB/s eta 0:00:01\r\u001b[K     |██████████▎                     | 409 kB 3.2 MB/s eta 0:00:01\r\u001b[K     |██████████▌                     | 419 kB 3.2 MB/s eta 0:00:01\r\u001b[K     |██████████▉                     | 430 kB 3.2 MB/s eta 0:00:01\r\u001b[K     |███████████                     | 440 kB 3.2 MB/s eta 0:00:01\r\u001b[K     |███████████▎                    | 450 kB 3.2 MB/s eta 0:00:01\r\u001b[K     |███████████▌                    | 460 kB 3.2 MB/s eta 0:00:01\r\u001b[K     |███████████▉                    | 471 kB 3.2 MB/s eta 0:00:01\r\u001b[K     |████████████                    | 481 kB 3.2 MB/s eta 0:00:01\r\u001b[K     |████████████▎                   | 491 kB 3.2 MB/s eta 0:00:01\r\u001b[K     |████████████▋                   | 501 kB 3.2 MB/s eta 0:00:01\r\u001b[K     |████████████▉                   | 512 kB 3.2 MB/s eta 0:00:01\r\u001b[K     |█████████████                   | 522 kB 3.2 MB/s eta 0:00:01\r\u001b[K     |█████████████▍                  | 532 kB 3.2 MB/s eta 0:00:01\r\u001b[K     |█████████████▋                  | 542 kB 3.2 MB/s eta 0:00:01\r\u001b[K     |█████████████▉                  | 552 kB 3.2 MB/s eta 0:00:01\r\u001b[K     |██████████████▏                 | 563 kB 3.2 MB/s eta 0:00:01\r\u001b[K     |██████████████▍                 | 573 kB 3.2 MB/s eta 0:00:01\r\u001b[K     |██████████████▋                 | 583 kB 3.2 MB/s eta 0:00:01\r\u001b[K     |██████████████▉                 | 593 kB 3.2 MB/s eta 0:00:01\r\u001b[K     |███████████████▏                | 604 kB 3.2 MB/s eta 0:00:01\r\u001b[K     |███████████████▍                | 614 kB 3.2 MB/s eta 0:00:01\r\u001b[K     |███████████████▋                | 624 kB 3.2 MB/s eta 0:00:01\r\u001b[K     |████████████████                | 634 kB 3.2 MB/s eta 0:00:01\r\u001b[K     |████████████████▏               | 645 kB 3.2 MB/s eta 0:00:01\r\u001b[K     |████████████████▍               | 655 kB 3.2 MB/s eta 0:00:01\r\u001b[K     |████████████████▊               | 665 kB 3.2 MB/s eta 0:00:01\r\u001b[K     |█████████████████               | 675 kB 3.2 MB/s eta 0:00:01\r\u001b[K     |█████████████████▏              | 686 kB 3.2 MB/s eta 0:00:01\r\u001b[K     |█████████████████▌              | 696 kB 3.2 MB/s eta 0:00:01\r\u001b[K     |█████████████████▊              | 706 kB 3.2 MB/s eta 0:00:01\r\u001b[K     |██████████████████              | 716 kB 3.2 MB/s eta 0:00:01\r\u001b[K     |██████████████████▎             | 727 kB 3.2 MB/s eta 0:00:01\r\u001b[K     |██████████████████▌             | 737 kB 3.2 MB/s eta 0:00:01\r\u001b[K     |██████████████████▊             | 747 kB 3.2 MB/s eta 0:00:01\r\u001b[K     |███████████████████             | 757 kB 3.2 MB/s eta 0:00:01\r\u001b[K     |███████████████████▎            | 768 kB 3.2 MB/s eta 0:00:01\r\u001b[K     |███████████████████▌            | 778 kB 3.2 MB/s eta 0:00:01\r\u001b[K     |███████████████████▊            | 788 kB 3.2 MB/s eta 0:00:01\r\u001b[K     |████████████████████            | 798 kB 3.2 MB/s eta 0:00:01\r\u001b[K     |████████████████████▎           | 808 kB 3.2 MB/s eta 0:00:01\r\u001b[K     |████████████████████▌           | 819 kB 3.2 MB/s eta 0:00:01\r\u001b[K     |████████████████████▉           | 829 kB 3.2 MB/s eta 0:00:01\r\u001b[K     |█████████████████████           | 839 kB 3.2 MB/s eta 0:00:01\r\u001b[K     |█████████████████████▎          | 849 kB 3.2 MB/s eta 0:00:01\r\u001b[K     |█████████████████████▋          | 860 kB 3.2 MB/s eta 0:00:01\r\u001b[K     |█████████████████████▉          | 870 kB 3.2 MB/s eta 0:00:01\r\u001b[K     |██████████████████████          | 880 kB 3.2 MB/s eta 0:00:01\r\u001b[K     |██████████████████████▎         | 890 kB 3.2 MB/s eta 0:00:01\r\u001b[K     |██████████████████████▋         | 901 kB 3.2 MB/s eta 0:00:01\r\u001b[K     |██████████████████████▉         | 911 kB 3.2 MB/s eta 0:00:01\r\u001b[K     |███████████████████████         | 921 kB 3.2 MB/s eta 0:00:01\r\u001b[K     |███████████████████████▍        | 931 kB 3.2 MB/s eta 0:00:01\r\u001b[K     |███████████████████████▋        | 942 kB 3.2 MB/s eta 0:00:01\r\u001b[K     |███████████████████████▉        | 952 kB 3.2 MB/s eta 0:00:01\r\u001b[K     |████████████████████████▏       | 962 kB 3.2 MB/s eta 0:00:01\r\u001b[K     |████████████████████████▍       | 972 kB 3.2 MB/s eta 0:00:01\r\u001b[K     |████████████████████████▋       | 983 kB 3.2 MB/s eta 0:00:01\r\u001b[K     |█████████████████████████       | 993 kB 3.2 MB/s eta 0:00:01\r\u001b[K     |█████████████████████████▏      | 1.0 MB 3.2 MB/s eta 0:00:01\r\u001b[K     |█████████████████████████▍      | 1.0 MB 3.2 MB/s eta 0:00:01\r\u001b[K     |█████████████████████████▊      | 1.0 MB 3.2 MB/s eta 0:00:01\r\u001b[K     |██████████████████████████      | 1.0 MB 3.2 MB/s eta 0:00:01\r\u001b[K     |██████████████████████████▏     | 1.0 MB 3.2 MB/s eta 0:00:01\r\u001b[K     |██████████████████████████▍     | 1.1 MB 3.2 MB/s eta 0:00:01\r\u001b[K     |██████████████████████████▊     | 1.1 MB 3.2 MB/s eta 0:00:01\r\u001b[K     |███████████████████████████     | 1.1 MB 3.2 MB/s eta 0:00:01\r\u001b[K     |███████████████████████████▏    | 1.1 MB 3.2 MB/s eta 0:00:01\r\u001b[K     |███████████████████████████▌    | 1.1 MB 3.2 MB/s eta 0:00:01\r\u001b[K     |███████████████████████████▊    | 1.1 MB 3.2 MB/s eta 0:00:01\r\u001b[K     |████████████████████████████    | 1.1 MB 3.2 MB/s eta 0:00:01\r\u001b[K     |████████████████████████████▎   | 1.1 MB 3.2 MB/s eta 0:00:01\r\u001b[K     |████████████████████████████▌   | 1.1 MB 3.2 MB/s eta 0:00:01\r\u001b[K     |████████████████████████████▊   | 1.1 MB 3.2 MB/s eta 0:00:01\r\u001b[K     |█████████████████████████████   | 1.2 MB 3.2 MB/s eta 0:00:01\r\u001b[K     |█████████████████████████████▎  | 1.2 MB 3.2 MB/s eta 0:00:01\r\u001b[K     |█████████████████████████████▌  | 1.2 MB 3.2 MB/s eta 0:00:01\r\u001b[K     |█████████████████████████████▊  | 1.2 MB 3.2 MB/s eta 0:00:01\r\u001b[K     |██████████████████████████████  | 1.2 MB 3.2 MB/s eta 0:00:01\r\u001b[K     |██████████████████████████████▎ | 1.2 MB 3.2 MB/s eta 0:00:01\r\u001b[K     |██████████████████████████████▌ | 1.2 MB 3.2 MB/s eta 0:00:01\r\u001b[K     |██████████████████████████████▉ | 1.2 MB 3.2 MB/s eta 0:00:01\r\u001b[K     |███████████████████████████████ | 1.2 MB 3.2 MB/s eta 0:00:01\r\u001b[K     |███████████████████████████████▎| 1.2 MB 3.2 MB/s eta 0:00:01\r\u001b[K     |███████████████████████████████▋| 1.3 MB 3.2 MB/s eta 0:00:01\r\u001b[K     |███████████████████████████████▉| 1.3 MB 3.2 MB/s eta 0:00:01\r\u001b[K     |████████████████████████████████| 1.3 MB 3.2 MB/s \n",
            "\u001b[?25h"
          ]
        }
      ]
    },
    {
      "cell_type": "code",
      "source": [
        "DRIVE_PATH = \"/content/drive/MyDrive/NLP_Final/\"\n",
        "model_path = DRIVE_PATH + f\"checkpoints2/checkpoint-17022/\"  ## load model trained for 2 epochs\n",
        "model = AutoModelForQuestionAnswering.from_pretrained(model_path)\n",
        "tokenizer = AutoTokenizer.from_pretrained(model_path)\n"
      ],
      "metadata": {
        "id": "rNJP-ZZrHaBE"
      },
      "execution_count": null,
      "outputs": []
    },
    {
      "cell_type": "code",
      "metadata": {
        "id": "842M_Yrz3WvF"
      },
      "source": [
        "class AnswerPredictor:\n",
        "  def __init__(self, model, tokenizer, device='cuda', n_best=10, max_length=512, stride=256, no_answer=False):\n",
        "      \"\"\"Initializes PyTorch Question Answering Prediction\n",
        "      It's best to leave use the default values.\n",
        "      Args:\n",
        "          model: Fine-tuned torch model\n",
        "          tokenizer: Transformers tokenizer\n",
        "          device (torch.device): Running device\n",
        "          n_best (int): Number of best possible answers\n",
        "          max_length (int): Tokenizer max length\n",
        "          stride (int): Tokenizer stride\n",
        "          no_answer (bool): If True, model can return \"no answer\"\n",
        "      \"\"\"\n",
        "      self.model = model.eval().to(device)\n",
        "      self.tokenizer = tokenizer\n",
        "      self.device = device\n",
        "      self.max_length = max_length\n",
        "      self.stride = stride\n",
        "      self.no_answer = no_answer\n",
        "      self.n_best = n_best\n",
        "\n",
        "\n",
        "  def model_pred(self, questions, contexts, batch_size=1):\n",
        "      n = len(contexts)\n",
        "      if n%batch_size!=0:\n",
        "          raise Exception(\"batch_size must be divisible by sample length\")\n",
        "\n",
        "      tokens = self.tokenizer(questions, contexts, add_special_tokens=True, \n",
        "                              return_token_type_ids=True, return_tensors=\"pt\", padding=True, \n",
        "                              return_offsets_mapping=True, truncation=\"only_second\", \n",
        "                              max_length=self.max_length, stride=self.stride)\n",
        "\n",
        "      start_logits, end_logits = [], []\n",
        "      for i in tqdm(range(0, n-batch_size+1, batch_size)):\n",
        "          with torch.no_grad():\n",
        "              out = self.model(tokens['input_ids'][i:i+batch_size].to(self.device), \n",
        "                          tokens['attention_mask'][i:i+batch_size].to(self.device), \n",
        "                          tokens['token_type_ids'][i:i+batch_size].to(self.device))\n",
        "\n",
        "              start_logits.append(out.start_logits)\n",
        "              end_logits.append(out.end_logits)\n",
        "\n",
        "      return tokens, torch.stack(start_logits).view(n, -1), torch.stack(end_logits).view(n, -1)\n",
        "\n",
        "\n",
        "  def __call__(self, questions, contexts, batch_size=1, answer_max_len=100):\n",
        "      \"\"\"Creates model prediction\n",
        "      \n",
        "      Args: \n",
        "          questions (list): Question strings\n",
        "          contexts (list): Contexts strings\n",
        "          batch_size (int): Batch size\n",
        "          answer_max_len (int): Sets the longests possible length for any answer\n",
        "        \n",
        "      Returns:\n",
        "          dict: The best prediction of the model\n",
        "              (e.g {0: {\"text\": str, \"score\": int}})\n",
        "      \"\"\"\n",
        "      questions = [questions]\n",
        "      contexts = [contexts]\n",
        "      tokens, starts, ends = self.model_pred(questions, contexts, batch_size=batch_size)\n",
        "      start_indexes = starts.argsort(dim=-1, descending=True)[:, :self.n_best]\n",
        "      end_indexes = ends.argsort(dim=-1, descending=True)[:, :self.n_best]\n",
        "\n",
        "      preds = {}\n",
        "      for i, (c, q) in enumerate(zip(contexts, questions)):  \n",
        "          min_null_score = starts[i][0] + ends[i][0] # 0 is CLS Token\n",
        "          start_context = tokens['input_ids'][i].tolist().index(self.tokenizer.sep_token_id)\n",
        "          \n",
        "          offset = tokens['offset_mapping'][i]\n",
        "          valid_answers = []\n",
        "          for start_index in start_indexes[i]:\n",
        "              # Don't consider answers that are in questions\n",
        "              if start_index<start_context:\n",
        "                  continue\n",
        "              for end_index in end_indexes[i]:\n",
        "                  # Don't consider out-of-scope answers, either because the indices are out of bounds or correspond\n",
        "                  # to part of the input_ids that are not in the context.\n",
        "                  if (start_index >= len(offset) or end_index >= len(offset)\n",
        "                      or offset[start_index] is None or offset[end_index] is None):\n",
        "                      continue\n",
        "                  # Don't consider answers with a length that is either < 0 or > max_answer_length.\n",
        "                  if end_index < start_index or (end_index-start_index+1) > answer_max_len:\n",
        "                      continue\n",
        "\n",
        "                  start_char = offset[start_index][0]\n",
        "                  end_char = offset[end_index][1]\n",
        "                  valid_answers.append({\"score\": (starts[i][start_index] + ends[i][end_index]).item(),\n",
        "                                        \"text\": c[start_char: end_char]})\n",
        "                  \n",
        "          if len(valid_answers) > 0:\n",
        "              best_answer = sorted(valid_answers, key=lambda x: x[\"score\"], reverse=True)[0]\n",
        "          else:\n",
        "              best_answer = {\"text\": \"\", \"score\": min_null_score}\n",
        "\n",
        "          if self.no_answer:\n",
        "              preds[i] = best_answer if best_answer[\"score\"] >= min_null_score else {\"text\": \"\", \"score\": min_null_score}\n",
        "          else:\n",
        "              preds[i] = best_answer\n",
        "\n",
        "      return preds\n"
      ],
      "execution_count": null,
      "outputs": []
    },
    {
      "cell_type": "code",
      "source": [
        "predictor = AnswerPredictor(model, tokenizer, device='cuda', n_best=10, no_answer=True)\n"
      ],
      "metadata": {
        "id": "2xrKiaeYJLf-"
      },
      "execution_count": null,
      "outputs": []
    },
    {
      "cell_type": "code",
      "source": [
        "test_dataset[9]"
      ],
      "metadata": {
        "colab": {
          "base_uri": "https://localhost:8080/"
        },
        "id": "JJH32GrFO0DT",
        "outputId": "cf03ba6a-2157-4424-c639-f89ffbe4dc94"
      },
      "execution_count": null,
      "outputs": [
        {
          "output_type": "execute_result",
          "data": {
            "text/plain": [
              "{'context': 'BSkyB سرویس HDTV خود را با نام Sky + HD در 22 مه 2006 راه اندازی کرد. قبل از راه اندازی ، BSkyB ادعا کرد که 40،000 نفر برای دریافت سرویس HD ثبت نام کرده اند. در هفته قبل از راه اندازی ، شایعاتی مبنی بر اینکه BSkyB در تهیه جعبه بالا (STB) خود از تولید کننده تامسون مشکل دارد ، آشکار شد. در روز پنجشنبه 18 مه 2006 ، و در آخر هفته قبل از راه اندازی ، مردم گزارش دادند که BSkyB نصب آن را لغو کرده یا دوباره برنامه ریزی کرده است. سرانجام ، بی بی سی گزارش داد که 17000 مشتری هنوز به دلیل تحویل ناموفق ، خدمات دریافت نکرده اند. در تاریخ 31 مارس 2012 ، آسمان تعداد کل خانه های دارای Sky + HD را 4222000 اعلام کرد.',\n",
              " 'question': 'چه زمانی BSkyB سرویس HDTV خود را راه اندازی کرد؟',\n",
              " 'answers': {'answer_start': [43, 40, 43],\n",
              "  'text': ['22 مه 2006', 'در 22 مه 2006', '22 مه 2006']}}"
            ]
          },
          "metadata": {},
          "execution_count": 15
        }
      ]
    },
    {
      "cell_type": "code",
      "source": [
        "context = test_dataset[9]['context'] \n",
        "question = test_dataset[9]['question'] \n",
        "answer = test_dataset[9]['answers']['text']\n",
        "print(answer)\n",
        "\n",
        "\n",
        "preds = predictor(question, context, batch_size=1)\n",
        "pred = preds[0]['text'].strip()\n",
        "print('\\n\\n Model Prediction: ', preds[0]['text'].strip())\n",
        "print(preds)\n",
        "\n",
        "# print(compute_exact_match(answer, pred))\n",
        "# print(compute_f1(answer, pred))"
      ],
      "metadata": {
        "colab": {
          "base_uri": "https://localhost:8080/"
        },
        "id": "WZkpZrQbJxjd",
        "outputId": "8de8ccaa-038e-4d30-bc41-8a20572352b7"
      },
      "execution_count": null,
      "outputs": [
        {
          "output_type": "stream",
          "name": "stdout",
          "text": [
            "['22 مه 2006', 'در 22 مه 2006', '22 مه 2006']\n"
          ]
        },
        {
          "output_type": "stream",
          "name": "stderr",
          "text": [
            "100%|██████████| 1/1 [00:00<00:00, 75.37it/s]"
          ]
        },
        {
          "output_type": "stream",
          "name": "stdout",
          "text": [
            "\n",
            "\n",
            " Model Prediction:  22 مه 2006\n",
            "{0: {'score': 17.336265563964844, 'text': '22 مه 2006'}}\n"
          ]
        },
        {
          "output_type": "stream",
          "name": "stderr",
          "text": [
            "\n"
          ]
        }
      ]
    }
  ]
}