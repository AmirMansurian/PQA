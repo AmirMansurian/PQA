{
  "nbformat": 4,
  "nbformat_minor": 0,
  "metadata": {
    "colab": {
      "name": "ParsBert.ipynb",
      "provenance": [],
      "collapsed_sections": [],
      "toc_visible": true
    },
    "kernelspec": {
      "name": "python3",
      "display_name": "Python 3"
    },
    "language_info": {
      "name": "python"
    },
    "widgets": {
      "application/vnd.jupyter.widget-state+json": {
        "e66d6ba7468545299da6e017a99469e7": {
          "model_module": "@jupyter-widgets/controls",
          "model_name": "HBoxModel",
          "model_module_version": "1.5.0",
          "state": {
            "_dom_classes": [],
            "_model_module": "@jupyter-widgets/controls",
            "_model_module_version": "1.5.0",
            "_model_name": "HBoxModel",
            "_view_count": null,
            "_view_module": "@jupyter-widgets/controls",
            "_view_module_version": "1.5.0",
            "_view_name": "HBoxView",
            "box_style": "",
            "children": [
              "IPY_MODEL_7366e78fe80940818843c5de0592e133",
              "IPY_MODEL_179b057b54f145b499ba01ad0ccaa30e",
              "IPY_MODEL_efcd12ef3cd7461e90a5ecc67579310e"
            ],
            "layout": "IPY_MODEL_61670bddfb784350a81aff2b895d8dd7"
          }
        },
        "7366e78fe80940818843c5de0592e133": {
          "model_module": "@jupyter-widgets/controls",
          "model_name": "HTMLModel",
          "model_module_version": "1.5.0",
          "state": {
            "_dom_classes": [],
            "_model_module": "@jupyter-widgets/controls",
            "_model_module_version": "1.5.0",
            "_model_name": "HTMLModel",
            "_view_count": null,
            "_view_module": "@jupyter-widgets/controls",
            "_view_module_version": "1.5.0",
            "_view_name": "HTMLView",
            "description": "",
            "description_tooltip": null,
            "layout": "IPY_MODEL_144f4a990058491f87dbc6a1e4fe5205",
            "placeholder": "​",
            "style": "IPY_MODEL_f7de3f6889aa4852bcbc44184dce4fa8",
            "value": "Downloading config.json: 100%"
          }
        },
        "179b057b54f145b499ba01ad0ccaa30e": {
          "model_module": "@jupyter-widgets/controls",
          "model_name": "FloatProgressModel",
          "model_module_version": "1.5.0",
          "state": {
            "_dom_classes": [],
            "_model_module": "@jupyter-widgets/controls",
            "_model_module_version": "1.5.0",
            "_model_name": "FloatProgressModel",
            "_view_count": null,
            "_view_module": "@jupyter-widgets/controls",
            "_view_module_version": "1.5.0",
            "_view_name": "ProgressView",
            "bar_style": "success",
            "description": "",
            "description_tooltip": null,
            "layout": "IPY_MODEL_5db6cec7918c4b7ea3f03a02d71011a9",
            "max": 440,
            "min": 0,
            "orientation": "horizontal",
            "style": "IPY_MODEL_4eafb1c05be94ec59e60811c05614712",
            "value": 440
          }
        },
        "efcd12ef3cd7461e90a5ecc67579310e": {
          "model_module": "@jupyter-widgets/controls",
          "model_name": "HTMLModel",
          "model_module_version": "1.5.0",
          "state": {
            "_dom_classes": [],
            "_model_module": "@jupyter-widgets/controls",
            "_model_module_version": "1.5.0",
            "_model_name": "HTMLModel",
            "_view_count": null,
            "_view_module": "@jupyter-widgets/controls",
            "_view_module_version": "1.5.0",
            "_view_name": "HTMLView",
            "description": "",
            "description_tooltip": null,
            "layout": "IPY_MODEL_dceb14619ba6409a9f19673a5ca86746",
            "placeholder": "​",
            "style": "IPY_MODEL_5a1e7740516a49279b1e3f9308e6c6c2",
            "value": " 440/440 [00:00&lt;00:00, 12.6kB/s]"
          }
        },
        "61670bddfb784350a81aff2b895d8dd7": {
          "model_module": "@jupyter-widgets/base",
          "model_name": "LayoutModel",
          "model_module_version": "1.2.0",
          "state": {
            "_model_module": "@jupyter-widgets/base",
            "_model_module_version": "1.2.0",
            "_model_name": "LayoutModel",
            "_view_count": null,
            "_view_module": "@jupyter-widgets/base",
            "_view_module_version": "1.2.0",
            "_view_name": "LayoutView",
            "align_content": null,
            "align_items": null,
            "align_self": null,
            "border": null,
            "bottom": null,
            "display": null,
            "flex": null,
            "flex_flow": null,
            "grid_area": null,
            "grid_auto_columns": null,
            "grid_auto_flow": null,
            "grid_auto_rows": null,
            "grid_column": null,
            "grid_gap": null,
            "grid_row": null,
            "grid_template_areas": null,
            "grid_template_columns": null,
            "grid_template_rows": null,
            "height": null,
            "justify_content": null,
            "justify_items": null,
            "left": null,
            "margin": null,
            "max_height": null,
            "max_width": null,
            "min_height": null,
            "min_width": null,
            "object_fit": null,
            "object_position": null,
            "order": null,
            "overflow": null,
            "overflow_x": null,
            "overflow_y": null,
            "padding": null,
            "right": null,
            "top": null,
            "visibility": null,
            "width": null
          }
        },
        "144f4a990058491f87dbc6a1e4fe5205": {
          "model_module": "@jupyter-widgets/base",
          "model_name": "LayoutModel",
          "model_module_version": "1.2.0",
          "state": {
            "_model_module": "@jupyter-widgets/base",
            "_model_module_version": "1.2.0",
            "_model_name": "LayoutModel",
            "_view_count": null,
            "_view_module": "@jupyter-widgets/base",
            "_view_module_version": "1.2.0",
            "_view_name": "LayoutView",
            "align_content": null,
            "align_items": null,
            "align_self": null,
            "border": null,
            "bottom": null,
            "display": null,
            "flex": null,
            "flex_flow": null,
            "grid_area": null,
            "grid_auto_columns": null,
            "grid_auto_flow": null,
            "grid_auto_rows": null,
            "grid_column": null,
            "grid_gap": null,
            "grid_row": null,
            "grid_template_areas": null,
            "grid_template_columns": null,
            "grid_template_rows": null,
            "height": null,
            "justify_content": null,
            "justify_items": null,
            "left": null,
            "margin": null,
            "max_height": null,
            "max_width": null,
            "min_height": null,
            "min_width": null,
            "object_fit": null,
            "object_position": null,
            "order": null,
            "overflow": null,
            "overflow_x": null,
            "overflow_y": null,
            "padding": null,
            "right": null,
            "top": null,
            "visibility": null,
            "width": null
          }
        },
        "f7de3f6889aa4852bcbc44184dce4fa8": {
          "model_module": "@jupyter-widgets/controls",
          "model_name": "DescriptionStyleModel",
          "model_module_version": "1.5.0",
          "state": {
            "_model_module": "@jupyter-widgets/controls",
            "_model_module_version": "1.5.0",
            "_model_name": "DescriptionStyleModel",
            "_view_count": null,
            "_view_module": "@jupyter-widgets/base",
            "_view_module_version": "1.2.0",
            "_view_name": "StyleView",
            "description_width": ""
          }
        },
        "5db6cec7918c4b7ea3f03a02d71011a9": {
          "model_module": "@jupyter-widgets/base",
          "model_name": "LayoutModel",
          "model_module_version": "1.2.0",
          "state": {
            "_model_module": "@jupyter-widgets/base",
            "_model_module_version": "1.2.0",
            "_model_name": "LayoutModel",
            "_view_count": null,
            "_view_module": "@jupyter-widgets/base",
            "_view_module_version": "1.2.0",
            "_view_name": "LayoutView",
            "align_content": null,
            "align_items": null,
            "align_self": null,
            "border": null,
            "bottom": null,
            "display": null,
            "flex": null,
            "flex_flow": null,
            "grid_area": null,
            "grid_auto_columns": null,
            "grid_auto_flow": null,
            "grid_auto_rows": null,
            "grid_column": null,
            "grid_gap": null,
            "grid_row": null,
            "grid_template_areas": null,
            "grid_template_columns": null,
            "grid_template_rows": null,
            "height": null,
            "justify_content": null,
            "justify_items": null,
            "left": null,
            "margin": null,
            "max_height": null,
            "max_width": null,
            "min_height": null,
            "min_width": null,
            "object_fit": null,
            "object_position": null,
            "order": null,
            "overflow": null,
            "overflow_x": null,
            "overflow_y": null,
            "padding": null,
            "right": null,
            "top": null,
            "visibility": null,
            "width": null
          }
        },
        "4eafb1c05be94ec59e60811c05614712": {
          "model_module": "@jupyter-widgets/controls",
          "model_name": "ProgressStyleModel",
          "model_module_version": "1.5.0",
          "state": {
            "_model_module": "@jupyter-widgets/controls",
            "_model_module_version": "1.5.0",
            "_model_name": "ProgressStyleModel",
            "_view_count": null,
            "_view_module": "@jupyter-widgets/base",
            "_view_module_version": "1.2.0",
            "_view_name": "StyleView",
            "bar_color": null,
            "description_width": ""
          }
        },
        "dceb14619ba6409a9f19673a5ca86746": {
          "model_module": "@jupyter-widgets/base",
          "model_name": "LayoutModel",
          "model_module_version": "1.2.0",
          "state": {
            "_model_module": "@jupyter-widgets/base",
            "_model_module_version": "1.2.0",
            "_model_name": "LayoutModel",
            "_view_count": null,
            "_view_module": "@jupyter-widgets/base",
            "_view_module_version": "1.2.0",
            "_view_name": "LayoutView",
            "align_content": null,
            "align_items": null,
            "align_self": null,
            "border": null,
            "bottom": null,
            "display": null,
            "flex": null,
            "flex_flow": null,
            "grid_area": null,
            "grid_auto_columns": null,
            "grid_auto_flow": null,
            "grid_auto_rows": null,
            "grid_column": null,
            "grid_gap": null,
            "grid_row": null,
            "grid_template_areas": null,
            "grid_template_columns": null,
            "grid_template_rows": null,
            "height": null,
            "justify_content": null,
            "justify_items": null,
            "left": null,
            "margin": null,
            "max_height": null,
            "max_width": null,
            "min_height": null,
            "min_width": null,
            "object_fit": null,
            "object_position": null,
            "order": null,
            "overflow": null,
            "overflow_x": null,
            "overflow_y": null,
            "padding": null,
            "right": null,
            "top": null,
            "visibility": null,
            "width": null
          }
        },
        "5a1e7740516a49279b1e3f9308e6c6c2": {
          "model_module": "@jupyter-widgets/controls",
          "model_name": "DescriptionStyleModel",
          "model_module_version": "1.5.0",
          "state": {
            "_model_module": "@jupyter-widgets/controls",
            "_model_module_version": "1.5.0",
            "_model_name": "DescriptionStyleModel",
            "_view_count": null,
            "_view_module": "@jupyter-widgets/base",
            "_view_module_version": "1.2.0",
            "_view_name": "StyleView",
            "description_width": ""
          }
        },
        "c250019925bb48b5b26ba5bfeb86ad93": {
          "model_module": "@jupyter-widgets/controls",
          "model_name": "HBoxModel",
          "model_module_version": "1.5.0",
          "state": {
            "_dom_classes": [],
            "_model_module": "@jupyter-widgets/controls",
            "_model_module_version": "1.5.0",
            "_model_name": "HBoxModel",
            "_view_count": null,
            "_view_module": "@jupyter-widgets/controls",
            "_view_module_version": "1.5.0",
            "_view_name": "HBoxView",
            "box_style": "",
            "children": [
              "IPY_MODEL_f98454ac82284b989bfd499e5fd49af6",
              "IPY_MODEL_f5420f8839914c5e82d888e522832944",
              "IPY_MODEL_51d4b51921e948879a5781682ee30037"
            ],
            "layout": "IPY_MODEL_7ebae639ef3d4f769d8394a079fd68d4"
          }
        },
        "f98454ac82284b989bfd499e5fd49af6": {
          "model_module": "@jupyter-widgets/controls",
          "model_name": "HTMLModel",
          "model_module_version": "1.5.0",
          "state": {
            "_dom_classes": [],
            "_model_module": "@jupyter-widgets/controls",
            "_model_module_version": "1.5.0",
            "_model_name": "HTMLModel",
            "_view_count": null,
            "_view_module": "@jupyter-widgets/controls",
            "_view_module_version": "1.5.0",
            "_view_name": "HTMLView",
            "description": "",
            "description_tooltip": null,
            "layout": "IPY_MODEL_f102caf9ee804327b45104fe14a7e898",
            "placeholder": "​",
            "style": "IPY_MODEL_1dab983144cd45c2a0fee01465665138",
            "value": "Downloading vocab.txt: 100%"
          }
        },
        "f5420f8839914c5e82d888e522832944": {
          "model_module": "@jupyter-widgets/controls",
          "model_name": "FloatProgressModel",
          "model_module_version": "1.5.0",
          "state": {
            "_dom_classes": [],
            "_model_module": "@jupyter-widgets/controls",
            "_model_module_version": "1.5.0",
            "_model_name": "FloatProgressModel",
            "_view_count": null,
            "_view_module": "@jupyter-widgets/controls",
            "_view_module_version": "1.5.0",
            "_view_name": "ProgressView",
            "bar_style": "success",
            "description": "",
            "description_tooltip": null,
            "layout": "IPY_MODEL_8104be54257a45718fbca267db274139",
            "max": 1198122,
            "min": 0,
            "orientation": "horizontal",
            "style": "IPY_MODEL_ff43f2ea3c12489cbcf716d2ea900a4a",
            "value": 1198122
          }
        },
        "51d4b51921e948879a5781682ee30037": {
          "model_module": "@jupyter-widgets/controls",
          "model_name": "HTMLModel",
          "model_module_version": "1.5.0",
          "state": {
            "_dom_classes": [],
            "_model_module": "@jupyter-widgets/controls",
            "_model_module_version": "1.5.0",
            "_model_name": "HTMLModel",
            "_view_count": null,
            "_view_module": "@jupyter-widgets/controls",
            "_view_module_version": "1.5.0",
            "_view_name": "HTMLView",
            "description": "",
            "description_tooltip": null,
            "layout": "IPY_MODEL_cb320bed746c44778cd1f8fe948419a0",
            "placeholder": "​",
            "style": "IPY_MODEL_2c93b8d8ea1244e49f7b5ad9011d7d2e",
            "value": " 1.14M/1.14M [00:00&lt;00:00, 1.54MB/s]"
          }
        },
        "7ebae639ef3d4f769d8394a079fd68d4": {
          "model_module": "@jupyter-widgets/base",
          "model_name": "LayoutModel",
          "model_module_version": "1.2.0",
          "state": {
            "_model_module": "@jupyter-widgets/base",
            "_model_module_version": "1.2.0",
            "_model_name": "LayoutModel",
            "_view_count": null,
            "_view_module": "@jupyter-widgets/base",
            "_view_module_version": "1.2.0",
            "_view_name": "LayoutView",
            "align_content": null,
            "align_items": null,
            "align_self": null,
            "border": null,
            "bottom": null,
            "display": null,
            "flex": null,
            "flex_flow": null,
            "grid_area": null,
            "grid_auto_columns": null,
            "grid_auto_flow": null,
            "grid_auto_rows": null,
            "grid_column": null,
            "grid_gap": null,
            "grid_row": null,
            "grid_template_areas": null,
            "grid_template_columns": null,
            "grid_template_rows": null,
            "height": null,
            "justify_content": null,
            "justify_items": null,
            "left": null,
            "margin": null,
            "max_height": null,
            "max_width": null,
            "min_height": null,
            "min_width": null,
            "object_fit": null,
            "object_position": null,
            "order": null,
            "overflow": null,
            "overflow_x": null,
            "overflow_y": null,
            "padding": null,
            "right": null,
            "top": null,
            "visibility": null,
            "width": null
          }
        },
        "f102caf9ee804327b45104fe14a7e898": {
          "model_module": "@jupyter-widgets/base",
          "model_name": "LayoutModel",
          "model_module_version": "1.2.0",
          "state": {
            "_model_module": "@jupyter-widgets/base",
            "_model_module_version": "1.2.0",
            "_model_name": "LayoutModel",
            "_view_count": null,
            "_view_module": "@jupyter-widgets/base",
            "_view_module_version": "1.2.0",
            "_view_name": "LayoutView",
            "align_content": null,
            "align_items": null,
            "align_self": null,
            "border": null,
            "bottom": null,
            "display": null,
            "flex": null,
            "flex_flow": null,
            "grid_area": null,
            "grid_auto_columns": null,
            "grid_auto_flow": null,
            "grid_auto_rows": null,
            "grid_column": null,
            "grid_gap": null,
            "grid_row": null,
            "grid_template_areas": null,
            "grid_template_columns": null,
            "grid_template_rows": null,
            "height": null,
            "justify_content": null,
            "justify_items": null,
            "left": null,
            "margin": null,
            "max_height": null,
            "max_width": null,
            "min_height": null,
            "min_width": null,
            "object_fit": null,
            "object_position": null,
            "order": null,
            "overflow": null,
            "overflow_x": null,
            "overflow_y": null,
            "padding": null,
            "right": null,
            "top": null,
            "visibility": null,
            "width": null
          }
        },
        "1dab983144cd45c2a0fee01465665138": {
          "model_module": "@jupyter-widgets/controls",
          "model_name": "DescriptionStyleModel",
          "model_module_version": "1.5.0",
          "state": {
            "_model_module": "@jupyter-widgets/controls",
            "_model_module_version": "1.5.0",
            "_model_name": "DescriptionStyleModel",
            "_view_count": null,
            "_view_module": "@jupyter-widgets/base",
            "_view_module_version": "1.2.0",
            "_view_name": "StyleView",
            "description_width": ""
          }
        },
        "8104be54257a45718fbca267db274139": {
          "model_module": "@jupyter-widgets/base",
          "model_name": "LayoutModel",
          "model_module_version": "1.2.0",
          "state": {
            "_model_module": "@jupyter-widgets/base",
            "_model_module_version": "1.2.0",
            "_model_name": "LayoutModel",
            "_view_count": null,
            "_view_module": "@jupyter-widgets/base",
            "_view_module_version": "1.2.0",
            "_view_name": "LayoutView",
            "align_content": null,
            "align_items": null,
            "align_self": null,
            "border": null,
            "bottom": null,
            "display": null,
            "flex": null,
            "flex_flow": null,
            "grid_area": null,
            "grid_auto_columns": null,
            "grid_auto_flow": null,
            "grid_auto_rows": null,
            "grid_column": null,
            "grid_gap": null,
            "grid_row": null,
            "grid_template_areas": null,
            "grid_template_columns": null,
            "grid_template_rows": null,
            "height": null,
            "justify_content": null,
            "justify_items": null,
            "left": null,
            "margin": null,
            "max_height": null,
            "max_width": null,
            "min_height": null,
            "min_width": null,
            "object_fit": null,
            "object_position": null,
            "order": null,
            "overflow": null,
            "overflow_x": null,
            "overflow_y": null,
            "padding": null,
            "right": null,
            "top": null,
            "visibility": null,
            "width": null
          }
        },
        "ff43f2ea3c12489cbcf716d2ea900a4a": {
          "model_module": "@jupyter-widgets/controls",
          "model_name": "ProgressStyleModel",
          "model_module_version": "1.5.0",
          "state": {
            "_model_module": "@jupyter-widgets/controls",
            "_model_module_version": "1.5.0",
            "_model_name": "ProgressStyleModel",
            "_view_count": null,
            "_view_module": "@jupyter-widgets/base",
            "_view_module_version": "1.2.0",
            "_view_name": "StyleView",
            "bar_color": null,
            "description_width": ""
          }
        },
        "cb320bed746c44778cd1f8fe948419a0": {
          "model_module": "@jupyter-widgets/base",
          "model_name": "LayoutModel",
          "model_module_version": "1.2.0",
          "state": {
            "_model_module": "@jupyter-widgets/base",
            "_model_module_version": "1.2.0",
            "_model_name": "LayoutModel",
            "_view_count": null,
            "_view_module": "@jupyter-widgets/base",
            "_view_module_version": "1.2.0",
            "_view_name": "LayoutView",
            "align_content": null,
            "align_items": null,
            "align_self": null,
            "border": null,
            "bottom": null,
            "display": null,
            "flex": null,
            "flex_flow": null,
            "grid_area": null,
            "grid_auto_columns": null,
            "grid_auto_flow": null,
            "grid_auto_rows": null,
            "grid_column": null,
            "grid_gap": null,
            "grid_row": null,
            "grid_template_areas": null,
            "grid_template_columns": null,
            "grid_template_rows": null,
            "height": null,
            "justify_content": null,
            "justify_items": null,
            "left": null,
            "margin": null,
            "max_height": null,
            "max_width": null,
            "min_height": null,
            "min_width": null,
            "object_fit": null,
            "object_position": null,
            "order": null,
            "overflow": null,
            "overflow_x": null,
            "overflow_y": null,
            "padding": null,
            "right": null,
            "top": null,
            "visibility": null,
            "width": null
          }
        },
        "2c93b8d8ea1244e49f7b5ad9011d7d2e": {
          "model_module": "@jupyter-widgets/controls",
          "model_name": "DescriptionStyleModel",
          "model_module_version": "1.5.0",
          "state": {
            "_model_module": "@jupyter-widgets/controls",
            "_model_module_version": "1.5.0",
            "_model_name": "DescriptionStyleModel",
            "_view_count": null,
            "_view_module": "@jupyter-widgets/base",
            "_view_module_version": "1.2.0",
            "_view_name": "StyleView",
            "description_width": ""
          }
        },
        "5e9ca63c5294433a822bd11c521a2b6d": {
          "model_module": "@jupyter-widgets/controls",
          "model_name": "HBoxModel",
          "model_module_version": "1.5.0",
          "state": {
            "_dom_classes": [],
            "_model_module": "@jupyter-widgets/controls",
            "_model_module_version": "1.5.0",
            "_model_name": "HBoxModel",
            "_view_count": null,
            "_view_module": "@jupyter-widgets/controls",
            "_view_module_version": "1.5.0",
            "_view_name": "HBoxView",
            "box_style": "",
            "children": [
              "IPY_MODEL_ed806006a0dd4e62802c25b1ce5b538e",
              "IPY_MODEL_be11f3be0ba249eb907fb5022a5992f8",
              "IPY_MODEL_708e0a61be95462fa241a466051d7b0a"
            ],
            "layout": "IPY_MODEL_df6de55b35ca42c49174de603da5afb4"
          }
        },
        "ed806006a0dd4e62802c25b1ce5b538e": {
          "model_module": "@jupyter-widgets/controls",
          "model_name": "HTMLModel",
          "model_module_version": "1.5.0",
          "state": {
            "_dom_classes": [],
            "_model_module": "@jupyter-widgets/controls",
            "_model_module_version": "1.5.0",
            "_model_name": "HTMLModel",
            "_view_count": null,
            "_view_module": "@jupyter-widgets/controls",
            "_view_module_version": "1.5.0",
            "_view_name": "HTMLView",
            "description": "",
            "description_tooltip": null,
            "layout": "IPY_MODEL_59c151f220394296aa9f170ae45d878d",
            "placeholder": "​",
            "style": "IPY_MODEL_53696b24b7b74fc1ac6fd543a6ddda2d",
            "value": "100%"
          }
        },
        "be11f3be0ba249eb907fb5022a5992f8": {
          "model_module": "@jupyter-widgets/controls",
          "model_name": "FloatProgressModel",
          "model_module_version": "1.5.0",
          "state": {
            "_dom_classes": [],
            "_model_module": "@jupyter-widgets/controls",
            "_model_module_version": "1.5.0",
            "_model_name": "FloatProgressModel",
            "_view_count": null,
            "_view_module": "@jupyter-widgets/controls",
            "_view_module_version": "1.5.0",
            "_view_name": "ProgressView",
            "bar_style": "success",
            "description": "",
            "description_tooltip": null,
            "layout": "IPY_MODEL_79349e04345a41e3bcdcf4b38d0b38f5",
            "max": 11,
            "min": 0,
            "orientation": "horizontal",
            "style": "IPY_MODEL_a20b8b1ab7f04f9495d2beed8203e5d2",
            "value": 11
          }
        },
        "708e0a61be95462fa241a466051d7b0a": {
          "model_module": "@jupyter-widgets/controls",
          "model_name": "HTMLModel",
          "model_module_version": "1.5.0",
          "state": {
            "_dom_classes": [],
            "_model_module": "@jupyter-widgets/controls",
            "_model_module_version": "1.5.0",
            "_model_name": "HTMLModel",
            "_view_count": null,
            "_view_module": "@jupyter-widgets/controls",
            "_view_module_version": "1.5.0",
            "_view_name": "HTMLView",
            "description": "",
            "description_tooltip": null,
            "layout": "IPY_MODEL_b993446d775e4ad7b3dfad17bab58ac5",
            "placeholder": "​",
            "style": "IPY_MODEL_bd23391e04a448409288f95ed7917533",
            "value": " 11/11 [00:08&lt;00:00,  1.70ba/s]"
          }
        },
        "df6de55b35ca42c49174de603da5afb4": {
          "model_module": "@jupyter-widgets/base",
          "model_name": "LayoutModel",
          "model_module_version": "1.2.0",
          "state": {
            "_model_module": "@jupyter-widgets/base",
            "_model_module_version": "1.2.0",
            "_model_name": "LayoutModel",
            "_view_count": null,
            "_view_module": "@jupyter-widgets/base",
            "_view_module_version": "1.2.0",
            "_view_name": "LayoutView",
            "align_content": null,
            "align_items": null,
            "align_self": null,
            "border": null,
            "bottom": null,
            "display": null,
            "flex": null,
            "flex_flow": null,
            "grid_area": null,
            "grid_auto_columns": null,
            "grid_auto_flow": null,
            "grid_auto_rows": null,
            "grid_column": null,
            "grid_gap": null,
            "grid_row": null,
            "grid_template_areas": null,
            "grid_template_columns": null,
            "grid_template_rows": null,
            "height": null,
            "justify_content": null,
            "justify_items": null,
            "left": null,
            "margin": null,
            "max_height": null,
            "max_width": null,
            "min_height": null,
            "min_width": null,
            "object_fit": null,
            "object_position": null,
            "order": null,
            "overflow": null,
            "overflow_x": null,
            "overflow_y": null,
            "padding": null,
            "right": null,
            "top": null,
            "visibility": null,
            "width": null
          }
        },
        "59c151f220394296aa9f170ae45d878d": {
          "model_module": "@jupyter-widgets/base",
          "model_name": "LayoutModel",
          "model_module_version": "1.2.0",
          "state": {
            "_model_module": "@jupyter-widgets/base",
            "_model_module_version": "1.2.0",
            "_model_name": "LayoutModel",
            "_view_count": null,
            "_view_module": "@jupyter-widgets/base",
            "_view_module_version": "1.2.0",
            "_view_name": "LayoutView",
            "align_content": null,
            "align_items": null,
            "align_self": null,
            "border": null,
            "bottom": null,
            "display": null,
            "flex": null,
            "flex_flow": null,
            "grid_area": null,
            "grid_auto_columns": null,
            "grid_auto_flow": null,
            "grid_auto_rows": null,
            "grid_column": null,
            "grid_gap": null,
            "grid_row": null,
            "grid_template_areas": null,
            "grid_template_columns": null,
            "grid_template_rows": null,
            "height": null,
            "justify_content": null,
            "justify_items": null,
            "left": null,
            "margin": null,
            "max_height": null,
            "max_width": null,
            "min_height": null,
            "min_width": null,
            "object_fit": null,
            "object_position": null,
            "order": null,
            "overflow": null,
            "overflow_x": null,
            "overflow_y": null,
            "padding": null,
            "right": null,
            "top": null,
            "visibility": null,
            "width": null
          }
        },
        "53696b24b7b74fc1ac6fd543a6ddda2d": {
          "model_module": "@jupyter-widgets/controls",
          "model_name": "DescriptionStyleModel",
          "model_module_version": "1.5.0",
          "state": {
            "_model_module": "@jupyter-widgets/controls",
            "_model_module_version": "1.5.0",
            "_model_name": "DescriptionStyleModel",
            "_view_count": null,
            "_view_module": "@jupyter-widgets/base",
            "_view_module_version": "1.2.0",
            "_view_name": "StyleView",
            "description_width": ""
          }
        },
        "79349e04345a41e3bcdcf4b38d0b38f5": {
          "model_module": "@jupyter-widgets/base",
          "model_name": "LayoutModel",
          "model_module_version": "1.2.0",
          "state": {
            "_model_module": "@jupyter-widgets/base",
            "_model_module_version": "1.2.0",
            "_model_name": "LayoutModel",
            "_view_count": null,
            "_view_module": "@jupyter-widgets/base",
            "_view_module_version": "1.2.0",
            "_view_name": "LayoutView",
            "align_content": null,
            "align_items": null,
            "align_self": null,
            "border": null,
            "bottom": null,
            "display": null,
            "flex": null,
            "flex_flow": null,
            "grid_area": null,
            "grid_auto_columns": null,
            "grid_auto_flow": null,
            "grid_auto_rows": null,
            "grid_column": null,
            "grid_gap": null,
            "grid_row": null,
            "grid_template_areas": null,
            "grid_template_columns": null,
            "grid_template_rows": null,
            "height": null,
            "justify_content": null,
            "justify_items": null,
            "left": null,
            "margin": null,
            "max_height": null,
            "max_width": null,
            "min_height": null,
            "min_width": null,
            "object_fit": null,
            "object_position": null,
            "order": null,
            "overflow": null,
            "overflow_x": null,
            "overflow_y": null,
            "padding": null,
            "right": null,
            "top": null,
            "visibility": null,
            "width": null
          }
        },
        "a20b8b1ab7f04f9495d2beed8203e5d2": {
          "model_module": "@jupyter-widgets/controls",
          "model_name": "ProgressStyleModel",
          "model_module_version": "1.5.0",
          "state": {
            "_model_module": "@jupyter-widgets/controls",
            "_model_module_version": "1.5.0",
            "_model_name": "ProgressStyleModel",
            "_view_count": null,
            "_view_module": "@jupyter-widgets/base",
            "_view_module_version": "1.2.0",
            "_view_name": "StyleView",
            "bar_color": null,
            "description_width": ""
          }
        },
        "b993446d775e4ad7b3dfad17bab58ac5": {
          "model_module": "@jupyter-widgets/base",
          "model_name": "LayoutModel",
          "model_module_version": "1.2.0",
          "state": {
            "_model_module": "@jupyter-widgets/base",
            "_model_module_version": "1.2.0",
            "_model_name": "LayoutModel",
            "_view_count": null,
            "_view_module": "@jupyter-widgets/base",
            "_view_module_version": "1.2.0",
            "_view_name": "LayoutView",
            "align_content": null,
            "align_items": null,
            "align_self": null,
            "border": null,
            "bottom": null,
            "display": null,
            "flex": null,
            "flex_flow": null,
            "grid_area": null,
            "grid_auto_columns": null,
            "grid_auto_flow": null,
            "grid_auto_rows": null,
            "grid_column": null,
            "grid_gap": null,
            "grid_row": null,
            "grid_template_areas": null,
            "grid_template_columns": null,
            "grid_template_rows": null,
            "height": null,
            "justify_content": null,
            "justify_items": null,
            "left": null,
            "margin": null,
            "max_height": null,
            "max_width": null,
            "min_height": null,
            "min_width": null,
            "object_fit": null,
            "object_position": null,
            "order": null,
            "overflow": null,
            "overflow_x": null,
            "overflow_y": null,
            "padding": null,
            "right": null,
            "top": null,
            "visibility": null,
            "width": null
          }
        },
        "bd23391e04a448409288f95ed7917533": {
          "model_module": "@jupyter-widgets/controls",
          "model_name": "DescriptionStyleModel",
          "model_module_version": "1.5.0",
          "state": {
            "_model_module": "@jupyter-widgets/controls",
            "_model_module_version": "1.5.0",
            "_model_name": "DescriptionStyleModel",
            "_view_count": null,
            "_view_module": "@jupyter-widgets/base",
            "_view_module_version": "1.2.0",
            "_view_name": "StyleView",
            "description_width": ""
          }
        },
        "5a2d026a79454c95b37d03bf841c09ce": {
          "model_module": "@jupyter-widgets/controls",
          "model_name": "HBoxModel",
          "model_module_version": "1.5.0",
          "state": {
            "_dom_classes": [],
            "_model_module": "@jupyter-widgets/controls",
            "_model_module_version": "1.5.0",
            "_model_name": "HBoxModel",
            "_view_count": null,
            "_view_module": "@jupyter-widgets/controls",
            "_view_module_version": "1.5.0",
            "_view_name": "HBoxView",
            "box_style": "",
            "children": [
              "IPY_MODEL_c166625b5f774f9cb5e73a404f0ae0d3",
              "IPY_MODEL_305756be76e440fbaa9fb0debc116088",
              "IPY_MODEL_b057a38f5b2d4031a81397bf1a934ee9"
            ],
            "layout": "IPY_MODEL_07e3d798964146f5961e28d47f6c9a6c"
          }
        },
        "c166625b5f774f9cb5e73a404f0ae0d3": {
          "model_module": "@jupyter-widgets/controls",
          "model_name": "HTMLModel",
          "model_module_version": "1.5.0",
          "state": {
            "_dom_classes": [],
            "_model_module": "@jupyter-widgets/controls",
            "_model_module_version": "1.5.0",
            "_model_name": "HTMLModel",
            "_view_count": null,
            "_view_module": "@jupyter-widgets/controls",
            "_view_module_version": "1.5.0",
            "_view_name": "HTMLView",
            "description": "",
            "description_tooltip": null,
            "layout": "IPY_MODEL_a5c9bfd2e5dd4e05b27193e812e4c293",
            "placeholder": "​",
            "style": "IPY_MODEL_0c811888f5d54d6c9d80fe7ea85fe781",
            "value": "100%"
          }
        },
        "305756be76e440fbaa9fb0debc116088": {
          "model_module": "@jupyter-widgets/controls",
          "model_name": "FloatProgressModel",
          "model_module_version": "1.5.0",
          "state": {
            "_dom_classes": [],
            "_model_module": "@jupyter-widgets/controls",
            "_model_module_version": "1.5.0",
            "_model_name": "FloatProgressModel",
            "_view_count": null,
            "_view_module": "@jupyter-widgets/controls",
            "_view_module_version": "1.5.0",
            "_view_name": "ProgressView",
            "bar_style": "success",
            "description": "",
            "description_tooltip": null,
            "layout": "IPY_MODEL_d3422291cc7b4bd09e7589dccaa96d76",
            "max": 2,
            "min": 0,
            "orientation": "horizontal",
            "style": "IPY_MODEL_31eb756964d04078aefe420a5418965e",
            "value": 2
          }
        },
        "b057a38f5b2d4031a81397bf1a934ee9": {
          "model_module": "@jupyter-widgets/controls",
          "model_name": "HTMLModel",
          "model_module_version": "1.5.0",
          "state": {
            "_dom_classes": [],
            "_model_module": "@jupyter-widgets/controls",
            "_model_module_version": "1.5.0",
            "_model_name": "HTMLModel",
            "_view_count": null,
            "_view_module": "@jupyter-widgets/controls",
            "_view_module_version": "1.5.0",
            "_view_name": "HTMLView",
            "description": "",
            "description_tooltip": null,
            "layout": "IPY_MODEL_f4d7eab4bbae46e888a1d5922e087946",
            "placeholder": "​",
            "style": "IPY_MODEL_465b0344630543a7aa3abb2b9a202e6b",
            "value": " 2/2 [00:00&lt;00:00,  2.46ba/s]"
          }
        },
        "07e3d798964146f5961e28d47f6c9a6c": {
          "model_module": "@jupyter-widgets/base",
          "model_name": "LayoutModel",
          "model_module_version": "1.2.0",
          "state": {
            "_model_module": "@jupyter-widgets/base",
            "_model_module_version": "1.2.0",
            "_model_name": "LayoutModel",
            "_view_count": null,
            "_view_module": "@jupyter-widgets/base",
            "_view_module_version": "1.2.0",
            "_view_name": "LayoutView",
            "align_content": null,
            "align_items": null,
            "align_self": null,
            "border": null,
            "bottom": null,
            "display": null,
            "flex": null,
            "flex_flow": null,
            "grid_area": null,
            "grid_auto_columns": null,
            "grid_auto_flow": null,
            "grid_auto_rows": null,
            "grid_column": null,
            "grid_gap": null,
            "grid_row": null,
            "grid_template_areas": null,
            "grid_template_columns": null,
            "grid_template_rows": null,
            "height": null,
            "justify_content": null,
            "justify_items": null,
            "left": null,
            "margin": null,
            "max_height": null,
            "max_width": null,
            "min_height": null,
            "min_width": null,
            "object_fit": null,
            "object_position": null,
            "order": null,
            "overflow": null,
            "overflow_x": null,
            "overflow_y": null,
            "padding": null,
            "right": null,
            "top": null,
            "visibility": null,
            "width": null
          }
        },
        "a5c9bfd2e5dd4e05b27193e812e4c293": {
          "model_module": "@jupyter-widgets/base",
          "model_name": "LayoutModel",
          "model_module_version": "1.2.0",
          "state": {
            "_model_module": "@jupyter-widgets/base",
            "_model_module_version": "1.2.0",
            "_model_name": "LayoutModel",
            "_view_count": null,
            "_view_module": "@jupyter-widgets/base",
            "_view_module_version": "1.2.0",
            "_view_name": "LayoutView",
            "align_content": null,
            "align_items": null,
            "align_self": null,
            "border": null,
            "bottom": null,
            "display": null,
            "flex": null,
            "flex_flow": null,
            "grid_area": null,
            "grid_auto_columns": null,
            "grid_auto_flow": null,
            "grid_auto_rows": null,
            "grid_column": null,
            "grid_gap": null,
            "grid_row": null,
            "grid_template_areas": null,
            "grid_template_columns": null,
            "grid_template_rows": null,
            "height": null,
            "justify_content": null,
            "justify_items": null,
            "left": null,
            "margin": null,
            "max_height": null,
            "max_width": null,
            "min_height": null,
            "min_width": null,
            "object_fit": null,
            "object_position": null,
            "order": null,
            "overflow": null,
            "overflow_x": null,
            "overflow_y": null,
            "padding": null,
            "right": null,
            "top": null,
            "visibility": null,
            "width": null
          }
        },
        "0c811888f5d54d6c9d80fe7ea85fe781": {
          "model_module": "@jupyter-widgets/controls",
          "model_name": "DescriptionStyleModel",
          "model_module_version": "1.5.0",
          "state": {
            "_model_module": "@jupyter-widgets/controls",
            "_model_module_version": "1.5.0",
            "_model_name": "DescriptionStyleModel",
            "_view_count": null,
            "_view_module": "@jupyter-widgets/base",
            "_view_module_version": "1.2.0",
            "_view_name": "StyleView",
            "description_width": ""
          }
        },
        "d3422291cc7b4bd09e7589dccaa96d76": {
          "model_module": "@jupyter-widgets/base",
          "model_name": "LayoutModel",
          "model_module_version": "1.2.0",
          "state": {
            "_model_module": "@jupyter-widgets/base",
            "_model_module_version": "1.2.0",
            "_model_name": "LayoutModel",
            "_view_count": null,
            "_view_module": "@jupyter-widgets/base",
            "_view_module_version": "1.2.0",
            "_view_name": "LayoutView",
            "align_content": null,
            "align_items": null,
            "align_self": null,
            "border": null,
            "bottom": null,
            "display": null,
            "flex": null,
            "flex_flow": null,
            "grid_area": null,
            "grid_auto_columns": null,
            "grid_auto_flow": null,
            "grid_auto_rows": null,
            "grid_column": null,
            "grid_gap": null,
            "grid_row": null,
            "grid_template_areas": null,
            "grid_template_columns": null,
            "grid_template_rows": null,
            "height": null,
            "justify_content": null,
            "justify_items": null,
            "left": null,
            "margin": null,
            "max_height": null,
            "max_width": null,
            "min_height": null,
            "min_width": null,
            "object_fit": null,
            "object_position": null,
            "order": null,
            "overflow": null,
            "overflow_x": null,
            "overflow_y": null,
            "padding": null,
            "right": null,
            "top": null,
            "visibility": null,
            "width": null
          }
        },
        "31eb756964d04078aefe420a5418965e": {
          "model_module": "@jupyter-widgets/controls",
          "model_name": "ProgressStyleModel",
          "model_module_version": "1.5.0",
          "state": {
            "_model_module": "@jupyter-widgets/controls",
            "_model_module_version": "1.5.0",
            "_model_name": "ProgressStyleModel",
            "_view_count": null,
            "_view_module": "@jupyter-widgets/base",
            "_view_module_version": "1.2.0",
            "_view_name": "StyleView",
            "bar_color": null,
            "description_width": ""
          }
        },
        "f4d7eab4bbae46e888a1d5922e087946": {
          "model_module": "@jupyter-widgets/base",
          "model_name": "LayoutModel",
          "model_module_version": "1.2.0",
          "state": {
            "_model_module": "@jupyter-widgets/base",
            "_model_module_version": "1.2.0",
            "_model_name": "LayoutModel",
            "_view_count": null,
            "_view_module": "@jupyter-widgets/base",
            "_view_module_version": "1.2.0",
            "_view_name": "LayoutView",
            "align_content": null,
            "align_items": null,
            "align_self": null,
            "border": null,
            "bottom": null,
            "display": null,
            "flex": null,
            "flex_flow": null,
            "grid_area": null,
            "grid_auto_columns": null,
            "grid_auto_flow": null,
            "grid_auto_rows": null,
            "grid_column": null,
            "grid_gap": null,
            "grid_row": null,
            "grid_template_areas": null,
            "grid_template_columns": null,
            "grid_template_rows": null,
            "height": null,
            "justify_content": null,
            "justify_items": null,
            "left": null,
            "margin": null,
            "max_height": null,
            "max_width": null,
            "min_height": null,
            "min_width": null,
            "object_fit": null,
            "object_position": null,
            "order": null,
            "overflow": null,
            "overflow_x": null,
            "overflow_y": null,
            "padding": null,
            "right": null,
            "top": null,
            "visibility": null,
            "width": null
          }
        },
        "465b0344630543a7aa3abb2b9a202e6b": {
          "model_module": "@jupyter-widgets/controls",
          "model_name": "DescriptionStyleModel",
          "model_module_version": "1.5.0",
          "state": {
            "_model_module": "@jupyter-widgets/controls",
            "_model_module_version": "1.5.0",
            "_model_name": "DescriptionStyleModel",
            "_view_count": null,
            "_view_module": "@jupyter-widgets/base",
            "_view_module_version": "1.2.0",
            "_view_name": "StyleView",
            "description_width": ""
          }
        },
        "5e4218f167eb4fdf8ac061002b8f5ecb": {
          "model_module": "@jupyter-widgets/controls",
          "model_name": "HBoxModel",
          "model_module_version": "1.5.0",
          "state": {
            "_dom_classes": [],
            "_model_module": "@jupyter-widgets/controls",
            "_model_module_version": "1.5.0",
            "_model_name": "HBoxModel",
            "_view_count": null,
            "_view_module": "@jupyter-widgets/controls",
            "_view_module_version": "1.5.0",
            "_view_name": "HBoxView",
            "box_style": "",
            "children": [
              "IPY_MODEL_bf44403342034f39926919a3b61bfa2e",
              "IPY_MODEL_bfc601a267284adbb797c7e076ba405e",
              "IPY_MODEL_795311c6cf9c4405b15e0cfac72aa868"
            ],
            "layout": "IPY_MODEL_a50cb371cc984831850d13fe1c809c55"
          }
        },
        "bf44403342034f39926919a3b61bfa2e": {
          "model_module": "@jupyter-widgets/controls",
          "model_name": "HTMLModel",
          "model_module_version": "1.5.0",
          "state": {
            "_dom_classes": [],
            "_model_module": "@jupyter-widgets/controls",
            "_model_module_version": "1.5.0",
            "_model_name": "HTMLModel",
            "_view_count": null,
            "_view_module": "@jupyter-widgets/controls",
            "_view_module_version": "1.5.0",
            "_view_name": "HTMLView",
            "description": "",
            "description_tooltip": null,
            "layout": "IPY_MODEL_66b9f3df956141abbd9a47c32716ee79",
            "placeholder": "​",
            "style": "IPY_MODEL_48ad9e8ceb5d433f892edd0eacd39092",
            "value": "100%"
          }
        },
        "bfc601a267284adbb797c7e076ba405e": {
          "model_module": "@jupyter-widgets/controls",
          "model_name": "FloatProgressModel",
          "model_module_version": "1.5.0",
          "state": {
            "_dom_classes": [],
            "_model_module": "@jupyter-widgets/controls",
            "_model_module_version": "1.5.0",
            "_model_name": "FloatProgressModel",
            "_view_count": null,
            "_view_module": "@jupyter-widgets/controls",
            "_view_module_version": "1.5.0",
            "_view_name": "ProgressView",
            "bar_style": "success",
            "description": "",
            "description_tooltip": null,
            "layout": "IPY_MODEL_d3ab7ee9dff14fdea604128ae26935b2",
            "max": 2,
            "min": 0,
            "orientation": "horizontal",
            "style": "IPY_MODEL_3f1bd9163a4047a5b5e9dde4f8578c0e",
            "value": 2
          }
        },
        "795311c6cf9c4405b15e0cfac72aa868": {
          "model_module": "@jupyter-widgets/controls",
          "model_name": "HTMLModel",
          "model_module_version": "1.5.0",
          "state": {
            "_dom_classes": [],
            "_model_module": "@jupyter-widgets/controls",
            "_model_module_version": "1.5.0",
            "_model_name": "HTMLModel",
            "_view_count": null,
            "_view_module": "@jupyter-widgets/controls",
            "_view_module_version": "1.5.0",
            "_view_name": "HTMLView",
            "description": "",
            "description_tooltip": null,
            "layout": "IPY_MODEL_64e2c1264a7b4f81992af2c3d2055917",
            "placeholder": "​",
            "style": "IPY_MODEL_798a34b3ada94c1c9f24fe3b9482cd8d",
            "value": " 2/2 [00:00&lt;00:00,  2.42ba/s]"
          }
        },
        "a50cb371cc984831850d13fe1c809c55": {
          "model_module": "@jupyter-widgets/base",
          "model_name": "LayoutModel",
          "model_module_version": "1.2.0",
          "state": {
            "_model_module": "@jupyter-widgets/base",
            "_model_module_version": "1.2.0",
            "_model_name": "LayoutModel",
            "_view_count": null,
            "_view_module": "@jupyter-widgets/base",
            "_view_module_version": "1.2.0",
            "_view_name": "LayoutView",
            "align_content": null,
            "align_items": null,
            "align_self": null,
            "border": null,
            "bottom": null,
            "display": null,
            "flex": null,
            "flex_flow": null,
            "grid_area": null,
            "grid_auto_columns": null,
            "grid_auto_flow": null,
            "grid_auto_rows": null,
            "grid_column": null,
            "grid_gap": null,
            "grid_row": null,
            "grid_template_areas": null,
            "grid_template_columns": null,
            "grid_template_rows": null,
            "height": null,
            "justify_content": null,
            "justify_items": null,
            "left": null,
            "margin": null,
            "max_height": null,
            "max_width": null,
            "min_height": null,
            "min_width": null,
            "object_fit": null,
            "object_position": null,
            "order": null,
            "overflow": null,
            "overflow_x": null,
            "overflow_y": null,
            "padding": null,
            "right": null,
            "top": null,
            "visibility": null,
            "width": null
          }
        },
        "66b9f3df956141abbd9a47c32716ee79": {
          "model_module": "@jupyter-widgets/base",
          "model_name": "LayoutModel",
          "model_module_version": "1.2.0",
          "state": {
            "_model_module": "@jupyter-widgets/base",
            "_model_module_version": "1.2.0",
            "_model_name": "LayoutModel",
            "_view_count": null,
            "_view_module": "@jupyter-widgets/base",
            "_view_module_version": "1.2.0",
            "_view_name": "LayoutView",
            "align_content": null,
            "align_items": null,
            "align_self": null,
            "border": null,
            "bottom": null,
            "display": null,
            "flex": null,
            "flex_flow": null,
            "grid_area": null,
            "grid_auto_columns": null,
            "grid_auto_flow": null,
            "grid_auto_rows": null,
            "grid_column": null,
            "grid_gap": null,
            "grid_row": null,
            "grid_template_areas": null,
            "grid_template_columns": null,
            "grid_template_rows": null,
            "height": null,
            "justify_content": null,
            "justify_items": null,
            "left": null,
            "margin": null,
            "max_height": null,
            "max_width": null,
            "min_height": null,
            "min_width": null,
            "object_fit": null,
            "object_position": null,
            "order": null,
            "overflow": null,
            "overflow_x": null,
            "overflow_y": null,
            "padding": null,
            "right": null,
            "top": null,
            "visibility": null,
            "width": null
          }
        },
        "48ad9e8ceb5d433f892edd0eacd39092": {
          "model_module": "@jupyter-widgets/controls",
          "model_name": "DescriptionStyleModel",
          "model_module_version": "1.5.0",
          "state": {
            "_model_module": "@jupyter-widgets/controls",
            "_model_module_version": "1.5.0",
            "_model_name": "DescriptionStyleModel",
            "_view_count": null,
            "_view_module": "@jupyter-widgets/base",
            "_view_module_version": "1.2.0",
            "_view_name": "StyleView",
            "description_width": ""
          }
        },
        "d3ab7ee9dff14fdea604128ae26935b2": {
          "model_module": "@jupyter-widgets/base",
          "model_name": "LayoutModel",
          "model_module_version": "1.2.0",
          "state": {
            "_model_module": "@jupyter-widgets/base",
            "_model_module_version": "1.2.0",
            "_model_name": "LayoutModel",
            "_view_count": null,
            "_view_module": "@jupyter-widgets/base",
            "_view_module_version": "1.2.0",
            "_view_name": "LayoutView",
            "align_content": null,
            "align_items": null,
            "align_self": null,
            "border": null,
            "bottom": null,
            "display": null,
            "flex": null,
            "flex_flow": null,
            "grid_area": null,
            "grid_auto_columns": null,
            "grid_auto_flow": null,
            "grid_auto_rows": null,
            "grid_column": null,
            "grid_gap": null,
            "grid_row": null,
            "grid_template_areas": null,
            "grid_template_columns": null,
            "grid_template_rows": null,
            "height": null,
            "justify_content": null,
            "justify_items": null,
            "left": null,
            "margin": null,
            "max_height": null,
            "max_width": null,
            "min_height": null,
            "min_width": null,
            "object_fit": null,
            "object_position": null,
            "order": null,
            "overflow": null,
            "overflow_x": null,
            "overflow_y": null,
            "padding": null,
            "right": null,
            "top": null,
            "visibility": null,
            "width": null
          }
        },
        "3f1bd9163a4047a5b5e9dde4f8578c0e": {
          "model_module": "@jupyter-widgets/controls",
          "model_name": "ProgressStyleModel",
          "model_module_version": "1.5.0",
          "state": {
            "_model_module": "@jupyter-widgets/controls",
            "_model_module_version": "1.5.0",
            "_model_name": "ProgressStyleModel",
            "_view_count": null,
            "_view_module": "@jupyter-widgets/base",
            "_view_module_version": "1.2.0",
            "_view_name": "StyleView",
            "bar_color": null,
            "description_width": ""
          }
        },
        "64e2c1264a7b4f81992af2c3d2055917": {
          "model_module": "@jupyter-widgets/base",
          "model_name": "LayoutModel",
          "model_module_version": "1.2.0",
          "state": {
            "_model_module": "@jupyter-widgets/base",
            "_model_module_version": "1.2.0",
            "_model_name": "LayoutModel",
            "_view_count": null,
            "_view_module": "@jupyter-widgets/base",
            "_view_module_version": "1.2.0",
            "_view_name": "LayoutView",
            "align_content": null,
            "align_items": null,
            "align_self": null,
            "border": null,
            "bottom": null,
            "display": null,
            "flex": null,
            "flex_flow": null,
            "grid_area": null,
            "grid_auto_columns": null,
            "grid_auto_flow": null,
            "grid_auto_rows": null,
            "grid_column": null,
            "grid_gap": null,
            "grid_row": null,
            "grid_template_areas": null,
            "grid_template_columns": null,
            "grid_template_rows": null,
            "height": null,
            "justify_content": null,
            "justify_items": null,
            "left": null,
            "margin": null,
            "max_height": null,
            "max_width": null,
            "min_height": null,
            "min_width": null,
            "object_fit": null,
            "object_position": null,
            "order": null,
            "overflow": null,
            "overflow_x": null,
            "overflow_y": null,
            "padding": null,
            "right": null,
            "top": null,
            "visibility": null,
            "width": null
          }
        },
        "798a34b3ada94c1c9f24fe3b9482cd8d": {
          "model_module": "@jupyter-widgets/controls",
          "model_name": "DescriptionStyleModel",
          "model_module_version": "1.5.0",
          "state": {
            "_model_module": "@jupyter-widgets/controls",
            "_model_module_version": "1.5.0",
            "_model_name": "DescriptionStyleModel",
            "_view_count": null,
            "_view_module": "@jupyter-widgets/base",
            "_view_module_version": "1.2.0",
            "_view_name": "StyleView",
            "description_width": ""
          }
        },
        "d54129d6b40f4f52929cf02e89205f1e": {
          "model_module": "@jupyter-widgets/controls",
          "model_name": "HBoxModel",
          "model_module_version": "1.5.0",
          "state": {
            "_dom_classes": [],
            "_model_module": "@jupyter-widgets/controls",
            "_model_module_version": "1.5.0",
            "_model_name": "HBoxModel",
            "_view_count": null,
            "_view_module": "@jupyter-widgets/controls",
            "_view_module_version": "1.5.0",
            "_view_name": "HBoxView",
            "box_style": "",
            "children": [
              "IPY_MODEL_3eb8cc6df3a8466b8286261d0810b462",
              "IPY_MODEL_bb0aeb38291c4cb2996e93918eece25c",
              "IPY_MODEL_adb9fb24ba7d49188220fde8688438b4"
            ],
            "layout": "IPY_MODEL_91c8b0e4212645b2b3674020469ea512"
          }
        },
        "3eb8cc6df3a8466b8286261d0810b462": {
          "model_module": "@jupyter-widgets/controls",
          "model_name": "HTMLModel",
          "model_module_version": "1.5.0",
          "state": {
            "_dom_classes": [],
            "_model_module": "@jupyter-widgets/controls",
            "_model_module_version": "1.5.0",
            "_model_name": "HTMLModel",
            "_view_count": null,
            "_view_module": "@jupyter-widgets/controls",
            "_view_module_version": "1.5.0",
            "_view_name": "HTMLView",
            "description": "",
            "description_tooltip": null,
            "layout": "IPY_MODEL_30ee2b8c651241f3ad8592e1cc0cdd95",
            "placeholder": "​",
            "style": "IPY_MODEL_74425de36f7246ad80ee9b851e8c6306",
            "value": "Downloading pytorch_model.bin: 100%"
          }
        },
        "bb0aeb38291c4cb2996e93918eece25c": {
          "model_module": "@jupyter-widgets/controls",
          "model_name": "FloatProgressModel",
          "model_module_version": "1.5.0",
          "state": {
            "_dom_classes": [],
            "_model_module": "@jupyter-widgets/controls",
            "_model_module_version": "1.5.0",
            "_model_name": "FloatProgressModel",
            "_view_count": null,
            "_view_module": "@jupyter-widgets/controls",
            "_view_module_version": "1.5.0",
            "_view_name": "ProgressView",
            "bar_style": "success",
            "description": "",
            "description_tooltip": null,
            "layout": "IPY_MODEL_02a115e52ead4206af131de83b4fcacb",
            "max": 654226731,
            "min": 0,
            "orientation": "horizontal",
            "style": "IPY_MODEL_ea6d1d9244b24f17a339fb45543caf59",
            "value": 654226731
          }
        },
        "adb9fb24ba7d49188220fde8688438b4": {
          "model_module": "@jupyter-widgets/controls",
          "model_name": "HTMLModel",
          "model_module_version": "1.5.0",
          "state": {
            "_dom_classes": [],
            "_model_module": "@jupyter-widgets/controls",
            "_model_module_version": "1.5.0",
            "_model_name": "HTMLModel",
            "_view_count": null,
            "_view_module": "@jupyter-widgets/controls",
            "_view_module_version": "1.5.0",
            "_view_name": "HTMLView",
            "description": "",
            "description_tooltip": null,
            "layout": "IPY_MODEL_4584f25f72be4618a46b807f53d313fb",
            "placeholder": "​",
            "style": "IPY_MODEL_08dad0d86a8d414495b001d9d3628b20",
            "value": " 624M/624M [00:15&lt;00:00, 46.1MB/s]"
          }
        },
        "91c8b0e4212645b2b3674020469ea512": {
          "model_module": "@jupyter-widgets/base",
          "model_name": "LayoutModel",
          "model_module_version": "1.2.0",
          "state": {
            "_model_module": "@jupyter-widgets/base",
            "_model_module_version": "1.2.0",
            "_model_name": "LayoutModel",
            "_view_count": null,
            "_view_module": "@jupyter-widgets/base",
            "_view_module_version": "1.2.0",
            "_view_name": "LayoutView",
            "align_content": null,
            "align_items": null,
            "align_self": null,
            "border": null,
            "bottom": null,
            "display": null,
            "flex": null,
            "flex_flow": null,
            "grid_area": null,
            "grid_auto_columns": null,
            "grid_auto_flow": null,
            "grid_auto_rows": null,
            "grid_column": null,
            "grid_gap": null,
            "grid_row": null,
            "grid_template_areas": null,
            "grid_template_columns": null,
            "grid_template_rows": null,
            "height": null,
            "justify_content": null,
            "justify_items": null,
            "left": null,
            "margin": null,
            "max_height": null,
            "max_width": null,
            "min_height": null,
            "min_width": null,
            "object_fit": null,
            "object_position": null,
            "order": null,
            "overflow": null,
            "overflow_x": null,
            "overflow_y": null,
            "padding": null,
            "right": null,
            "top": null,
            "visibility": null,
            "width": null
          }
        },
        "30ee2b8c651241f3ad8592e1cc0cdd95": {
          "model_module": "@jupyter-widgets/base",
          "model_name": "LayoutModel",
          "model_module_version": "1.2.0",
          "state": {
            "_model_module": "@jupyter-widgets/base",
            "_model_module_version": "1.2.0",
            "_model_name": "LayoutModel",
            "_view_count": null,
            "_view_module": "@jupyter-widgets/base",
            "_view_module_version": "1.2.0",
            "_view_name": "LayoutView",
            "align_content": null,
            "align_items": null,
            "align_self": null,
            "border": null,
            "bottom": null,
            "display": null,
            "flex": null,
            "flex_flow": null,
            "grid_area": null,
            "grid_auto_columns": null,
            "grid_auto_flow": null,
            "grid_auto_rows": null,
            "grid_column": null,
            "grid_gap": null,
            "grid_row": null,
            "grid_template_areas": null,
            "grid_template_columns": null,
            "grid_template_rows": null,
            "height": null,
            "justify_content": null,
            "justify_items": null,
            "left": null,
            "margin": null,
            "max_height": null,
            "max_width": null,
            "min_height": null,
            "min_width": null,
            "object_fit": null,
            "object_position": null,
            "order": null,
            "overflow": null,
            "overflow_x": null,
            "overflow_y": null,
            "padding": null,
            "right": null,
            "top": null,
            "visibility": null,
            "width": null
          }
        },
        "74425de36f7246ad80ee9b851e8c6306": {
          "model_module": "@jupyter-widgets/controls",
          "model_name": "DescriptionStyleModel",
          "model_module_version": "1.5.0",
          "state": {
            "_model_module": "@jupyter-widgets/controls",
            "_model_module_version": "1.5.0",
            "_model_name": "DescriptionStyleModel",
            "_view_count": null,
            "_view_module": "@jupyter-widgets/base",
            "_view_module_version": "1.2.0",
            "_view_name": "StyleView",
            "description_width": ""
          }
        },
        "02a115e52ead4206af131de83b4fcacb": {
          "model_module": "@jupyter-widgets/base",
          "model_name": "LayoutModel",
          "model_module_version": "1.2.0",
          "state": {
            "_model_module": "@jupyter-widgets/base",
            "_model_module_version": "1.2.0",
            "_model_name": "LayoutModel",
            "_view_count": null,
            "_view_module": "@jupyter-widgets/base",
            "_view_module_version": "1.2.0",
            "_view_name": "LayoutView",
            "align_content": null,
            "align_items": null,
            "align_self": null,
            "border": null,
            "bottom": null,
            "display": null,
            "flex": null,
            "flex_flow": null,
            "grid_area": null,
            "grid_auto_columns": null,
            "grid_auto_flow": null,
            "grid_auto_rows": null,
            "grid_column": null,
            "grid_gap": null,
            "grid_row": null,
            "grid_template_areas": null,
            "grid_template_columns": null,
            "grid_template_rows": null,
            "height": null,
            "justify_content": null,
            "justify_items": null,
            "left": null,
            "margin": null,
            "max_height": null,
            "max_width": null,
            "min_height": null,
            "min_width": null,
            "object_fit": null,
            "object_position": null,
            "order": null,
            "overflow": null,
            "overflow_x": null,
            "overflow_y": null,
            "padding": null,
            "right": null,
            "top": null,
            "visibility": null,
            "width": null
          }
        },
        "ea6d1d9244b24f17a339fb45543caf59": {
          "model_module": "@jupyter-widgets/controls",
          "model_name": "ProgressStyleModel",
          "model_module_version": "1.5.0",
          "state": {
            "_model_module": "@jupyter-widgets/controls",
            "_model_module_version": "1.5.0",
            "_model_name": "ProgressStyleModel",
            "_view_count": null,
            "_view_module": "@jupyter-widgets/base",
            "_view_module_version": "1.2.0",
            "_view_name": "StyleView",
            "bar_color": null,
            "description_width": ""
          }
        },
        "4584f25f72be4618a46b807f53d313fb": {
          "model_module": "@jupyter-widgets/base",
          "model_name": "LayoutModel",
          "model_module_version": "1.2.0",
          "state": {
            "_model_module": "@jupyter-widgets/base",
            "_model_module_version": "1.2.0",
            "_model_name": "LayoutModel",
            "_view_count": null,
            "_view_module": "@jupyter-widgets/base",
            "_view_module_version": "1.2.0",
            "_view_name": "LayoutView",
            "align_content": null,
            "align_items": null,
            "align_self": null,
            "border": null,
            "bottom": null,
            "display": null,
            "flex": null,
            "flex_flow": null,
            "grid_area": null,
            "grid_auto_columns": null,
            "grid_auto_flow": null,
            "grid_auto_rows": null,
            "grid_column": null,
            "grid_gap": null,
            "grid_row": null,
            "grid_template_areas": null,
            "grid_template_columns": null,
            "grid_template_rows": null,
            "height": null,
            "justify_content": null,
            "justify_items": null,
            "left": null,
            "margin": null,
            "max_height": null,
            "max_width": null,
            "min_height": null,
            "min_width": null,
            "object_fit": null,
            "object_position": null,
            "order": null,
            "overflow": null,
            "overflow_x": null,
            "overflow_y": null,
            "padding": null,
            "right": null,
            "top": null,
            "visibility": null,
            "width": null
          }
        },
        "08dad0d86a8d414495b001d9d3628b20": {
          "model_module": "@jupyter-widgets/controls",
          "model_name": "DescriptionStyleModel",
          "model_module_version": "1.5.0",
          "state": {
            "_model_module": "@jupyter-widgets/controls",
            "_model_module_version": "1.5.0",
            "_model_name": "DescriptionStyleModel",
            "_view_count": null,
            "_view_module": "@jupyter-widgets/base",
            "_view_module_version": "1.2.0",
            "_view_name": "StyleView",
            "description_width": ""
          }
        }
      }
    },
    "accelerator": "GPU",
    "gpuClass": "standard"
  },
  "cells": [
    {
      "cell_type": "markdown",
      "metadata": {
        "id": "TNJLAXpNS0Gm"
      },
      "source": [
        "- Fine-tuning ParsBERT on PersianQA and ParSQUAD Datasets "
      ]
    },
    {
      "cell_type": "markdown",
      "source": [
        "[Model and Datasets Path](https://drive.google.com/drive/folders/1_lgylP6jWCZGiqmvJWO-u7NOoqpD7LUp?usp=sharing)"
      ],
      "metadata": {
        "id": "TlKep2doPrGt"
      }
    },
    {
      "cell_type": "markdown",
      "source": [
        "# Setup"
      ],
      "metadata": {
        "id": "mPcc83AACWhs"
      }
    },
    {
      "cell_type": "code",
      "metadata": {
        "id": "lHVN4l1TH-OY"
      },
      "source": [
        "!pip install -q transformers\n",
        "!pip install -q datasets"
      ],
      "execution_count": null,
      "outputs": []
    },
    {
      "cell_type": "code",
      "source": [
        "import json\n",
        "import pandas as pd"
      ],
      "metadata": {
        "id": "_J2Pr9Gx-YQ8"
      },
      "execution_count": null,
      "outputs": []
    },
    {
      "cell_type": "code",
      "metadata": {
        "id": "wHCPGyyHIhOC"
      },
      "source": [
        "from datasets import load_dataset, load_from_disk, Dataset\n",
        "from transformers import AutoTokenizer, AutoModelForQuestionAnswering\n",
        "from transformers import TrainingArguments, Trainer"
      ],
      "execution_count": null,
      "outputs": []
    },
    {
      "cell_type": "code",
      "source": [
        "from google.colab import drive\n",
        "drive.mount('/content/drive')"
      ],
      "metadata": {
        "colab": {
          "base_uri": "https://localhost:8080/"
        },
        "id": "VEhaGou2-JaD",
        "outputId": "9a45b35e-4514-4b93-df6a-24606bb462be"
      },
      "execution_count": null,
      "outputs": [
        {
          "output_type": "stream",
          "name": "stdout",
          "text": [
            "Mounted at /content/drive\n"
          ]
        }
      ]
    },
    {
      "cell_type": "code",
      "metadata": {
        "id": "gBbRz7mbJDqZ"
      },
      "source": [
        "model_checkpoint = \"HooshvareLab/bert-fa-base-uncased\"\n",
        "max_length = 512 # The maximum length of a feature (question and context)\n",
        "doc_stride = 256 # The authorized overlap between two part of the context when splitting it is needed.\n",
        "batch_size = 8\n",
        "lr = 3e-5\n",
        "epoch = 2\n",
        "DRIVE_PATH = \"/content/drive/MyDrive/NLP_Final/\"\n"
      ],
      "execution_count": null,
      "outputs": []
    },
    {
      "cell_type": "markdown",
      "source": [
        "# Load and Process Data"
      ],
      "metadata": {
        "id": "8t0OVB2uCnD-"
      }
    },
    {
      "cell_type": "code",
      "execution_count": null,
      "metadata": {
        "id": "g94m667Vf3Sr"
      },
      "outputs": [],
      "source": [
        "train_path = DRIVE_PATH + 'Datasets/train_merged.json'\n",
        "dev_path = DRIVE_PATH + 'Datasets/dev_merged.json'\n",
        "test_path = DRIVE_PATH + 'Datasets/test_merged.json'\n"
      ]
    },
    {
      "cell_type": "code",
      "source": [
        "with open(train_path,'r',encoding='utf-8') as f:\n",
        "  train_data = json.load(f)\n",
        "\n",
        "with open(dev_path,'r',encoding='utf-8') as f:\n",
        "  dev_data = json.load(f)\n",
        "\n",
        "with open(test_path,'r',encoding='utf-8') as f:\n",
        "  test_data = json.load(f)\n"
      ],
      "metadata": {
        "id": "OOKBiKrx02ss"
      },
      "execution_count": null,
      "outputs": []
    },
    {
      "cell_type": "code",
      "source": [
        "train_df = pd.DataFrame(columns=['context','question','answers'])\n",
        "for row in train_data:\n",
        "  context = row['paragraphs'][0]['context']\n",
        "  qas = row['paragraphs'][0]['qas']\n",
        "  for qa in qas:\n",
        "    question = qa['question']\n",
        "    if len( qa['answers']) != 0:\n",
        "      answer_start = [qa['answers'][0]['answer_start']]\n",
        "      answer_text = [qa['answers'][0]['text']]\n",
        "    else:\n",
        "      answer_start = []\n",
        "      answer_text = []\n",
        "    train_df = train_df.append({'context': context, 'question': question, 'answers': {'answer_start': answer_start, 'text': answer_text}}, ignore_index=True)\n"
      ],
      "metadata": {
        "id": "C8iQS2PFc0XC"
      },
      "execution_count": null,
      "outputs": []
    },
    {
      "cell_type": "code",
      "source": [
        "dev_df = pd.DataFrame(columns=['context','question','answers'])\n",
        "for row in dev_data:\n",
        "  context = row['paragraphs'][0]['context']\n",
        "  qas = row['paragraphs'][0]['qas']\n",
        "  for qa in qas:\n",
        "    question = qa['question']\n",
        "    if len( qa['answers']) != 0:\n",
        "      answer_start = [qa['answers'][0]['answer_start']]\n",
        "      answer_text = [qa['answers'][0]['text']]\n",
        "    else:\n",
        "      answer_start = []\n",
        "      answer_text = []\n",
        "    dev_df = dev_df.append({'context': context, 'question': question, 'answers': {'answer_start': answer_start, 'text': answer_text}}, ignore_index=True)\n"
      ],
      "metadata": {
        "id": "6zLzcuXv-XCj"
      },
      "execution_count": null,
      "outputs": []
    },
    {
      "cell_type": "code",
      "source": [
        "test_df = pd.DataFrame(columns=['context','question','answers'])\n",
        "for row in test_data:\n",
        "  context = row['paragraphs'][0]['context']\n",
        "  qas = row['paragraphs'][0]['qas']\n",
        "  for qa in qas:\n",
        "    question = qa['question']\n",
        "    if len( qa['answers']) != 0:\n",
        "      answer_start = [qa['answers'][0]['answer_start']]\n",
        "      answer_text = [qa['answers'][0]['text']]\n",
        "    else:\n",
        "      answer_start = []\n",
        "      answer_text = []\n",
        "    test_df = test_df.append({'context': context, 'question': question, 'answers': {'answer_start': answer_start, 'text': answer_text}}, ignore_index=True)\n"
      ],
      "metadata": {
        "id": "2iwWjh82-XyB"
      },
      "execution_count": null,
      "outputs": []
    },
    {
      "cell_type": "code",
      "source": [
        "train_dataset = Dataset.from_pandas(train_df)\n",
        "dev_dataset = Dataset.from_pandas(dev_df)\n",
        "test_dataset = Dataset.from_pandas(test_df)"
      ],
      "metadata": {
        "id": "VL26I2ih-K0E"
      },
      "execution_count": null,
      "outputs": []
    },
    {
      "cell_type": "code",
      "source": [
        "train_dataset.save_to_disk(\"train.hf\")\n",
        "dev_dataset.save_to_disk(\"dev.hf\")\n",
        "test_dataset.save_to_disk(\"test.hf\")"
      ],
      "metadata": {
        "id": "GS2lA3zp_pbV"
      },
      "execution_count": null,
      "outputs": []
    },
    {
      "cell_type": "code",
      "source": [
        "!cp -r '/content/train.hf' \"/content/drive/MyDrive/NLP_Final/Datasets/train.hf\"\n",
        "!cp -r '/content/test.hf' \"/content/drive/MyDrive/NLP_Final/Datasets/test.hf\"\n",
        "!cp -r '/content/dev.hf' \"/content/drive/MyDrive/NLP_Final/Datasets/dev.hf\""
      ],
      "metadata": {
        "id": "8c8BCOEOAGzT"
      },
      "execution_count": null,
      "outputs": []
    },
    {
      "cell_type": "markdown",
      "source": [
        "# Load Datasets"
      ],
      "metadata": {
        "id": "JCPsA1f0BwCT"
      }
    },
    {
      "cell_type": "code",
      "source": [
        "train_dataset = load_from_disk(DRIVE_PATH + \"Datasets/train.hf\").shuffle(seed=42)\n",
        "dev_dataset = load_from_disk(DRIVE_PATH + \"Datasets/dev.hf\").shuffle(seed=42)\n",
        "test_dataset = load_from_disk(DRIVE_PATH + \"Datasets/test.hf\").shuffle(seed=42)"
      ],
      "metadata": {
        "id": "-mT5GIAIBscY"
      },
      "execution_count": null,
      "outputs": []
    },
    {
      "cell_type": "markdown",
      "source": [
        "# Tokenize Datasets"
      ],
      "metadata": {
        "id": "EgYAnFVzC2F_"
      }
    },
    {
      "cell_type": "code",
      "metadata": {
        "colab": {
          "base_uri": "https://localhost:8080/",
          "height": 213,
          "referenced_widgets": [
            "e66d6ba7468545299da6e017a99469e7",
            "7366e78fe80940818843c5de0592e133",
            "179b057b54f145b499ba01ad0ccaa30e",
            "efcd12ef3cd7461e90a5ecc67579310e",
            "61670bddfb784350a81aff2b895d8dd7",
            "144f4a990058491f87dbc6a1e4fe5205",
            "f7de3f6889aa4852bcbc44184dce4fa8",
            "5db6cec7918c4b7ea3f03a02d71011a9",
            "4eafb1c05be94ec59e60811c05614712",
            "dceb14619ba6409a9f19673a5ca86746",
            "5a1e7740516a49279b1e3f9308e6c6c2",
            "c250019925bb48b5b26ba5bfeb86ad93",
            "f98454ac82284b989bfd499e5fd49af6",
            "f5420f8839914c5e82d888e522832944",
            "51d4b51921e948879a5781682ee30037",
            "7ebae639ef3d4f769d8394a079fd68d4",
            "f102caf9ee804327b45104fe14a7e898",
            "1dab983144cd45c2a0fee01465665138",
            "8104be54257a45718fbca267db274139",
            "ff43f2ea3c12489cbcf716d2ea900a4a",
            "cb320bed746c44778cd1f8fe948419a0",
            "2c93b8d8ea1244e49f7b5ad9011d7d2e"
          ]
        },
        "id": "XMuH-jK9RK3O",
        "outputId": "99eca086-0346-4471-c7e6-328d52dcca57"
      },
      "source": [
        "tokenizer = AutoTokenizer.from_pretrained(model_checkpoint)"
      ],
      "execution_count": null,
      "outputs": [
        {
          "output_type": "display_data",
          "data": {
            "text/plain": [
              "Downloading config.json:   0%|          | 0.00/440 [00:00<?, ?B/s]"
            ],
            "application/vnd.jupyter.widget-view+json": {
              "version_major": 2,
              "version_minor": 0,
              "model_id": "e66d6ba7468545299da6e017a99469e7"
            }
          },
          "metadata": {}
        },
        {
          "output_type": "display_data",
          "data": {
            "text/plain": [
              "Downloading vocab.txt:   0%|          | 0.00/1.14M [00:00<?, ?B/s]"
            ],
            "application/vnd.jupyter.widget-view+json": {
              "version_major": 2,
              "version_minor": 0,
              "model_id": "c250019925bb48b5b26ba5bfeb86ad93"
            }
          },
          "metadata": {}
        }
      ]
    },
    {
      "cell_type": "code",
      "metadata": {
        "id": "Nu4uNtRjJkYI"
      },
      "source": [
        "def prepare_train_features(examples):\n",
        "    tokenized_examples = tokenizer(\n",
        "        examples[\"question\"],\n",
        "        examples[\"context\"],\n",
        "        truncation=\"only_second\",\n",
        "        max_length=max_length,\n",
        "        stride=doc_stride,\n",
        "        return_overflowing_tokens=True,\n",
        "        return_offsets_mapping=True,)\n",
        "    \n",
        "    sample_mapping = tokenized_examples.pop(\"overflow_to_sample_mapping\")\n",
        "    offset_mapping = tokenized_examples.pop(\"offset_mapping\")\n",
        "    tokenized_examples[\"start_positions\"] = []\n",
        "    tokenized_examples[\"end_positions\"] = []\n",
        "    for i, offsets in enumerate(offset_mapping):\n",
        "        # We will label impossible answers with the index of the CLS token.\n",
        "        input_ids = tokenized_examples[\"input_ids\"][i]\n",
        "        cls_index = input_ids.index(tokenizer.cls_token_id)\n",
        "        # Grab the sequence corresponding to that example (to know what is the context and what is the question).\n",
        "        sequence_ids = tokenized_examples.sequence_ids(i)\n",
        "        # One example can give several spans, this is the index of the example containing this span of text.\n",
        "        sample_index = sample_mapping[i]\n",
        "        answers = examples[\"answers\"][sample_index]\n",
        "        # If no answers are given, set the cls_index as answer.\n",
        "        if len(answers[\"answer_start\"]) == 0:\n",
        "            tokenized_examples[\"start_positions\"].append(cls_index)\n",
        "            tokenized_examples[\"end_positions\"].append(cls_index)\n",
        "        else:\n",
        "            # Start/end character index of the answer in the text.\n",
        "            start_char = answers[\"answer_start\"][0]\n",
        "            end_char = start_char + len(answers[\"text\"][0])\n",
        "            # Start token index of the current span in the text.\n",
        "            token_start_index = 0\n",
        "            while sequence_ids[token_start_index] != 1:\n",
        "                token_start_index += 1\n",
        "            # End token index of the current span in the text.\n",
        "            token_end_index = len(input_ids) - 1\n",
        "            while sequence_ids[token_end_index] != 1:\n",
        "                token_end_index -= 1\n",
        "            # Detect if the answer is out of the span (in which case this feature is labeled with the CLS index).\n",
        "            if not (offsets[token_start_index][0] <= start_char and offsets[token_end_index][1] >= end_char):\n",
        "                tokenized_examples[\"start_positions\"].append(cls_index)\n",
        "                tokenized_examples[\"end_positions\"].append(cls_index)\n",
        "            else:\n",
        "                # Otherwise move the token_start_index and token_end_index to the two ends of the answer.\n",
        "                # Note: we could go after the last offset if the answer is the last word (edge case).\n",
        "                while token_start_index < len(offsets) and offsets[token_start_index][0] <= start_char:\n",
        "                    token_start_index += 1\n",
        "                tokenized_examples[\"start_positions\"].append(token_start_index - 1)\n",
        "                while offsets[token_end_index][1] >= end_char:\n",
        "                    token_end_index -= 1\n",
        "                tokenized_examples[\"end_positions\"].append(token_end_index + 1)\n",
        "\n",
        "    return tokenized_examples"
      ],
      "execution_count": null,
      "outputs": []
    },
    {
      "cell_type": "code",
      "metadata": {
        "colab": {
          "base_uri": "https://localhost:8080/",
          "height": 301,
          "referenced_widgets": [
            "5e9ca63c5294433a822bd11c521a2b6d",
            "ed806006a0dd4e62802c25b1ce5b538e",
            "be11f3be0ba249eb907fb5022a5992f8",
            "708e0a61be95462fa241a466051d7b0a",
            "df6de55b35ca42c49174de603da5afb4",
            "59c151f220394296aa9f170ae45d878d",
            "53696b24b7b74fc1ac6fd543a6ddda2d",
            "79349e04345a41e3bcdcf4b38d0b38f5",
            "a20b8b1ab7f04f9495d2beed8203e5d2",
            "b993446d775e4ad7b3dfad17bab58ac5",
            "bd23391e04a448409288f95ed7917533",
            "5a2d026a79454c95b37d03bf841c09ce",
            "c166625b5f774f9cb5e73a404f0ae0d3",
            "305756be76e440fbaa9fb0debc116088",
            "b057a38f5b2d4031a81397bf1a934ee9",
            "07e3d798964146f5961e28d47f6c9a6c",
            "a5c9bfd2e5dd4e05b27193e812e4c293",
            "0c811888f5d54d6c9d80fe7ea85fe781",
            "d3422291cc7b4bd09e7589dccaa96d76",
            "31eb756964d04078aefe420a5418965e",
            "f4d7eab4bbae46e888a1d5922e087946",
            "465b0344630543a7aa3abb2b9a202e6b",
            "5e4218f167eb4fdf8ac061002b8f5ecb",
            "bf44403342034f39926919a3b61bfa2e",
            "bfc601a267284adbb797c7e076ba405e",
            "795311c6cf9c4405b15e0cfac72aa868",
            "a50cb371cc984831850d13fe1c809c55",
            "66b9f3df956141abbd9a47c32716ee79",
            "48ad9e8ceb5d433f892edd0eacd39092",
            "d3ab7ee9dff14fdea604128ae26935b2",
            "3f1bd9163a4047a5b5e9dde4f8578c0e",
            "64e2c1264a7b4f81992af2c3d2055917",
            "798a34b3ada94c1c9f24fe3b9482cd8d"
          ]
        },
        "id": "sN9zgfIUJzyy",
        "outputId": "c3fee4df-9825-479f-9f11-2eee48d7e4d2"
      },
      "source": [
        "# the datasets library does cashing itself, batched is multitreading for fast-tokenizer\n",
        "tokenized_train = train_dataset.map(prepare_train_features, batched=True, remove_columns=train_dataset.column_names)\n",
        "tokenized_dev = dev_dataset.map(prepare_train_features, batched=True, remove_columns=dev_dataset.column_names)\n",
        "tokenized_test = test_dataset.map(prepare_train_features, batched=True, remove_columns=test_dataset.column_names)"
      ],
      "execution_count": null,
      "outputs": [
        {
          "output_type": "display_data",
          "data": {
            "text/plain": [
              "  0%|          | 0/11 [00:00<?, ?ba/s]"
            ],
            "application/vnd.jupyter.widget-view+json": {
              "version_major": 2,
              "version_minor": 0,
              "model_id": "5e9ca63c5294433a822bd11c521a2b6d"
            }
          },
          "metadata": {}
        },
        {
          "output_type": "display_data",
          "data": {
            "text/plain": [
              "  0%|          | 0/2 [00:00<?, ?ba/s]"
            ],
            "application/vnd.jupyter.widget-view+json": {
              "version_major": 2,
              "version_minor": 0,
              "model_id": "5a2d026a79454c95b37d03bf841c09ce"
            }
          },
          "metadata": {}
        },
        {
          "output_type": "display_data",
          "data": {
            "text/plain": [
              "  0%|          | 0/2 [00:00<?, ?ba/s]"
            ],
            "application/vnd.jupyter.widget-view+json": {
              "version_major": 2,
              "version_minor": 0,
              "model_id": "5e4218f167eb4fdf8ac061002b8f5ecb"
            }
          },
          "metadata": {}
        }
      ]
    },
    {
      "cell_type": "markdown",
      "source": [
        "# Training "
      ],
      "metadata": {
        "id": "x63Cfr4sG1lR"
      }
    },
    {
      "cell_type": "code",
      "metadata": {
        "colab": {
          "base_uri": "https://localhost:8080/",
          "height": 156,
          "referenced_widgets": [
            "d54129d6b40f4f52929cf02e89205f1e",
            "3eb8cc6df3a8466b8286261d0810b462",
            "bb0aeb38291c4cb2996e93918eece25c",
            "adb9fb24ba7d49188220fde8688438b4",
            "91c8b0e4212645b2b3674020469ea512",
            "30ee2b8c651241f3ad8592e1cc0cdd95",
            "74425de36f7246ad80ee9b851e8c6306",
            "02a115e52ead4206af131de83b4fcacb",
            "ea6d1d9244b24f17a339fb45543caf59",
            "4584f25f72be4618a46b807f53d313fb",
            "08dad0d86a8d414495b001d9d3628b20"
          ]
        },
        "id": "vvWF4N5uKAKk",
        "outputId": "7e1cc6f9-dbb2-4e45-d7cb-6a5912072ead"
      },
      "source": [
        "model = AutoModelForQuestionAnswering.from_pretrained(model_checkpoint)"
      ],
      "execution_count": null,
      "outputs": [
        {
          "output_type": "display_data",
          "data": {
            "text/plain": [
              "Downloading pytorch_model.bin:   0%|          | 0.00/624M [00:00<?, ?B/s]"
            ],
            "application/vnd.jupyter.widget-view+json": {
              "version_major": 2,
              "version_minor": 0,
              "model_id": "d54129d6b40f4f52929cf02e89205f1e"
            }
          },
          "metadata": {}
        },
        {
          "output_type": "stream",
          "name": "stderr",
          "text": [
            "Some weights of the model checkpoint at HooshvareLab/bert-fa-base-uncased were not used when initializing BertForQuestionAnswering: ['cls.seq_relationship.weight', 'cls.seq_relationship.bias', 'cls.predictions.transform.LayerNorm.bias', 'cls.predictions.bias', 'cls.predictions.transform.LayerNorm.weight', 'cls.predictions.decoder.weight', 'cls.predictions.transform.dense.weight', 'cls.predictions.transform.dense.bias', 'cls.predictions.decoder.bias']\n",
            "- This IS expected if you are initializing BertForQuestionAnswering from the checkpoint of a model trained on another task or with another architecture (e.g. initializing a BertForSequenceClassification model from a BertForPreTraining model).\n",
            "- This IS NOT expected if you are initializing BertForQuestionAnswering from the checkpoint of a model that you expect to be exactly identical (initializing a BertForSequenceClassification model from a BertForSequenceClassification model).\n",
            "Some weights of BertForQuestionAnswering were not initialized from the model checkpoint at HooshvareLab/bert-fa-base-uncased and are newly initialized: ['qa_outputs.weight', 'qa_outputs.bias']\n",
            "You should probably TRAIN this model on a down-stream task to be able to use it for predictions and inference.\n"
          ]
        }
      ]
    },
    {
      "cell_type": "code",
      "metadata": {
        "id": "k8WhilPvKD7M"
      },
      "source": [
        "args = TrainingArguments(\n",
        "    DRIVE_PATH + f\"checkpoints\",\n",
        "    save_strategy = 'epoch',\n",
        "    evaluation_strategy = \"epoch\",\n",
        "    learning_rate=lr,\n",
        "    per_device_train_batch_size=batch_size,\n",
        "    per_device_eval_batch_size=batch_size,\n",
        "    num_train_epochs=epoch,\n",
        "    weight_decay=0.0001) "
      ],
      "execution_count": null,
      "outputs": []
    },
    {
      "cell_type": "code",
      "metadata": {
        "id": "_JExLUgTKMue"
      },
      "source": [
        "trainer = Trainer(\n",
        "    model=model,\n",
        "    args=args,\n",
        "    train_dataset=tokenized_train,\n",
        "    eval_dataset=tokenized_dev,\n",
        "    tokenizer=tokenizer)"
      ],
      "execution_count": null,
      "outputs": []
    },
    {
      "cell_type": "code",
      "metadata": {
        "id": "Q_B0VPLjKYxd",
        "colab": {
          "base_uri": "https://localhost:8080/",
          "height": 901
        },
        "outputId": "7b9f5cb3-1c0d-4c29-ebc9-c3bbf4b1e096"
      },
      "source": [
        "# start training\n",
        "trainer.train()"
      ],
      "execution_count": null,
      "outputs": [
        {
          "output_type": "stream",
          "name": "stderr",
          "text": [
            "/usr/local/lib/python3.7/dist-packages/transformers/optimization.py:310: FutureWarning: This implementation of AdamW is deprecated and will be removed in a future version. Use the PyTorch implementation torch.optim.AdamW instead, or set `no_deprecation_warning=True` to disable this warning\n",
            "  FutureWarning,\n",
            "***** Running training *****\n",
            "  Num examples = 10190\n",
            "  Num Epochs = 3\n",
            "  Instantaneous batch size per device = 8\n",
            "  Total train batch size (w. parallel, distributed & accumulation) = 8\n",
            "  Gradient Accumulation steps = 1\n",
            "  Total optimization steps = 3822\n"
          ]
        },
        {
          "output_type": "display_data",
          "data": {
            "text/plain": [
              "<IPython.core.display.HTML object>"
            ],
            "text/html": [
              "\n",
              "    <div>\n",
              "      \n",
              "      <progress value='3822' max='3822' style='width:300px; height:20px; vertical-align: middle;'></progress>\n",
              "      [3822/3822 30:37, Epoch 3/3]\n",
              "    </div>\n",
              "    <table border=\"1\" class=\"dataframe\">\n",
              "  <thead>\n",
              " <tr style=\"text-align: left;\">\n",
              "      <th>Epoch</th>\n",
              "      <th>Training Loss</th>\n",
              "      <th>Validation Loss</th>\n",
              "    </tr>\n",
              "  </thead>\n",
              "  <tbody>\n",
              "    <tr>\n",
              "      <td>1</td>\n",
              "      <td>2.261800</td>\n",
              "      <td>1.931612</td>\n",
              "    </tr>\n",
              "    <tr>\n",
              "      <td>2</td>\n",
              "      <td>1.293700</td>\n",
              "      <td>1.903257</td>\n",
              "    </tr>\n",
              "    <tr>\n",
              "      <td>3</td>\n",
              "      <td>0.678800</td>\n",
              "      <td>2.469726</td>\n",
              "    </tr>\n",
              "  </tbody>\n",
              "</table><p>"
            ]
          },
          "metadata": {}
        },
        {
          "output_type": "stream",
          "name": "stderr",
          "text": [
            "***** Running Evaluation *****\n",
            "  Num examples = 1131\n",
            "  Batch size = 8\n",
            "Saving model checkpoint to /content/drive/MyDrive/NLP_Final/checkpoints/checkpoint-1274\n",
            "Configuration saved in /content/drive/MyDrive/NLP_Final/checkpoints/checkpoint-1274/config.json\n",
            "Model weights saved in /content/drive/MyDrive/NLP_Final/checkpoints/checkpoint-1274/pytorch_model.bin\n",
            "tokenizer config file saved in /content/drive/MyDrive/NLP_Final/checkpoints/checkpoint-1274/tokenizer_config.json\n",
            "Special tokens file saved in /content/drive/MyDrive/NLP_Final/checkpoints/checkpoint-1274/special_tokens_map.json\n",
            "***** Running Evaluation *****\n",
            "  Num examples = 1131\n",
            "  Batch size = 8\n",
            "Saving model checkpoint to /content/drive/MyDrive/NLP_Final/checkpoints/checkpoint-2548\n",
            "Configuration saved in /content/drive/MyDrive/NLP_Final/checkpoints/checkpoint-2548/config.json\n",
            "Model weights saved in /content/drive/MyDrive/NLP_Final/checkpoints/checkpoint-2548/pytorch_model.bin\n",
            "tokenizer config file saved in /content/drive/MyDrive/NLP_Final/checkpoints/checkpoint-2548/tokenizer_config.json\n",
            "Special tokens file saved in /content/drive/MyDrive/NLP_Final/checkpoints/checkpoint-2548/special_tokens_map.json\n",
            "***** Running Evaluation *****\n",
            "  Num examples = 1131\n",
            "  Batch size = 8\n",
            "Saving model checkpoint to /content/drive/MyDrive/NLP_Final/checkpoints/checkpoint-3822\n",
            "Configuration saved in /content/drive/MyDrive/NLP_Final/checkpoints/checkpoint-3822/config.json\n",
            "Model weights saved in /content/drive/MyDrive/NLP_Final/checkpoints/checkpoint-3822/pytorch_model.bin\n",
            "tokenizer config file saved in /content/drive/MyDrive/NLP_Final/checkpoints/checkpoint-3822/tokenizer_config.json\n",
            "Special tokens file saved in /content/drive/MyDrive/NLP_Final/checkpoints/checkpoint-3822/special_tokens_map.json\n",
            "\n",
            "\n",
            "Training completed. Do not forget to share your model on huggingface.co/models =)\n",
            "\n",
            "\n"
          ]
        },
        {
          "output_type": "execute_result",
          "data": {
            "text/plain": [
              "TrainOutput(global_step=3822, training_loss=1.4863612935032786, metrics={'train_runtime': 1841.0419, 'train_samples_per_second': 16.605, 'train_steps_per_second': 2.076, 'total_flos': 4317474697809480.0, 'train_loss': 1.4863612935032786, 'epoch': 3.0})"
            ]
          },
          "metadata": {},
          "execution_count": 33
        }
      ]
    },
    {
      "cell_type": "markdown",
      "source": [
        "# Test Model"
      ],
      "metadata": {
        "id": "wQXLYbjYGyO5"
      }
    },
    {
      "cell_type": "code",
      "source": [
        "!pip install -q sentencepiece\n",
        "\n",
        "from tqdm import tqdm\n",
        "from IPython.display import clear_output\n",
        "import torch\n",
        "from transformers import AutoModelForQuestionAnswering, AutoTokenizer\n"
      ],
      "metadata": {
        "colab": {
          "base_uri": "https://localhost:8080/"
        },
        "id": "mkfeOCMpGu9e",
        "outputId": "a011663c-d7bb-4c90-eaca-acd22004b2f1"
      },
      "execution_count": null,
      "outputs": [
        {
          "output_type": "stream",
          "name": "stdout",
          "text": [
            "\u001b[?25l\r\u001b[K     |▎                               | 10 kB 24.6 MB/s eta 0:00:01\r\u001b[K     |▌                               | 20 kB 12.0 MB/s eta 0:00:01\r\u001b[K     |▊                               | 30 kB 9.4 MB/s eta 0:00:01\r\u001b[K     |█                               | 40 kB 4.1 MB/s eta 0:00:01\r\u001b[K     |█▎                              | 51 kB 4.1 MB/s eta 0:00:01\r\u001b[K     |█▌                              | 61 kB 4.9 MB/s eta 0:00:01\r\u001b[K     |█▉                              | 71 kB 5.1 MB/s eta 0:00:01\r\u001b[K     |██                              | 81 kB 5.4 MB/s eta 0:00:01\r\u001b[K     |██▎                             | 92 kB 6.0 MB/s eta 0:00:01\r\u001b[K     |██▋                             | 102 kB 4.8 MB/s eta 0:00:01\r\u001b[K     |██▉                             | 112 kB 4.8 MB/s eta 0:00:01\r\u001b[K     |███                             | 122 kB 4.8 MB/s eta 0:00:01\r\u001b[K     |███▍                            | 133 kB 4.8 MB/s eta 0:00:01\r\u001b[K     |███▋                            | 143 kB 4.8 MB/s eta 0:00:01\r\u001b[K     |███▉                            | 153 kB 4.8 MB/s eta 0:00:01\r\u001b[K     |████                            | 163 kB 4.8 MB/s eta 0:00:01\r\u001b[K     |████▍                           | 174 kB 4.8 MB/s eta 0:00:01\r\u001b[K     |████▋                           | 184 kB 4.8 MB/s eta 0:00:01\r\u001b[K     |████▉                           | 194 kB 4.8 MB/s eta 0:00:01\r\u001b[K     |█████▏                          | 204 kB 4.8 MB/s eta 0:00:01\r\u001b[K     |█████▍                          | 215 kB 4.8 MB/s eta 0:00:01\r\u001b[K     |█████▋                          | 225 kB 4.8 MB/s eta 0:00:01\r\u001b[K     |██████                          | 235 kB 4.8 MB/s eta 0:00:01\r\u001b[K     |██████▏                         | 245 kB 4.8 MB/s eta 0:00:01\r\u001b[K     |██████▍                         | 256 kB 4.8 MB/s eta 0:00:01\r\u001b[K     |██████▊                         | 266 kB 4.8 MB/s eta 0:00:01\r\u001b[K     |███████                         | 276 kB 4.8 MB/s eta 0:00:01\r\u001b[K     |███████▏                        | 286 kB 4.8 MB/s eta 0:00:01\r\u001b[K     |███████▍                        | 296 kB 4.8 MB/s eta 0:00:01\r\u001b[K     |███████▊                        | 307 kB 4.8 MB/s eta 0:00:01\r\u001b[K     |████████                        | 317 kB 4.8 MB/s eta 0:00:01\r\u001b[K     |████████▏                       | 327 kB 4.8 MB/s eta 0:00:01\r\u001b[K     |████████▌                       | 337 kB 4.8 MB/s eta 0:00:01\r\u001b[K     |████████▊                       | 348 kB 4.8 MB/s eta 0:00:01\r\u001b[K     |█████████                       | 358 kB 4.8 MB/s eta 0:00:01\r\u001b[K     |█████████▎                      | 368 kB 4.8 MB/s eta 0:00:01\r\u001b[K     |█████████▌                      | 378 kB 4.8 MB/s eta 0:00:01\r\u001b[K     |█████████▊                      | 389 kB 4.8 MB/s eta 0:00:01\r\u001b[K     |██████████                      | 399 kB 4.8 MB/s eta 0:00:01\r\u001b[K     |██████████▎                     | 409 kB 4.8 MB/s eta 0:00:01\r\u001b[K     |██████████▌                     | 419 kB 4.8 MB/s eta 0:00:01\r\u001b[K     |██████████▉                     | 430 kB 4.8 MB/s eta 0:00:01\r\u001b[K     |███████████                     | 440 kB 4.8 MB/s eta 0:00:01\r\u001b[K     |███████████▎                    | 450 kB 4.8 MB/s eta 0:00:01\r\u001b[K     |███████████▌                    | 460 kB 4.8 MB/s eta 0:00:01\r\u001b[K     |███████████▉                    | 471 kB 4.8 MB/s eta 0:00:01\r\u001b[K     |████████████                    | 481 kB 4.8 MB/s eta 0:00:01\r\u001b[K     |████████████▎                   | 491 kB 4.8 MB/s eta 0:00:01\r\u001b[K     |████████████▋                   | 501 kB 4.8 MB/s eta 0:00:01\r\u001b[K     |████████████▉                   | 512 kB 4.8 MB/s eta 0:00:01\r\u001b[K     |█████████████                   | 522 kB 4.8 MB/s eta 0:00:01\r\u001b[K     |█████████████▍                  | 532 kB 4.8 MB/s eta 0:00:01\r\u001b[K     |█████████████▋                  | 542 kB 4.8 MB/s eta 0:00:01\r\u001b[K     |█████████████▉                  | 552 kB 4.8 MB/s eta 0:00:01\r\u001b[K     |██████████████▏                 | 563 kB 4.8 MB/s eta 0:00:01\r\u001b[K     |██████████████▍                 | 573 kB 4.8 MB/s eta 0:00:01\r\u001b[K     |██████████████▋                 | 583 kB 4.8 MB/s eta 0:00:01\r\u001b[K     |██████████████▉                 | 593 kB 4.8 MB/s eta 0:00:01\r\u001b[K     |███████████████▏                | 604 kB 4.8 MB/s eta 0:00:01\r\u001b[K     |███████████████▍                | 614 kB 4.8 MB/s eta 0:00:01\r\u001b[K     |███████████████▋                | 624 kB 4.8 MB/s eta 0:00:01\r\u001b[K     |████████████████                | 634 kB 4.8 MB/s eta 0:00:01\r\u001b[K     |████████████████▏               | 645 kB 4.8 MB/s eta 0:00:01\r\u001b[K     |████████████████▍               | 655 kB 4.8 MB/s eta 0:00:01\r\u001b[K     |████████████████▊               | 665 kB 4.8 MB/s eta 0:00:01\r\u001b[K     |█████████████████               | 675 kB 4.8 MB/s eta 0:00:01\r\u001b[K     |█████████████████▏              | 686 kB 4.8 MB/s eta 0:00:01\r\u001b[K     |█████████████████▌              | 696 kB 4.8 MB/s eta 0:00:01\r\u001b[K     |█████████████████▊              | 706 kB 4.8 MB/s eta 0:00:01\r\u001b[K     |██████████████████              | 716 kB 4.8 MB/s eta 0:00:01\r\u001b[K     |██████████████████▎             | 727 kB 4.8 MB/s eta 0:00:01\r\u001b[K     |██████████████████▌             | 737 kB 4.8 MB/s eta 0:00:01\r\u001b[K     |██████████████████▊             | 747 kB 4.8 MB/s eta 0:00:01\r\u001b[K     |███████████████████             | 757 kB 4.8 MB/s eta 0:00:01\r\u001b[K     |███████████████████▎            | 768 kB 4.8 MB/s eta 0:00:01\r\u001b[K     |███████████████████▌            | 778 kB 4.8 MB/s eta 0:00:01\r\u001b[K     |███████████████████▊            | 788 kB 4.8 MB/s eta 0:00:01\r\u001b[K     |████████████████████            | 798 kB 4.8 MB/s eta 0:00:01\r\u001b[K     |████████████████████▎           | 808 kB 4.8 MB/s eta 0:00:01\r\u001b[K     |████████████████████▌           | 819 kB 4.8 MB/s eta 0:00:01\r\u001b[K     |████████████████████▉           | 829 kB 4.8 MB/s eta 0:00:01\r\u001b[K     |█████████████████████           | 839 kB 4.8 MB/s eta 0:00:01\r\u001b[K     |█████████████████████▎          | 849 kB 4.8 MB/s eta 0:00:01\r\u001b[K     |█████████████████████▋          | 860 kB 4.8 MB/s eta 0:00:01\r\u001b[K     |█████████████████████▉          | 870 kB 4.8 MB/s eta 0:00:01\r\u001b[K     |██████████████████████          | 880 kB 4.8 MB/s eta 0:00:01\r\u001b[K     |██████████████████████▎         | 890 kB 4.8 MB/s eta 0:00:01\r\u001b[K     |██████████████████████▋         | 901 kB 4.8 MB/s eta 0:00:01\r\u001b[K     |██████████████████████▉         | 911 kB 4.8 MB/s eta 0:00:01\r\u001b[K     |███████████████████████         | 921 kB 4.8 MB/s eta 0:00:01\r\u001b[K     |███████████████████████▍        | 931 kB 4.8 MB/s eta 0:00:01\r\u001b[K     |███████████████████████▋        | 942 kB 4.8 MB/s eta 0:00:01\r\u001b[K     |███████████████████████▉        | 952 kB 4.8 MB/s eta 0:00:01\r\u001b[K     |████████████████████████▏       | 962 kB 4.8 MB/s eta 0:00:01\r\u001b[K     |████████████████████████▍       | 972 kB 4.8 MB/s eta 0:00:01\r\u001b[K     |████████████████████████▋       | 983 kB 4.8 MB/s eta 0:00:01\r\u001b[K     |█████████████████████████       | 993 kB 4.8 MB/s eta 0:00:01\r\u001b[K     |█████████████████████████▏      | 1.0 MB 4.8 MB/s eta 0:00:01\r\u001b[K     |█████████████████████████▍      | 1.0 MB 4.8 MB/s eta 0:00:01\r\u001b[K     |█████████████████████████▊      | 1.0 MB 4.8 MB/s eta 0:00:01\r\u001b[K     |██████████████████████████      | 1.0 MB 4.8 MB/s eta 0:00:01\r\u001b[K     |██████████████████████████▏     | 1.0 MB 4.8 MB/s eta 0:00:01\r\u001b[K     |██████████████████████████▍     | 1.1 MB 4.8 MB/s eta 0:00:01\r\u001b[K     |██████████████████████████▊     | 1.1 MB 4.8 MB/s eta 0:00:01\r\u001b[K     |███████████████████████████     | 1.1 MB 4.8 MB/s eta 0:00:01\r\u001b[K     |███████████████████████████▏    | 1.1 MB 4.8 MB/s eta 0:00:01\r\u001b[K     |███████████████████████████▌    | 1.1 MB 4.8 MB/s eta 0:00:01\r\u001b[K     |███████████████████████████▊    | 1.1 MB 4.8 MB/s eta 0:00:01\r\u001b[K     |████████████████████████████    | 1.1 MB 4.8 MB/s eta 0:00:01\r\u001b[K     |████████████████████████████▎   | 1.1 MB 4.8 MB/s eta 0:00:01\r\u001b[K     |████████████████████████████▌   | 1.1 MB 4.8 MB/s eta 0:00:01\r\u001b[K     |████████████████████████████▊   | 1.1 MB 4.8 MB/s eta 0:00:01\r\u001b[K     |█████████████████████████████   | 1.2 MB 4.8 MB/s eta 0:00:01\r\u001b[K     |█████████████████████████████▎  | 1.2 MB 4.8 MB/s eta 0:00:01\r\u001b[K     |█████████████████████████████▌  | 1.2 MB 4.8 MB/s eta 0:00:01\r\u001b[K     |█████████████████████████████▊  | 1.2 MB 4.8 MB/s eta 0:00:01\r\u001b[K     |██████████████████████████████  | 1.2 MB 4.8 MB/s eta 0:00:01\r\u001b[K     |██████████████████████████████▎ | 1.2 MB 4.8 MB/s eta 0:00:01\r\u001b[K     |██████████████████████████████▌ | 1.2 MB 4.8 MB/s eta 0:00:01\r\u001b[K     |██████████████████████████████▉ | 1.2 MB 4.8 MB/s eta 0:00:01\r\u001b[K     |███████████████████████████████ | 1.2 MB 4.8 MB/s eta 0:00:01\r\u001b[K     |███████████████████████████████▎| 1.2 MB 4.8 MB/s eta 0:00:01\r\u001b[K     |███████████████████████████████▋| 1.3 MB 4.8 MB/s eta 0:00:01\r\u001b[K     |███████████████████████████████▉| 1.3 MB 4.8 MB/s eta 0:00:01\r\u001b[K     |████████████████████████████████| 1.3 MB 4.8 MB/s \n",
            "\u001b[?25h"
          ]
        }
      ]
    },
    {
      "cell_type": "code",
      "source": [
        "model_path = DRIVE_PATH + f\"checkpoints/checkpoint-2548/\"  ## load model trained for 2 epochs\n",
        "model = AutoModelForQuestionAnswering.from_pretrained(model_path)\n",
        "tokenizer = AutoTokenizer.from_pretrained(model_path)\n"
      ],
      "metadata": {
        "id": "rNJP-ZZrHaBE"
      },
      "execution_count": null,
      "outputs": []
    },
    {
      "cell_type": "code",
      "metadata": {
        "id": "842M_Yrz3WvF"
      },
      "source": [
        "class AnswerPredictor:\n",
        "  def __init__(self, model, tokenizer, device='cuda', n_best=10, max_length=512, stride=256, no_answer=False):\n",
        "      \"\"\"Initializes PyTorch Question Answering Prediction\n",
        "      It's best to leave use the default values.\n",
        "      Args:\n",
        "          model: Fine-tuned torch model\n",
        "          tokenizer: Transformers tokenizer\n",
        "          device (torch.device): Running device\n",
        "          n_best (int): Number of best possible answers\n",
        "          max_length (int): Tokenizer max length\n",
        "          stride (int): Tokenizer stride\n",
        "          no_answer (bool): If True, model can return \"no answer\"\n",
        "      \"\"\"\n",
        "      self.model = model.eval().to(device)\n",
        "      self.tokenizer = tokenizer\n",
        "      self.device = device\n",
        "      self.max_length = max_length\n",
        "      self.stride = stride\n",
        "      self.no_answer = no_answer\n",
        "      self.n_best = n_best\n",
        "\n",
        "\n",
        "  def model_pred(self, questions, contexts, batch_size=1):\n",
        "      n = len(contexts)\n",
        "      if n%batch_size!=0:\n",
        "          raise Exception(\"batch_size must be divisible by sample length\")\n",
        "\n",
        "      tokens = self.tokenizer(questions, contexts, add_special_tokens=True, \n",
        "                              return_token_type_ids=True, return_tensors=\"pt\", padding=True, \n",
        "                              return_offsets_mapping=True, truncation=\"only_second\", \n",
        "                              max_length=self.max_length, stride=self.stride)\n",
        "\n",
        "      start_logits, end_logits = [], []\n",
        "      for i in tqdm(range(0, n-batch_size+1, batch_size)):\n",
        "          with torch.no_grad():\n",
        "              out = self.model(tokens['input_ids'][i:i+batch_size].to(self.device), \n",
        "                          tokens['attention_mask'][i:i+batch_size].to(self.device), \n",
        "                          tokens['token_type_ids'][i:i+batch_size].to(self.device))\n",
        "\n",
        "              start_logits.append(out.start_logits)\n",
        "              end_logits.append(out.end_logits)\n",
        "\n",
        "      return tokens, torch.stack(start_logits).view(n, -1), torch.stack(end_logits).view(n, -1)\n",
        "\n",
        "\n",
        "  def __call__(self, questions, contexts, batch_size=1, answer_max_len=100):\n",
        "      \"\"\"Creates model prediction\n",
        "      \n",
        "      Args: \n",
        "          questions (list): Question strings\n",
        "          contexts (list): Contexts strings\n",
        "          batch_size (int): Batch size\n",
        "          answer_max_len (int): Sets the longests possible length for any answer\n",
        "        \n",
        "      Returns:\n",
        "          dict: The best prediction of the model\n",
        "              (e.g {0: {\"text\": str, \"score\": int}})\n",
        "      \"\"\"\n",
        "      tokens, starts, ends = self.model_pred(questions, contexts, batch_size=batch_size)\n",
        "      start_indexes = starts.argsort(dim=-1, descending=True)[:, :self.n_best]\n",
        "      end_indexes = ends.argsort(dim=-1, descending=True)[:, :self.n_best]\n",
        "\n",
        "      preds = {}\n",
        "      for i, (c, q) in enumerate(zip(contexts, questions)):  \n",
        "          min_null_score = starts[i][0] + ends[i][0] # 0 is CLS Token\n",
        "          start_context = tokens['input_ids'][i].tolist().index(self.tokenizer.sep_token_id)\n",
        "          \n",
        "          offset = tokens['offset_mapping'][i]\n",
        "          valid_answers = []\n",
        "          for start_index in start_indexes[i]:\n",
        "              # Don't consider answers that are in questions\n",
        "              if start_index<start_context:\n",
        "                  continue\n",
        "              for end_index in end_indexes[i]:\n",
        "                  # Don't consider out-of-scope answers, either because the indices are out of bounds or correspond\n",
        "                  # to part of the input_ids that are not in the context.\n",
        "                  if (start_index >= len(offset) or end_index >= len(offset)\n",
        "                      or offset[start_index] is None or offset[end_index] is None):\n",
        "                      continue\n",
        "                  # Don't consider answers with a length that is either < 0 or > max_answer_length.\n",
        "                  if end_index < start_index or (end_index-start_index+1) > answer_max_len:\n",
        "                      continue\n",
        "\n",
        "                  start_char = offset[start_index][0]\n",
        "                  end_char = offset[end_index][1]\n",
        "                  valid_answers.append({\"score\": (starts[i][start_index] + ends[i][end_index]).item(),\n",
        "                                        \"text\": c[start_char: end_char]})\n",
        "                  \n",
        "          if len(valid_answers) > 0:\n",
        "              best_answer = sorted(valid_answers, key=lambda x: x[\"score\"], reverse=True)[0]\n",
        "          else:\n",
        "              best_answer = {\"text\": \"\", \"score\": min_null_score}\n",
        "\n",
        "          if self.no_answer:\n",
        "              preds[i] = best_answer if best_answer[\"score\"] >= min_null_score else {\"text\": \"\", \"score\": min_null_score}\n",
        "          else:\n",
        "              preds[i] = best_answer\n",
        "\n",
        "      return preds\n"
      ],
      "execution_count": null,
      "outputs": []
    },
    {
      "cell_type": "code",
      "source": [
        "predictor = AnswerPredictor(model, tokenizer, device='cuda', n_best=10, no_answer=True)\n"
      ],
      "metadata": {
        "id": "2xrKiaeYJLf-"
      },
      "execution_count": null,
      "outputs": []
    },
    {
      "cell_type": "code",
      "source": [
        "test_dataset[8]"
      ],
      "metadata": {
        "colab": {
          "base_uri": "https://localhost:8080/"
        },
        "id": "JJH32GrFO0DT",
        "outputId": "03108e65-fb9c-4748-d7a5-ba31011efd7d"
      },
      "execution_count": null,
      "outputs": [
        {
          "output_type": "execute_result",
          "data": {
            "text/plain": [
              "{'answers': {'answer_start': [712], 'text': ['گیاهان و یا چربی حیوانات']},\n",
              " 'context': 'ماده سوختنی ماده\\u200cای است که در اثر تغییرات (معمولاً شیمیائی) تولید انرژی مفید می\\u200cکند که بعداً می\\u200cتواند تبدیل به انرژی مکانیکی شود. این تغییرات معمولاً با سوختن (یعنی ترکیب با اکسیژن) همراه است. فرایندهای مورد استفاده برای تبدیل سوخت به انرژی عبارتند از: واکنش\\u200cهای شیمیایی مختلف و گرمازا، واکنش\\u200cهای هسته\\u200cای مانند شکافت هسته\\u200cای یا گداخت هسته\\u200cای. هیدروکربن\\u200cها تا حد زیادی شایع\\u200cترین منبع سوخت مورد استفاده توسط انسان است، اما در بسیاری از موارد فلزات رادیو اکتیو نیز استفاده می\\u200cشوند. اولین استفاده از سوخت توسط بشر ، احتراق و سوزاندن تکه های چوب در حدود 2 میلیون سال پیش توسط انسان راست قامت بود . به صورت کلی در طول تاریخ زندگی بشر که تا به حال با آن آشنا شده ایم ، تنها سوخت هایی که بیشترین استفاده را داشته است از گیاهان و یا چربی حیوانات بدست می آمده است و مورد استفاده انسان قرار گرفته است . انسان ها از 6000 سال قبل از میلاد مسیح برای ذوب آهن از زغال چوب و مشتقات چوب استفاده میکردند. بعد ها این سوخت ها جای خودشان را با کُک عوض کردند . به دلیل اینکه در حوالی قرن 18 جنگل های اروپا در حال نابودی بودند.',\n",
              " 'question': 'بیشتر سوختی مورد استفاده انسان از چی بدست میاد؟'}"
            ]
          },
          "metadata": {},
          "execution_count": 44
        }
      ]
    },
    {
      "cell_type": "code",
      "source": [
        "context = test_dataset[8]['context'] \n",
        "question = test_dataset[8]['question'] \n",
        "\n",
        "preds = predictor([question], [context], batch_size=1)\n",
        "print('\\n\\n Model Prediction: ', preds[0]['text'].strip())"
      ],
      "metadata": {
        "colab": {
          "base_uri": "https://localhost:8080/"
        },
        "id": "WZkpZrQbJxjd",
        "outputId": "5de64c2e-ed7c-4a04-daf2-2bdb14c46fcd"
      },
      "execution_count": null,
      "outputs": [
        {
          "output_type": "stream",
          "name": "stderr",
          "text": [
            "100%|██████████| 1/1 [00:00<00:00, 56.18it/s]"
          ]
        },
        {
          "output_type": "stream",
          "name": "stdout",
          "text": [
            "\n",
            "\n",
            " Model Prediction:  گیاهان و یا چربی حیوانات\n"
          ]
        },
        {
          "output_type": "stream",
          "name": "stderr",
          "text": [
            "\n"
          ]
        }
      ]
    }
  ]
}