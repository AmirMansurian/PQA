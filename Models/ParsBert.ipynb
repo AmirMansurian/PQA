{
  "nbformat": 4,
  "nbformat_minor": 0,
  "metadata": {
    "colab": {
      "name": "ParsBert.ipynb",
      "provenance": [],
      "collapsed_sections": [
        "mPcc83AACWhs"
      ],
      "toc_visible": true
    },
    "kernelspec": {
      "name": "python3",
      "display_name": "Python 3"
    },
    "language_info": {
      "name": "python"
    },
    "widgets": {
      "application/vnd.jupyter.widget-state+json": {
        "7743d06bffac4352bf2af9af9218a5e8": {
          "model_module": "@jupyter-widgets/controls",
          "model_name": "HBoxModel",
          "model_module_version": "1.5.0",
          "state": {
            "_dom_classes": [],
            "_model_module": "@jupyter-widgets/controls",
            "_model_module_version": "1.5.0",
            "_model_name": "HBoxModel",
            "_view_count": null,
            "_view_module": "@jupyter-widgets/controls",
            "_view_module_version": "1.5.0",
            "_view_name": "HBoxView",
            "box_style": "",
            "children": [
              "IPY_MODEL_47f75723e7cf4950a86fcd0725b1b595",
              "IPY_MODEL_e9a9e60a63c14bb3869aad87f3337338",
              "IPY_MODEL_52ef59266641487aa8f37db25b415fbe"
            ],
            "layout": "IPY_MODEL_78eedd5556f64689b9e4fca13878da69"
          }
        },
        "47f75723e7cf4950a86fcd0725b1b595": {
          "model_module": "@jupyter-widgets/controls",
          "model_name": "HTMLModel",
          "model_module_version": "1.5.0",
          "state": {
            "_dom_classes": [],
            "_model_module": "@jupyter-widgets/controls",
            "_model_module_version": "1.5.0",
            "_model_name": "HTMLModel",
            "_view_count": null,
            "_view_module": "@jupyter-widgets/controls",
            "_view_module_version": "1.5.0",
            "_view_name": "HTMLView",
            "description": "",
            "description_tooltip": null,
            "layout": "IPY_MODEL_a7b6ca86f32e47688d42b154d642cf9e",
            "placeholder": "​",
            "style": "IPY_MODEL_2843e7fcb6894469909041b63aae3024",
            "value": "Downloading pytorch_model.bin: 100%"
          }
        },
        "e9a9e60a63c14bb3869aad87f3337338": {
          "model_module": "@jupyter-widgets/controls",
          "model_name": "FloatProgressModel",
          "model_module_version": "1.5.0",
          "state": {
            "_dom_classes": [],
            "_model_module": "@jupyter-widgets/controls",
            "_model_module_version": "1.5.0",
            "_model_name": "FloatProgressModel",
            "_view_count": null,
            "_view_module": "@jupyter-widgets/controls",
            "_view_module_version": "1.5.0",
            "_view_name": "ProgressView",
            "bar_style": "success",
            "description": "",
            "description_tooltip": null,
            "layout": "IPY_MODEL_80ef369986124056a0aae4c9cbb8f114",
            "max": 654226731,
            "min": 0,
            "orientation": "horizontal",
            "style": "IPY_MODEL_2dbf37b018354efa8aef9d7b0c6971f5",
            "value": 654226731
          }
        },
        "52ef59266641487aa8f37db25b415fbe": {
          "model_module": "@jupyter-widgets/controls",
          "model_name": "HTMLModel",
          "model_module_version": "1.5.0",
          "state": {
            "_dom_classes": [],
            "_model_module": "@jupyter-widgets/controls",
            "_model_module_version": "1.5.0",
            "_model_name": "HTMLModel",
            "_view_count": null,
            "_view_module": "@jupyter-widgets/controls",
            "_view_module_version": "1.5.0",
            "_view_name": "HTMLView",
            "description": "",
            "description_tooltip": null,
            "layout": "IPY_MODEL_2ec316ee354546268e328d35a680a208",
            "placeholder": "​",
            "style": "IPY_MODEL_f735d546ec4e4e7db3a84bf410eadb38",
            "value": " 624M/624M [00:13&lt;00:00, 38.6MB/s]"
          }
        },
        "78eedd5556f64689b9e4fca13878da69": {
          "model_module": "@jupyter-widgets/base",
          "model_name": "LayoutModel",
          "model_module_version": "1.2.0",
          "state": {
            "_model_module": "@jupyter-widgets/base",
            "_model_module_version": "1.2.0",
            "_model_name": "LayoutModel",
            "_view_count": null,
            "_view_module": "@jupyter-widgets/base",
            "_view_module_version": "1.2.0",
            "_view_name": "LayoutView",
            "align_content": null,
            "align_items": null,
            "align_self": null,
            "border": null,
            "bottom": null,
            "display": null,
            "flex": null,
            "flex_flow": null,
            "grid_area": null,
            "grid_auto_columns": null,
            "grid_auto_flow": null,
            "grid_auto_rows": null,
            "grid_column": null,
            "grid_gap": null,
            "grid_row": null,
            "grid_template_areas": null,
            "grid_template_columns": null,
            "grid_template_rows": null,
            "height": null,
            "justify_content": null,
            "justify_items": null,
            "left": null,
            "margin": null,
            "max_height": null,
            "max_width": null,
            "min_height": null,
            "min_width": null,
            "object_fit": null,
            "object_position": null,
            "order": null,
            "overflow": null,
            "overflow_x": null,
            "overflow_y": null,
            "padding": null,
            "right": null,
            "top": null,
            "visibility": null,
            "width": null
          }
        },
        "a7b6ca86f32e47688d42b154d642cf9e": {
          "model_module": "@jupyter-widgets/base",
          "model_name": "LayoutModel",
          "model_module_version": "1.2.0",
          "state": {
            "_model_module": "@jupyter-widgets/base",
            "_model_module_version": "1.2.0",
            "_model_name": "LayoutModel",
            "_view_count": null,
            "_view_module": "@jupyter-widgets/base",
            "_view_module_version": "1.2.0",
            "_view_name": "LayoutView",
            "align_content": null,
            "align_items": null,
            "align_self": null,
            "border": null,
            "bottom": null,
            "display": null,
            "flex": null,
            "flex_flow": null,
            "grid_area": null,
            "grid_auto_columns": null,
            "grid_auto_flow": null,
            "grid_auto_rows": null,
            "grid_column": null,
            "grid_gap": null,
            "grid_row": null,
            "grid_template_areas": null,
            "grid_template_columns": null,
            "grid_template_rows": null,
            "height": null,
            "justify_content": null,
            "justify_items": null,
            "left": null,
            "margin": null,
            "max_height": null,
            "max_width": null,
            "min_height": null,
            "min_width": null,
            "object_fit": null,
            "object_position": null,
            "order": null,
            "overflow": null,
            "overflow_x": null,
            "overflow_y": null,
            "padding": null,
            "right": null,
            "top": null,
            "visibility": null,
            "width": null
          }
        },
        "2843e7fcb6894469909041b63aae3024": {
          "model_module": "@jupyter-widgets/controls",
          "model_name": "DescriptionStyleModel",
          "model_module_version": "1.5.0",
          "state": {
            "_model_module": "@jupyter-widgets/controls",
            "_model_module_version": "1.5.0",
            "_model_name": "DescriptionStyleModel",
            "_view_count": null,
            "_view_module": "@jupyter-widgets/base",
            "_view_module_version": "1.2.0",
            "_view_name": "StyleView",
            "description_width": ""
          }
        },
        "80ef369986124056a0aae4c9cbb8f114": {
          "model_module": "@jupyter-widgets/base",
          "model_name": "LayoutModel",
          "model_module_version": "1.2.0",
          "state": {
            "_model_module": "@jupyter-widgets/base",
            "_model_module_version": "1.2.0",
            "_model_name": "LayoutModel",
            "_view_count": null,
            "_view_module": "@jupyter-widgets/base",
            "_view_module_version": "1.2.0",
            "_view_name": "LayoutView",
            "align_content": null,
            "align_items": null,
            "align_self": null,
            "border": null,
            "bottom": null,
            "display": null,
            "flex": null,
            "flex_flow": null,
            "grid_area": null,
            "grid_auto_columns": null,
            "grid_auto_flow": null,
            "grid_auto_rows": null,
            "grid_column": null,
            "grid_gap": null,
            "grid_row": null,
            "grid_template_areas": null,
            "grid_template_columns": null,
            "grid_template_rows": null,
            "height": null,
            "justify_content": null,
            "justify_items": null,
            "left": null,
            "margin": null,
            "max_height": null,
            "max_width": null,
            "min_height": null,
            "min_width": null,
            "object_fit": null,
            "object_position": null,
            "order": null,
            "overflow": null,
            "overflow_x": null,
            "overflow_y": null,
            "padding": null,
            "right": null,
            "top": null,
            "visibility": null,
            "width": null
          }
        },
        "2dbf37b018354efa8aef9d7b0c6971f5": {
          "model_module": "@jupyter-widgets/controls",
          "model_name": "ProgressStyleModel",
          "model_module_version": "1.5.0",
          "state": {
            "_model_module": "@jupyter-widgets/controls",
            "_model_module_version": "1.5.0",
            "_model_name": "ProgressStyleModel",
            "_view_count": null,
            "_view_module": "@jupyter-widgets/base",
            "_view_module_version": "1.2.0",
            "_view_name": "StyleView",
            "bar_color": null,
            "description_width": ""
          }
        },
        "2ec316ee354546268e328d35a680a208": {
          "model_module": "@jupyter-widgets/base",
          "model_name": "LayoutModel",
          "model_module_version": "1.2.0",
          "state": {
            "_model_module": "@jupyter-widgets/base",
            "_model_module_version": "1.2.0",
            "_model_name": "LayoutModel",
            "_view_count": null,
            "_view_module": "@jupyter-widgets/base",
            "_view_module_version": "1.2.0",
            "_view_name": "LayoutView",
            "align_content": null,
            "align_items": null,
            "align_self": null,
            "border": null,
            "bottom": null,
            "display": null,
            "flex": null,
            "flex_flow": null,
            "grid_area": null,
            "grid_auto_columns": null,
            "grid_auto_flow": null,
            "grid_auto_rows": null,
            "grid_column": null,
            "grid_gap": null,
            "grid_row": null,
            "grid_template_areas": null,
            "grid_template_columns": null,
            "grid_template_rows": null,
            "height": null,
            "justify_content": null,
            "justify_items": null,
            "left": null,
            "margin": null,
            "max_height": null,
            "max_width": null,
            "min_height": null,
            "min_width": null,
            "object_fit": null,
            "object_position": null,
            "order": null,
            "overflow": null,
            "overflow_x": null,
            "overflow_y": null,
            "padding": null,
            "right": null,
            "top": null,
            "visibility": null,
            "width": null
          }
        },
        "f735d546ec4e4e7db3a84bf410eadb38": {
          "model_module": "@jupyter-widgets/controls",
          "model_name": "DescriptionStyleModel",
          "model_module_version": "1.5.0",
          "state": {
            "_model_module": "@jupyter-widgets/controls",
            "_model_module_version": "1.5.0",
            "_model_name": "DescriptionStyleModel",
            "_view_count": null,
            "_view_module": "@jupyter-widgets/base",
            "_view_module_version": "1.2.0",
            "_view_name": "StyleView",
            "description_width": ""
          }
        },
        "e0706a349c11440d963f7c24099603a2": {
          "model_module": "@jupyter-widgets/controls",
          "model_name": "HBoxModel",
          "model_module_version": "1.5.0",
          "state": {
            "_dom_classes": [],
            "_model_module": "@jupyter-widgets/controls",
            "_model_module_version": "1.5.0",
            "_model_name": "HBoxModel",
            "_view_count": null,
            "_view_module": "@jupyter-widgets/controls",
            "_view_module_version": "1.5.0",
            "_view_name": "HBoxView",
            "box_style": "",
            "children": [
              "IPY_MODEL_91b56c3d72684318830eecc20d0dfd28",
              "IPY_MODEL_9d1c25f1e08547c7aee129432feb85fc",
              "IPY_MODEL_47b98c87e9344adeb3cf610450a445aa"
            ],
            "layout": "IPY_MODEL_16501223d75b4f4696a6f71835b97173"
          }
        },
        "91b56c3d72684318830eecc20d0dfd28": {
          "model_module": "@jupyter-widgets/controls",
          "model_name": "HTMLModel",
          "model_module_version": "1.5.0",
          "state": {
            "_dom_classes": [],
            "_model_module": "@jupyter-widgets/controls",
            "_model_module_version": "1.5.0",
            "_model_name": "HTMLModel",
            "_view_count": null,
            "_view_module": "@jupyter-widgets/controls",
            "_view_module_version": "1.5.0",
            "_view_name": "HTMLView",
            "description": "",
            "description_tooltip": null,
            "layout": "IPY_MODEL_b0661f2362ee42f5ba36e33d6b11f9a8",
            "placeholder": "​",
            "style": "IPY_MODEL_637a19c90bae4bc39cfa400f526ea9b6",
            "value": "Downloading config.json: 100%"
          }
        },
        "9d1c25f1e08547c7aee129432feb85fc": {
          "model_module": "@jupyter-widgets/controls",
          "model_name": "FloatProgressModel",
          "model_module_version": "1.5.0",
          "state": {
            "_dom_classes": [],
            "_model_module": "@jupyter-widgets/controls",
            "_model_module_version": "1.5.0",
            "_model_name": "FloatProgressModel",
            "_view_count": null,
            "_view_module": "@jupyter-widgets/controls",
            "_view_module_version": "1.5.0",
            "_view_name": "ProgressView",
            "bar_style": "success",
            "description": "",
            "description_tooltip": null,
            "layout": "IPY_MODEL_ccaeeab42c6f434fa95768d824a3d330",
            "max": 440,
            "min": 0,
            "orientation": "horizontal",
            "style": "IPY_MODEL_6d52fb474a1e40b197a846692211d92f",
            "value": 440
          }
        },
        "47b98c87e9344adeb3cf610450a445aa": {
          "model_module": "@jupyter-widgets/controls",
          "model_name": "HTMLModel",
          "model_module_version": "1.5.0",
          "state": {
            "_dom_classes": [],
            "_model_module": "@jupyter-widgets/controls",
            "_model_module_version": "1.5.0",
            "_model_name": "HTMLModel",
            "_view_count": null,
            "_view_module": "@jupyter-widgets/controls",
            "_view_module_version": "1.5.0",
            "_view_name": "HTMLView",
            "description": "",
            "description_tooltip": null,
            "layout": "IPY_MODEL_1f3ad09b8ef54579b2c7e2014ae35f58",
            "placeholder": "​",
            "style": "IPY_MODEL_1b93bf8f61e64fd1acd92d254587a9dd",
            "value": " 440/440 [00:00&lt;00:00, 12.7kB/s]"
          }
        },
        "16501223d75b4f4696a6f71835b97173": {
          "model_module": "@jupyter-widgets/base",
          "model_name": "LayoutModel",
          "model_module_version": "1.2.0",
          "state": {
            "_model_module": "@jupyter-widgets/base",
            "_model_module_version": "1.2.0",
            "_model_name": "LayoutModel",
            "_view_count": null,
            "_view_module": "@jupyter-widgets/base",
            "_view_module_version": "1.2.0",
            "_view_name": "LayoutView",
            "align_content": null,
            "align_items": null,
            "align_self": null,
            "border": null,
            "bottom": null,
            "display": null,
            "flex": null,
            "flex_flow": null,
            "grid_area": null,
            "grid_auto_columns": null,
            "grid_auto_flow": null,
            "grid_auto_rows": null,
            "grid_column": null,
            "grid_gap": null,
            "grid_row": null,
            "grid_template_areas": null,
            "grid_template_columns": null,
            "grid_template_rows": null,
            "height": null,
            "justify_content": null,
            "justify_items": null,
            "left": null,
            "margin": null,
            "max_height": null,
            "max_width": null,
            "min_height": null,
            "min_width": null,
            "object_fit": null,
            "object_position": null,
            "order": null,
            "overflow": null,
            "overflow_x": null,
            "overflow_y": null,
            "padding": null,
            "right": null,
            "top": null,
            "visibility": null,
            "width": null
          }
        },
        "b0661f2362ee42f5ba36e33d6b11f9a8": {
          "model_module": "@jupyter-widgets/base",
          "model_name": "LayoutModel",
          "model_module_version": "1.2.0",
          "state": {
            "_model_module": "@jupyter-widgets/base",
            "_model_module_version": "1.2.0",
            "_model_name": "LayoutModel",
            "_view_count": null,
            "_view_module": "@jupyter-widgets/base",
            "_view_module_version": "1.2.0",
            "_view_name": "LayoutView",
            "align_content": null,
            "align_items": null,
            "align_self": null,
            "border": null,
            "bottom": null,
            "display": null,
            "flex": null,
            "flex_flow": null,
            "grid_area": null,
            "grid_auto_columns": null,
            "grid_auto_flow": null,
            "grid_auto_rows": null,
            "grid_column": null,
            "grid_gap": null,
            "grid_row": null,
            "grid_template_areas": null,
            "grid_template_columns": null,
            "grid_template_rows": null,
            "height": null,
            "justify_content": null,
            "justify_items": null,
            "left": null,
            "margin": null,
            "max_height": null,
            "max_width": null,
            "min_height": null,
            "min_width": null,
            "object_fit": null,
            "object_position": null,
            "order": null,
            "overflow": null,
            "overflow_x": null,
            "overflow_y": null,
            "padding": null,
            "right": null,
            "top": null,
            "visibility": null,
            "width": null
          }
        },
        "637a19c90bae4bc39cfa400f526ea9b6": {
          "model_module": "@jupyter-widgets/controls",
          "model_name": "DescriptionStyleModel",
          "model_module_version": "1.5.0",
          "state": {
            "_model_module": "@jupyter-widgets/controls",
            "_model_module_version": "1.5.0",
            "_model_name": "DescriptionStyleModel",
            "_view_count": null,
            "_view_module": "@jupyter-widgets/base",
            "_view_module_version": "1.2.0",
            "_view_name": "StyleView",
            "description_width": ""
          }
        },
        "ccaeeab42c6f434fa95768d824a3d330": {
          "model_module": "@jupyter-widgets/base",
          "model_name": "LayoutModel",
          "model_module_version": "1.2.0",
          "state": {
            "_model_module": "@jupyter-widgets/base",
            "_model_module_version": "1.2.0",
            "_model_name": "LayoutModel",
            "_view_count": null,
            "_view_module": "@jupyter-widgets/base",
            "_view_module_version": "1.2.0",
            "_view_name": "LayoutView",
            "align_content": null,
            "align_items": null,
            "align_self": null,
            "border": null,
            "bottom": null,
            "display": null,
            "flex": null,
            "flex_flow": null,
            "grid_area": null,
            "grid_auto_columns": null,
            "grid_auto_flow": null,
            "grid_auto_rows": null,
            "grid_column": null,
            "grid_gap": null,
            "grid_row": null,
            "grid_template_areas": null,
            "grid_template_columns": null,
            "grid_template_rows": null,
            "height": null,
            "justify_content": null,
            "justify_items": null,
            "left": null,
            "margin": null,
            "max_height": null,
            "max_width": null,
            "min_height": null,
            "min_width": null,
            "object_fit": null,
            "object_position": null,
            "order": null,
            "overflow": null,
            "overflow_x": null,
            "overflow_y": null,
            "padding": null,
            "right": null,
            "top": null,
            "visibility": null,
            "width": null
          }
        },
        "6d52fb474a1e40b197a846692211d92f": {
          "model_module": "@jupyter-widgets/controls",
          "model_name": "ProgressStyleModel",
          "model_module_version": "1.5.0",
          "state": {
            "_model_module": "@jupyter-widgets/controls",
            "_model_module_version": "1.5.0",
            "_model_name": "ProgressStyleModel",
            "_view_count": null,
            "_view_module": "@jupyter-widgets/base",
            "_view_module_version": "1.2.0",
            "_view_name": "StyleView",
            "bar_color": null,
            "description_width": ""
          }
        },
        "1f3ad09b8ef54579b2c7e2014ae35f58": {
          "model_module": "@jupyter-widgets/base",
          "model_name": "LayoutModel",
          "model_module_version": "1.2.0",
          "state": {
            "_model_module": "@jupyter-widgets/base",
            "_model_module_version": "1.2.0",
            "_model_name": "LayoutModel",
            "_view_count": null,
            "_view_module": "@jupyter-widgets/base",
            "_view_module_version": "1.2.0",
            "_view_name": "LayoutView",
            "align_content": null,
            "align_items": null,
            "align_self": null,
            "border": null,
            "bottom": null,
            "display": null,
            "flex": null,
            "flex_flow": null,
            "grid_area": null,
            "grid_auto_columns": null,
            "grid_auto_flow": null,
            "grid_auto_rows": null,
            "grid_column": null,
            "grid_gap": null,
            "grid_row": null,
            "grid_template_areas": null,
            "grid_template_columns": null,
            "grid_template_rows": null,
            "height": null,
            "justify_content": null,
            "justify_items": null,
            "left": null,
            "margin": null,
            "max_height": null,
            "max_width": null,
            "min_height": null,
            "min_width": null,
            "object_fit": null,
            "object_position": null,
            "order": null,
            "overflow": null,
            "overflow_x": null,
            "overflow_y": null,
            "padding": null,
            "right": null,
            "top": null,
            "visibility": null,
            "width": null
          }
        },
        "1b93bf8f61e64fd1acd92d254587a9dd": {
          "model_module": "@jupyter-widgets/controls",
          "model_name": "DescriptionStyleModel",
          "model_module_version": "1.5.0",
          "state": {
            "_model_module": "@jupyter-widgets/controls",
            "_model_module_version": "1.5.0",
            "_model_name": "DescriptionStyleModel",
            "_view_count": null,
            "_view_module": "@jupyter-widgets/base",
            "_view_module_version": "1.2.0",
            "_view_name": "StyleView",
            "description_width": ""
          }
        },
        "7f0a70a8030b47d087a4a59831e53db3": {
          "model_module": "@jupyter-widgets/controls",
          "model_name": "HBoxModel",
          "model_module_version": "1.5.0",
          "state": {
            "_dom_classes": [],
            "_model_module": "@jupyter-widgets/controls",
            "_model_module_version": "1.5.0",
            "_model_name": "HBoxModel",
            "_view_count": null,
            "_view_module": "@jupyter-widgets/controls",
            "_view_module_version": "1.5.0",
            "_view_name": "HBoxView",
            "box_style": "",
            "children": [
              "IPY_MODEL_14926bfb68a6485db081d04c6edbcc10",
              "IPY_MODEL_79139061aa9c41ceb2948e83bb84d04c",
              "IPY_MODEL_5f95f256ceba442fae67c50f516ef510"
            ],
            "layout": "IPY_MODEL_fc1585b06a0042a7ac6f4485f422ba94"
          }
        },
        "14926bfb68a6485db081d04c6edbcc10": {
          "model_module": "@jupyter-widgets/controls",
          "model_name": "HTMLModel",
          "model_module_version": "1.5.0",
          "state": {
            "_dom_classes": [],
            "_model_module": "@jupyter-widgets/controls",
            "_model_module_version": "1.5.0",
            "_model_name": "HTMLModel",
            "_view_count": null,
            "_view_module": "@jupyter-widgets/controls",
            "_view_module_version": "1.5.0",
            "_view_name": "HTMLView",
            "description": "",
            "description_tooltip": null,
            "layout": "IPY_MODEL_31735d2c40ae41a495382078b847e279",
            "placeholder": "​",
            "style": "IPY_MODEL_bd1cfb67bae74269b9cf565bb933fb62",
            "value": "Downloading vocab.txt: 100%"
          }
        },
        "79139061aa9c41ceb2948e83bb84d04c": {
          "model_module": "@jupyter-widgets/controls",
          "model_name": "FloatProgressModel",
          "model_module_version": "1.5.0",
          "state": {
            "_dom_classes": [],
            "_model_module": "@jupyter-widgets/controls",
            "_model_module_version": "1.5.0",
            "_model_name": "FloatProgressModel",
            "_view_count": null,
            "_view_module": "@jupyter-widgets/controls",
            "_view_module_version": "1.5.0",
            "_view_name": "ProgressView",
            "bar_style": "success",
            "description": "",
            "description_tooltip": null,
            "layout": "IPY_MODEL_8dd0cc8a369c4b289dca2784d3c445e9",
            "max": 1198122,
            "min": 0,
            "orientation": "horizontal",
            "style": "IPY_MODEL_3cfd6fb2ff864e8e8f05ea7e4812c764",
            "value": 1198122
          }
        },
        "5f95f256ceba442fae67c50f516ef510": {
          "model_module": "@jupyter-widgets/controls",
          "model_name": "HTMLModel",
          "model_module_version": "1.5.0",
          "state": {
            "_dom_classes": [],
            "_model_module": "@jupyter-widgets/controls",
            "_model_module_version": "1.5.0",
            "_model_name": "HTMLModel",
            "_view_count": null,
            "_view_module": "@jupyter-widgets/controls",
            "_view_module_version": "1.5.0",
            "_view_name": "HTMLView",
            "description": "",
            "description_tooltip": null,
            "layout": "IPY_MODEL_cc98d99c6a39458fba0151f47196296f",
            "placeholder": "​",
            "style": "IPY_MODEL_c601e9c24f644ddc991e44781373d6ad",
            "value": " 1.14M/1.14M [00:00&lt;00:00, 3.06MB/s]"
          }
        },
        "fc1585b06a0042a7ac6f4485f422ba94": {
          "model_module": "@jupyter-widgets/base",
          "model_name": "LayoutModel",
          "model_module_version": "1.2.0",
          "state": {
            "_model_module": "@jupyter-widgets/base",
            "_model_module_version": "1.2.0",
            "_model_name": "LayoutModel",
            "_view_count": null,
            "_view_module": "@jupyter-widgets/base",
            "_view_module_version": "1.2.0",
            "_view_name": "LayoutView",
            "align_content": null,
            "align_items": null,
            "align_self": null,
            "border": null,
            "bottom": null,
            "display": null,
            "flex": null,
            "flex_flow": null,
            "grid_area": null,
            "grid_auto_columns": null,
            "grid_auto_flow": null,
            "grid_auto_rows": null,
            "grid_column": null,
            "grid_gap": null,
            "grid_row": null,
            "grid_template_areas": null,
            "grid_template_columns": null,
            "grid_template_rows": null,
            "height": null,
            "justify_content": null,
            "justify_items": null,
            "left": null,
            "margin": null,
            "max_height": null,
            "max_width": null,
            "min_height": null,
            "min_width": null,
            "object_fit": null,
            "object_position": null,
            "order": null,
            "overflow": null,
            "overflow_x": null,
            "overflow_y": null,
            "padding": null,
            "right": null,
            "top": null,
            "visibility": null,
            "width": null
          }
        },
        "31735d2c40ae41a495382078b847e279": {
          "model_module": "@jupyter-widgets/base",
          "model_name": "LayoutModel",
          "model_module_version": "1.2.0",
          "state": {
            "_model_module": "@jupyter-widgets/base",
            "_model_module_version": "1.2.0",
            "_model_name": "LayoutModel",
            "_view_count": null,
            "_view_module": "@jupyter-widgets/base",
            "_view_module_version": "1.2.0",
            "_view_name": "LayoutView",
            "align_content": null,
            "align_items": null,
            "align_self": null,
            "border": null,
            "bottom": null,
            "display": null,
            "flex": null,
            "flex_flow": null,
            "grid_area": null,
            "grid_auto_columns": null,
            "grid_auto_flow": null,
            "grid_auto_rows": null,
            "grid_column": null,
            "grid_gap": null,
            "grid_row": null,
            "grid_template_areas": null,
            "grid_template_columns": null,
            "grid_template_rows": null,
            "height": null,
            "justify_content": null,
            "justify_items": null,
            "left": null,
            "margin": null,
            "max_height": null,
            "max_width": null,
            "min_height": null,
            "min_width": null,
            "object_fit": null,
            "object_position": null,
            "order": null,
            "overflow": null,
            "overflow_x": null,
            "overflow_y": null,
            "padding": null,
            "right": null,
            "top": null,
            "visibility": null,
            "width": null
          }
        },
        "bd1cfb67bae74269b9cf565bb933fb62": {
          "model_module": "@jupyter-widgets/controls",
          "model_name": "DescriptionStyleModel",
          "model_module_version": "1.5.0",
          "state": {
            "_model_module": "@jupyter-widgets/controls",
            "_model_module_version": "1.5.0",
            "_model_name": "DescriptionStyleModel",
            "_view_count": null,
            "_view_module": "@jupyter-widgets/base",
            "_view_module_version": "1.2.0",
            "_view_name": "StyleView",
            "description_width": ""
          }
        },
        "8dd0cc8a369c4b289dca2784d3c445e9": {
          "model_module": "@jupyter-widgets/base",
          "model_name": "LayoutModel",
          "model_module_version": "1.2.0",
          "state": {
            "_model_module": "@jupyter-widgets/base",
            "_model_module_version": "1.2.0",
            "_model_name": "LayoutModel",
            "_view_count": null,
            "_view_module": "@jupyter-widgets/base",
            "_view_module_version": "1.2.0",
            "_view_name": "LayoutView",
            "align_content": null,
            "align_items": null,
            "align_self": null,
            "border": null,
            "bottom": null,
            "display": null,
            "flex": null,
            "flex_flow": null,
            "grid_area": null,
            "grid_auto_columns": null,
            "grid_auto_flow": null,
            "grid_auto_rows": null,
            "grid_column": null,
            "grid_gap": null,
            "grid_row": null,
            "grid_template_areas": null,
            "grid_template_columns": null,
            "grid_template_rows": null,
            "height": null,
            "justify_content": null,
            "justify_items": null,
            "left": null,
            "margin": null,
            "max_height": null,
            "max_width": null,
            "min_height": null,
            "min_width": null,
            "object_fit": null,
            "object_position": null,
            "order": null,
            "overflow": null,
            "overflow_x": null,
            "overflow_y": null,
            "padding": null,
            "right": null,
            "top": null,
            "visibility": null,
            "width": null
          }
        },
        "3cfd6fb2ff864e8e8f05ea7e4812c764": {
          "model_module": "@jupyter-widgets/controls",
          "model_name": "ProgressStyleModel",
          "model_module_version": "1.5.0",
          "state": {
            "_model_module": "@jupyter-widgets/controls",
            "_model_module_version": "1.5.0",
            "_model_name": "ProgressStyleModel",
            "_view_count": null,
            "_view_module": "@jupyter-widgets/base",
            "_view_module_version": "1.2.0",
            "_view_name": "StyleView",
            "bar_color": null,
            "description_width": ""
          }
        },
        "cc98d99c6a39458fba0151f47196296f": {
          "model_module": "@jupyter-widgets/base",
          "model_name": "LayoutModel",
          "model_module_version": "1.2.0",
          "state": {
            "_model_module": "@jupyter-widgets/base",
            "_model_module_version": "1.2.0",
            "_model_name": "LayoutModel",
            "_view_count": null,
            "_view_module": "@jupyter-widgets/base",
            "_view_module_version": "1.2.0",
            "_view_name": "LayoutView",
            "align_content": null,
            "align_items": null,
            "align_self": null,
            "border": null,
            "bottom": null,
            "display": null,
            "flex": null,
            "flex_flow": null,
            "grid_area": null,
            "grid_auto_columns": null,
            "grid_auto_flow": null,
            "grid_auto_rows": null,
            "grid_column": null,
            "grid_gap": null,
            "grid_row": null,
            "grid_template_areas": null,
            "grid_template_columns": null,
            "grid_template_rows": null,
            "height": null,
            "justify_content": null,
            "justify_items": null,
            "left": null,
            "margin": null,
            "max_height": null,
            "max_width": null,
            "min_height": null,
            "min_width": null,
            "object_fit": null,
            "object_position": null,
            "order": null,
            "overflow": null,
            "overflow_x": null,
            "overflow_y": null,
            "padding": null,
            "right": null,
            "top": null,
            "visibility": null,
            "width": null
          }
        },
        "c601e9c24f644ddc991e44781373d6ad": {
          "model_module": "@jupyter-widgets/controls",
          "model_name": "DescriptionStyleModel",
          "model_module_version": "1.5.0",
          "state": {
            "_model_module": "@jupyter-widgets/controls",
            "_model_module_version": "1.5.0",
            "_model_name": "DescriptionStyleModel",
            "_view_count": null,
            "_view_module": "@jupyter-widgets/base",
            "_view_module_version": "1.2.0",
            "_view_name": "StyleView",
            "description_width": ""
          }
        },
        "3476920aa03543c3a007c81de7f235b8": {
          "model_module": "@jupyter-widgets/controls",
          "model_name": "HBoxModel",
          "model_module_version": "1.5.0",
          "state": {
            "_dom_classes": [],
            "_model_module": "@jupyter-widgets/controls",
            "_model_module_version": "1.5.0",
            "_model_name": "HBoxModel",
            "_view_count": null,
            "_view_module": "@jupyter-widgets/controls",
            "_view_module_version": "1.5.0",
            "_view_name": "HBoxView",
            "box_style": "",
            "children": [
              "IPY_MODEL_d46bca2ecc40445bbe1f74ea21e8222b",
              "IPY_MODEL_dcf597d9161d45ce81c493d4d9f76b5d",
              "IPY_MODEL_b0a5739ccee8468a815fe7dc7d285d68"
            ],
            "layout": "IPY_MODEL_c9395d07738b4ebc986485379c44bb50"
          }
        },
        "d46bca2ecc40445bbe1f74ea21e8222b": {
          "model_module": "@jupyter-widgets/controls",
          "model_name": "HTMLModel",
          "model_module_version": "1.5.0",
          "state": {
            "_dom_classes": [],
            "_model_module": "@jupyter-widgets/controls",
            "_model_module_version": "1.5.0",
            "_model_name": "HTMLModel",
            "_view_count": null,
            "_view_module": "@jupyter-widgets/controls",
            "_view_module_version": "1.5.0",
            "_view_name": "HTMLView",
            "description": "",
            "description_tooltip": null,
            "layout": "IPY_MODEL_fc64b7487f044e6aadbb252ec129b21e",
            "placeholder": "​",
            "style": "IPY_MODEL_a489a75e2fd847389470fca3bc267827",
            "value": "100%"
          }
        },
        "dcf597d9161d45ce81c493d4d9f76b5d": {
          "model_module": "@jupyter-widgets/controls",
          "model_name": "FloatProgressModel",
          "model_module_version": "1.5.0",
          "state": {
            "_dom_classes": [],
            "_model_module": "@jupyter-widgets/controls",
            "_model_module_version": "1.5.0",
            "_model_name": "FloatProgressModel",
            "_view_count": null,
            "_view_module": "@jupyter-widgets/controls",
            "_view_module_version": "1.5.0",
            "_view_name": "ProgressView",
            "bar_style": "success",
            "description": "",
            "description_tooltip": null,
            "layout": "IPY_MODEL_8468eee6ee1b4eb7816fe1249fa30674",
            "max": 2,
            "min": 0,
            "orientation": "horizontal",
            "style": "IPY_MODEL_b567706265cb43d8bd8d7b8793d2b83a",
            "value": 2
          }
        },
        "b0a5739ccee8468a815fe7dc7d285d68": {
          "model_module": "@jupyter-widgets/controls",
          "model_name": "HTMLModel",
          "model_module_version": "1.5.0",
          "state": {
            "_dom_classes": [],
            "_model_module": "@jupyter-widgets/controls",
            "_model_module_version": "1.5.0",
            "_model_name": "HTMLModel",
            "_view_count": null,
            "_view_module": "@jupyter-widgets/controls",
            "_view_module_version": "1.5.0",
            "_view_name": "HTMLView",
            "description": "",
            "description_tooltip": null,
            "layout": "IPY_MODEL_86e785ee10a14afeaeeeee3bdb365a51",
            "placeholder": "​",
            "style": "IPY_MODEL_05bbe576983f434b82358891cc3d3326",
            "value": " 2/2 [00:00&lt;00:00,  2.47ba/s]"
          }
        },
        "c9395d07738b4ebc986485379c44bb50": {
          "model_module": "@jupyter-widgets/base",
          "model_name": "LayoutModel",
          "model_module_version": "1.2.0",
          "state": {
            "_model_module": "@jupyter-widgets/base",
            "_model_module_version": "1.2.0",
            "_model_name": "LayoutModel",
            "_view_count": null,
            "_view_module": "@jupyter-widgets/base",
            "_view_module_version": "1.2.0",
            "_view_name": "LayoutView",
            "align_content": null,
            "align_items": null,
            "align_self": null,
            "border": null,
            "bottom": null,
            "display": null,
            "flex": null,
            "flex_flow": null,
            "grid_area": null,
            "grid_auto_columns": null,
            "grid_auto_flow": null,
            "grid_auto_rows": null,
            "grid_column": null,
            "grid_gap": null,
            "grid_row": null,
            "grid_template_areas": null,
            "grid_template_columns": null,
            "grid_template_rows": null,
            "height": null,
            "justify_content": null,
            "justify_items": null,
            "left": null,
            "margin": null,
            "max_height": null,
            "max_width": null,
            "min_height": null,
            "min_width": null,
            "object_fit": null,
            "object_position": null,
            "order": null,
            "overflow": null,
            "overflow_x": null,
            "overflow_y": null,
            "padding": null,
            "right": null,
            "top": null,
            "visibility": null,
            "width": null
          }
        },
        "fc64b7487f044e6aadbb252ec129b21e": {
          "model_module": "@jupyter-widgets/base",
          "model_name": "LayoutModel",
          "model_module_version": "1.2.0",
          "state": {
            "_model_module": "@jupyter-widgets/base",
            "_model_module_version": "1.2.0",
            "_model_name": "LayoutModel",
            "_view_count": null,
            "_view_module": "@jupyter-widgets/base",
            "_view_module_version": "1.2.0",
            "_view_name": "LayoutView",
            "align_content": null,
            "align_items": null,
            "align_self": null,
            "border": null,
            "bottom": null,
            "display": null,
            "flex": null,
            "flex_flow": null,
            "grid_area": null,
            "grid_auto_columns": null,
            "grid_auto_flow": null,
            "grid_auto_rows": null,
            "grid_column": null,
            "grid_gap": null,
            "grid_row": null,
            "grid_template_areas": null,
            "grid_template_columns": null,
            "grid_template_rows": null,
            "height": null,
            "justify_content": null,
            "justify_items": null,
            "left": null,
            "margin": null,
            "max_height": null,
            "max_width": null,
            "min_height": null,
            "min_width": null,
            "object_fit": null,
            "object_position": null,
            "order": null,
            "overflow": null,
            "overflow_x": null,
            "overflow_y": null,
            "padding": null,
            "right": null,
            "top": null,
            "visibility": null,
            "width": null
          }
        },
        "a489a75e2fd847389470fca3bc267827": {
          "model_module": "@jupyter-widgets/controls",
          "model_name": "DescriptionStyleModel",
          "model_module_version": "1.5.0",
          "state": {
            "_model_module": "@jupyter-widgets/controls",
            "_model_module_version": "1.5.0",
            "_model_name": "DescriptionStyleModel",
            "_view_count": null,
            "_view_module": "@jupyter-widgets/base",
            "_view_module_version": "1.2.0",
            "_view_name": "StyleView",
            "description_width": ""
          }
        },
        "8468eee6ee1b4eb7816fe1249fa30674": {
          "model_module": "@jupyter-widgets/base",
          "model_name": "LayoutModel",
          "model_module_version": "1.2.0",
          "state": {
            "_model_module": "@jupyter-widgets/base",
            "_model_module_version": "1.2.0",
            "_model_name": "LayoutModel",
            "_view_count": null,
            "_view_module": "@jupyter-widgets/base",
            "_view_module_version": "1.2.0",
            "_view_name": "LayoutView",
            "align_content": null,
            "align_items": null,
            "align_self": null,
            "border": null,
            "bottom": null,
            "display": null,
            "flex": null,
            "flex_flow": null,
            "grid_area": null,
            "grid_auto_columns": null,
            "grid_auto_flow": null,
            "grid_auto_rows": null,
            "grid_column": null,
            "grid_gap": null,
            "grid_row": null,
            "grid_template_areas": null,
            "grid_template_columns": null,
            "grid_template_rows": null,
            "height": null,
            "justify_content": null,
            "justify_items": null,
            "left": null,
            "margin": null,
            "max_height": null,
            "max_width": null,
            "min_height": null,
            "min_width": null,
            "object_fit": null,
            "object_position": null,
            "order": null,
            "overflow": null,
            "overflow_x": null,
            "overflow_y": null,
            "padding": null,
            "right": null,
            "top": null,
            "visibility": null,
            "width": null
          }
        },
        "b567706265cb43d8bd8d7b8793d2b83a": {
          "model_module": "@jupyter-widgets/controls",
          "model_name": "ProgressStyleModel",
          "model_module_version": "1.5.0",
          "state": {
            "_model_module": "@jupyter-widgets/controls",
            "_model_module_version": "1.5.0",
            "_model_name": "ProgressStyleModel",
            "_view_count": null,
            "_view_module": "@jupyter-widgets/base",
            "_view_module_version": "1.2.0",
            "_view_name": "StyleView",
            "bar_color": null,
            "description_width": ""
          }
        },
        "86e785ee10a14afeaeeeee3bdb365a51": {
          "model_module": "@jupyter-widgets/base",
          "model_name": "LayoutModel",
          "model_module_version": "1.2.0",
          "state": {
            "_model_module": "@jupyter-widgets/base",
            "_model_module_version": "1.2.0",
            "_model_name": "LayoutModel",
            "_view_count": null,
            "_view_module": "@jupyter-widgets/base",
            "_view_module_version": "1.2.0",
            "_view_name": "LayoutView",
            "align_content": null,
            "align_items": null,
            "align_self": null,
            "border": null,
            "bottom": null,
            "display": null,
            "flex": null,
            "flex_flow": null,
            "grid_area": null,
            "grid_auto_columns": null,
            "grid_auto_flow": null,
            "grid_auto_rows": null,
            "grid_column": null,
            "grid_gap": null,
            "grid_row": null,
            "grid_template_areas": null,
            "grid_template_columns": null,
            "grid_template_rows": null,
            "height": null,
            "justify_content": null,
            "justify_items": null,
            "left": null,
            "margin": null,
            "max_height": null,
            "max_width": null,
            "min_height": null,
            "min_width": null,
            "object_fit": null,
            "object_position": null,
            "order": null,
            "overflow": null,
            "overflow_x": null,
            "overflow_y": null,
            "padding": null,
            "right": null,
            "top": null,
            "visibility": null,
            "width": null
          }
        },
        "05bbe576983f434b82358891cc3d3326": {
          "model_module": "@jupyter-widgets/controls",
          "model_name": "DescriptionStyleModel",
          "model_module_version": "1.5.0",
          "state": {
            "_model_module": "@jupyter-widgets/controls",
            "_model_module_version": "1.5.0",
            "_model_name": "DescriptionStyleModel",
            "_view_count": null,
            "_view_module": "@jupyter-widgets/base",
            "_view_module_version": "1.2.0",
            "_view_name": "StyleView",
            "description_width": ""
          }
        }
      }
    },
    "gpuClass": "standard"
  },
  "cells": [
    {
      "cell_type": "markdown",
      "metadata": {
        "id": "TNJLAXpNS0Gm"
      },
      "source": [
        "- Fine-tuning ParsBERT on PersianQA and ParSQUAD Datasets "
      ]
    },
    {
      "cell_type": "markdown",
      "source": [
        "[Model and Datasets Path](https://drive.google.com/drive/folders/1_lgylP6jWCZGiqmvJWO-u7NOoqpD7LUp?usp=sharing)"
      ],
      "metadata": {
        "id": "TlKep2doPrGt"
      }
    },
    {
      "cell_type": "markdown",
      "source": [
        "# Setup"
      ],
      "metadata": {
        "id": "mPcc83AACWhs"
      }
    },
    {
      "cell_type": "code",
      "metadata": {
        "id": "lHVN4l1TH-OY",
        "colab": {
          "base_uri": "https://localhost:8080/"
        },
        "outputId": "4c795685-c4ea-475e-f517-0dd7521d895c"
      },
      "source": [
        "!pip install -q transformers\n",
        "!pip install -q datasets"
      ],
      "execution_count": 2,
      "outputs": [
        {
          "output_type": "stream",
          "name": "stdout",
          "text": [
            "\u001b[K     |████████████████████████████████| 4.7 MB 5.1 MB/s \n",
            "\u001b[K     |████████████████████████████████| 6.6 MB 41.1 MB/s \n",
            "\u001b[K     |████████████████████████████████| 101 kB 10.6 MB/s \n",
            "\u001b[K     |████████████████████████████████| 596 kB 50.5 MB/s \n",
            "\u001b[K     |████████████████████████████████| 365 kB 5.3 MB/s \n",
            "\u001b[K     |████████████████████████████████| 115 kB 72.7 MB/s \n",
            "\u001b[K     |████████████████████████████████| 141 kB 70.0 MB/s \n",
            "\u001b[K     |████████████████████████████████| 212 kB 45.2 MB/s \n",
            "\u001b[K     |████████████████████████████████| 127 kB 58.8 MB/s \n",
            "\u001b[?25h"
          ]
        }
      ]
    },
    {
      "cell_type": "code",
      "source": [
        "import json\n",
        "import pandas as pd"
      ],
      "metadata": {
        "id": "_J2Pr9Gx-YQ8"
      },
      "execution_count": 3,
      "outputs": []
    },
    {
      "cell_type": "code",
      "metadata": {
        "id": "wHCPGyyHIhOC"
      },
      "source": [
        "from datasets import load_dataset, load_from_disk, Dataset\n",
        "from transformers import AutoTokenizer, AutoModelForQuestionAnswering\n",
        "from transformers import TrainingArguments, Trainer"
      ],
      "execution_count": 4,
      "outputs": []
    },
    {
      "cell_type": "code",
      "source": [
        ""
      ],
      "metadata": {
        "id": "0JqrhWB67Dn9"
      },
      "execution_count": 4,
      "outputs": []
    },
    {
      "cell_type": "code",
      "source": [
        "from google.colab import drive\n",
        "drive.mount('/content/drive')"
      ],
      "metadata": {
        "colab": {
          "base_uri": "https://localhost:8080/"
        },
        "id": "VEhaGou2-JaD",
        "outputId": "52417083-2400-4309-e234-4b38c046f7f3"
      },
      "execution_count": 5,
      "outputs": [
        {
          "output_type": "stream",
          "name": "stdout",
          "text": [
            "Mounted at /content/drive\n"
          ]
        }
      ]
    },
    {
      "cell_type": "code",
      "metadata": {
        "id": "gBbRz7mbJDqZ"
      },
      "source": [
        "model_checkpoint = \"HooshvareLab/bert-fa-base-uncased\"\n",
        "max_length = 512 # The maximum length of a feature (question and context)\n",
        "doc_stride = 256 # The authorized overlap between two part of the context when splitting it is needed.\n",
        "batch_size = 8\n",
        "lr = 3e-5\n",
        "epoch = 2\n",
        "DRIVE_PATH = \"/content/drive/MyDrive/NLP_Final/\"\n"
      ],
      "execution_count": 6,
      "outputs": []
    },
    {
      "cell_type": "markdown",
      "source": [
        "# Load and Process Data"
      ],
      "metadata": {
        "id": "8t0OVB2uCnD-"
      }
    },
    {
      "cell_type": "code",
      "execution_count": 7,
      "metadata": {
        "id": "g94m667Vf3Sr"
      },
      "outputs": [],
      "source": [
        "train_path = DRIVE_PATH + 'Datasets/train_merged.json'\n",
        "dev_path = DRIVE_PATH + 'Datasets/dev_merged.json'\n",
        "test_path = DRIVE_PATH + 'Datasets/test_merged.json'\n"
      ]
    },
    {
      "cell_type": "code",
      "source": [
        "with open(train_path,'r',encoding='utf-8') as f:\n",
        "  train_data = json.load(f)\n",
        "\n",
        "with open(dev_path,'r',encoding='utf-8') as f:\n",
        "  dev_data = json.load(f)\n",
        "\n",
        "with open(test_path,'r',encoding='utf-8') as f:\n",
        "  test_data = json.load(f)\n"
      ],
      "metadata": {
        "id": "OOKBiKrx02ss"
      },
      "execution_count": 8,
      "outputs": []
    },
    {
      "cell_type": "code",
      "source": [
        "train_df = pd.DataFrame(columns=['context','question','answers'])\n",
        "for row in train_data:\n",
        "  for par in row['paragraphs']:\n",
        "    context = par['context']\n",
        "    qas = par['qas']\n",
        "    for qa in qas:\n",
        "      question = qa['question']\n",
        "      starts = []\n",
        "      texts = []\n",
        "      for ans in qa['answers']:\n",
        "        if len(ans) != 0:\n",
        "          answer_start = ans['answer_start']\n",
        "          answer_text = ans['text']\n",
        "        else:\n",
        "          answer_start = ''\n",
        "          answer_text = ''\n",
        "        starts.append(answer_start)\n",
        "        texts.append(answer_text)\n",
        "      train_df = train_df.append({'context': context, 'question': question, 'answers': {'answer_start': starts, 'text': texts}}, ignore_index=True)\n"
      ],
      "metadata": {
        "id": "ZdtOhMkOHfbZ"
      },
      "execution_count": 9,
      "outputs": []
    },
    {
      "cell_type": "code",
      "source": [
        "dev_df = pd.DataFrame(columns=['context','question','answers'])\n",
        "for row in dev_data:\n",
        "  for par in row['paragraphs']:\n",
        "    context = par['context']\n",
        "    qas = par['qas']\n",
        "    for qa in qas:\n",
        "      question = qa['question']\n",
        "      starts = []\n",
        "      texts = []\n",
        "      for ans in qa['answers']:\n",
        "        if len(ans) != 0:\n",
        "          answer_start = ans['answer_start']\n",
        "          answer_text = ans['text']\n",
        "        else:\n",
        "          answer_start = ''\n",
        "          answer_text = ''\n",
        "        starts.append(answer_start)\n",
        "        texts.append(answer_text)\n",
        "      dev_df = dev_df.append({'context': context, 'question': question, 'answers': {'answer_start': starts, 'text': texts}}, ignore_index=True)\n"
      ],
      "metadata": {
        "id": "C8iQS2PFc0XC"
      },
      "execution_count": 10,
      "outputs": []
    },
    {
      "cell_type": "code",
      "source": [
        "test_df = pd.DataFrame(columns=['context','question','answers'])\n",
        "for row in test_data:\n",
        "  for par in row['paragraphs']:\n",
        "    context = par['context']\n",
        "    qas = par['qas']\n",
        "    for qa in qas:\n",
        "      question = qa['question']\n",
        "      starts = []\n",
        "      texts = []\n",
        "      for ans in qa['answers']:\n",
        "        if len(ans) != 0:\n",
        "          answer_start = ans['answer_start']\n",
        "          answer_text = ans['text']\n",
        "        else:\n",
        "          answer_start = ''\n",
        "          answer_text = ''\n",
        "        starts.append(answer_start)\n",
        "        texts.append(answer_text)\n",
        "      test_df = test_df.append({'context': context, 'question': question, 'answers': {'answer_start': starts, 'text': texts}}, ignore_index=True)\n"
      ],
      "metadata": {
        "id": "6zLzcuXv-XCj"
      },
      "execution_count": 11,
      "outputs": []
    },
    {
      "cell_type": "code",
      "source": [
        "print(train_df.shape)"
      ],
      "metadata": {
        "colab": {
          "base_uri": "https://localhost:8080/"
        },
        "id": "q5EJFNjFH6Yx",
        "outputId": "59892e19-4a10-450c-8a84-c9131209f49a"
      },
      "execution_count": 13,
      "outputs": [
        {
          "output_type": "stream",
          "name": "stdout",
          "text": [
            "(68010, 3)\n"
          ]
        }
      ]
    },
    {
      "cell_type": "code",
      "source": [
        "train_dataset = Dataset.from_pandas(train_df)\n",
        "dev_dataset = Dataset.from_pandas(dev_df)\n",
        "test_dataset = Dataset.from_pandas(test_df)"
      ],
      "metadata": {
        "id": "VL26I2ih-K0E"
      },
      "execution_count": 17,
      "outputs": []
    },
    {
      "cell_type": "code",
      "source": [
        "train_df = train_df.to_csv(DRIVE_PATH + 'Datasets/train.csv')\n",
        "dev_df = dev_df.to_csv(DRIVE_PATH + 'Datasets/dev.csv')\n",
        "test_df = test_df.to_csv(DRIVE_PATH + 'Datasets/test.csv')"
      ],
      "metadata": {
        "id": "8DWcNUxh2poC"
      },
      "execution_count": 25,
      "outputs": []
    },
    {
      "cell_type": "code",
      "source": [
        "train_dataset.save_to_disk(\"train.hf\")\n",
        "dev_dataset.save_to_disk(\"dev.hf\")\n",
        "test_dataset.save_to_disk(\"test.hf\")"
      ],
      "metadata": {
        "id": "GS2lA3zp_pbV"
      },
      "execution_count": 18,
      "outputs": []
    },
    {
      "cell_type": "code",
      "source": [
        "!cp -r '/content/train.hf' \"/content/drive/MyDrive/NLP_Final/Datasets/train.hf\"\n",
        "!cp -r '/content/test.hf' \"/content/drive/MyDrive/NLP_Final/Datasets/test.hf\"\n",
        "!cp -r '/content/dev.hf' \"/content/drive/MyDrive/NLP_Final/Datasets/dev.hf\""
      ],
      "metadata": {
        "id": "8c8BCOEOAGzT"
      },
      "execution_count": 22,
      "outputs": []
    },
    {
      "cell_type": "markdown",
      "source": [
        "# Load Datasets"
      ],
      "metadata": {
        "id": "JCPsA1f0BwCT"
      }
    },
    {
      "cell_type": "code",
      "source": [
        "train_dataset = load_from_disk(DRIVE_PATH + \"Datasets/train.hf\").shuffle(seed=42)\n",
        "dev_dataset = load_from_disk(DRIVE_PATH + \"Datasets/dev.hf\").shuffle(seed=42)\n",
        "test_dataset = load_from_disk(DRIVE_PATH + \"Datasets/test.hf\").shuffle(seed=42)"
      ],
      "metadata": {
        "id": "-mT5GIAIBscY"
      },
      "execution_count": 23,
      "outputs": []
    },
    {
      "cell_type": "code",
      "source": [
        "print(len(train_dataset))"
      ],
      "metadata": {
        "colab": {
          "base_uri": "https://localhost:8080/"
        },
        "id": "wCM25X_EHNPs",
        "outputId": "16a2f9af-841a-40c8-b28e-7ee57d779c7b"
      },
      "execution_count": 24,
      "outputs": [
        {
          "output_type": "stream",
          "name": "stdout",
          "text": [
            "68010\n"
          ]
        }
      ]
    },
    {
      "cell_type": "markdown",
      "source": [
        "# Tokenize Datasets"
      ],
      "metadata": {
        "id": "EgYAnFVzC2F_"
      }
    },
    {
      "cell_type": "code",
      "metadata": {
        "colab": {
          "base_uri": "https://localhost:8080/",
          "height": 213,
          "referenced_widgets": [
            "e0706a349c11440d963f7c24099603a2",
            "91b56c3d72684318830eecc20d0dfd28",
            "9d1c25f1e08547c7aee129432feb85fc",
            "47b98c87e9344adeb3cf610450a445aa",
            "16501223d75b4f4696a6f71835b97173",
            "b0661f2362ee42f5ba36e33d6b11f9a8",
            "637a19c90bae4bc39cfa400f526ea9b6",
            "ccaeeab42c6f434fa95768d824a3d330",
            "6d52fb474a1e40b197a846692211d92f",
            "1f3ad09b8ef54579b2c7e2014ae35f58",
            "1b93bf8f61e64fd1acd92d254587a9dd",
            "7f0a70a8030b47d087a4a59831e53db3",
            "14926bfb68a6485db081d04c6edbcc10",
            "79139061aa9c41ceb2948e83bb84d04c",
            "5f95f256ceba442fae67c50f516ef510",
            "fc1585b06a0042a7ac6f4485f422ba94",
            "31735d2c40ae41a495382078b847e279",
            "bd1cfb67bae74269b9cf565bb933fb62",
            "8dd0cc8a369c4b289dca2784d3c445e9",
            "3cfd6fb2ff864e8e8f05ea7e4812c764",
            "cc98d99c6a39458fba0151f47196296f",
            "c601e9c24f644ddc991e44781373d6ad"
          ]
        },
        "id": "XMuH-jK9RK3O",
        "outputId": "d1049839-12e2-4650-da5b-c6d1efe8cd4c"
      },
      "source": [
        "tokenizer = AutoTokenizer.from_pretrained(model_checkpoint)"
      ],
      "execution_count": null,
      "outputs": [
        {
          "output_type": "display_data",
          "data": {
            "text/plain": [
              "Downloading config.json:   0%|          | 0.00/440 [00:00<?, ?B/s]"
            ],
            "application/vnd.jupyter.widget-view+json": {
              "version_major": 2,
              "version_minor": 0,
              "model_id": "e0706a349c11440d963f7c24099603a2"
            }
          },
          "metadata": {}
        },
        {
          "output_type": "display_data",
          "data": {
            "text/plain": [
              "Downloading vocab.txt:   0%|          | 0.00/1.14M [00:00<?, ?B/s]"
            ],
            "application/vnd.jupyter.widget-view+json": {
              "version_major": 2,
              "version_minor": 0,
              "model_id": "7f0a70a8030b47d087a4a59831e53db3"
            }
          },
          "metadata": {}
        }
      ]
    },
    {
      "cell_type": "code",
      "metadata": {
        "id": "Nu4uNtRjJkYI"
      },
      "source": [
        "def prepare_train_features(examples):\n",
        "    tokenized_examples = tokenizer(\n",
        "        examples[\"question\"],\n",
        "        examples[\"context\"],\n",
        "        truncation=\"only_second\",\n",
        "        max_length=max_length,\n",
        "        stride=doc_stride,\n",
        "        return_overflowing_tokens=True,\n",
        "        return_offsets_mapping=True,)\n",
        "    \n",
        "    sample_mapping = tokenized_examples.pop(\"overflow_to_sample_mapping\")\n",
        "    offset_mapping = tokenized_examples.pop(\"offset_mapping\")\n",
        "    tokenized_examples[\"start_positions\"] = []\n",
        "    tokenized_examples[\"end_positions\"] = []\n",
        "    for i, offsets in enumerate(offset_mapping):\n",
        "        # We will label impossible answers with the index of the CLS token.\n",
        "        input_ids = tokenized_examples[\"input_ids\"][i]\n",
        "        cls_index = input_ids.index(tokenizer.cls_token_id)\n",
        "        # Grab the sequence corresponding to that example (to know what is the context and what is the question).\n",
        "        sequence_ids = tokenized_examples.sequence_ids(i)\n",
        "        # One example can give several spans, this is the index of the example containing this span of text.\n",
        "        sample_index = sample_mapping[i]\n",
        "        answers = examples[\"answers\"][sample_index]\n",
        "        # If no answers are given, set the cls_index as answer.\n",
        "        if len(answers[\"answer_start\"]) == 0:\n",
        "            tokenized_examples[\"start_positions\"].append(cls_index)\n",
        "            tokenized_examples[\"end_positions\"].append(cls_index)\n",
        "        else:\n",
        "            # Start/end character index of the answer in the text.\n",
        "            start_char = answers[\"answer_start\"][0]\n",
        "            end_char = start_char + len(answers[\"text\"][0])\n",
        "            # Start token index of the current span in the text.\n",
        "            token_start_index = 0\n",
        "            while sequence_ids[token_start_index] != 1:\n",
        "                token_start_index += 1\n",
        "            # End token index of the current span in the text.\n",
        "            token_end_index = len(input_ids) - 1\n",
        "            while sequence_ids[token_end_index] != 1:\n",
        "                token_end_index -= 1\n",
        "            # Detect if the answer is out of the span (in which case this feature is labeled with the CLS index).\n",
        "            if not (offsets[token_start_index][0] <= start_char and offsets[token_end_index][1] >= end_char):\n",
        "                tokenized_examples[\"start_positions\"].append(cls_index)\n",
        "                tokenized_examples[\"end_positions\"].append(cls_index)\n",
        "            else:\n",
        "                # Otherwise move the token_start_index and token_end_index to the two ends of the answer.\n",
        "                # Note: we could go after the last offset if the answer is the last word (edge case).\n",
        "                while token_start_index < len(offsets) and offsets[token_start_index][0] <= start_char:\n",
        "                    token_start_index += 1\n",
        "                tokenized_examples[\"start_positions\"].append(token_start_index - 1)\n",
        "                while offsets[token_end_index][1] >= end_char:\n",
        "                    token_end_index -= 1\n",
        "                tokenized_examples[\"end_positions\"].append(token_end_index + 1)\n",
        "\n",
        "    return tokenized_examples"
      ],
      "execution_count": null,
      "outputs": []
    },
    {
      "cell_type": "code",
      "metadata": {
        "colab": {
          "base_uri": "https://localhost:8080/",
          "height": 160,
          "referenced_widgets": [
            "3476920aa03543c3a007c81de7f235b8",
            "d46bca2ecc40445bbe1f74ea21e8222b",
            "dcf597d9161d45ce81c493d4d9f76b5d",
            "b0a5739ccee8468a815fe7dc7d285d68",
            "c9395d07738b4ebc986485379c44bb50",
            "fc64b7487f044e6aadbb252ec129b21e",
            "a489a75e2fd847389470fca3bc267827",
            "8468eee6ee1b4eb7816fe1249fa30674",
            "b567706265cb43d8bd8d7b8793d2b83a",
            "86e785ee10a14afeaeeeee3bdb365a51",
            "05bbe576983f434b82358891cc3d3326"
          ]
        },
        "id": "sN9zgfIUJzyy",
        "outputId": "a91da717-7311-42f1-c37e-e481a808ee18"
      },
      "source": [
        "# the datasets library does cashing itself, batched is multitreading for fast-tokenizer\n",
        "tokenized_train = train_dataset.map(prepare_train_features, batched=True, remove_columns=train_dataset.column_names)\n",
        "tokenized_dev = dev_dataset.map(prepare_train_features, batched=True, remove_columns=dev_dataset.column_names)\n",
        "tokenized_test = test_dataset.map(prepare_train_features, batched=True, remove_columns=test_dataset.column_names)"
      ],
      "execution_count": null,
      "outputs": [
        {
          "output_type": "stream",
          "name": "stderr",
          "text": [
            "WARNING:datasets.arrow_dataset:Loading cached processed dataset at /content/drive/MyDrive/NLP_Final/Datasets/train.hf/cache-2e8d4e45d2f91e48.arrow\n"
          ]
        },
        {
          "output_type": "display_data",
          "data": {
            "text/plain": [
              "  0%|          | 0/2 [00:00<?, ?ba/s]"
            ],
            "application/vnd.jupyter.widget-view+json": {
              "version_major": 2,
              "version_minor": 0,
              "model_id": "3476920aa03543c3a007c81de7f235b8"
            }
          },
          "metadata": {}
        },
        {
          "output_type": "stream",
          "name": "stderr",
          "text": [
            "WARNING:datasets.arrow_dataset:Loading cached processed dataset at /content/drive/MyDrive/NLP_Final/Datasets/test.hf/cache-1d4b6ee487ae6057.arrow\n"
          ]
        }
      ]
    },
    {
      "cell_type": "markdown",
      "source": [
        "# Training "
      ],
      "metadata": {
        "id": "x63Cfr4sG1lR"
      }
    },
    {
      "cell_type": "code",
      "metadata": {
        "colab": {
          "base_uri": "https://localhost:8080/",
          "height": 158,
          "referenced_widgets": [
            "7743d06bffac4352bf2af9af9218a5e8",
            "47f75723e7cf4950a86fcd0725b1b595",
            "e9a9e60a63c14bb3869aad87f3337338",
            "52ef59266641487aa8f37db25b415fbe",
            "78eedd5556f64689b9e4fca13878da69",
            "a7b6ca86f32e47688d42b154d642cf9e",
            "2843e7fcb6894469909041b63aae3024",
            "80ef369986124056a0aae4c9cbb8f114",
            "2dbf37b018354efa8aef9d7b0c6971f5",
            "2ec316ee354546268e328d35a680a208",
            "f735d546ec4e4e7db3a84bf410eadb38"
          ]
        },
        "id": "vvWF4N5uKAKk",
        "outputId": "9ddc4144-21be-4ae3-f863-14c8356ad4b0"
      },
      "source": [
        "model = AutoModelForQuestionAnswering.from_pretrained(model_checkpoint)"
      ],
      "execution_count": null,
      "outputs": [
        {
          "output_type": "display_data",
          "data": {
            "text/plain": [
              "Downloading pytorch_model.bin:   0%|          | 0.00/624M [00:00<?, ?B/s]"
            ],
            "application/vnd.jupyter.widget-view+json": {
              "version_major": 2,
              "version_minor": 0,
              "model_id": "7743d06bffac4352bf2af9af9218a5e8"
            }
          },
          "metadata": {}
        },
        {
          "output_type": "stream",
          "name": "stderr",
          "text": [
            "Some weights of the model checkpoint at HooshvareLab/bert-fa-base-uncased were not used when initializing BertForQuestionAnswering: ['cls.predictions.transform.dense.weight', 'cls.predictions.bias', 'cls.seq_relationship.weight', 'cls.predictions.decoder.weight', 'cls.seq_relationship.bias', 'cls.predictions.transform.LayerNorm.weight', 'cls.predictions.decoder.bias', 'cls.predictions.transform.dense.bias', 'cls.predictions.transform.LayerNorm.bias']\n",
            "- This IS expected if you are initializing BertForQuestionAnswering from the checkpoint of a model trained on another task or with another architecture (e.g. initializing a BertForSequenceClassification model from a BertForPreTraining model).\n",
            "- This IS NOT expected if you are initializing BertForQuestionAnswering from the checkpoint of a model that you expect to be exactly identical (initializing a BertForSequenceClassification model from a BertForSequenceClassification model).\n",
            "Some weights of BertForQuestionAnswering were not initialized from the model checkpoint at HooshvareLab/bert-fa-base-uncased and are newly initialized: ['qa_outputs.weight', 'qa_outputs.bias']\n",
            "You should probably TRAIN this model on a down-stream task to be able to use it for predictions and inference.\n"
          ]
        }
      ]
    },
    {
      "cell_type": "code",
      "metadata": {
        "id": "k8WhilPvKD7M"
      },
      "source": [
        "args = TrainingArguments(\n",
        "    DRIVE_PATH + f\"checkpoints\",\n",
        "    save_strategy = 'epoch',\n",
        "    evaluation_strategy = \"epoch\",\n",
        "    learning_rate=lr,\n",
        "    per_device_train_batch_size=batch_size,\n",
        "    per_device_eval_batch_size=batch_size,\n",
        "    num_train_epochs=epoch,\n",
        "    weight_decay=0.0001) "
      ],
      "execution_count": null,
      "outputs": []
    },
    {
      "cell_type": "code",
      "metadata": {
        "id": "_JExLUgTKMue"
      },
      "source": [
        "trainer = Trainer(\n",
        "    model=model,\n",
        "    args=args,\n",
        "    train_dataset=tokenized_train,\n",
        "    eval_dataset=tokenized_dev,\n",
        "    tokenizer=tokenizer)"
      ],
      "execution_count": null,
      "outputs": []
    },
    {
      "cell_type": "code",
      "metadata": {
        "id": "Q_B0VPLjKYxd",
        "colab": {
          "base_uri": "https://localhost:8080/",
          "height": 724
        },
        "outputId": "69ec5845-ca7e-44ba-a6d2-806992537724"
      },
      "source": [
        "# start training\n",
        "trainer.train()"
      ],
      "execution_count": null,
      "outputs": [
        {
          "output_type": "stream",
          "name": "stderr",
          "text": [
            "/usr/local/lib/python3.7/dist-packages/transformers/optimization.py:310: FutureWarning: This implementation of AdamW is deprecated and will be removed in a future version. Use the PyTorch implementation torch.optim.AdamW instead, or set `no_deprecation_warning=True` to disable this warning\n",
            "  FutureWarning,\n",
            "***** Running training *****\n",
            "  Num examples = 10190\n",
            "  Num Epochs = 2\n",
            "  Instantaneous batch size per device = 8\n",
            "  Total train batch size (w. parallel, distributed & accumulation) = 8\n",
            "  Gradient Accumulation steps = 1\n",
            "  Total optimization steps = 2548\n"
          ]
        },
        {
          "output_type": "display_data",
          "data": {
            "text/plain": [
              "<IPython.core.display.HTML object>"
            ],
            "text/html": [
              "\n",
              "    <div>\n",
              "      \n",
              "      <progress value='2548' max='2548' style='width:300px; height:20px; vertical-align: middle;'></progress>\n",
              "      [2548/2548 22:02, Epoch 2/2]\n",
              "    </div>\n",
              "    <table border=\"1\" class=\"dataframe\">\n",
              "  <thead>\n",
              " <tr style=\"text-align: left;\">\n",
              "      <th>Epoch</th>\n",
              "      <th>Training Loss</th>\n",
              "      <th>Validation Loss</th>\n",
              "    </tr>\n",
              "  </thead>\n",
              "  <tbody>\n",
              "    <tr>\n",
              "      <td>1</td>\n",
              "      <td>2.257700</td>\n",
              "      <td>1.919969</td>\n",
              "    </tr>\n",
              "    <tr>\n",
              "      <td>2</td>\n",
              "      <td>1.248800</td>\n",
              "      <td>1.974395</td>\n",
              "    </tr>\n",
              "  </tbody>\n",
              "</table><p>"
            ]
          },
          "metadata": {}
        },
        {
          "output_type": "stream",
          "name": "stderr",
          "text": [
            "***** Running Evaluation *****\n",
            "  Num examples = 1131\n",
            "  Batch size = 8\n",
            "Saving model checkpoint to /content/drive/MyDrive/PQA/checkpoints/checkpoint-1274\n",
            "Configuration saved in /content/drive/MyDrive/PQA/checkpoints/checkpoint-1274/config.json\n",
            "Model weights saved in /content/drive/MyDrive/PQA/checkpoints/checkpoint-1274/pytorch_model.bin\n",
            "tokenizer config file saved in /content/drive/MyDrive/PQA/checkpoints/checkpoint-1274/tokenizer_config.json\n",
            "Special tokens file saved in /content/drive/MyDrive/PQA/checkpoints/checkpoint-1274/special_tokens_map.json\n",
            "***** Running Evaluation *****\n",
            "  Num examples = 1131\n",
            "  Batch size = 8\n",
            "Saving model checkpoint to /content/drive/MyDrive/PQA/checkpoints/checkpoint-2548\n",
            "Configuration saved in /content/drive/MyDrive/PQA/checkpoints/checkpoint-2548/config.json\n",
            "Model weights saved in /content/drive/MyDrive/PQA/checkpoints/checkpoint-2548/pytorch_model.bin\n",
            "tokenizer config file saved in /content/drive/MyDrive/PQA/checkpoints/checkpoint-2548/tokenizer_config.json\n",
            "Special tokens file saved in /content/drive/MyDrive/PQA/checkpoints/checkpoint-2548/special_tokens_map.json\n",
            "\n",
            "\n",
            "Training completed. Do not forget to share your model on huggingface.co/models =)\n",
            "\n",
            "\n"
          ]
        },
        {
          "output_type": "execute_result",
          "data": {
            "text/plain": [
              "TrainOutput(global_step=2548, training_loss=1.879437657690123, metrics={'train_runtime': 1326.1042, 'train_samples_per_second': 15.368, 'train_steps_per_second': 1.921, 'total_flos': 2878037816711832.0, 'train_loss': 1.879437657690123, 'epoch': 2.0})"
            ]
          },
          "metadata": {},
          "execution_count": 15
        }
      ]
    },
    {
      "cell_type": "markdown",
      "source": [
        "# Test Model"
      ],
      "metadata": {
        "id": "wQXLYbjYGyO5"
      }
    },
    {
      "cell_type": "code",
      "source": [
        "!pip install -q sentencepiece\n",
        "\n",
        "from tqdm import tqdm\n",
        "from IPython.display import clear_output\n",
        "import torch\n",
        "from transformers import AutoModelForQuestionAnswering, AutoTokenizer\n"
      ],
      "metadata": {
        "id": "mkfeOCMpGu9e",
        "colab": {
          "base_uri": "https://localhost:8080/"
        },
        "outputId": "d57e39c0-8f1e-4144-92c5-6ecf4d3fa898"
      },
      "execution_count": null,
      "outputs": [
        {
          "output_type": "stream",
          "name": "stdout",
          "text": [
            "\u001b[?25l\r\u001b[K     |▎                               | 10 kB 30.9 MB/s eta 0:00:01\r\u001b[K     |▌                               | 20 kB 21.6 MB/s eta 0:00:01\r\u001b[K     |▊                               | 30 kB 16.4 MB/s eta 0:00:01\r\u001b[K     |█                               | 40 kB 14.2 MB/s eta 0:00:01\r\u001b[K     |█▎                              | 51 kB 6.4 MB/s eta 0:00:01\r\u001b[K     |█▌                              | 61 kB 7.6 MB/s eta 0:00:01\r\u001b[K     |█▉                              | 71 kB 8.1 MB/s eta 0:00:01\r\u001b[K     |██                              | 81 kB 7.8 MB/s eta 0:00:01\r\u001b[K     |██▎                             | 92 kB 8.7 MB/s eta 0:00:01\r\u001b[K     |██▋                             | 102 kB 7.0 MB/s eta 0:00:01\r\u001b[K     |██▉                             | 112 kB 7.0 MB/s eta 0:00:01\r\u001b[K     |███                             | 122 kB 7.0 MB/s eta 0:00:01\r\u001b[K     |███▍                            | 133 kB 7.0 MB/s eta 0:00:01\r\u001b[K     |███▋                            | 143 kB 7.0 MB/s eta 0:00:01\r\u001b[K     |███▉                            | 153 kB 7.0 MB/s eta 0:00:01\r\u001b[K     |████                            | 163 kB 7.0 MB/s eta 0:00:01\r\u001b[K     |████▍                           | 174 kB 7.0 MB/s eta 0:00:01\r\u001b[K     |████▋                           | 184 kB 7.0 MB/s eta 0:00:01\r\u001b[K     |████▉                           | 194 kB 7.0 MB/s eta 0:00:01\r\u001b[K     |█████▏                          | 204 kB 7.0 MB/s eta 0:00:01\r\u001b[K     |█████▍                          | 215 kB 7.0 MB/s eta 0:00:01\r\u001b[K     |█████▋                          | 225 kB 7.0 MB/s eta 0:00:01\r\u001b[K     |██████                          | 235 kB 7.0 MB/s eta 0:00:01\r\u001b[K     |██████▏                         | 245 kB 7.0 MB/s eta 0:00:01\r\u001b[K     |██████▍                         | 256 kB 7.0 MB/s eta 0:00:01\r\u001b[K     |██████▊                         | 266 kB 7.0 MB/s eta 0:00:01\r\u001b[K     |███████                         | 276 kB 7.0 MB/s eta 0:00:01\r\u001b[K     |███████▏                        | 286 kB 7.0 MB/s eta 0:00:01\r\u001b[K     |███████▍                        | 296 kB 7.0 MB/s eta 0:00:01\r\u001b[K     |███████▊                        | 307 kB 7.0 MB/s eta 0:00:01\r\u001b[K     |████████                        | 317 kB 7.0 MB/s eta 0:00:01\r\u001b[K     |████████▏                       | 327 kB 7.0 MB/s eta 0:00:01\r\u001b[K     |████████▌                       | 337 kB 7.0 MB/s eta 0:00:01\r\u001b[K     |████████▊                       | 348 kB 7.0 MB/s eta 0:00:01\r\u001b[K     |█████████                       | 358 kB 7.0 MB/s eta 0:00:01\r\u001b[K     |█████████▎                      | 368 kB 7.0 MB/s eta 0:00:01\r\u001b[K     |█████████▌                      | 378 kB 7.0 MB/s eta 0:00:01\r\u001b[K     |█████████▊                      | 389 kB 7.0 MB/s eta 0:00:01\r\u001b[K     |██████████                      | 399 kB 7.0 MB/s eta 0:00:01\r\u001b[K     |██████████▎                     | 409 kB 7.0 MB/s eta 0:00:01\r\u001b[K     |██████████▌                     | 419 kB 7.0 MB/s eta 0:00:01\r\u001b[K     |██████████▉                     | 430 kB 7.0 MB/s eta 0:00:01\r\u001b[K     |███████████                     | 440 kB 7.0 MB/s eta 0:00:01\r\u001b[K     |███████████▎                    | 450 kB 7.0 MB/s eta 0:00:01\r\u001b[K     |███████████▌                    | 460 kB 7.0 MB/s eta 0:00:01\r\u001b[K     |███████████▉                    | 471 kB 7.0 MB/s eta 0:00:01\r\u001b[K     |████████████                    | 481 kB 7.0 MB/s eta 0:00:01\r\u001b[K     |████████████▎                   | 491 kB 7.0 MB/s eta 0:00:01\r\u001b[K     |████████████▋                   | 501 kB 7.0 MB/s eta 0:00:01\r\u001b[K     |████████████▉                   | 512 kB 7.0 MB/s eta 0:00:01\r\u001b[K     |█████████████                   | 522 kB 7.0 MB/s eta 0:00:01\r\u001b[K     |█████████████▍                  | 532 kB 7.0 MB/s eta 0:00:01\r\u001b[K     |█████████████▋                  | 542 kB 7.0 MB/s eta 0:00:01\r\u001b[K     |█████████████▉                  | 552 kB 7.0 MB/s eta 0:00:01\r\u001b[K     |██████████████▏                 | 563 kB 7.0 MB/s eta 0:00:01\r\u001b[K     |██████████████▍                 | 573 kB 7.0 MB/s eta 0:00:01\r\u001b[K     |██████████████▋                 | 583 kB 7.0 MB/s eta 0:00:01\r\u001b[K     |██████████████▉                 | 593 kB 7.0 MB/s eta 0:00:01\r\u001b[K     |███████████████▏                | 604 kB 7.0 MB/s eta 0:00:01\r\u001b[K     |███████████████▍                | 614 kB 7.0 MB/s eta 0:00:01\r\u001b[K     |███████████████▋                | 624 kB 7.0 MB/s eta 0:00:01\r\u001b[K     |████████████████                | 634 kB 7.0 MB/s eta 0:00:01\r\u001b[K     |████████████████▏               | 645 kB 7.0 MB/s eta 0:00:01\r\u001b[K     |████████████████▍               | 655 kB 7.0 MB/s eta 0:00:01\r\u001b[K     |████████████████▊               | 665 kB 7.0 MB/s eta 0:00:01\r\u001b[K     |█████████████████               | 675 kB 7.0 MB/s eta 0:00:01\r\u001b[K     |█████████████████▏              | 686 kB 7.0 MB/s eta 0:00:01\r\u001b[K     |█████████████████▌              | 696 kB 7.0 MB/s eta 0:00:01\r\u001b[K     |█████████████████▊              | 706 kB 7.0 MB/s eta 0:00:01\r\u001b[K     |██████████████████              | 716 kB 7.0 MB/s eta 0:00:01\r\u001b[K     |██████████████████▎             | 727 kB 7.0 MB/s eta 0:00:01\r\u001b[K     |██████████████████▌             | 737 kB 7.0 MB/s eta 0:00:01\r\u001b[K     |██████████████████▊             | 747 kB 7.0 MB/s eta 0:00:01\r\u001b[K     |███████████████████             | 757 kB 7.0 MB/s eta 0:00:01\r\u001b[K     |███████████████████▎            | 768 kB 7.0 MB/s eta 0:00:01\r\u001b[K     |███████████████████▌            | 778 kB 7.0 MB/s eta 0:00:01\r\u001b[K     |███████████████████▊            | 788 kB 7.0 MB/s eta 0:00:01\r\u001b[K     |████████████████████            | 798 kB 7.0 MB/s eta 0:00:01\r\u001b[K     |████████████████████▎           | 808 kB 7.0 MB/s eta 0:00:01\r\u001b[K     |████████████████████▌           | 819 kB 7.0 MB/s eta 0:00:01\r\u001b[K     |████████████████████▉           | 829 kB 7.0 MB/s eta 0:00:01\r\u001b[K     |█████████████████████           | 839 kB 7.0 MB/s eta 0:00:01\r\u001b[K     |█████████████████████▎          | 849 kB 7.0 MB/s eta 0:00:01\r\u001b[K     |█████████████████████▋          | 860 kB 7.0 MB/s eta 0:00:01\r\u001b[K     |█████████████████████▉          | 870 kB 7.0 MB/s eta 0:00:01\r\u001b[K     |██████████████████████          | 880 kB 7.0 MB/s eta 0:00:01\r\u001b[K     |██████████████████████▎         | 890 kB 7.0 MB/s eta 0:00:01\r\u001b[K     |██████████████████████▋         | 901 kB 7.0 MB/s eta 0:00:01\r\u001b[K     |██████████████████████▉         | 911 kB 7.0 MB/s eta 0:00:01\r\u001b[K     |███████████████████████         | 921 kB 7.0 MB/s eta 0:00:01\r\u001b[K     |███████████████████████▍        | 931 kB 7.0 MB/s eta 0:00:01\r\u001b[K     |███████████████████████▋        | 942 kB 7.0 MB/s eta 0:00:01\r\u001b[K     |███████████████████████▉        | 952 kB 7.0 MB/s eta 0:00:01\r\u001b[K     |████████████████████████▏       | 962 kB 7.0 MB/s eta 0:00:01\r\u001b[K     |████████████████████████▍       | 972 kB 7.0 MB/s eta 0:00:01\r\u001b[K     |████████████████████████▋       | 983 kB 7.0 MB/s eta 0:00:01\r\u001b[K     |█████████████████████████       | 993 kB 7.0 MB/s eta 0:00:01\r\u001b[K     |█████████████████████████▏      | 1.0 MB 7.0 MB/s eta 0:00:01\r\u001b[K     |█████████████████████████▍      | 1.0 MB 7.0 MB/s eta 0:00:01\r\u001b[K     |█████████████████████████▊      | 1.0 MB 7.0 MB/s eta 0:00:01\r\u001b[K     |██████████████████████████      | 1.0 MB 7.0 MB/s eta 0:00:01\r\u001b[K     |██████████████████████████▏     | 1.0 MB 7.0 MB/s eta 0:00:01\r\u001b[K     |██████████████████████████▍     | 1.1 MB 7.0 MB/s eta 0:00:01\r\u001b[K     |██████████████████████████▊     | 1.1 MB 7.0 MB/s eta 0:00:01\r\u001b[K     |███████████████████████████     | 1.1 MB 7.0 MB/s eta 0:00:01\r\u001b[K     |███████████████████████████▏    | 1.1 MB 7.0 MB/s eta 0:00:01\r\u001b[K     |███████████████████████████▌    | 1.1 MB 7.0 MB/s eta 0:00:01\r\u001b[K     |███████████████████████████▊    | 1.1 MB 7.0 MB/s eta 0:00:01\r\u001b[K     |████████████████████████████    | 1.1 MB 7.0 MB/s eta 0:00:01\r\u001b[K     |████████████████████████████▎   | 1.1 MB 7.0 MB/s eta 0:00:01\r\u001b[K     |████████████████████████████▌   | 1.1 MB 7.0 MB/s eta 0:00:01\r\u001b[K     |████████████████████████████▊   | 1.1 MB 7.0 MB/s eta 0:00:01\r\u001b[K     |█████████████████████████████   | 1.2 MB 7.0 MB/s eta 0:00:01\r\u001b[K     |█████████████████████████████▎  | 1.2 MB 7.0 MB/s eta 0:00:01\r\u001b[K     |█████████████████████████████▌  | 1.2 MB 7.0 MB/s eta 0:00:01\r\u001b[K     |█████████████████████████████▊  | 1.2 MB 7.0 MB/s eta 0:00:01\r\u001b[K     |██████████████████████████████  | 1.2 MB 7.0 MB/s eta 0:00:01\r\u001b[K     |██████████████████████████████▎ | 1.2 MB 7.0 MB/s eta 0:00:01\r\u001b[K     |██████████████████████████████▌ | 1.2 MB 7.0 MB/s eta 0:00:01\r\u001b[K     |██████████████████████████████▉ | 1.2 MB 7.0 MB/s eta 0:00:01\r\u001b[K     |███████████████████████████████ | 1.2 MB 7.0 MB/s eta 0:00:01\r\u001b[K     |███████████████████████████████▎| 1.2 MB 7.0 MB/s eta 0:00:01\r\u001b[K     |███████████████████████████████▋| 1.3 MB 7.0 MB/s eta 0:00:01\r\u001b[K     |███████████████████████████████▉| 1.3 MB 7.0 MB/s eta 0:00:01\r\u001b[K     |████████████████████████████████| 1.3 MB 7.0 MB/s \n",
            "\u001b[?25h"
          ]
        }
      ]
    },
    {
      "cell_type": "code",
      "source": [
        "DRIVE_PATH = \"/content/drive/MyDrive/NLP_Final/\"\n",
        "model_path = DRIVE_PATH + f\"checkpoints/checkpoint-2548/\"  ## load model trained for 2 epochs\n",
        "model = AutoModelForQuestionAnswering.from_pretrained(model_path)\n",
        "tokenizer = AutoTokenizer.from_pretrained(model_path)\n"
      ],
      "metadata": {
        "id": "rNJP-ZZrHaBE"
      },
      "execution_count": null,
      "outputs": []
    },
    {
      "cell_type": "code",
      "metadata": {
        "id": "842M_Yrz3WvF"
      },
      "source": [
        "class AnswerPredictor:\n",
        "  def __init__(self, model, tokenizer, device='cuda', n_best=10, max_length=512, stride=256, no_answer=False):\n",
        "      \"\"\"Initializes PyTorch Question Answering Prediction\n",
        "      It's best to leave use the default values.\n",
        "      Args:\n",
        "          model: Fine-tuned torch model\n",
        "          tokenizer: Transformers tokenizer\n",
        "          device (torch.device): Running device\n",
        "          n_best (int): Number of best possible answers\n",
        "          max_length (int): Tokenizer max length\n",
        "          stride (int): Tokenizer stride\n",
        "          no_answer (bool): If True, model can return \"no answer\"\n",
        "      \"\"\"\n",
        "      self.model = model.eval().to(device)\n",
        "      self.tokenizer = tokenizer\n",
        "      self.device = device\n",
        "      self.max_length = max_length\n",
        "      self.stride = stride\n",
        "      self.no_answer = no_answer\n",
        "      self.n_best = n_best\n",
        "\n",
        "\n",
        "  def model_pred(self, questions, contexts, batch_size=1):\n",
        "      n = len(contexts)\n",
        "      if n%batch_size!=0:\n",
        "          raise Exception(\"batch_size must be divisible by sample length\")\n",
        "\n",
        "      tokens = self.tokenizer(questions, contexts, add_special_tokens=True, \n",
        "                              return_token_type_ids=True, return_tensors=\"pt\", padding=True, \n",
        "                              return_offsets_mapping=True, truncation=\"only_second\", \n",
        "                              max_length=self.max_length, stride=self.stride)\n",
        "\n",
        "      start_logits, end_logits = [], []\n",
        "      for i in tqdm(range(0, n-batch_size+1, batch_size)):\n",
        "          with torch.no_grad():\n",
        "              out = self.model(tokens['input_ids'][i:i+batch_size].to(self.device), \n",
        "                          tokens['attention_mask'][i:i+batch_size].to(self.device), \n",
        "                          tokens['token_type_ids'][i:i+batch_size].to(self.device))\n",
        "\n",
        "              start_logits.append(out.start_logits)\n",
        "              end_logits.append(out.end_logits)\n",
        "\n",
        "      return tokens, torch.stack(start_logits).view(n, -1), torch.stack(end_logits).view(n, -1)\n",
        "\n",
        "\n",
        "  def __call__(self, questions, contexts, batch_size=1, answer_max_len=100):\n",
        "      \"\"\"Creates model prediction\n",
        "      \n",
        "      Args: \n",
        "          questions (list): Question strings\n",
        "          contexts (list): Contexts strings\n",
        "          batch_size (int): Batch size\n",
        "          answer_max_len (int): Sets the longests possible length for any answer\n",
        "        \n",
        "      Returns:\n",
        "          dict: The best prediction of the model\n",
        "              (e.g {0: {\"text\": str, \"score\": int}})\n",
        "      \"\"\"\n",
        "      tokens, starts, ends = self.model_pred(questions, contexts, batch_size=batch_size)\n",
        "      start_indexes = starts.argsort(dim=-1, descending=True)[:, :self.n_best]\n",
        "      end_indexes = ends.argsort(dim=-1, descending=True)[:, :self.n_best]\n",
        "\n",
        "      preds = {}\n",
        "      for i, (c, q) in enumerate(zip(contexts, questions)):  \n",
        "          min_null_score = starts[i][0] + ends[i][0] # 0 is CLS Token\n",
        "          start_context = tokens['input_ids'][i].tolist().index(self.tokenizer.sep_token_id)\n",
        "          \n",
        "          offset = tokens['offset_mapping'][i]\n",
        "          valid_answers = []\n",
        "          for start_index in start_indexes[i]:\n",
        "              # Don't consider answers that are in questions\n",
        "              if start_index<start_context:\n",
        "                  continue\n",
        "              for end_index in end_indexes[i]:\n",
        "                  # Don't consider out-of-scope answers, either because the indices are out of bounds or correspond\n",
        "                  # to part of the input_ids that are not in the context.\n",
        "                  if (start_index >= len(offset) or end_index >= len(offset)\n",
        "                      or offset[start_index] is None or offset[end_index] is None):\n",
        "                      continue\n",
        "                  # Don't consider answers with a length that is either < 0 or > max_answer_length.\n",
        "                  if end_index < start_index or (end_index-start_index+1) > answer_max_len:\n",
        "                      continue\n",
        "\n",
        "                  start_char = offset[start_index][0]\n",
        "                  end_char = offset[end_index][1]\n",
        "                  valid_answers.append({\"score\": (starts[i][start_index] + ends[i][end_index]).item(),\n",
        "                                        \"text\": c[start_char: end_char]})\n",
        "                  \n",
        "          if len(valid_answers) > 0:\n",
        "              best_answer = sorted(valid_answers, key=lambda x: x[\"score\"], reverse=True)[0]\n",
        "          else:\n",
        "              best_answer = {\"text\": \"\", \"score\": min_null_score}\n",
        "\n",
        "          if self.no_answer:\n",
        "              preds[i] = best_answer if best_answer[\"score\"] >= min_null_score else {\"text\": \"\", \"score\": min_null_score}\n",
        "          else:\n",
        "              preds[i] = best_answer\n",
        "\n",
        "      return preds\n"
      ],
      "execution_count": null,
      "outputs": []
    },
    {
      "cell_type": "code",
      "source": [
        ""
      ],
      "metadata": {
        "id": "QjCJ2-xZOaGY"
      },
      "execution_count": null,
      "outputs": []
    },
    {
      "cell_type": "code",
      "source": [
        "predictor = AnswerPredictor(model, tokenizer, device='cuda', n_best=10, no_answer=True)\n"
      ],
      "metadata": {
        "id": "2xrKiaeYJLf-"
      },
      "execution_count": null,
      "outputs": []
    },
    {
      "cell_type": "code",
      "source": [
        "test_dataset[8]"
      ],
      "metadata": {
        "colab": {
          "base_uri": "https://localhost:8080/"
        },
        "id": "JJH32GrFO0DT",
        "outputId": "5ae82924-52dc-4e40-d539-3c2a3dca4d71"
      },
      "execution_count": null,
      "outputs": [
        {
          "output_type": "execute_result",
          "data": {
            "text/plain": [
              "{'answers': {'answer_start': [712], 'text': ['گیاهان و یا چربی حیوانات']},\n",
              " 'context': 'ماده سوختنی ماده\\u200cای است که در اثر تغییرات (معمولاً شیمیائی) تولید انرژی مفید می\\u200cکند که بعداً می\\u200cتواند تبدیل به انرژی مکانیکی شود. این تغییرات معمولاً با سوختن (یعنی ترکیب با اکسیژن) همراه است. فرایندهای مورد استفاده برای تبدیل سوخت به انرژی عبارتند از: واکنش\\u200cهای شیمیایی مختلف و گرمازا، واکنش\\u200cهای هسته\\u200cای مانند شکافت هسته\\u200cای یا گداخت هسته\\u200cای. هیدروکربن\\u200cها تا حد زیادی شایع\\u200cترین منبع سوخت مورد استفاده توسط انسان است، اما در بسیاری از موارد فلزات رادیو اکتیو نیز استفاده می\\u200cشوند. اولین استفاده از سوخت توسط بشر ، احتراق و سوزاندن تکه های چوب در حدود 2 میلیون سال پیش توسط انسان راست قامت بود . به صورت کلی در طول تاریخ زندگی بشر که تا به حال با آن آشنا شده ایم ، تنها سوخت هایی که بیشترین استفاده را داشته است از گیاهان و یا چربی حیوانات بدست می آمده است و مورد استفاده انسان قرار گرفته است . انسان ها از 6000 سال قبل از میلاد مسیح برای ذوب آهن از زغال چوب و مشتقات چوب استفاده میکردند. بعد ها این سوخت ها جای خودشان را با کُک عوض کردند . به دلیل اینکه در حوالی قرن 18 جنگل های اروپا در حال نابودی بودند.',\n",
              " 'question': 'بیشتر سوختی مورد استفاده انسان از چی بدست میاد؟'}"
            ]
          },
          "metadata": {},
          "execution_count": 25
        }
      ]
    },
    {
      "cell_type": "code",
      "source": [
        "context = test_dataset[3]['context'] \n",
        "question = test_dataset[3]['question'] \n",
        "answer = test_dataset[3]['answers']['text']\n",
        "print(answer == [])\n",
        "\n",
        "\n",
        "preds = predictor([question], [context], batch_size=1)\n",
        "pred = preds[0]['text'].strip()\n",
        "print('\\n\\n Model Prediction: ', preds[0]['text'].strip())\n",
        "\n",
        "\n",
        "print(compute_exact_match(answer, pred))\n",
        "print(compute_f1(answer, pred))"
      ],
      "metadata": {
        "colab": {
          "base_uri": "https://localhost:8080/",
          "height": 433
        },
        "id": "WZkpZrQbJxjd",
        "outputId": "0cf2157e-9c7b-4b75-c173-46cc8216b56e"
      },
      "execution_count": null,
      "outputs": [
        {
          "output_type": "stream",
          "name": "stdout",
          "text": [
            "True\n"
          ]
        },
        {
          "output_type": "stream",
          "name": "stderr",
          "text": [
            "100%|██████████| 1/1 [00:00<00:00, 14.99it/s]"
          ]
        },
        {
          "output_type": "stream",
          "name": "stdout",
          "text": [
            "\n",
            "\n",
            " Model Prediction:  1990\n",
            "0\n"
          ]
        },
        {
          "output_type": "stream",
          "name": "stderr",
          "text": [
            "\n"
          ]
        },
        {
          "output_type": "error",
          "ename": "AttributeError",
          "evalue": "ignored",
          "traceback": [
            "\u001b[0;31m---------------------------------------------------------------------------\u001b[0m",
            "\u001b[0;31mAttributeError\u001b[0m                            Traceback (most recent call last)",
            "\u001b[0;32m<ipython-input-40-6ee463a86e83>\u001b[0m in \u001b[0;36m<module>\u001b[0;34m()\u001b[0m\n\u001b[1;32m     11\u001b[0m \u001b[0;34m\u001b[0m\u001b[0m\n\u001b[1;32m     12\u001b[0m \u001b[0mprint\u001b[0m\u001b[0;34m(\u001b[0m\u001b[0mcompute_exact_match\u001b[0m\u001b[0;34m(\u001b[0m\u001b[0manswer\u001b[0m\u001b[0;34m,\u001b[0m \u001b[0mpred\u001b[0m\u001b[0;34m)\u001b[0m\u001b[0;34m)\u001b[0m\u001b[0;34m\u001b[0m\u001b[0;34m\u001b[0m\u001b[0m\n\u001b[0;32m---> 13\u001b[0;31m \u001b[0mprint\u001b[0m\u001b[0;34m(\u001b[0m\u001b[0mcompute_f1\u001b[0m\u001b[0;34m(\u001b[0m\u001b[0manswer\u001b[0m\u001b[0;34m,\u001b[0m \u001b[0mpred\u001b[0m\u001b[0;34m)\u001b[0m\u001b[0;34m)\u001b[0m\u001b[0;34m\u001b[0m\u001b[0;34m\u001b[0m\u001b[0m\n\u001b[0m",
            "\u001b[0;32m<ipython-input-28-3a8999bb6e45>\u001b[0m in \u001b[0;36mcompute_f1\u001b[0;34m(prediction, answer)\u001b[0m\n\u001b[1;32m      1\u001b[0m \u001b[0;32mdef\u001b[0m \u001b[0mcompute_f1\u001b[0m\u001b[0;34m(\u001b[0m\u001b[0mprediction\u001b[0m\u001b[0;34m,\u001b[0m \u001b[0manswer\u001b[0m\u001b[0;34m)\u001b[0m\u001b[0;34m:\u001b[0m\u001b[0;34m\u001b[0m\u001b[0;34m\u001b[0m\u001b[0m\n\u001b[0;32m----> 2\u001b[0;31m     \u001b[0mpred_tokens\u001b[0m \u001b[0;34m=\u001b[0m \u001b[0mprediction\u001b[0m\u001b[0;34m.\u001b[0m\u001b[0msplit\u001b[0m\u001b[0;34m(\u001b[0m\u001b[0;34m)\u001b[0m\u001b[0;34m\u001b[0m\u001b[0;34m\u001b[0m\u001b[0m\n\u001b[0m\u001b[1;32m      3\u001b[0m     \u001b[0manswer_tokens\u001b[0m \u001b[0;34m=\u001b[0m \u001b[0manswer\u001b[0m\u001b[0;34m.\u001b[0m\u001b[0msplit\u001b[0m\u001b[0;34m(\u001b[0m\u001b[0;34m)\u001b[0m\u001b[0;34m\u001b[0m\u001b[0;34m\u001b[0m\u001b[0m\n\u001b[1;32m      4\u001b[0m \u001b[0;34m\u001b[0m\u001b[0m\n\u001b[1;32m      5\u001b[0m     \u001b[0;31m# if either the prediction or the truth is no-answer then f1 = 1 if they agree, 0 otherwise\u001b[0m\u001b[0;34m\u001b[0m\u001b[0;34m\u001b[0m\u001b[0;34m\u001b[0m\u001b[0m\n",
            "\u001b[0;31mAttributeError\u001b[0m: 'list' object has no attribute 'split'"
          ]
        }
      ]
    },
    {
      "cell_type": "code",
      "source": [
        "print(len(test_dataset))"
      ],
      "metadata": {
        "colab": {
          "base_uri": "https://localhost:8080/"
        },
        "id": "iHd0VXJ7Kkxw",
        "outputId": "9894ec9d-a658-4b29-cba4-b4cfee40d63c"
      },
      "execution_count": null,
      "outputs": [
        {
          "output_type": "stream",
          "name": "stdout",
          "text": [
            "1144\n"
          ]
        }
      ]
    },
    {
      "cell_type": "code",
      "source": [
        "def compute_f1(prediction, answer):\n",
        "    pred_tokens = prediction.split()\n",
        "    answer_tokens = answer.split()\n",
        "    \n",
        "    # if either the prediction or the truth is no-answer then f1 = 1 if they agree, 0 otherwise\n",
        "    if len(pred_tokens) == 0 or len(answer_tokens) == 0:\n",
        "        return int(pred_tokens == answer_tokens)\n",
        "    \n",
        "    common_tokens = set(pred_tokens) & set(answer_tokens)\n",
        "    \n",
        "    # if there are no common tokens then f1 = 0\n",
        "    if len(common_tokens) == 0:\n",
        "        return 0\n",
        "    \n",
        "    prec = len(common_tokens) / len(pred_tokens)\n",
        "    rec = len(common_tokens) / len(answer_tokens)\n",
        "    \n",
        "    return 2 * (prec * rec) / (prec + rec)"
      ],
      "metadata": {
        "id": "MiO1LuucJ7L4"
      },
      "execution_count": null,
      "outputs": []
    },
    {
      "cell_type": "code",
      "source": [
        "def compute_exact_match(prediction, answer):\n",
        "    return int(prediction == answer)"
      ],
      "metadata": {
        "id": "wOqiSunOJLtL"
      },
      "execution_count": null,
      "outputs": []
    },
    {
      "cell_type": "code",
      "source": [
        "EH = 0\n",
        "F1 = 0\n",
        "pred_df = pd.DataFrame(columns = ('answer', 'pred'))\n",
        "\n",
        "for example in test_dataset: \n",
        "\n",
        "  #print(len(example['answers']))\n",
        "  #if len(example['answers']) != 2: \n",
        "    #print(example['answers'])\n",
        "  if example['answers']['text'] == [] :\n",
        "    context = example['context'] \n",
        "    question = example['question'] \n",
        "    preds = predictor([question], [context], batch_size=1)\n",
        "    pred = preds[0]['text'].strip()\n",
        "    # if pred == [] : \n",
        "    #   EH += 1\n",
        "    #   F1 += 1\n",
        "\n",
        "    continue\n",
        "\n",
        "  context = example['context'] \n",
        "  question = example['question'] \n",
        "  answer = example['answers']['text'][0]\n",
        "  preds = predictor([question], [context], batch_size=1)\n",
        "  pred = preds[0]['text'].strip()\n",
        "  pred_df = pred_df.append({'answer':answer, 'pred': pred}, ignore_index=True)\n",
        "  # EH += compute_exact_match(pred, answer)\n",
        "  # F1 += compute_f1(pred, answer)\n",
        "\n",
        "# EH /= len(test_dataset)\n",
        "# F1 /= len(test_dataset)\n",
        "\n",
        "\n",
        "# print(EH)\n",
        "# print(F1)"
      ],
      "metadata": {
        "id": "7V5jgTEKLIhZ"
      },
      "execution_count": null,
      "outputs": []
    },
    {
      "cell_type": "code",
      "source": [
        "pred_df.shape\n"
      ],
      "metadata": {
        "id": "qTNqSB_lMss7",
        "colab": {
          "base_uri": "https://localhost:8080/"
        },
        "outputId": "6996c4e7-376e-4acd-bb47-268fd850e2bc"
      },
      "execution_count": null,
      "outputs": [
        {
          "output_type": "execute_result",
          "data": {
            "text/plain": [
              "(746, 2)"
            ]
          },
          "metadata": {},
          "execution_count": 23
        }
      ]
    }
  ]
}