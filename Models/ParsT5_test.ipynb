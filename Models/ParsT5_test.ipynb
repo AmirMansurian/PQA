{
  "nbformat": 4,
  "nbformat_minor": 0,
  "metadata": {
    "colab": {
      "name": "NLP_final.ipynb",
      "provenance": [],
      "collapsed_sections": []
    },
    "kernelspec": {
      "name": "python3",
      "display_name": "Python 3"
    },
    "language_info": {
      "name": "python"
    }
  },
  "cells": [
    {
      "cell_type": "markdown",
      "source": [
        "# How to test:"
      ],
      "metadata": {
        "id": "zTZ5AeKCeoZv"
      }
    },
    {
      "cell_type": "markdown",
      "source": [
        "model output on test set is saved; just use it."
      ],
      "metadata": {
        "id": "bICpM74tgU4y"
      }
    },
    {
      "cell_type": "code",
      "execution_count": 1,
      "metadata": {
        "id": "LTonawVWbTZp",
        "colab": {
          "base_uri": "https://localhost:8080/"
        },
        "outputId": "2414b2c5-44d8-483d-d986-8b453692b7f6"
      },
      "outputs": [
        {
          "output_type": "stream",
          "name": "stdout",
          "text": [
            "Mounted at ./drive\n"
          ]
        }
      ],
      "source": [
        "from google.colab import drive\n",
        "drive.mount('./drive')"
      ]
    },
    {
      "cell_type": "code",
      "source": [
        "import pandas as pd\n",
        "import numpy as np\n",
        "df = pd.read_csv('/content/drive/MyDrive/parsT5_QA/model_4/outs.csv', index_col=0)\n",
        "df"
      ],
      "metadata": {
        "colab": {
          "base_uri": "https://localhost:8080/",
          "height": 424
        },
        "id": "Cft9RyR37weZ",
        "outputId": "bfd4249f-4339-430c-ba41-feb4132514e5"
      },
      "execution_count": 19,
      "outputs": [
        {
          "output_type": "execute_result",
          "data": {
            "text/plain": [
              "                                          pred  \\\n",
              "0                                    بدون پاسخ   \n",
              "1                                    بدون پاسخ   \n",
              "2                                    بدون پاسخ   \n",
              "3                            نوآوری در فن آوری   \n",
              "4                                ثبت نام اقامت   \n",
              "...                                        ...   \n",
              "6651                            34 میلیون پوند   \n",
              "6652  نمونه های زمین، ماه ، مریخ و شهاب سنگ ها   \n",
              "6653                                 بدون پاسخ   \n",
              "6654                                 بدون پاسخ   \n",
              "6655                                      1974   \n",
              "\n",
              "                                                 target  \n",
              "0                                             بدون پاسخ  \n",
              "1                                    ,اسفنج,اسفنج,اسفنج  \n",
              "2                                             بدون پاسخ  \n",
              "3                                       ,جزئی,جزئی,جزئی  \n",
              "4                                             بدون پاسخ  \n",
              "...                                                 ...  \n",
              "6651  ,34 میلیون پوند,34 میلیون پوند,34 میلیون پوند ...  \n",
              "6652                                          بدون پاسخ  \n",
              "6653                                          بدون پاسخ  \n",
              "6654                                          بدون پاسخ  \n",
              "6655                                    ,1974,1974,1974  \n",
              "\n",
              "[6656 rows x 2 columns]"
            ],
            "text/html": [
              "\n",
              "  <div id=\"df-22e7028e-b09d-4acc-aed2-510cb4b5fa29\">\n",
              "    <div class=\"colab-df-container\">\n",
              "      <div>\n",
              "<style scoped>\n",
              "    .dataframe tbody tr th:only-of-type {\n",
              "        vertical-align: middle;\n",
              "    }\n",
              "\n",
              "    .dataframe tbody tr th {\n",
              "        vertical-align: top;\n",
              "    }\n",
              "\n",
              "    .dataframe thead th {\n",
              "        text-align: right;\n",
              "    }\n",
              "</style>\n",
              "<table border=\"1\" class=\"dataframe\">\n",
              "  <thead>\n",
              "    <tr style=\"text-align: right;\">\n",
              "      <th></th>\n",
              "      <th>pred</th>\n",
              "      <th>target</th>\n",
              "    </tr>\n",
              "  </thead>\n",
              "  <tbody>\n",
              "    <tr>\n",
              "      <th>0</th>\n",
              "      <td>بدون پاسخ</td>\n",
              "      <td>بدون پاسخ</td>\n",
              "    </tr>\n",
              "    <tr>\n",
              "      <th>1</th>\n",
              "      <td>بدون پاسخ</td>\n",
              "      <td>,اسفنج,اسفنج,اسفنج</td>\n",
              "    </tr>\n",
              "    <tr>\n",
              "      <th>2</th>\n",
              "      <td>بدون پاسخ</td>\n",
              "      <td>بدون پاسخ</td>\n",
              "    </tr>\n",
              "    <tr>\n",
              "      <th>3</th>\n",
              "      <td>نوآوری در فن آوری</td>\n",
              "      <td>,جزئی,جزئی,جزئی</td>\n",
              "    </tr>\n",
              "    <tr>\n",
              "      <th>4</th>\n",
              "      <td>ثبت نام اقامت</td>\n",
              "      <td>بدون پاسخ</td>\n",
              "    </tr>\n",
              "    <tr>\n",
              "      <th>...</th>\n",
              "      <td>...</td>\n",
              "      <td>...</td>\n",
              "    </tr>\n",
              "    <tr>\n",
              "      <th>6651</th>\n",
              "      <td>34 میلیون پوند</td>\n",
              "      <td>,34 میلیون پوند,34 میلیون پوند,34 میلیون پوند ...</td>\n",
              "    </tr>\n",
              "    <tr>\n",
              "      <th>6652</th>\n",
              "      <td>نمونه های زمین، ماه ، مریخ و شهاب سنگ ها</td>\n",
              "      <td>بدون پاسخ</td>\n",
              "    </tr>\n",
              "    <tr>\n",
              "      <th>6653</th>\n",
              "      <td>بدون پاسخ</td>\n",
              "      <td>بدون پاسخ</td>\n",
              "    </tr>\n",
              "    <tr>\n",
              "      <th>6654</th>\n",
              "      <td>بدون پاسخ</td>\n",
              "      <td>بدون پاسخ</td>\n",
              "    </tr>\n",
              "    <tr>\n",
              "      <th>6655</th>\n",
              "      <td>1974</td>\n",
              "      <td>,1974,1974,1974</td>\n",
              "    </tr>\n",
              "  </tbody>\n",
              "</table>\n",
              "<p>6656 rows × 2 columns</p>\n",
              "</div>\n",
              "      <button class=\"colab-df-convert\" onclick=\"convertToInteractive('df-22e7028e-b09d-4acc-aed2-510cb4b5fa29')\"\n",
              "              title=\"Convert this dataframe to an interactive table.\"\n",
              "              style=\"display:none;\">\n",
              "        \n",
              "  <svg xmlns=\"http://www.w3.org/2000/svg\" height=\"24px\"viewBox=\"0 0 24 24\"\n",
              "       width=\"24px\">\n",
              "    <path d=\"M0 0h24v24H0V0z\" fill=\"none\"/>\n",
              "    <path d=\"M18.56 5.44l.94 2.06.94-2.06 2.06-.94-2.06-.94-.94-2.06-.94 2.06-2.06.94zm-11 1L8.5 8.5l.94-2.06 2.06-.94-2.06-.94L8.5 2.5l-.94 2.06-2.06.94zm10 10l.94 2.06.94-2.06 2.06-.94-2.06-.94-.94-2.06-.94 2.06-2.06.94z\"/><path d=\"M17.41 7.96l-1.37-1.37c-.4-.4-.92-.59-1.43-.59-.52 0-1.04.2-1.43.59L10.3 9.45l-7.72 7.72c-.78.78-.78 2.05 0 2.83L4 21.41c.39.39.9.59 1.41.59.51 0 1.02-.2 1.41-.59l7.78-7.78 2.81-2.81c.8-.78.8-2.07 0-2.86zM5.41 20L4 18.59l7.72-7.72 1.47 1.35L5.41 20z\"/>\n",
              "  </svg>\n",
              "      </button>\n",
              "      \n",
              "  <style>\n",
              "    .colab-df-container {\n",
              "      display:flex;\n",
              "      flex-wrap:wrap;\n",
              "      gap: 12px;\n",
              "    }\n",
              "\n",
              "    .colab-df-convert {\n",
              "      background-color: #E8F0FE;\n",
              "      border: none;\n",
              "      border-radius: 50%;\n",
              "      cursor: pointer;\n",
              "      display: none;\n",
              "      fill: #1967D2;\n",
              "      height: 32px;\n",
              "      padding: 0 0 0 0;\n",
              "      width: 32px;\n",
              "    }\n",
              "\n",
              "    .colab-df-convert:hover {\n",
              "      background-color: #E2EBFA;\n",
              "      box-shadow: 0px 1px 2px rgba(60, 64, 67, 0.3), 0px 1px 3px 1px rgba(60, 64, 67, 0.15);\n",
              "      fill: #174EA6;\n",
              "    }\n",
              "\n",
              "    [theme=dark] .colab-df-convert {\n",
              "      background-color: #3B4455;\n",
              "      fill: #D2E3FC;\n",
              "    }\n",
              "\n",
              "    [theme=dark] .colab-df-convert:hover {\n",
              "      background-color: #434B5C;\n",
              "      box-shadow: 0px 1px 3px 1px rgba(0, 0, 0, 0.15);\n",
              "      filter: drop-shadow(0px 1px 2px rgba(0, 0, 0, 0.3));\n",
              "      fill: #FFFFFF;\n",
              "    }\n",
              "  </style>\n",
              "\n",
              "      <script>\n",
              "        const buttonEl =\n",
              "          document.querySelector('#df-22e7028e-b09d-4acc-aed2-510cb4b5fa29 button.colab-df-convert');\n",
              "        buttonEl.style.display =\n",
              "          google.colab.kernel.accessAllowed ? 'block' : 'none';\n",
              "\n",
              "        async function convertToInteractive(key) {\n",
              "          const element = document.querySelector('#df-22e7028e-b09d-4acc-aed2-510cb4b5fa29');\n",
              "          const dataTable =\n",
              "            await google.colab.kernel.invokeFunction('convertToInteractive',\n",
              "                                                     [key], {});\n",
              "          if (!dataTable) return;\n",
              "\n",
              "          const docLinkHtml = 'Like what you see? Visit the ' +\n",
              "            '<a target=\"_blank\" href=https://colab.research.google.com/notebooks/data_table.ipynb>data table notebook</a>'\n",
              "            + ' to learn more about interactive tables.';\n",
              "          element.innerHTML = '';\n",
              "          dataTable['output_type'] = 'display_data';\n",
              "          await google.colab.output.renderOutput(dataTable, element);\n",
              "          const docLink = document.createElement('div');\n",
              "          docLink.innerHTML = docLinkHtml;\n",
              "          element.appendChild(docLink);\n",
              "        }\n",
              "      </script>\n",
              "    </div>\n",
              "  </div>\n",
              "  "
            ]
          },
          "metadata": {},
          "execution_count": 19
        }
      ]
    },
    {
      "cell_type": "code",
      "source": [
        "np.sum(df.pred == df.target)/6656"
      ],
      "metadata": {
        "colab": {
          "base_uri": "https://localhost:8080/"
        },
        "id": "y9zugUqB9yRw",
        "outputId": "3d05237e-88ff-484d-b367-1b3f02a636a4"
      },
      "execution_count": 11,
      "outputs": [
        {
          "output_type": "execute_result",
          "data": {
            "text/plain": [
              "0.45102163461538464"
            ]
          },
          "metadata": {},
          "execution_count": 11
        }
      ]
    },
    {
      "cell_type": "code",
      "source": [
        "count = 0\n",
        "for i in range(len(df)):\n",
        "    for j in df['target'][i].split(','):\n",
        "        if j == df['pred'][i]:\n",
        "            count += 1\n",
        "            break\n",
        "count/6656"
      ],
      "metadata": {
        "colab": {
          "base_uri": "https://localhost:8080/"
        },
        "id": "_O6_QsvM8cGx",
        "outputId": "f7f08df7-ccf9-4f0b-d3fa-b3283f206798"
      },
      "execution_count": 20,
      "outputs": [
        {
          "output_type": "execute_result",
          "data": {
            "text/plain": [
              "0.4621394230769231"
            ]
          },
          "metadata": {},
          "execution_count": 20
        }
      ]
    },
    {
      "cell_type": "markdown",
      "source": [
        "# How to predict:"
      ],
      "metadata": {
        "id": "tOh140qOWuWp"
      }
    },
    {
      "cell_type": "markdown",
      "source": [
        "download model files."
      ],
      "metadata": {
        "id": "6wxMA7BffA6e"
      }
    },
    {
      "cell_type": "code",
      "source": [
        "! gdown 1Lcs5eGTIhy0JUY9FW2pn-80m3CHyVtvQ"
      ],
      "metadata": {
        "colab": {
          "base_uri": "https://localhost:8080/"
        },
        "id": "Z1I9xw5uZt40",
        "outputId": "ff1e2a11-6cf6-47aa-8c73-bcb962777365"
      },
      "execution_count": 4,
      "outputs": [
        {
          "output_type": "stream",
          "name": "stdout",
          "text": [
            "Downloading...\n",
            "From: https://drive.google.com/uc?id=1Lcs5eGTIhy0JUY9FW2pn-80m3CHyVtvQ\n",
            "To: /content/ParsT5.zip\n",
            "100% 919M/919M [00:03<00:00, 234MB/s]\n"
          ]
        }
      ]
    },
    {
      "cell_type": "markdown",
      "source": [
        "unzip them."
      ],
      "metadata": {
        "id": "TvJaK-56glps"
      }
    },
    {
      "cell_type": "code",
      "source": [
        "! unzip ParsT5.zip"
      ],
      "metadata": {
        "colab": {
          "base_uri": "https://localhost:8080/"
        },
        "id": "H84g1j9daNfd",
        "outputId": "569a99b5-2e46-494f-bffd-b28c072082ba"
      },
      "execution_count": 5,
      "outputs": [
        {
          "output_type": "stream",
          "name": "stdout",
          "text": [
            "Archive:  ParsT5.zip\n",
            "   creating: content/drive/MyDrive/parsT5_QA/model_4/\n",
            "  inflating: content/drive/MyDrive/parsT5_QA/model_4/config.json  \n",
            "  inflating: content/drive/MyDrive/parsT5_QA/model_4/pytorch_model.bin  \n",
            "  inflating: content/drive/MyDrive/parsT5_QA/model_4/tokenizer_config.json  \n",
            "  inflating: content/drive/MyDrive/parsT5_QA/model_4/special_tokens_map.json  \n",
            "  inflating: content/drive/MyDrive/parsT5_QA/model_4/tokenizer.json  \n",
            "  inflating: content/drive/MyDrive/parsT5_QA/model_4/outs.csv  \n"
          ]
        }
      ]
    },
    {
      "cell_type": "code",
      "source": [
        "!pip install transformers"
      ],
      "metadata": {
        "id": "WPXRrkkgWzl4"
      },
      "execution_count": null,
      "outputs": []
    },
    {
      "cell_type": "markdown",
      "source": [
        "input should have following format:  \n",
        "متن: -پاراگراف مورد نظر-، پرسش: -پرسش مورد نظر-"
      ],
      "metadata": {
        "id": "ts47qsG0gqMq"
      }
    },
    {
      "cell_type": "code",
      "source": [
        "from transformers import T5ForConditionalGeneration, AutoTokenizer\n",
        "context = 'خوب، بد، زشت یک فیلم درژانر وسترن اسپاگتی حماسی است که توسط سرجو لئونه در سال ۱۹۶۶ در ایتالیا ساخته شد. زبانی که بازیگران این فیلم به آن تکلم می‌کنند مخلوطی از ایتالیایی و انگلیسی است. این فیلم سومین (و آخرین) فیلم از سه‌گانهٔ دلار (Dollars Trilogy) سرجو لئونه است. این فیلم در حال حاضر در فهرست ۲۵۰ فیلم برتر تاریخ سینما در وب‌گاه IMDB با امتیاز ۸٫۸ از ۱۰، رتبهٔ هشتم را به خود اختصاص داده‌است و به عنوان بهترین فیلم وسترن تاریخ سینمای جهان شناخته می‌شود. «خوب» (کلینت ایستوود، در فیلم، با نام «بلوندی») و «زشت» (ایلای والاک، در فیلم، با نام «توکو») با هم کار می‌کنند و با شگرد خاصی، به گول زدن کلانترهای مناطق مختلف و پول درآوردن از این راه می‌پردازند. «بد» (لی وان کلیف) آدمکشی حرفه‌ای است که به‌خاطر پول حاضر به انجام هر کاری است. «بد»، که در فیلم او را «اِنجل آیز (اِینجل آیز)» (به انگلیسی: Angel Eyes) صدا می‌کنند. به‌دنبال گنجی است که در طی جنگ‌های داخلی آمریکا، به دست سربازی به نام «جکسون»، که بعدها به «کارسون» نامش را تغییر داده، مخفی شده‌است.'\n",
        "question = 'در فیلم خوب بد زشت شخصیت ها کجایی صحبت می کنند؟'\n",
        "input = 'متن: ' + context + '، پرسش: ' + question"
      ],
      "metadata": {
        "id": "cdENERdKW7Bn"
      },
      "execution_count": 1,
      "outputs": []
    },
    {
      "cell_type": "markdown",
      "source": [
        "now just load the tokenizer and the trained model. use tokenizer to tokenize input, use the model to generate output tokens, aaaand use the decoder again to generate output string. remove padding and stop tokens."
      ],
      "metadata": {
        "id": "pRcafScbhF_U"
      }
    },
    {
      "cell_type": "code",
      "source": [
        "model_path = '/content/content/drive/MyDrive/parsT5_QA/model_4'\n",
        "tokenizer = AutoTokenizer.from_pretrained(model_path)\n",
        "model = T5ForConditionalGeneration.from_pretrained(model_path)\n",
        "\n",
        "input_ids = tokenizer.encode(input, return_tensors='pt')\n",
        "output_ids = model.generate(input_ids, max_length=150, num_beams=2, repetition_penalty=2.5, length_penalty=1.0, early_stopping=True)\n",
        "output = ' '.join([tokenizer.decode(id) for id in output_ids])\n",
        "print(output.replace('<pad>', '').replace('</s>', '').strip())"
      ],
      "metadata": {
        "colab": {
          "base_uri": "https://localhost:8080/"
        },
        "id": "MSFLcrqDcTsS",
        "outputId": "f7da6fa7-99c3-4e57-9e5e-4834e9bb1e1a"
      },
      "execution_count": 2,
      "outputs": [
        {
          "output_type": "stream",
          "name": "stdout",
          "text": [
            "بدون پاسخ\n"
          ]
        }
      ]
    },
    {
      "cell_type": "markdown",
      "source": [
        "the answer was wrong though :(((  \n",
        "  sorry that was the extent of my resources and abilities."
      ],
      "metadata": {
        "id": "jJ-FEFH6h83L"
      }
    }
  ]
}