{
  "nbformat": 4,
  "nbformat_minor": 0,
  "metadata": {
    "colab": {
      "name": "mbert.ipynb",
      "provenance": [],
      "collapsed_sections": []
    },
    "kernelspec": {
      "name": "python3",
      "display_name": "Python 3"
    },
    "language_info": {
      "name": "python"
    },
    "widgets": {
      "application/vnd.jupyter.widget-state+json": {
        "a0ff823c100e4de98d6759a4ff3e2c9f": {
          "model_module": "@jupyter-widgets/controls",
          "model_name": "HBoxModel",
          "model_module_version": "1.5.0",
          "state": {
            "_dom_classes": [],
            "_model_module": "@jupyter-widgets/controls",
            "_model_module_version": "1.5.0",
            "_model_name": "HBoxModel",
            "_view_count": null,
            "_view_module": "@jupyter-widgets/controls",
            "_view_module_version": "1.5.0",
            "_view_name": "HBoxView",
            "box_style": "",
            "children": [
              "IPY_MODEL_0b83cce5ad874b0a94d68ce4e215c4d9",
              "IPY_MODEL_dc9380d453c54156a4e264f48a80ddec",
              "IPY_MODEL_b9750ae188d74ce2910de269b554904b"
            ],
            "layout": "IPY_MODEL_a460b66b47044fbcba16c3d30bdf4b99"
          }
        },
        "0b83cce5ad874b0a94d68ce4e215c4d9": {
          "model_module": "@jupyter-widgets/controls",
          "model_name": "HTMLModel",
          "model_module_version": "1.5.0",
          "state": {
            "_dom_classes": [],
            "_model_module": "@jupyter-widgets/controls",
            "_model_module_version": "1.5.0",
            "_model_name": "HTMLModel",
            "_view_count": null,
            "_view_module": "@jupyter-widgets/controls",
            "_view_module_version": "1.5.0",
            "_view_name": "HTMLView",
            "description": "",
            "description_tooltip": null,
            "layout": "IPY_MODEL_b347ce18a4464991999de118c9033d24",
            "placeholder": "​",
            "style": "IPY_MODEL_a468b91b4aea414c9fd5b512f72b9620",
            "value": "Downloading tokenizer_config.json: 100%"
          }
        },
        "dc9380d453c54156a4e264f48a80ddec": {
          "model_module": "@jupyter-widgets/controls",
          "model_name": "FloatProgressModel",
          "model_module_version": "1.5.0",
          "state": {
            "_dom_classes": [],
            "_model_module": "@jupyter-widgets/controls",
            "_model_module_version": "1.5.0",
            "_model_name": "FloatProgressModel",
            "_view_count": null,
            "_view_module": "@jupyter-widgets/controls",
            "_view_module_version": "1.5.0",
            "_view_name": "ProgressView",
            "bar_style": "success",
            "description": "",
            "description_tooltip": null,
            "layout": "IPY_MODEL_22d3e816d1fa457fa82090eee57b9f8d",
            "max": 28,
            "min": 0,
            "orientation": "horizontal",
            "style": "IPY_MODEL_0c3dd2e217034c50a02e7f51c4dc7973",
            "value": 28
          }
        },
        "b9750ae188d74ce2910de269b554904b": {
          "model_module": "@jupyter-widgets/controls",
          "model_name": "HTMLModel",
          "model_module_version": "1.5.0",
          "state": {
            "_dom_classes": [],
            "_model_module": "@jupyter-widgets/controls",
            "_model_module_version": "1.5.0",
            "_model_name": "HTMLModel",
            "_view_count": null,
            "_view_module": "@jupyter-widgets/controls",
            "_view_module_version": "1.5.0",
            "_view_name": "HTMLView",
            "description": "",
            "description_tooltip": null,
            "layout": "IPY_MODEL_32d242b79e1642a1b7d75a797313bc93",
            "placeholder": "​",
            "style": "IPY_MODEL_7b08624b4324435d82e597a49a5a75b3",
            "value": " 28.0/28.0 [00:00&lt;00:00, 607B/s]"
          }
        },
        "a460b66b47044fbcba16c3d30bdf4b99": {
          "model_module": "@jupyter-widgets/base",
          "model_name": "LayoutModel",
          "model_module_version": "1.2.0",
          "state": {
            "_model_module": "@jupyter-widgets/base",
            "_model_module_version": "1.2.0",
            "_model_name": "LayoutModel",
            "_view_count": null,
            "_view_module": "@jupyter-widgets/base",
            "_view_module_version": "1.2.0",
            "_view_name": "LayoutView",
            "align_content": null,
            "align_items": null,
            "align_self": null,
            "border": null,
            "bottom": null,
            "display": null,
            "flex": null,
            "flex_flow": null,
            "grid_area": null,
            "grid_auto_columns": null,
            "grid_auto_flow": null,
            "grid_auto_rows": null,
            "grid_column": null,
            "grid_gap": null,
            "grid_row": null,
            "grid_template_areas": null,
            "grid_template_columns": null,
            "grid_template_rows": null,
            "height": null,
            "justify_content": null,
            "justify_items": null,
            "left": null,
            "margin": null,
            "max_height": null,
            "max_width": null,
            "min_height": null,
            "min_width": null,
            "object_fit": null,
            "object_position": null,
            "order": null,
            "overflow": null,
            "overflow_x": null,
            "overflow_y": null,
            "padding": null,
            "right": null,
            "top": null,
            "visibility": null,
            "width": null
          }
        },
        "b347ce18a4464991999de118c9033d24": {
          "model_module": "@jupyter-widgets/base",
          "model_name": "LayoutModel",
          "model_module_version": "1.2.0",
          "state": {
            "_model_module": "@jupyter-widgets/base",
            "_model_module_version": "1.2.0",
            "_model_name": "LayoutModel",
            "_view_count": null,
            "_view_module": "@jupyter-widgets/base",
            "_view_module_version": "1.2.0",
            "_view_name": "LayoutView",
            "align_content": null,
            "align_items": null,
            "align_self": null,
            "border": null,
            "bottom": null,
            "display": null,
            "flex": null,
            "flex_flow": null,
            "grid_area": null,
            "grid_auto_columns": null,
            "grid_auto_flow": null,
            "grid_auto_rows": null,
            "grid_column": null,
            "grid_gap": null,
            "grid_row": null,
            "grid_template_areas": null,
            "grid_template_columns": null,
            "grid_template_rows": null,
            "height": null,
            "justify_content": null,
            "justify_items": null,
            "left": null,
            "margin": null,
            "max_height": null,
            "max_width": null,
            "min_height": null,
            "min_width": null,
            "object_fit": null,
            "object_position": null,
            "order": null,
            "overflow": null,
            "overflow_x": null,
            "overflow_y": null,
            "padding": null,
            "right": null,
            "top": null,
            "visibility": null,
            "width": null
          }
        },
        "a468b91b4aea414c9fd5b512f72b9620": {
          "model_module": "@jupyter-widgets/controls",
          "model_name": "DescriptionStyleModel",
          "model_module_version": "1.5.0",
          "state": {
            "_model_module": "@jupyter-widgets/controls",
            "_model_module_version": "1.5.0",
            "_model_name": "DescriptionStyleModel",
            "_view_count": null,
            "_view_module": "@jupyter-widgets/base",
            "_view_module_version": "1.2.0",
            "_view_name": "StyleView",
            "description_width": ""
          }
        },
        "22d3e816d1fa457fa82090eee57b9f8d": {
          "model_module": "@jupyter-widgets/base",
          "model_name": "LayoutModel",
          "model_module_version": "1.2.0",
          "state": {
            "_model_module": "@jupyter-widgets/base",
            "_model_module_version": "1.2.0",
            "_model_name": "LayoutModel",
            "_view_count": null,
            "_view_module": "@jupyter-widgets/base",
            "_view_module_version": "1.2.0",
            "_view_name": "LayoutView",
            "align_content": null,
            "align_items": null,
            "align_self": null,
            "border": null,
            "bottom": null,
            "display": null,
            "flex": null,
            "flex_flow": null,
            "grid_area": null,
            "grid_auto_columns": null,
            "grid_auto_flow": null,
            "grid_auto_rows": null,
            "grid_column": null,
            "grid_gap": null,
            "grid_row": null,
            "grid_template_areas": null,
            "grid_template_columns": null,
            "grid_template_rows": null,
            "height": null,
            "justify_content": null,
            "justify_items": null,
            "left": null,
            "margin": null,
            "max_height": null,
            "max_width": null,
            "min_height": null,
            "min_width": null,
            "object_fit": null,
            "object_position": null,
            "order": null,
            "overflow": null,
            "overflow_x": null,
            "overflow_y": null,
            "padding": null,
            "right": null,
            "top": null,
            "visibility": null,
            "width": null
          }
        },
        "0c3dd2e217034c50a02e7f51c4dc7973": {
          "model_module": "@jupyter-widgets/controls",
          "model_name": "ProgressStyleModel",
          "model_module_version": "1.5.0",
          "state": {
            "_model_module": "@jupyter-widgets/controls",
            "_model_module_version": "1.5.0",
            "_model_name": "ProgressStyleModel",
            "_view_count": null,
            "_view_module": "@jupyter-widgets/base",
            "_view_module_version": "1.2.0",
            "_view_name": "StyleView",
            "bar_color": null,
            "description_width": ""
          }
        },
        "32d242b79e1642a1b7d75a797313bc93": {
          "model_module": "@jupyter-widgets/base",
          "model_name": "LayoutModel",
          "model_module_version": "1.2.0",
          "state": {
            "_model_module": "@jupyter-widgets/base",
            "_model_module_version": "1.2.0",
            "_model_name": "LayoutModel",
            "_view_count": null,
            "_view_module": "@jupyter-widgets/base",
            "_view_module_version": "1.2.0",
            "_view_name": "LayoutView",
            "align_content": null,
            "align_items": null,
            "align_self": null,
            "border": null,
            "bottom": null,
            "display": null,
            "flex": null,
            "flex_flow": null,
            "grid_area": null,
            "grid_auto_columns": null,
            "grid_auto_flow": null,
            "grid_auto_rows": null,
            "grid_column": null,
            "grid_gap": null,
            "grid_row": null,
            "grid_template_areas": null,
            "grid_template_columns": null,
            "grid_template_rows": null,
            "height": null,
            "justify_content": null,
            "justify_items": null,
            "left": null,
            "margin": null,
            "max_height": null,
            "max_width": null,
            "min_height": null,
            "min_width": null,
            "object_fit": null,
            "object_position": null,
            "order": null,
            "overflow": null,
            "overflow_x": null,
            "overflow_y": null,
            "padding": null,
            "right": null,
            "top": null,
            "visibility": null,
            "width": null
          }
        },
        "7b08624b4324435d82e597a49a5a75b3": {
          "model_module": "@jupyter-widgets/controls",
          "model_name": "DescriptionStyleModel",
          "model_module_version": "1.5.0",
          "state": {
            "_model_module": "@jupyter-widgets/controls",
            "_model_module_version": "1.5.0",
            "_model_name": "DescriptionStyleModel",
            "_view_count": null,
            "_view_module": "@jupyter-widgets/base",
            "_view_module_version": "1.2.0",
            "_view_name": "StyleView",
            "description_width": ""
          }
        },
        "41c5beaceb9d4786a36039f21a34ae62": {
          "model_module": "@jupyter-widgets/controls",
          "model_name": "HBoxModel",
          "model_module_version": "1.5.0",
          "state": {
            "_dom_classes": [],
            "_model_module": "@jupyter-widgets/controls",
            "_model_module_version": "1.5.0",
            "_model_name": "HBoxModel",
            "_view_count": null,
            "_view_module": "@jupyter-widgets/controls",
            "_view_module_version": "1.5.0",
            "_view_name": "HBoxView",
            "box_style": "",
            "children": [
              "IPY_MODEL_415f35e24179473884b5618654f38765",
              "IPY_MODEL_bcb0791702934c738158a8fd6f06cfeb",
              "IPY_MODEL_bbf564b3195e4d4cab7f7cccd834c706"
            ],
            "layout": "IPY_MODEL_969724533455401797fd20d8d31bf905"
          }
        },
        "415f35e24179473884b5618654f38765": {
          "model_module": "@jupyter-widgets/controls",
          "model_name": "HTMLModel",
          "model_module_version": "1.5.0",
          "state": {
            "_dom_classes": [],
            "_model_module": "@jupyter-widgets/controls",
            "_model_module_version": "1.5.0",
            "_model_name": "HTMLModel",
            "_view_count": null,
            "_view_module": "@jupyter-widgets/controls",
            "_view_module_version": "1.5.0",
            "_view_name": "HTMLView",
            "description": "",
            "description_tooltip": null,
            "layout": "IPY_MODEL_a704cf5fdb614d44926a95bf00bc8606",
            "placeholder": "​",
            "style": "IPY_MODEL_95f1d6d7430341038eccd84eb556f151",
            "value": "Downloading config.json: 100%"
          }
        },
        "bcb0791702934c738158a8fd6f06cfeb": {
          "model_module": "@jupyter-widgets/controls",
          "model_name": "FloatProgressModel",
          "model_module_version": "1.5.0",
          "state": {
            "_dom_classes": [],
            "_model_module": "@jupyter-widgets/controls",
            "_model_module_version": "1.5.0",
            "_model_name": "FloatProgressModel",
            "_view_count": null,
            "_view_module": "@jupyter-widgets/controls",
            "_view_module_version": "1.5.0",
            "_view_name": "ProgressView",
            "bar_style": "success",
            "description": "",
            "description_tooltip": null,
            "layout": "IPY_MODEL_b53254e2f8bc48f0ab1d286d0c2a975d",
            "max": 625,
            "min": 0,
            "orientation": "horizontal",
            "style": "IPY_MODEL_ace8615bd9a1417ebf83d2e415292ced",
            "value": 625
          }
        },
        "bbf564b3195e4d4cab7f7cccd834c706": {
          "model_module": "@jupyter-widgets/controls",
          "model_name": "HTMLModel",
          "model_module_version": "1.5.0",
          "state": {
            "_dom_classes": [],
            "_model_module": "@jupyter-widgets/controls",
            "_model_module_version": "1.5.0",
            "_model_name": "HTMLModel",
            "_view_count": null,
            "_view_module": "@jupyter-widgets/controls",
            "_view_module_version": "1.5.0",
            "_view_name": "HTMLView",
            "description": "",
            "description_tooltip": null,
            "layout": "IPY_MODEL_24f7f0c34e7240ecb8c26f8b6d047d8e",
            "placeholder": "​",
            "style": "IPY_MODEL_88ed7e661706436f80074238855a49ce",
            "value": " 625/625 [00:00&lt;00:00, 19.0kB/s]"
          }
        },
        "969724533455401797fd20d8d31bf905": {
          "model_module": "@jupyter-widgets/base",
          "model_name": "LayoutModel",
          "model_module_version": "1.2.0",
          "state": {
            "_model_module": "@jupyter-widgets/base",
            "_model_module_version": "1.2.0",
            "_model_name": "LayoutModel",
            "_view_count": null,
            "_view_module": "@jupyter-widgets/base",
            "_view_module_version": "1.2.0",
            "_view_name": "LayoutView",
            "align_content": null,
            "align_items": null,
            "align_self": null,
            "border": null,
            "bottom": null,
            "display": null,
            "flex": null,
            "flex_flow": null,
            "grid_area": null,
            "grid_auto_columns": null,
            "grid_auto_flow": null,
            "grid_auto_rows": null,
            "grid_column": null,
            "grid_gap": null,
            "grid_row": null,
            "grid_template_areas": null,
            "grid_template_columns": null,
            "grid_template_rows": null,
            "height": null,
            "justify_content": null,
            "justify_items": null,
            "left": null,
            "margin": null,
            "max_height": null,
            "max_width": null,
            "min_height": null,
            "min_width": null,
            "object_fit": null,
            "object_position": null,
            "order": null,
            "overflow": null,
            "overflow_x": null,
            "overflow_y": null,
            "padding": null,
            "right": null,
            "top": null,
            "visibility": null,
            "width": null
          }
        },
        "a704cf5fdb614d44926a95bf00bc8606": {
          "model_module": "@jupyter-widgets/base",
          "model_name": "LayoutModel",
          "model_module_version": "1.2.0",
          "state": {
            "_model_module": "@jupyter-widgets/base",
            "_model_module_version": "1.2.0",
            "_model_name": "LayoutModel",
            "_view_count": null,
            "_view_module": "@jupyter-widgets/base",
            "_view_module_version": "1.2.0",
            "_view_name": "LayoutView",
            "align_content": null,
            "align_items": null,
            "align_self": null,
            "border": null,
            "bottom": null,
            "display": null,
            "flex": null,
            "flex_flow": null,
            "grid_area": null,
            "grid_auto_columns": null,
            "grid_auto_flow": null,
            "grid_auto_rows": null,
            "grid_column": null,
            "grid_gap": null,
            "grid_row": null,
            "grid_template_areas": null,
            "grid_template_columns": null,
            "grid_template_rows": null,
            "height": null,
            "justify_content": null,
            "justify_items": null,
            "left": null,
            "margin": null,
            "max_height": null,
            "max_width": null,
            "min_height": null,
            "min_width": null,
            "object_fit": null,
            "object_position": null,
            "order": null,
            "overflow": null,
            "overflow_x": null,
            "overflow_y": null,
            "padding": null,
            "right": null,
            "top": null,
            "visibility": null,
            "width": null
          }
        },
        "95f1d6d7430341038eccd84eb556f151": {
          "model_module": "@jupyter-widgets/controls",
          "model_name": "DescriptionStyleModel",
          "model_module_version": "1.5.0",
          "state": {
            "_model_module": "@jupyter-widgets/controls",
            "_model_module_version": "1.5.0",
            "_model_name": "DescriptionStyleModel",
            "_view_count": null,
            "_view_module": "@jupyter-widgets/base",
            "_view_module_version": "1.2.0",
            "_view_name": "StyleView",
            "description_width": ""
          }
        },
        "b53254e2f8bc48f0ab1d286d0c2a975d": {
          "model_module": "@jupyter-widgets/base",
          "model_name": "LayoutModel",
          "model_module_version": "1.2.0",
          "state": {
            "_model_module": "@jupyter-widgets/base",
            "_model_module_version": "1.2.0",
            "_model_name": "LayoutModel",
            "_view_count": null,
            "_view_module": "@jupyter-widgets/base",
            "_view_module_version": "1.2.0",
            "_view_name": "LayoutView",
            "align_content": null,
            "align_items": null,
            "align_self": null,
            "border": null,
            "bottom": null,
            "display": null,
            "flex": null,
            "flex_flow": null,
            "grid_area": null,
            "grid_auto_columns": null,
            "grid_auto_flow": null,
            "grid_auto_rows": null,
            "grid_column": null,
            "grid_gap": null,
            "grid_row": null,
            "grid_template_areas": null,
            "grid_template_columns": null,
            "grid_template_rows": null,
            "height": null,
            "justify_content": null,
            "justify_items": null,
            "left": null,
            "margin": null,
            "max_height": null,
            "max_width": null,
            "min_height": null,
            "min_width": null,
            "object_fit": null,
            "object_position": null,
            "order": null,
            "overflow": null,
            "overflow_x": null,
            "overflow_y": null,
            "padding": null,
            "right": null,
            "top": null,
            "visibility": null,
            "width": null
          }
        },
        "ace8615bd9a1417ebf83d2e415292ced": {
          "model_module": "@jupyter-widgets/controls",
          "model_name": "ProgressStyleModel",
          "model_module_version": "1.5.0",
          "state": {
            "_model_module": "@jupyter-widgets/controls",
            "_model_module_version": "1.5.0",
            "_model_name": "ProgressStyleModel",
            "_view_count": null,
            "_view_module": "@jupyter-widgets/base",
            "_view_module_version": "1.2.0",
            "_view_name": "StyleView",
            "bar_color": null,
            "description_width": ""
          }
        },
        "24f7f0c34e7240ecb8c26f8b6d047d8e": {
          "model_module": "@jupyter-widgets/base",
          "model_name": "LayoutModel",
          "model_module_version": "1.2.0",
          "state": {
            "_model_module": "@jupyter-widgets/base",
            "_model_module_version": "1.2.0",
            "_model_name": "LayoutModel",
            "_view_count": null,
            "_view_module": "@jupyter-widgets/base",
            "_view_module_version": "1.2.0",
            "_view_name": "LayoutView",
            "align_content": null,
            "align_items": null,
            "align_self": null,
            "border": null,
            "bottom": null,
            "display": null,
            "flex": null,
            "flex_flow": null,
            "grid_area": null,
            "grid_auto_columns": null,
            "grid_auto_flow": null,
            "grid_auto_rows": null,
            "grid_column": null,
            "grid_gap": null,
            "grid_row": null,
            "grid_template_areas": null,
            "grid_template_columns": null,
            "grid_template_rows": null,
            "height": null,
            "justify_content": null,
            "justify_items": null,
            "left": null,
            "margin": null,
            "max_height": null,
            "max_width": null,
            "min_height": null,
            "min_width": null,
            "object_fit": null,
            "object_position": null,
            "order": null,
            "overflow": null,
            "overflow_x": null,
            "overflow_y": null,
            "padding": null,
            "right": null,
            "top": null,
            "visibility": null,
            "width": null
          }
        },
        "88ed7e661706436f80074238855a49ce": {
          "model_module": "@jupyter-widgets/controls",
          "model_name": "DescriptionStyleModel",
          "model_module_version": "1.5.0",
          "state": {
            "_model_module": "@jupyter-widgets/controls",
            "_model_module_version": "1.5.0",
            "_model_name": "DescriptionStyleModel",
            "_view_count": null,
            "_view_module": "@jupyter-widgets/base",
            "_view_module_version": "1.2.0",
            "_view_name": "StyleView",
            "description_width": ""
          }
        },
        "309c1ae8185649989560c1ed8f469e9f": {
          "model_module": "@jupyter-widgets/controls",
          "model_name": "HBoxModel",
          "model_module_version": "1.5.0",
          "state": {
            "_dom_classes": [],
            "_model_module": "@jupyter-widgets/controls",
            "_model_module_version": "1.5.0",
            "_model_name": "HBoxModel",
            "_view_count": null,
            "_view_module": "@jupyter-widgets/controls",
            "_view_module_version": "1.5.0",
            "_view_name": "HBoxView",
            "box_style": "",
            "children": [
              "IPY_MODEL_5c233f1f23d2414f8fcb4745b9708b3c",
              "IPY_MODEL_22ad084653c0494da3ca5cd95af83e46",
              "IPY_MODEL_a2b61ccae48549febc17685733195b26"
            ],
            "layout": "IPY_MODEL_7e9cc7353c5c46a09afb49de1feafc6f"
          }
        },
        "5c233f1f23d2414f8fcb4745b9708b3c": {
          "model_module": "@jupyter-widgets/controls",
          "model_name": "HTMLModel",
          "model_module_version": "1.5.0",
          "state": {
            "_dom_classes": [],
            "_model_module": "@jupyter-widgets/controls",
            "_model_module_version": "1.5.0",
            "_model_name": "HTMLModel",
            "_view_count": null,
            "_view_module": "@jupyter-widgets/controls",
            "_view_module_version": "1.5.0",
            "_view_name": "HTMLView",
            "description": "",
            "description_tooltip": null,
            "layout": "IPY_MODEL_f60b78c59da640b9bf1d6ec2ae8c8966",
            "placeholder": "​",
            "style": "IPY_MODEL_d77d99741b9540f18dad18564817e5b6",
            "value": "Downloading vocab.txt: 100%"
          }
        },
        "22ad084653c0494da3ca5cd95af83e46": {
          "model_module": "@jupyter-widgets/controls",
          "model_name": "FloatProgressModel",
          "model_module_version": "1.5.0",
          "state": {
            "_dom_classes": [],
            "_model_module": "@jupyter-widgets/controls",
            "_model_module_version": "1.5.0",
            "_model_name": "FloatProgressModel",
            "_view_count": null,
            "_view_module": "@jupyter-widgets/controls",
            "_view_module_version": "1.5.0",
            "_view_name": "ProgressView",
            "bar_style": "success",
            "description": "",
            "description_tooltip": null,
            "layout": "IPY_MODEL_435c7fbe4b714170873f8d0b764d3371",
            "max": 871891,
            "min": 0,
            "orientation": "horizontal",
            "style": "IPY_MODEL_c5e888d180d34e44bbb0fd92acfc8557",
            "value": 871891
          }
        },
        "a2b61ccae48549febc17685733195b26": {
          "model_module": "@jupyter-widgets/controls",
          "model_name": "HTMLModel",
          "model_module_version": "1.5.0",
          "state": {
            "_dom_classes": [],
            "_model_module": "@jupyter-widgets/controls",
            "_model_module_version": "1.5.0",
            "_model_name": "HTMLModel",
            "_view_count": null,
            "_view_module": "@jupyter-widgets/controls",
            "_view_module_version": "1.5.0",
            "_view_name": "HTMLView",
            "description": "",
            "description_tooltip": null,
            "layout": "IPY_MODEL_289da50160ef4fbea70edd84e91f2a0b",
            "placeholder": "​",
            "style": "IPY_MODEL_0ff3a44e0d404b0c8623b66e20e555c6",
            "value": " 851k/851k [00:00&lt;00:00, 1.42MB/s]"
          }
        },
        "7e9cc7353c5c46a09afb49de1feafc6f": {
          "model_module": "@jupyter-widgets/base",
          "model_name": "LayoutModel",
          "model_module_version": "1.2.0",
          "state": {
            "_model_module": "@jupyter-widgets/base",
            "_model_module_version": "1.2.0",
            "_model_name": "LayoutModel",
            "_view_count": null,
            "_view_module": "@jupyter-widgets/base",
            "_view_module_version": "1.2.0",
            "_view_name": "LayoutView",
            "align_content": null,
            "align_items": null,
            "align_self": null,
            "border": null,
            "bottom": null,
            "display": null,
            "flex": null,
            "flex_flow": null,
            "grid_area": null,
            "grid_auto_columns": null,
            "grid_auto_flow": null,
            "grid_auto_rows": null,
            "grid_column": null,
            "grid_gap": null,
            "grid_row": null,
            "grid_template_areas": null,
            "grid_template_columns": null,
            "grid_template_rows": null,
            "height": null,
            "justify_content": null,
            "justify_items": null,
            "left": null,
            "margin": null,
            "max_height": null,
            "max_width": null,
            "min_height": null,
            "min_width": null,
            "object_fit": null,
            "object_position": null,
            "order": null,
            "overflow": null,
            "overflow_x": null,
            "overflow_y": null,
            "padding": null,
            "right": null,
            "top": null,
            "visibility": null,
            "width": null
          }
        },
        "f60b78c59da640b9bf1d6ec2ae8c8966": {
          "model_module": "@jupyter-widgets/base",
          "model_name": "LayoutModel",
          "model_module_version": "1.2.0",
          "state": {
            "_model_module": "@jupyter-widgets/base",
            "_model_module_version": "1.2.0",
            "_model_name": "LayoutModel",
            "_view_count": null,
            "_view_module": "@jupyter-widgets/base",
            "_view_module_version": "1.2.0",
            "_view_name": "LayoutView",
            "align_content": null,
            "align_items": null,
            "align_self": null,
            "border": null,
            "bottom": null,
            "display": null,
            "flex": null,
            "flex_flow": null,
            "grid_area": null,
            "grid_auto_columns": null,
            "grid_auto_flow": null,
            "grid_auto_rows": null,
            "grid_column": null,
            "grid_gap": null,
            "grid_row": null,
            "grid_template_areas": null,
            "grid_template_columns": null,
            "grid_template_rows": null,
            "height": null,
            "justify_content": null,
            "justify_items": null,
            "left": null,
            "margin": null,
            "max_height": null,
            "max_width": null,
            "min_height": null,
            "min_width": null,
            "object_fit": null,
            "object_position": null,
            "order": null,
            "overflow": null,
            "overflow_x": null,
            "overflow_y": null,
            "padding": null,
            "right": null,
            "top": null,
            "visibility": null,
            "width": null
          }
        },
        "d77d99741b9540f18dad18564817e5b6": {
          "model_module": "@jupyter-widgets/controls",
          "model_name": "DescriptionStyleModel",
          "model_module_version": "1.5.0",
          "state": {
            "_model_module": "@jupyter-widgets/controls",
            "_model_module_version": "1.5.0",
            "_model_name": "DescriptionStyleModel",
            "_view_count": null,
            "_view_module": "@jupyter-widgets/base",
            "_view_module_version": "1.2.0",
            "_view_name": "StyleView",
            "description_width": ""
          }
        },
        "435c7fbe4b714170873f8d0b764d3371": {
          "model_module": "@jupyter-widgets/base",
          "model_name": "LayoutModel",
          "model_module_version": "1.2.0",
          "state": {
            "_model_module": "@jupyter-widgets/base",
            "_model_module_version": "1.2.0",
            "_model_name": "LayoutModel",
            "_view_count": null,
            "_view_module": "@jupyter-widgets/base",
            "_view_module_version": "1.2.0",
            "_view_name": "LayoutView",
            "align_content": null,
            "align_items": null,
            "align_self": null,
            "border": null,
            "bottom": null,
            "display": null,
            "flex": null,
            "flex_flow": null,
            "grid_area": null,
            "grid_auto_columns": null,
            "grid_auto_flow": null,
            "grid_auto_rows": null,
            "grid_column": null,
            "grid_gap": null,
            "grid_row": null,
            "grid_template_areas": null,
            "grid_template_columns": null,
            "grid_template_rows": null,
            "height": null,
            "justify_content": null,
            "justify_items": null,
            "left": null,
            "margin": null,
            "max_height": null,
            "max_width": null,
            "min_height": null,
            "min_width": null,
            "object_fit": null,
            "object_position": null,
            "order": null,
            "overflow": null,
            "overflow_x": null,
            "overflow_y": null,
            "padding": null,
            "right": null,
            "top": null,
            "visibility": null,
            "width": null
          }
        },
        "c5e888d180d34e44bbb0fd92acfc8557": {
          "model_module": "@jupyter-widgets/controls",
          "model_name": "ProgressStyleModel",
          "model_module_version": "1.5.0",
          "state": {
            "_model_module": "@jupyter-widgets/controls",
            "_model_module_version": "1.5.0",
            "_model_name": "ProgressStyleModel",
            "_view_count": null,
            "_view_module": "@jupyter-widgets/base",
            "_view_module_version": "1.2.0",
            "_view_name": "StyleView",
            "bar_color": null,
            "description_width": ""
          }
        },
        "289da50160ef4fbea70edd84e91f2a0b": {
          "model_module": "@jupyter-widgets/base",
          "model_name": "LayoutModel",
          "model_module_version": "1.2.0",
          "state": {
            "_model_module": "@jupyter-widgets/base",
            "_model_module_version": "1.2.0",
            "_model_name": "LayoutModel",
            "_view_count": null,
            "_view_module": "@jupyter-widgets/base",
            "_view_module_version": "1.2.0",
            "_view_name": "LayoutView",
            "align_content": null,
            "align_items": null,
            "align_self": null,
            "border": null,
            "bottom": null,
            "display": null,
            "flex": null,
            "flex_flow": null,
            "grid_area": null,
            "grid_auto_columns": null,
            "grid_auto_flow": null,
            "grid_auto_rows": null,
            "grid_column": null,
            "grid_gap": null,
            "grid_row": null,
            "grid_template_areas": null,
            "grid_template_columns": null,
            "grid_template_rows": null,
            "height": null,
            "justify_content": null,
            "justify_items": null,
            "left": null,
            "margin": null,
            "max_height": null,
            "max_width": null,
            "min_height": null,
            "min_width": null,
            "object_fit": null,
            "object_position": null,
            "order": null,
            "overflow": null,
            "overflow_x": null,
            "overflow_y": null,
            "padding": null,
            "right": null,
            "top": null,
            "visibility": null,
            "width": null
          }
        },
        "0ff3a44e0d404b0c8623b66e20e555c6": {
          "model_module": "@jupyter-widgets/controls",
          "model_name": "DescriptionStyleModel",
          "model_module_version": "1.5.0",
          "state": {
            "_model_module": "@jupyter-widgets/controls",
            "_model_module_version": "1.5.0",
            "_model_name": "DescriptionStyleModel",
            "_view_count": null,
            "_view_module": "@jupyter-widgets/base",
            "_view_module_version": "1.2.0",
            "_view_name": "StyleView",
            "description_width": ""
          }
        },
        "8cd22dd66c764b6f9ca01c6cba2da1bc": {
          "model_module": "@jupyter-widgets/controls",
          "model_name": "HBoxModel",
          "model_module_version": "1.5.0",
          "state": {
            "_dom_classes": [],
            "_model_module": "@jupyter-widgets/controls",
            "_model_module_version": "1.5.0",
            "_model_name": "HBoxModel",
            "_view_count": null,
            "_view_module": "@jupyter-widgets/controls",
            "_view_module_version": "1.5.0",
            "_view_name": "HBoxView",
            "box_style": "",
            "children": [
              "IPY_MODEL_77c9e11ce1554f8997d46d133f7f6633",
              "IPY_MODEL_d943d4118fc3451bbb2a33dfe0202085",
              "IPY_MODEL_856a422488e748779baf8541f1f5aee2"
            ],
            "layout": "IPY_MODEL_60d543f98ca84928b7894a60a47f4760"
          }
        },
        "77c9e11ce1554f8997d46d133f7f6633": {
          "model_module": "@jupyter-widgets/controls",
          "model_name": "HTMLModel",
          "model_module_version": "1.5.0",
          "state": {
            "_dom_classes": [],
            "_model_module": "@jupyter-widgets/controls",
            "_model_module_version": "1.5.0",
            "_model_name": "HTMLModel",
            "_view_count": null,
            "_view_module": "@jupyter-widgets/controls",
            "_view_module_version": "1.5.0",
            "_view_name": "HTMLView",
            "description": "",
            "description_tooltip": null,
            "layout": "IPY_MODEL_f81a67a6bedc4675a53471497fc4b0be",
            "placeholder": "​",
            "style": "IPY_MODEL_3ba159e08ac543cb955751f3ac53b0a2",
            "value": "Downloading tokenizer.json: 100%"
          }
        },
        "d943d4118fc3451bbb2a33dfe0202085": {
          "model_module": "@jupyter-widgets/controls",
          "model_name": "FloatProgressModel",
          "model_module_version": "1.5.0",
          "state": {
            "_dom_classes": [],
            "_model_module": "@jupyter-widgets/controls",
            "_model_module_version": "1.5.0",
            "_model_name": "FloatProgressModel",
            "_view_count": null,
            "_view_module": "@jupyter-widgets/controls",
            "_view_module_version": "1.5.0",
            "_view_name": "ProgressView",
            "bar_style": "success",
            "description": "",
            "description_tooltip": null,
            "layout": "IPY_MODEL_d50591b66d4d4aafb2db88b47cc81f1a",
            "max": 1715180,
            "min": 0,
            "orientation": "horizontal",
            "style": "IPY_MODEL_b93dda99d437404d9ccf82039e25796a",
            "value": 1715180
          }
        },
        "856a422488e748779baf8541f1f5aee2": {
          "model_module": "@jupyter-widgets/controls",
          "model_name": "HTMLModel",
          "model_module_version": "1.5.0",
          "state": {
            "_dom_classes": [],
            "_model_module": "@jupyter-widgets/controls",
            "_model_module_version": "1.5.0",
            "_model_name": "HTMLModel",
            "_view_count": null,
            "_view_module": "@jupyter-widgets/controls",
            "_view_module_version": "1.5.0",
            "_view_name": "HTMLView",
            "description": "",
            "description_tooltip": null,
            "layout": "IPY_MODEL_ac8f0487c1f641968c018da548cfe81c",
            "placeholder": "​",
            "style": "IPY_MODEL_ac64445878384c2fa99cbf8cab101ad5",
            "value": " 1.64M/1.64M [00:00&lt;00:00, 2.61MB/s]"
          }
        },
        "60d543f98ca84928b7894a60a47f4760": {
          "model_module": "@jupyter-widgets/base",
          "model_name": "LayoutModel",
          "model_module_version": "1.2.0",
          "state": {
            "_model_module": "@jupyter-widgets/base",
            "_model_module_version": "1.2.0",
            "_model_name": "LayoutModel",
            "_view_count": null,
            "_view_module": "@jupyter-widgets/base",
            "_view_module_version": "1.2.0",
            "_view_name": "LayoutView",
            "align_content": null,
            "align_items": null,
            "align_self": null,
            "border": null,
            "bottom": null,
            "display": null,
            "flex": null,
            "flex_flow": null,
            "grid_area": null,
            "grid_auto_columns": null,
            "grid_auto_flow": null,
            "grid_auto_rows": null,
            "grid_column": null,
            "grid_gap": null,
            "grid_row": null,
            "grid_template_areas": null,
            "grid_template_columns": null,
            "grid_template_rows": null,
            "height": null,
            "justify_content": null,
            "justify_items": null,
            "left": null,
            "margin": null,
            "max_height": null,
            "max_width": null,
            "min_height": null,
            "min_width": null,
            "object_fit": null,
            "object_position": null,
            "order": null,
            "overflow": null,
            "overflow_x": null,
            "overflow_y": null,
            "padding": null,
            "right": null,
            "top": null,
            "visibility": null,
            "width": null
          }
        },
        "f81a67a6bedc4675a53471497fc4b0be": {
          "model_module": "@jupyter-widgets/base",
          "model_name": "LayoutModel",
          "model_module_version": "1.2.0",
          "state": {
            "_model_module": "@jupyter-widgets/base",
            "_model_module_version": "1.2.0",
            "_model_name": "LayoutModel",
            "_view_count": null,
            "_view_module": "@jupyter-widgets/base",
            "_view_module_version": "1.2.0",
            "_view_name": "LayoutView",
            "align_content": null,
            "align_items": null,
            "align_self": null,
            "border": null,
            "bottom": null,
            "display": null,
            "flex": null,
            "flex_flow": null,
            "grid_area": null,
            "grid_auto_columns": null,
            "grid_auto_flow": null,
            "grid_auto_rows": null,
            "grid_column": null,
            "grid_gap": null,
            "grid_row": null,
            "grid_template_areas": null,
            "grid_template_columns": null,
            "grid_template_rows": null,
            "height": null,
            "justify_content": null,
            "justify_items": null,
            "left": null,
            "margin": null,
            "max_height": null,
            "max_width": null,
            "min_height": null,
            "min_width": null,
            "object_fit": null,
            "object_position": null,
            "order": null,
            "overflow": null,
            "overflow_x": null,
            "overflow_y": null,
            "padding": null,
            "right": null,
            "top": null,
            "visibility": null,
            "width": null
          }
        },
        "3ba159e08ac543cb955751f3ac53b0a2": {
          "model_module": "@jupyter-widgets/controls",
          "model_name": "DescriptionStyleModel",
          "model_module_version": "1.5.0",
          "state": {
            "_model_module": "@jupyter-widgets/controls",
            "_model_module_version": "1.5.0",
            "_model_name": "DescriptionStyleModel",
            "_view_count": null,
            "_view_module": "@jupyter-widgets/base",
            "_view_module_version": "1.2.0",
            "_view_name": "StyleView",
            "description_width": ""
          }
        },
        "d50591b66d4d4aafb2db88b47cc81f1a": {
          "model_module": "@jupyter-widgets/base",
          "model_name": "LayoutModel",
          "model_module_version": "1.2.0",
          "state": {
            "_model_module": "@jupyter-widgets/base",
            "_model_module_version": "1.2.0",
            "_model_name": "LayoutModel",
            "_view_count": null,
            "_view_module": "@jupyter-widgets/base",
            "_view_module_version": "1.2.0",
            "_view_name": "LayoutView",
            "align_content": null,
            "align_items": null,
            "align_self": null,
            "border": null,
            "bottom": null,
            "display": null,
            "flex": null,
            "flex_flow": null,
            "grid_area": null,
            "grid_auto_columns": null,
            "grid_auto_flow": null,
            "grid_auto_rows": null,
            "grid_column": null,
            "grid_gap": null,
            "grid_row": null,
            "grid_template_areas": null,
            "grid_template_columns": null,
            "grid_template_rows": null,
            "height": null,
            "justify_content": null,
            "justify_items": null,
            "left": null,
            "margin": null,
            "max_height": null,
            "max_width": null,
            "min_height": null,
            "min_width": null,
            "object_fit": null,
            "object_position": null,
            "order": null,
            "overflow": null,
            "overflow_x": null,
            "overflow_y": null,
            "padding": null,
            "right": null,
            "top": null,
            "visibility": null,
            "width": null
          }
        },
        "b93dda99d437404d9ccf82039e25796a": {
          "model_module": "@jupyter-widgets/controls",
          "model_name": "ProgressStyleModel",
          "model_module_version": "1.5.0",
          "state": {
            "_model_module": "@jupyter-widgets/controls",
            "_model_module_version": "1.5.0",
            "_model_name": "ProgressStyleModel",
            "_view_count": null,
            "_view_module": "@jupyter-widgets/base",
            "_view_module_version": "1.2.0",
            "_view_name": "StyleView",
            "bar_color": null,
            "description_width": ""
          }
        },
        "ac8f0487c1f641968c018da548cfe81c": {
          "model_module": "@jupyter-widgets/base",
          "model_name": "LayoutModel",
          "model_module_version": "1.2.0",
          "state": {
            "_model_module": "@jupyter-widgets/base",
            "_model_module_version": "1.2.0",
            "_model_name": "LayoutModel",
            "_view_count": null,
            "_view_module": "@jupyter-widgets/base",
            "_view_module_version": "1.2.0",
            "_view_name": "LayoutView",
            "align_content": null,
            "align_items": null,
            "align_self": null,
            "border": null,
            "bottom": null,
            "display": null,
            "flex": null,
            "flex_flow": null,
            "grid_area": null,
            "grid_auto_columns": null,
            "grid_auto_flow": null,
            "grid_auto_rows": null,
            "grid_column": null,
            "grid_gap": null,
            "grid_row": null,
            "grid_template_areas": null,
            "grid_template_columns": null,
            "grid_template_rows": null,
            "height": null,
            "justify_content": null,
            "justify_items": null,
            "left": null,
            "margin": null,
            "max_height": null,
            "max_width": null,
            "min_height": null,
            "min_width": null,
            "object_fit": null,
            "object_position": null,
            "order": null,
            "overflow": null,
            "overflow_x": null,
            "overflow_y": null,
            "padding": null,
            "right": null,
            "top": null,
            "visibility": null,
            "width": null
          }
        },
        "ac64445878384c2fa99cbf8cab101ad5": {
          "model_module": "@jupyter-widgets/controls",
          "model_name": "DescriptionStyleModel",
          "model_module_version": "1.5.0",
          "state": {
            "_model_module": "@jupyter-widgets/controls",
            "_model_module_version": "1.5.0",
            "_model_name": "DescriptionStyleModel",
            "_view_count": null,
            "_view_module": "@jupyter-widgets/base",
            "_view_module_version": "1.2.0",
            "_view_name": "StyleView",
            "description_width": ""
          }
        },
        "cbe3f8f27e7348eba69d7517ef61feb3": {
          "model_module": "@jupyter-widgets/controls",
          "model_name": "HBoxModel",
          "model_module_version": "1.5.0",
          "state": {
            "_dom_classes": [],
            "_model_module": "@jupyter-widgets/controls",
            "_model_module_version": "1.5.0",
            "_model_name": "HBoxModel",
            "_view_count": null,
            "_view_module": "@jupyter-widgets/controls",
            "_view_module_version": "1.5.0",
            "_view_name": "HBoxView",
            "box_style": "",
            "children": [
              "IPY_MODEL_77f411c1bb134e9c927d94d24eda049c",
              "IPY_MODEL_88a2c075cf70460eb6ddcca00c227469",
              "IPY_MODEL_6fdd28776619447189dea124a3b18744"
            ],
            "layout": "IPY_MODEL_e6c27d8957564900aacfe1aa2f9b15b0"
          }
        },
        "77f411c1bb134e9c927d94d24eda049c": {
          "model_module": "@jupyter-widgets/controls",
          "model_name": "HTMLModel",
          "model_module_version": "1.5.0",
          "state": {
            "_dom_classes": [],
            "_model_module": "@jupyter-widgets/controls",
            "_model_module_version": "1.5.0",
            "_model_name": "HTMLModel",
            "_view_count": null,
            "_view_module": "@jupyter-widgets/controls",
            "_view_module_version": "1.5.0",
            "_view_name": "HTMLView",
            "description": "",
            "description_tooltip": null,
            "layout": "IPY_MODEL_abc2901a6d3a4f6696f4716d0e07703d",
            "placeholder": "​",
            "style": "IPY_MODEL_a1043f67b835443987bc5a167e072535",
            "value": "100%"
          }
        },
        "88a2c075cf70460eb6ddcca00c227469": {
          "model_module": "@jupyter-widgets/controls",
          "model_name": "FloatProgressModel",
          "model_module_version": "1.5.0",
          "state": {
            "_dom_classes": [],
            "_model_module": "@jupyter-widgets/controls",
            "_model_module_version": "1.5.0",
            "_model_name": "FloatProgressModel",
            "_view_count": null,
            "_view_module": "@jupyter-widgets/controls",
            "_view_module_version": "1.5.0",
            "_view_name": "ProgressView",
            "bar_style": "success",
            "description": "",
            "description_tooltip": null,
            "layout": "IPY_MODEL_2e2a30fb2d074ffbb9c4a5d9a4a7e79b",
            "max": 6,
            "min": 0,
            "orientation": "horizontal",
            "style": "IPY_MODEL_e5e52cb4a60d4ec392bab0aa523dfa1b",
            "value": 6
          }
        },
        "6fdd28776619447189dea124a3b18744": {
          "model_module": "@jupyter-widgets/controls",
          "model_name": "HTMLModel",
          "model_module_version": "1.5.0",
          "state": {
            "_dom_classes": [],
            "_model_module": "@jupyter-widgets/controls",
            "_model_module_version": "1.5.0",
            "_model_name": "HTMLModel",
            "_view_count": null,
            "_view_module": "@jupyter-widgets/controls",
            "_view_module_version": "1.5.0",
            "_view_name": "HTMLView",
            "description": "",
            "description_tooltip": null,
            "layout": "IPY_MODEL_55d1536034584c2396c71f2c6c756f06",
            "placeholder": "​",
            "style": "IPY_MODEL_a9ac61a6a6724f80b1ea0a1dc35195ea",
            "value": " 6/6 [00:04&lt;00:00,  1.38ba/s]"
          }
        },
        "e6c27d8957564900aacfe1aa2f9b15b0": {
          "model_module": "@jupyter-widgets/base",
          "model_name": "LayoutModel",
          "model_module_version": "1.2.0",
          "state": {
            "_model_module": "@jupyter-widgets/base",
            "_model_module_version": "1.2.0",
            "_model_name": "LayoutModel",
            "_view_count": null,
            "_view_module": "@jupyter-widgets/base",
            "_view_module_version": "1.2.0",
            "_view_name": "LayoutView",
            "align_content": null,
            "align_items": null,
            "align_self": null,
            "border": null,
            "bottom": null,
            "display": null,
            "flex": null,
            "flex_flow": null,
            "grid_area": null,
            "grid_auto_columns": null,
            "grid_auto_flow": null,
            "grid_auto_rows": null,
            "grid_column": null,
            "grid_gap": null,
            "grid_row": null,
            "grid_template_areas": null,
            "grid_template_columns": null,
            "grid_template_rows": null,
            "height": null,
            "justify_content": null,
            "justify_items": null,
            "left": null,
            "margin": null,
            "max_height": null,
            "max_width": null,
            "min_height": null,
            "min_width": null,
            "object_fit": null,
            "object_position": null,
            "order": null,
            "overflow": null,
            "overflow_x": null,
            "overflow_y": null,
            "padding": null,
            "right": null,
            "top": null,
            "visibility": null,
            "width": null
          }
        },
        "abc2901a6d3a4f6696f4716d0e07703d": {
          "model_module": "@jupyter-widgets/base",
          "model_name": "LayoutModel",
          "model_module_version": "1.2.0",
          "state": {
            "_model_module": "@jupyter-widgets/base",
            "_model_module_version": "1.2.0",
            "_model_name": "LayoutModel",
            "_view_count": null,
            "_view_module": "@jupyter-widgets/base",
            "_view_module_version": "1.2.0",
            "_view_name": "LayoutView",
            "align_content": null,
            "align_items": null,
            "align_self": null,
            "border": null,
            "bottom": null,
            "display": null,
            "flex": null,
            "flex_flow": null,
            "grid_area": null,
            "grid_auto_columns": null,
            "grid_auto_flow": null,
            "grid_auto_rows": null,
            "grid_column": null,
            "grid_gap": null,
            "grid_row": null,
            "grid_template_areas": null,
            "grid_template_columns": null,
            "grid_template_rows": null,
            "height": null,
            "justify_content": null,
            "justify_items": null,
            "left": null,
            "margin": null,
            "max_height": null,
            "max_width": null,
            "min_height": null,
            "min_width": null,
            "object_fit": null,
            "object_position": null,
            "order": null,
            "overflow": null,
            "overflow_x": null,
            "overflow_y": null,
            "padding": null,
            "right": null,
            "top": null,
            "visibility": null,
            "width": null
          }
        },
        "a1043f67b835443987bc5a167e072535": {
          "model_module": "@jupyter-widgets/controls",
          "model_name": "DescriptionStyleModel",
          "model_module_version": "1.5.0",
          "state": {
            "_model_module": "@jupyter-widgets/controls",
            "_model_module_version": "1.5.0",
            "_model_name": "DescriptionStyleModel",
            "_view_count": null,
            "_view_module": "@jupyter-widgets/base",
            "_view_module_version": "1.2.0",
            "_view_name": "StyleView",
            "description_width": ""
          }
        },
        "2e2a30fb2d074ffbb9c4a5d9a4a7e79b": {
          "model_module": "@jupyter-widgets/base",
          "model_name": "LayoutModel",
          "model_module_version": "1.2.0",
          "state": {
            "_model_module": "@jupyter-widgets/base",
            "_model_module_version": "1.2.0",
            "_model_name": "LayoutModel",
            "_view_count": null,
            "_view_module": "@jupyter-widgets/base",
            "_view_module_version": "1.2.0",
            "_view_name": "LayoutView",
            "align_content": null,
            "align_items": null,
            "align_self": null,
            "border": null,
            "bottom": null,
            "display": null,
            "flex": null,
            "flex_flow": null,
            "grid_area": null,
            "grid_auto_columns": null,
            "grid_auto_flow": null,
            "grid_auto_rows": null,
            "grid_column": null,
            "grid_gap": null,
            "grid_row": null,
            "grid_template_areas": null,
            "grid_template_columns": null,
            "grid_template_rows": null,
            "height": null,
            "justify_content": null,
            "justify_items": null,
            "left": null,
            "margin": null,
            "max_height": null,
            "max_width": null,
            "min_height": null,
            "min_width": null,
            "object_fit": null,
            "object_position": null,
            "order": null,
            "overflow": null,
            "overflow_x": null,
            "overflow_y": null,
            "padding": null,
            "right": null,
            "top": null,
            "visibility": null,
            "width": null
          }
        },
        "e5e52cb4a60d4ec392bab0aa523dfa1b": {
          "model_module": "@jupyter-widgets/controls",
          "model_name": "ProgressStyleModel",
          "model_module_version": "1.5.0",
          "state": {
            "_model_module": "@jupyter-widgets/controls",
            "_model_module_version": "1.5.0",
            "_model_name": "ProgressStyleModel",
            "_view_count": null,
            "_view_module": "@jupyter-widgets/base",
            "_view_module_version": "1.2.0",
            "_view_name": "StyleView",
            "bar_color": null,
            "description_width": ""
          }
        },
        "55d1536034584c2396c71f2c6c756f06": {
          "model_module": "@jupyter-widgets/base",
          "model_name": "LayoutModel",
          "model_module_version": "1.2.0",
          "state": {
            "_model_module": "@jupyter-widgets/base",
            "_model_module_version": "1.2.0",
            "_model_name": "LayoutModel",
            "_view_count": null,
            "_view_module": "@jupyter-widgets/base",
            "_view_module_version": "1.2.0",
            "_view_name": "LayoutView",
            "align_content": null,
            "align_items": null,
            "align_self": null,
            "border": null,
            "bottom": null,
            "display": null,
            "flex": null,
            "flex_flow": null,
            "grid_area": null,
            "grid_auto_columns": null,
            "grid_auto_flow": null,
            "grid_auto_rows": null,
            "grid_column": null,
            "grid_gap": null,
            "grid_row": null,
            "grid_template_areas": null,
            "grid_template_columns": null,
            "grid_template_rows": null,
            "height": null,
            "justify_content": null,
            "justify_items": null,
            "left": null,
            "margin": null,
            "max_height": null,
            "max_width": null,
            "min_height": null,
            "min_width": null,
            "object_fit": null,
            "object_position": null,
            "order": null,
            "overflow": null,
            "overflow_x": null,
            "overflow_y": null,
            "padding": null,
            "right": null,
            "top": null,
            "visibility": null,
            "width": null
          }
        },
        "a9ac61a6a6724f80b1ea0a1dc35195ea": {
          "model_module": "@jupyter-widgets/controls",
          "model_name": "DescriptionStyleModel",
          "model_module_version": "1.5.0",
          "state": {
            "_model_module": "@jupyter-widgets/controls",
            "_model_module_version": "1.5.0",
            "_model_name": "DescriptionStyleModel",
            "_view_count": null,
            "_view_module": "@jupyter-widgets/base",
            "_view_module_version": "1.2.0",
            "_view_name": "StyleView",
            "description_width": ""
          }
        },
        "177759b392dd405bb11fb6eb29484c5a": {
          "model_module": "@jupyter-widgets/controls",
          "model_name": "HBoxModel",
          "model_module_version": "1.5.0",
          "state": {
            "_dom_classes": [],
            "_model_module": "@jupyter-widgets/controls",
            "_model_module_version": "1.5.0",
            "_model_name": "HBoxModel",
            "_view_count": null,
            "_view_module": "@jupyter-widgets/controls",
            "_view_module_version": "1.5.0",
            "_view_name": "HBoxView",
            "box_style": "",
            "children": [
              "IPY_MODEL_fa878f0d3e5a42b7adbcfd8f879f5b4a",
              "IPY_MODEL_20e842f98bc94f31b90bab74421265f3",
              "IPY_MODEL_a3c112d9c54d47938fd69c4facc63a8b"
            ],
            "layout": "IPY_MODEL_e45fc8d43ce74b64be5d1943b4f1c01e"
          }
        },
        "fa878f0d3e5a42b7adbcfd8f879f5b4a": {
          "model_module": "@jupyter-widgets/controls",
          "model_name": "HTMLModel",
          "model_module_version": "1.5.0",
          "state": {
            "_dom_classes": [],
            "_model_module": "@jupyter-widgets/controls",
            "_model_module_version": "1.5.0",
            "_model_name": "HTMLModel",
            "_view_count": null,
            "_view_module": "@jupyter-widgets/controls",
            "_view_module_version": "1.5.0",
            "_view_name": "HTMLView",
            "description": "",
            "description_tooltip": null,
            "layout": "IPY_MODEL_d34f6e82adf3419aa392f3b91b09a743",
            "placeholder": "​",
            "style": "IPY_MODEL_caf4f38be9e944529557bd20b5a333aa",
            "value": "Downloading pytorch_model.bin: 100%"
          }
        },
        "20e842f98bc94f31b90bab74421265f3": {
          "model_module": "@jupyter-widgets/controls",
          "model_name": "FloatProgressModel",
          "model_module_version": "1.5.0",
          "state": {
            "_dom_classes": [],
            "_model_module": "@jupyter-widgets/controls",
            "_model_module_version": "1.5.0",
            "_model_name": "FloatProgressModel",
            "_view_count": null,
            "_view_module": "@jupyter-widgets/controls",
            "_view_module_version": "1.5.0",
            "_view_name": "ProgressView",
            "bar_style": "success",
            "description": "",
            "description_tooltip": null,
            "layout": "IPY_MODEL_8d0357747e1549b6b119f6f0425d2e1a",
            "max": 672271273,
            "min": 0,
            "orientation": "horizontal",
            "style": "IPY_MODEL_3931cca31a854066a694e84ce31ca613",
            "value": 672271273
          }
        },
        "a3c112d9c54d47938fd69c4facc63a8b": {
          "model_module": "@jupyter-widgets/controls",
          "model_name": "HTMLModel",
          "model_module_version": "1.5.0",
          "state": {
            "_dom_classes": [],
            "_model_module": "@jupyter-widgets/controls",
            "_model_module_version": "1.5.0",
            "_model_name": "HTMLModel",
            "_view_count": null,
            "_view_module": "@jupyter-widgets/controls",
            "_view_module_version": "1.5.0",
            "_view_name": "HTMLView",
            "description": "",
            "description_tooltip": null,
            "layout": "IPY_MODEL_70711b38c8ef478eab456a8a02f6e612",
            "placeholder": "​",
            "style": "IPY_MODEL_6c0262e295db452891b19b1e75027362",
            "value": " 641M/641M [00:15&lt;00:00, 53.6MB/s]"
          }
        },
        "e45fc8d43ce74b64be5d1943b4f1c01e": {
          "model_module": "@jupyter-widgets/base",
          "model_name": "LayoutModel",
          "model_module_version": "1.2.0",
          "state": {
            "_model_module": "@jupyter-widgets/base",
            "_model_module_version": "1.2.0",
            "_model_name": "LayoutModel",
            "_view_count": null,
            "_view_module": "@jupyter-widgets/base",
            "_view_module_version": "1.2.0",
            "_view_name": "LayoutView",
            "align_content": null,
            "align_items": null,
            "align_self": null,
            "border": null,
            "bottom": null,
            "display": null,
            "flex": null,
            "flex_flow": null,
            "grid_area": null,
            "grid_auto_columns": null,
            "grid_auto_flow": null,
            "grid_auto_rows": null,
            "grid_column": null,
            "grid_gap": null,
            "grid_row": null,
            "grid_template_areas": null,
            "grid_template_columns": null,
            "grid_template_rows": null,
            "height": null,
            "justify_content": null,
            "justify_items": null,
            "left": null,
            "margin": null,
            "max_height": null,
            "max_width": null,
            "min_height": null,
            "min_width": null,
            "object_fit": null,
            "object_position": null,
            "order": null,
            "overflow": null,
            "overflow_x": null,
            "overflow_y": null,
            "padding": null,
            "right": null,
            "top": null,
            "visibility": null,
            "width": null
          }
        },
        "d34f6e82adf3419aa392f3b91b09a743": {
          "model_module": "@jupyter-widgets/base",
          "model_name": "LayoutModel",
          "model_module_version": "1.2.0",
          "state": {
            "_model_module": "@jupyter-widgets/base",
            "_model_module_version": "1.2.0",
            "_model_name": "LayoutModel",
            "_view_count": null,
            "_view_module": "@jupyter-widgets/base",
            "_view_module_version": "1.2.0",
            "_view_name": "LayoutView",
            "align_content": null,
            "align_items": null,
            "align_self": null,
            "border": null,
            "bottom": null,
            "display": null,
            "flex": null,
            "flex_flow": null,
            "grid_area": null,
            "grid_auto_columns": null,
            "grid_auto_flow": null,
            "grid_auto_rows": null,
            "grid_column": null,
            "grid_gap": null,
            "grid_row": null,
            "grid_template_areas": null,
            "grid_template_columns": null,
            "grid_template_rows": null,
            "height": null,
            "justify_content": null,
            "justify_items": null,
            "left": null,
            "margin": null,
            "max_height": null,
            "max_width": null,
            "min_height": null,
            "min_width": null,
            "object_fit": null,
            "object_position": null,
            "order": null,
            "overflow": null,
            "overflow_x": null,
            "overflow_y": null,
            "padding": null,
            "right": null,
            "top": null,
            "visibility": null,
            "width": null
          }
        },
        "caf4f38be9e944529557bd20b5a333aa": {
          "model_module": "@jupyter-widgets/controls",
          "model_name": "DescriptionStyleModel",
          "model_module_version": "1.5.0",
          "state": {
            "_model_module": "@jupyter-widgets/controls",
            "_model_module_version": "1.5.0",
            "_model_name": "DescriptionStyleModel",
            "_view_count": null,
            "_view_module": "@jupyter-widgets/base",
            "_view_module_version": "1.2.0",
            "_view_name": "StyleView",
            "description_width": ""
          }
        },
        "8d0357747e1549b6b119f6f0425d2e1a": {
          "model_module": "@jupyter-widgets/base",
          "model_name": "LayoutModel",
          "model_module_version": "1.2.0",
          "state": {
            "_model_module": "@jupyter-widgets/base",
            "_model_module_version": "1.2.0",
            "_model_name": "LayoutModel",
            "_view_count": null,
            "_view_module": "@jupyter-widgets/base",
            "_view_module_version": "1.2.0",
            "_view_name": "LayoutView",
            "align_content": null,
            "align_items": null,
            "align_self": null,
            "border": null,
            "bottom": null,
            "display": null,
            "flex": null,
            "flex_flow": null,
            "grid_area": null,
            "grid_auto_columns": null,
            "grid_auto_flow": null,
            "grid_auto_rows": null,
            "grid_column": null,
            "grid_gap": null,
            "grid_row": null,
            "grid_template_areas": null,
            "grid_template_columns": null,
            "grid_template_rows": null,
            "height": null,
            "justify_content": null,
            "justify_items": null,
            "left": null,
            "margin": null,
            "max_height": null,
            "max_width": null,
            "min_height": null,
            "min_width": null,
            "object_fit": null,
            "object_position": null,
            "order": null,
            "overflow": null,
            "overflow_x": null,
            "overflow_y": null,
            "padding": null,
            "right": null,
            "top": null,
            "visibility": null,
            "width": null
          }
        },
        "3931cca31a854066a694e84ce31ca613": {
          "model_module": "@jupyter-widgets/controls",
          "model_name": "ProgressStyleModel",
          "model_module_version": "1.5.0",
          "state": {
            "_model_module": "@jupyter-widgets/controls",
            "_model_module_version": "1.5.0",
            "_model_name": "ProgressStyleModel",
            "_view_count": null,
            "_view_module": "@jupyter-widgets/base",
            "_view_module_version": "1.2.0",
            "_view_name": "StyleView",
            "bar_color": null,
            "description_width": ""
          }
        },
        "70711b38c8ef478eab456a8a02f6e612": {
          "model_module": "@jupyter-widgets/base",
          "model_name": "LayoutModel",
          "model_module_version": "1.2.0",
          "state": {
            "_model_module": "@jupyter-widgets/base",
            "_model_module_version": "1.2.0",
            "_model_name": "LayoutModel",
            "_view_count": null,
            "_view_module": "@jupyter-widgets/base",
            "_view_module_version": "1.2.0",
            "_view_name": "LayoutView",
            "align_content": null,
            "align_items": null,
            "align_self": null,
            "border": null,
            "bottom": null,
            "display": null,
            "flex": null,
            "flex_flow": null,
            "grid_area": null,
            "grid_auto_columns": null,
            "grid_auto_flow": null,
            "grid_auto_rows": null,
            "grid_column": null,
            "grid_gap": null,
            "grid_row": null,
            "grid_template_areas": null,
            "grid_template_columns": null,
            "grid_template_rows": null,
            "height": null,
            "justify_content": null,
            "justify_items": null,
            "left": null,
            "margin": null,
            "max_height": null,
            "max_width": null,
            "min_height": null,
            "min_width": null,
            "object_fit": null,
            "object_position": null,
            "order": null,
            "overflow": null,
            "overflow_x": null,
            "overflow_y": null,
            "padding": null,
            "right": null,
            "top": null,
            "visibility": null,
            "width": null
          }
        },
        "6c0262e295db452891b19b1e75027362": {
          "model_module": "@jupyter-widgets/controls",
          "model_name": "DescriptionStyleModel",
          "model_module_version": "1.5.0",
          "state": {
            "_model_module": "@jupyter-widgets/controls",
            "_model_module_version": "1.5.0",
            "_model_name": "DescriptionStyleModel",
            "_view_count": null,
            "_view_module": "@jupyter-widgets/base",
            "_view_module_version": "1.2.0",
            "_view_name": "StyleView",
            "description_width": ""
          }
        }
      }
    },
    "accelerator": "GPU",
    "gpuClass": "standard"
  },
  "cells": [
    {
      "cell_type": "markdown",
      "metadata": {
        "id": "TNJLAXpNS0Gm"
      },
      "source": [
        "- Fine-tuning mBERT on PersianQA and ParSQuAD Datasets "
      ]
    },
    {
      "cell_type": "markdown",
      "source": [
        "[Model and Datasets Path](https://drive.google.com/drive/folders/1_lgylP6jWCZGiqmvJWO-u7NOoqpD7LUp?usp=sharing)"
      ],
      "metadata": {
        "id": "TlKep2doPrGt"
      }
    },
    {
      "cell_type": "markdown",
      "source": [
        "# Setup"
      ],
      "metadata": {
        "id": "mPcc83AACWhs"
      }
    },
    {
      "cell_type": "code",
      "metadata": {
        "id": "lHVN4l1TH-OY",
        "colab": {
          "base_uri": "https://localhost:8080/"
        },
        "outputId": "f7c606c1-c28d-4e80-fd3a-6f8bc55771d0"
      },
      "source": [
        "!pip install -q transformers\n",
        "!pip install -q datasets"
      ],
      "execution_count": 1,
      "outputs": [
        {
          "output_type": "stream",
          "name": "stdout",
          "text": [
            "\u001b[K     |████████████████████████████████| 4.7 MB 4.7 MB/s \n",
            "\u001b[K     |████████████████████████████████| 596 kB 59.1 MB/s \n",
            "\u001b[K     |████████████████████████████████| 101 kB 12.1 MB/s \n",
            "\u001b[K     |████████████████████████████████| 6.6 MB 44.7 MB/s \n",
            "\u001b[K     |████████████████████████████████| 365 kB 4.7 MB/s \n",
            "\u001b[K     |████████████████████████████████| 115 kB 61.4 MB/s \n",
            "\u001b[K     |████████████████████████████████| 141 kB 62.4 MB/s \n",
            "\u001b[K     |████████████████████████████████| 212 kB 64.9 MB/s \n",
            "\u001b[K     |████████████████████████████████| 127 kB 70.5 MB/s \n",
            "\u001b[?25h"
          ]
        }
      ]
    },
    {
      "cell_type": "code",
      "source": [
        "import json\n",
        "import pandas as pd"
      ],
      "metadata": {
        "id": "_J2Pr9Gx-YQ8"
      },
      "execution_count": 2,
      "outputs": []
    },
    {
      "cell_type": "code",
      "metadata": {
        "id": "wHCPGyyHIhOC"
      },
      "source": [
        "from datasets import load_dataset, load_from_disk, Dataset\n",
        "from transformers import AutoTokenizer, AutoModelForQuestionAnswering\n",
        "from transformers import TrainingArguments, Trainer"
      ],
      "execution_count": 3,
      "outputs": []
    },
    {
      "cell_type": "code",
      "source": [
        "from google.colab import drive\n",
        "drive.mount('/content/drive')"
      ],
      "metadata": {
        "colab": {
          "base_uri": "https://localhost:8080/"
        },
        "id": "VEhaGou2-JaD",
        "outputId": "fb449473-2b67-46bf-f11f-bf21dd5f4e72"
      },
      "execution_count": 4,
      "outputs": [
        {
          "output_type": "stream",
          "name": "stdout",
          "text": [
            "Mounted at /content/drive\n"
          ]
        }
      ]
    },
    {
      "cell_type": "code",
      "metadata": {
        "id": "gBbRz7mbJDqZ"
      },
      "source": [
        "model_checkpoint = \"bert-base-multilingual-uncased\"\n",
        "max_length = 512 # The maximum length of a feature (question and context)\n",
        "doc_stride = 256 # The authorized overlap between two part of the context when splitting it is needed.\n",
        "batch_size = 8\n",
        "lr = 3e-5\n",
        "epoch = 2\n",
        "DRIVE_PATH = \"/content/drive/MyDrive/NLP_Final/\"\n"
      ],
      "execution_count": 5,
      "outputs": []
    },
    {
      "cell_type": "markdown",
      "source": [
        "# Load and Process Data"
      ],
      "metadata": {
        "id": "8t0OVB2uCnD-"
      }
    },
    {
      "cell_type": "code",
      "execution_count": null,
      "metadata": {
        "id": "g94m667Vf3Sr"
      },
      "outputs": [],
      "source": [
        "train_path = DRIVE_PATH + 'train_merged.json'\n",
        "dev_path = DRIVE_PATH + 'dev_merged.json'\n",
        "test_path = DRIVE_PATH + 'test_merged.json'\n"
      ]
    },
    {
      "cell_type": "code",
      "source": [
        "with open(train_path,'r',encoding='utf-8') as f:\n",
        "  train_data = json.load(f)\n",
        "\n",
        "with open(dev_path,'r',encoding='utf-8') as f:\n",
        "  dev_data = json.load(f)\n",
        "\n",
        "with open(test_path,'r',encoding='utf-8') as f:\n",
        "  test_data = json.load(f)\n"
      ],
      "metadata": {
        "id": "OOKBiKrx02ss",
        "colab": {
          "base_uri": "https://localhost:8080/",
          "height": 236
        },
        "outputId": "84bf105c-dc8e-438c-b484-f784f1374820"
      },
      "execution_count": null,
      "outputs": [
        {
          "output_type": "error",
          "ename": "FileNotFoundError",
          "evalue": "ignored",
          "traceback": [
            "\u001b[0;31m---------------------------------------------------------------------------\u001b[0m",
            "\u001b[0;31mFileNotFoundError\u001b[0m                         Traceback (most recent call last)",
            "\u001b[0;32m<ipython-input-10-be4a08053c63>\u001b[0m in \u001b[0;36m<module>\u001b[0;34m()\u001b[0m\n\u001b[0;32m----> 1\u001b[0;31m \u001b[0;32mwith\u001b[0m \u001b[0mopen\u001b[0m\u001b[0;34m(\u001b[0m\u001b[0mtrain_path\u001b[0m\u001b[0;34m,\u001b[0m\u001b[0;34m'r'\u001b[0m\u001b[0;34m,\u001b[0m\u001b[0mencoding\u001b[0m\u001b[0;34m=\u001b[0m\u001b[0;34m'utf-8'\u001b[0m\u001b[0;34m)\u001b[0m \u001b[0;32mas\u001b[0m \u001b[0mf\u001b[0m\u001b[0;34m:\u001b[0m\u001b[0;34m\u001b[0m\u001b[0;34m\u001b[0m\u001b[0m\n\u001b[0m\u001b[1;32m      2\u001b[0m   \u001b[0mtrain_data\u001b[0m \u001b[0;34m=\u001b[0m \u001b[0mjson\u001b[0m\u001b[0;34m.\u001b[0m\u001b[0mload\u001b[0m\u001b[0;34m(\u001b[0m\u001b[0mf\u001b[0m\u001b[0;34m)\u001b[0m\u001b[0;34m\u001b[0m\u001b[0;34m\u001b[0m\u001b[0m\n\u001b[1;32m      3\u001b[0m \u001b[0;34m\u001b[0m\u001b[0m\n\u001b[1;32m      4\u001b[0m \u001b[0;32mwith\u001b[0m \u001b[0mopen\u001b[0m\u001b[0;34m(\u001b[0m\u001b[0mdev_path\u001b[0m\u001b[0;34m,\u001b[0m\u001b[0;34m'r'\u001b[0m\u001b[0;34m,\u001b[0m\u001b[0mencoding\u001b[0m\u001b[0;34m=\u001b[0m\u001b[0;34m'utf-8'\u001b[0m\u001b[0;34m)\u001b[0m \u001b[0;32mas\u001b[0m \u001b[0mf\u001b[0m\u001b[0;34m:\u001b[0m\u001b[0;34m\u001b[0m\u001b[0;34m\u001b[0m\u001b[0m\n\u001b[1;32m      5\u001b[0m   \u001b[0mdev_data\u001b[0m \u001b[0;34m=\u001b[0m \u001b[0mjson\u001b[0m\u001b[0;34m.\u001b[0m\u001b[0mload\u001b[0m\u001b[0;34m(\u001b[0m\u001b[0mf\u001b[0m\u001b[0;34m)\u001b[0m\u001b[0;34m\u001b[0m\u001b[0;34m\u001b[0m\u001b[0m\n",
            "\u001b[0;31mFileNotFoundError\u001b[0m: [Errno 2] No such file or directory: '/content/drive/MyDrive/PQA/train_merged.json'"
          ]
        }
      ]
    },
    {
      "cell_type": "code",
      "source": [
        "train_df = pd.DataFrame(columns=['context','question','answers'])\n",
        "for row in train_data:\n",
        "  context = row['paragraphs'][0]['context']\n",
        "  qas = row['paragraphs'][0]['qas']\n",
        "  for qa in qas:\n",
        "    question = qa['question']\n",
        "    if len( qa['answers']) != 0:\n",
        "      answer_start = [qa['answers'][0]['answer_start']]\n",
        "      answer_text = [qa['answers'][0]['text']]\n",
        "    else:\n",
        "      answer_start = []\n",
        "      answer_text = []\n",
        "    train_df = train_df.append({'context': context, 'question': question, 'answers': {'answer_start': answer_start, 'text': answer_text}}, ignore_index=True)\n"
      ],
      "metadata": {
        "id": "C8iQS2PFc0XC"
      },
      "execution_count": null,
      "outputs": []
    },
    {
      "cell_type": "code",
      "source": [
        "dev_df = pd.DataFrame(columns=['context','question','answers'])\n",
        "for row in dev_data:\n",
        "  context = row['paragraphs'][0]['context']\n",
        "  qas = row['paragraphs'][0]['qas']\n",
        "  for qa in qas:\n",
        "    question = qa['question']\n",
        "    if len( qa['answers']) != 0:\n",
        "      answer_start = [qa['answers'][0]['answer_start']]\n",
        "      answer_text = [qa['answers'][0]['text']]\n",
        "    else:\n",
        "      answer_start = []\n",
        "      answer_text = []\n",
        "    dev_df = dev_df.append({'context': context, 'question': question, 'answers': {'answer_start': answer_start, 'text': answer_text}}, ignore_index=True)\n"
      ],
      "metadata": {
        "id": "6zLzcuXv-XCj"
      },
      "execution_count": null,
      "outputs": []
    },
    {
      "cell_type": "code",
      "source": [
        "test_df = pd.DataFrame(columns=['context','question','answers'])\n",
        "for row in test_data:\n",
        "  context = row['paragraphs'][0]['context']\n",
        "  qas = row['paragraphs'][0]['qas']\n",
        "  for qa in qas:\n",
        "    question = qa['question']\n",
        "    if len( qa['answers']) != 0:\n",
        "      answer_start = [qa['answers'][0]['answer_start']]\n",
        "      answer_text = [qa['answers'][0]['text']]\n",
        "    else:\n",
        "      answer_start = []\n",
        "      answer_text = []\n",
        "    test_df = test_df.append({'context': context, 'question': question, 'answers': {'answer_start': answer_start, 'text': answer_text}}, ignore_index=True)\n"
      ],
      "metadata": {
        "id": "2iwWjh82-XyB"
      },
      "execution_count": null,
      "outputs": []
    },
    {
      "cell_type": "code",
      "source": [
        "train_dataset = Dataset.from_pandas(train_df)\n",
        "dev_dataset = Dataset.from_pandas(dev_df)\n",
        "test_dataset = Dataset.from_pandas(test_df)"
      ],
      "metadata": {
        "id": "VL26I2ih-K0E"
      },
      "execution_count": null,
      "outputs": []
    },
    {
      "cell_type": "code",
      "source": [
        "train_dataset.save_to_disk(\"train.hf\")\n",
        "dev_dataset.save_to_disk(\"dev.hf\")\n",
        "test_dataset.save_to_disk(\"test.hf\")"
      ],
      "metadata": {
        "id": "GS2lA3zp_pbV"
      },
      "execution_count": null,
      "outputs": []
    },
    {
      "cell_type": "code",
      "source": [
        "!cp -r '/content/train.hf' \"/content/drive/MyDrive/PQA/train.hf\"\n",
        "!cp -r '/content/test.hf' \"/content/drive/MyDrive/PQA/test.hf\"\n",
        "!cp -r '/content/dev.hf' \"/content/drive/MyDrive/PQA/dev.hf\""
      ],
      "metadata": {
        "id": "8c8BCOEOAGzT"
      },
      "execution_count": null,
      "outputs": []
    },
    {
      "cell_type": "markdown",
      "source": [
        "# Load Datasets"
      ],
      "metadata": {
        "id": "JCPsA1f0BwCT"
      }
    },
    {
      "cell_type": "code",
      "source": [
        "train_dataset = load_from_disk(DRIVE_PATH + \"Datasets/train.hf\").shuffle(seed=42)\n",
        "dev_dataset = load_from_disk(DRIVE_PATH + \"Datasets/dev.hf\").shuffle(seed=42)\n",
        "test_dataset = load_from_disk(DRIVE_PATH + \"Datasets/test.hf\").shuffle(seed=42)"
      ],
      "metadata": {
        "id": "-mT5GIAIBscY",
        "colab": {
          "base_uri": "https://localhost:8080/"
        },
        "outputId": "d0b8bde7-7f27-4a7f-f4ce-708d795e8165"
      },
      "execution_count": 6,
      "outputs": [
        {
          "output_type": "stream",
          "name": "stderr",
          "text": [
            "WARNING:datasets.arrow_dataset:Loading cached shuffled indices for dataset at /content/drive/MyDrive/NLP_Final/Datasets/train.hf/cache-0abab45ba4e313cf.arrow\n",
            "WARNING:datasets.arrow_dataset:Loading cached shuffled indices for dataset at /content/drive/MyDrive/NLP_Final/Datasets/dev.hf/cache-93a2a09ce7a197bd.arrow\n",
            "WARNING:datasets.arrow_dataset:Loading cached shuffled indices for dataset at /content/drive/MyDrive/NLP_Final/Datasets/test.hf/cache-a8e9793b8e562ab4.arrow\n"
          ]
        }
      ]
    },
    {
      "cell_type": "markdown",
      "source": [
        "# Tokenize Datasets"
      ],
      "metadata": {
        "id": "EgYAnFVzC2F_"
      }
    },
    {
      "cell_type": "code",
      "metadata": {
        "colab": {
          "base_uri": "https://localhost:8080/",
          "height": 389,
          "referenced_widgets": [
            "a0ff823c100e4de98d6759a4ff3e2c9f",
            "0b83cce5ad874b0a94d68ce4e215c4d9",
            "dc9380d453c54156a4e264f48a80ddec",
            "b9750ae188d74ce2910de269b554904b",
            "a460b66b47044fbcba16c3d30bdf4b99",
            "b347ce18a4464991999de118c9033d24",
            "a468b91b4aea414c9fd5b512f72b9620",
            "22d3e816d1fa457fa82090eee57b9f8d",
            "0c3dd2e217034c50a02e7f51c4dc7973",
            "32d242b79e1642a1b7d75a797313bc93",
            "7b08624b4324435d82e597a49a5a75b3",
            "41c5beaceb9d4786a36039f21a34ae62",
            "415f35e24179473884b5618654f38765",
            "bcb0791702934c738158a8fd6f06cfeb",
            "bbf564b3195e4d4cab7f7cccd834c706",
            "969724533455401797fd20d8d31bf905",
            "a704cf5fdb614d44926a95bf00bc8606",
            "95f1d6d7430341038eccd84eb556f151",
            "b53254e2f8bc48f0ab1d286d0c2a975d",
            "ace8615bd9a1417ebf83d2e415292ced",
            "24f7f0c34e7240ecb8c26f8b6d047d8e",
            "88ed7e661706436f80074238855a49ce",
            "309c1ae8185649989560c1ed8f469e9f",
            "5c233f1f23d2414f8fcb4745b9708b3c",
            "22ad084653c0494da3ca5cd95af83e46",
            "a2b61ccae48549febc17685733195b26",
            "7e9cc7353c5c46a09afb49de1feafc6f",
            "f60b78c59da640b9bf1d6ec2ae8c8966",
            "d77d99741b9540f18dad18564817e5b6",
            "435c7fbe4b714170873f8d0b764d3371",
            "c5e888d180d34e44bbb0fd92acfc8557",
            "289da50160ef4fbea70edd84e91f2a0b",
            "0ff3a44e0d404b0c8623b66e20e555c6",
            "8cd22dd66c764b6f9ca01c6cba2da1bc",
            "77c9e11ce1554f8997d46d133f7f6633",
            "d943d4118fc3451bbb2a33dfe0202085",
            "856a422488e748779baf8541f1f5aee2",
            "60d543f98ca84928b7894a60a47f4760",
            "f81a67a6bedc4675a53471497fc4b0be",
            "3ba159e08ac543cb955751f3ac53b0a2",
            "d50591b66d4d4aafb2db88b47cc81f1a",
            "b93dda99d437404d9ccf82039e25796a",
            "ac8f0487c1f641968c018da548cfe81c",
            "ac64445878384c2fa99cbf8cab101ad5"
          ]
        },
        "id": "XMuH-jK9RK3O",
        "outputId": "65a08ea1-4d57-430d-9b59-13293a121063"
      },
      "source": [
        "tokenizer = AutoTokenizer.from_pretrained(model_checkpoint)"
      ],
      "execution_count": 7,
      "outputs": [
        {
          "output_type": "display_data",
          "data": {
            "text/plain": [
              "Downloading tokenizer_config.json:   0%|          | 0.00/28.0 [00:00<?, ?B/s]"
            ],
            "application/vnd.jupyter.widget-view+json": {
              "version_major": 2,
              "version_minor": 0,
              "model_id": "a0ff823c100e4de98d6759a4ff3e2c9f"
            }
          },
          "metadata": {}
        },
        {
          "output_type": "display_data",
          "data": {
            "text/plain": [
              "Downloading config.json:   0%|          | 0.00/625 [00:00<?, ?B/s]"
            ],
            "application/vnd.jupyter.widget-view+json": {
              "version_major": 2,
              "version_minor": 0,
              "model_id": "41c5beaceb9d4786a36039f21a34ae62"
            }
          },
          "metadata": {}
        },
        {
          "output_type": "display_data",
          "data": {
            "text/plain": [
              "Downloading vocab.txt:   0%|          | 0.00/851k [00:00<?, ?B/s]"
            ],
            "application/vnd.jupyter.widget-view+json": {
              "version_major": 2,
              "version_minor": 0,
              "model_id": "309c1ae8185649989560c1ed8f469e9f"
            }
          },
          "metadata": {}
        },
        {
          "output_type": "display_data",
          "data": {
            "text/plain": [
              "Downloading tokenizer.json:   0%|          | 0.00/1.64M [00:00<?, ?B/s]"
            ],
            "application/vnd.jupyter.widget-view+json": {
              "version_major": 2,
              "version_minor": 0,
              "model_id": "8cd22dd66c764b6f9ca01c6cba2da1bc"
            }
          },
          "metadata": {}
        }
      ]
    },
    {
      "cell_type": "code",
      "metadata": {
        "id": "Nu4uNtRjJkYI"
      },
      "source": [
        "def prepare_train_features(examples):\n",
        "    tokenized_examples = tokenizer(\n",
        "        examples[\"question\"],\n",
        "        examples[\"context\"],\n",
        "        truncation=\"only_second\",\n",
        "        max_length=max_length,\n",
        "        stride=doc_stride,\n",
        "        return_overflowing_tokens=True,\n",
        "        return_offsets_mapping=True,)\n",
        "    \n",
        "    sample_mapping = tokenized_examples.pop(\"overflow_to_sample_mapping\")\n",
        "    offset_mapping = tokenized_examples.pop(\"offset_mapping\")\n",
        "    tokenized_examples[\"start_positions\"] = []\n",
        "    tokenized_examples[\"end_positions\"] = []\n",
        "    for i, offsets in enumerate(offset_mapping):\n",
        "        # We will label impossible answers with the index of the CLS token.\n",
        "        input_ids = tokenized_examples[\"input_ids\"][i]\n",
        "        cls_index = input_ids.index(tokenizer.cls_token_id)\n",
        "        # Grab the sequence corresponding to that example (to know what is the context and what is the question).\n",
        "        sequence_ids = tokenized_examples.sequence_ids(i)\n",
        "        # One example can give several spans, this is the index of the example containing this span of text.\n",
        "        sample_index = sample_mapping[i]\n",
        "        answers = examples[\"answers\"][sample_index]\n",
        "        # If no answers are given, set the cls_index as answer.\n",
        "        if len(answers[\"answer_start\"]) == 0:\n",
        "            tokenized_examples[\"start_positions\"].append(cls_index)\n",
        "            tokenized_examples[\"end_positions\"].append(cls_index)\n",
        "        else:\n",
        "            # Start/end character index of the answer in the text.\n",
        "            start_char = answers[\"answer_start\"][0]\n",
        "            end_char = start_char + len(answers[\"text\"][0])\n",
        "            # Start token index of the current span in the text.\n",
        "            token_start_index = 0\n",
        "            while sequence_ids[token_start_index] != 1:\n",
        "                token_start_index += 1\n",
        "            # End token index of the current span in the text.\n",
        "            token_end_index = len(input_ids) - 1\n",
        "            while sequence_ids[token_end_index] != 1:\n",
        "                token_end_index -= 1\n",
        "            # Detect if the answer is out of the span (in which case this feature is labeled with the CLS index).\n",
        "            if not (offsets[token_start_index][0] <= start_char and offsets[token_end_index][1] >= end_char):\n",
        "                tokenized_examples[\"start_positions\"].append(cls_index)\n",
        "                tokenized_examples[\"end_positions\"].append(cls_index)\n",
        "            else:\n",
        "                # Otherwise move the token_start_index and token_end_index to the two ends of the answer.\n",
        "                # Note: we could go after the last offset if the answer is the last word (edge case).\n",
        "                while token_start_index < len(offsets) and offsets[token_start_index][0] <= start_char:\n",
        "                    token_start_index += 1\n",
        "                tokenized_examples[\"start_positions\"].append(token_start_index - 1)\n",
        "                while offsets[token_end_index][1] >= end_char:\n",
        "                    token_end_index -= 1\n",
        "                tokenized_examples[\"end_positions\"].append(token_end_index + 1)\n",
        "\n",
        "    return tokenized_examples"
      ],
      "execution_count": 8,
      "outputs": []
    },
    {
      "cell_type": "code",
      "metadata": {
        "colab": {
          "base_uri": "https://localhost:8080/",
          "height": 160,
          "referenced_widgets": [
            "cbe3f8f27e7348eba69d7517ef61feb3",
            "77f411c1bb134e9c927d94d24eda049c",
            "88a2c075cf70460eb6ddcca00c227469",
            "6fdd28776619447189dea124a3b18744",
            "e6c27d8957564900aacfe1aa2f9b15b0",
            "abc2901a6d3a4f6696f4716d0e07703d",
            "a1043f67b835443987bc5a167e072535",
            "2e2a30fb2d074ffbb9c4a5d9a4a7e79b",
            "e5e52cb4a60d4ec392bab0aa523dfa1b",
            "55d1536034584c2396c71f2c6c756f06",
            "a9ac61a6a6724f80b1ea0a1dc35195ea"
          ]
        },
        "id": "sN9zgfIUJzyy",
        "outputId": "f45098b8-103c-443a-c5de-c3e17c8656bb"
      },
      "source": [
        "# the datasets library does cashing itself, batched is multitreading for fast-tokenizer\n",
        "tokenized_train = train_dataset.map(prepare_train_features, batched=True, remove_columns=train_dataset.column_names)\n",
        "tokenized_dev = dev_dataset.map(prepare_train_features, batched=True, remove_columns=dev_dataset.column_names)\n",
        "tokenized_test = test_dataset.map(prepare_train_features, batched=True, remove_columns=test_dataset.column_names)"
      ],
      "execution_count": 9,
      "outputs": [
        {
          "output_type": "stream",
          "name": "stderr",
          "text": [
            "WARNING:datasets.arrow_dataset:Loading cached processed dataset at /content/drive/MyDrive/NLP_Final/Datasets/train.hf/cache-5dd6ebbd8e4a3193.arrow\n"
          ]
        },
        {
          "output_type": "display_data",
          "data": {
            "text/plain": [
              "  0%|          | 0/6 [00:00<?, ?ba/s]"
            ],
            "application/vnd.jupyter.widget-view+json": {
              "version_major": 2,
              "version_minor": 0,
              "model_id": "cbe3f8f27e7348eba69d7517ef61feb3"
            }
          },
          "metadata": {}
        },
        {
          "output_type": "stream",
          "name": "stderr",
          "text": [
            "WARNING:datasets.arrow_dataset:Loading cached processed dataset at /content/drive/MyDrive/NLP_Final/Datasets/test.hf/cache-ad871f8ddf2e1b59.arrow\n"
          ]
        }
      ]
    },
    {
      "cell_type": "markdown",
      "source": [
        "# Training "
      ],
      "metadata": {
        "id": "x63Cfr4sG1lR"
      }
    },
    {
      "cell_type": "code",
      "metadata": {
        "colab": {
          "base_uri": "https://localhost:8080/",
          "height": 156,
          "referenced_widgets": [
            "177759b392dd405bb11fb6eb29484c5a",
            "fa878f0d3e5a42b7adbcfd8f879f5b4a",
            "20e842f98bc94f31b90bab74421265f3",
            "a3c112d9c54d47938fd69c4facc63a8b",
            "e45fc8d43ce74b64be5d1943b4f1c01e",
            "d34f6e82adf3419aa392f3b91b09a743",
            "caf4f38be9e944529557bd20b5a333aa",
            "8d0357747e1549b6b119f6f0425d2e1a",
            "3931cca31a854066a694e84ce31ca613",
            "70711b38c8ef478eab456a8a02f6e612",
            "6c0262e295db452891b19b1e75027362"
          ]
        },
        "id": "vvWF4N5uKAKk",
        "outputId": "f21aa1b7-2002-41dc-d114-29610a67c693"
      },
      "source": [
        "model = AutoModelForQuestionAnswering.from_pretrained(model_checkpoint)"
      ],
      "execution_count": 10,
      "outputs": [
        {
          "output_type": "display_data",
          "data": {
            "text/plain": [
              "Downloading pytorch_model.bin:   0%|          | 0.00/641M [00:00<?, ?B/s]"
            ],
            "application/vnd.jupyter.widget-view+json": {
              "version_major": 2,
              "version_minor": 0,
              "model_id": "177759b392dd405bb11fb6eb29484c5a"
            }
          },
          "metadata": {}
        },
        {
          "output_type": "stream",
          "name": "stderr",
          "text": [
            "Some weights of the model checkpoint at bert-base-multilingual-uncased were not used when initializing BertForQuestionAnswering: ['cls.predictions.transform.dense.weight', 'cls.seq_relationship.weight', 'cls.seq_relationship.bias', 'cls.predictions.decoder.weight', 'cls.predictions.bias', 'cls.predictions.transform.dense.bias', 'cls.predictions.transform.LayerNorm.weight', 'cls.predictions.transform.LayerNorm.bias']\n",
            "- This IS expected if you are initializing BertForQuestionAnswering from the checkpoint of a model trained on another task or with another architecture (e.g. initializing a BertForSequenceClassification model from a BertForPreTraining model).\n",
            "- This IS NOT expected if you are initializing BertForQuestionAnswering from the checkpoint of a model that you expect to be exactly identical (initializing a BertForSequenceClassification model from a BertForSequenceClassification model).\n",
            "Some weights of BertForQuestionAnswering were not initialized from the model checkpoint at bert-base-multilingual-uncased and are newly initialized: ['qa_outputs.weight', 'qa_outputs.bias']\n",
            "You should probably TRAIN this model on a down-stream task to be able to use it for predictions and inference.\n"
          ]
        }
      ]
    },
    {
      "cell_type": "code",
      "metadata": {
        "id": "k8WhilPvKD7M"
      },
      "source": [
        "args = TrainingArguments(\n",
        "    DRIVE_PATH + f\"mbert_checkpoints\",\n",
        "    evaluation_strategy = \"epoch\",\n",
        "    learning_rate=lr,\n",
        "    per_device_train_batch_size=batch_size,\n",
        "    per_device_eval_batch_size=batch_size,\n",
        "    num_train_epochs=epoch,\n",
        "    weight_decay=0.0001) "
      ],
      "execution_count": 11,
      "outputs": []
    },
    {
      "cell_type": "code",
      "metadata": {
        "id": "_JExLUgTKMue"
      },
      "source": [
        "trainer = Trainer(\n",
        "    model=model,\n",
        "    args=args,\n",
        "    train_dataset=tokenized_train,\n",
        "    eval_dataset=tokenized_dev,\n",
        "    tokenizer=tokenizer)"
      ],
      "execution_count": 12,
      "outputs": []
    },
    {
      "cell_type": "code",
      "metadata": {
        "id": "Q_B0VPLjKYxd"
      },
      "source": [
        "# start training\n",
        "trainer.train()"
      ],
      "execution_count": null,
      "outputs": []
    },
    {
      "cell_type": "code",
      "source": [
        "import torch\n",
        "torch.save(model, DRIVE_PATH + 'mbert_checkpoints/mbert.pt')"
      ],
      "metadata": {
        "id": "d3oDrZOK7R6r"
      },
      "execution_count": 29,
      "outputs": []
    },
    {
      "cell_type": "markdown",
      "source": [
        "# Test Model"
      ],
      "metadata": {
        "id": "wQXLYbjYGyO5"
      }
    },
    {
      "cell_type": "code",
      "source": [
        "!pip install -q sentencepiece\n",
        "\n",
        "from tqdm import tqdm\n",
        "from IPython.display import clear_output\n",
        "import torch\n",
        "from transformers import AutoModelForQuestionAnswering, AutoTokenizer\n"
      ],
      "metadata": {
        "id": "mkfeOCMpGu9e",
        "colab": {
          "base_uri": "https://localhost:8080/"
        },
        "outputId": "3b6a8789-6c04-4ec5-d37d-96f627274bfe"
      },
      "execution_count": 22,
      "outputs": [
        {
          "output_type": "stream",
          "name": "stdout",
          "text": [
            "\u001b[?25l\r\u001b[K     |▎                               | 10 kB 31.3 MB/s eta 0:00:01\r\u001b[K     |▌                               | 20 kB 10.7 MB/s eta 0:00:01\r\u001b[K     |▊                               | 30 kB 8.9 MB/s eta 0:00:01\r\u001b[K     |█                               | 40 kB 4.0 MB/s eta 0:00:01\r\u001b[K     |█▎                              | 51 kB 4.0 MB/s eta 0:00:01\r\u001b[K     |█▌                              | 61 kB 4.8 MB/s eta 0:00:01\r\u001b[K     |█▉                              | 71 kB 4.9 MB/s eta 0:00:01\r\u001b[K     |██                              | 81 kB 5.1 MB/s eta 0:00:01\r\u001b[K     |██▎                             | 92 kB 5.7 MB/s eta 0:00:01\r\u001b[K     |██▋                             | 102 kB 4.7 MB/s eta 0:00:01\r\u001b[K     |██▉                             | 112 kB 4.7 MB/s eta 0:00:01\r\u001b[K     |███                             | 122 kB 4.7 MB/s eta 0:00:01\r\u001b[K     |███▍                            | 133 kB 4.7 MB/s eta 0:00:01\r\u001b[K     |███▋                            | 143 kB 4.7 MB/s eta 0:00:01\r\u001b[K     |███▉                            | 153 kB 4.7 MB/s eta 0:00:01\r\u001b[K     |████                            | 163 kB 4.7 MB/s eta 0:00:01\r\u001b[K     |████▍                           | 174 kB 4.7 MB/s eta 0:00:01\r\u001b[K     |████▋                           | 184 kB 4.7 MB/s eta 0:00:01\r\u001b[K     |████▉                           | 194 kB 4.7 MB/s eta 0:00:01\r\u001b[K     |█████▏                          | 204 kB 4.7 MB/s eta 0:00:01\r\u001b[K     |█████▍                          | 215 kB 4.7 MB/s eta 0:00:01\r\u001b[K     |█████▋                          | 225 kB 4.7 MB/s eta 0:00:01\r\u001b[K     |██████                          | 235 kB 4.7 MB/s eta 0:00:01\r\u001b[K     |██████▏                         | 245 kB 4.7 MB/s eta 0:00:01\r\u001b[K     |██████▍                         | 256 kB 4.7 MB/s eta 0:00:01\r\u001b[K     |██████▊                         | 266 kB 4.7 MB/s eta 0:00:01\r\u001b[K     |███████                         | 276 kB 4.7 MB/s eta 0:00:01\r\u001b[K     |███████▏                        | 286 kB 4.7 MB/s eta 0:00:01\r\u001b[K     |███████▍                        | 296 kB 4.7 MB/s eta 0:00:01\r\u001b[K     |███████▊                        | 307 kB 4.7 MB/s eta 0:00:01\r\u001b[K     |████████                        | 317 kB 4.7 MB/s eta 0:00:01\r\u001b[K     |████████▏                       | 327 kB 4.7 MB/s eta 0:00:01\r\u001b[K     |████████▌                       | 337 kB 4.7 MB/s eta 0:00:01\r\u001b[K     |████████▊                       | 348 kB 4.7 MB/s eta 0:00:01\r\u001b[K     |█████████                       | 358 kB 4.7 MB/s eta 0:00:01\r\u001b[K     |█████████▎                      | 368 kB 4.7 MB/s eta 0:00:01\r\u001b[K     |█████████▌                      | 378 kB 4.7 MB/s eta 0:00:01\r\u001b[K     |█████████▊                      | 389 kB 4.7 MB/s eta 0:00:01\r\u001b[K     |██████████                      | 399 kB 4.7 MB/s eta 0:00:01\r\u001b[K     |██████████▎                     | 409 kB 4.7 MB/s eta 0:00:01\r\u001b[K     |██████████▌                     | 419 kB 4.7 MB/s eta 0:00:01\r\u001b[K     |██████████▉                     | 430 kB 4.7 MB/s eta 0:00:01\r\u001b[K     |███████████                     | 440 kB 4.7 MB/s eta 0:00:01\r\u001b[K     |███████████▎                    | 450 kB 4.7 MB/s eta 0:00:01\r\u001b[K     |███████████▌                    | 460 kB 4.7 MB/s eta 0:00:01\r\u001b[K     |███████████▉                    | 471 kB 4.7 MB/s eta 0:00:01\r\u001b[K     |████████████                    | 481 kB 4.7 MB/s eta 0:00:01\r\u001b[K     |████████████▎                   | 491 kB 4.7 MB/s eta 0:00:01\r\u001b[K     |████████████▋                   | 501 kB 4.7 MB/s eta 0:00:01\r\u001b[K     |████████████▉                   | 512 kB 4.7 MB/s eta 0:00:01\r\u001b[K     |█████████████                   | 522 kB 4.7 MB/s eta 0:00:01\r\u001b[K     |█████████████▍                  | 532 kB 4.7 MB/s eta 0:00:01\r\u001b[K     |█████████████▋                  | 542 kB 4.7 MB/s eta 0:00:01\r\u001b[K     |█████████████▉                  | 552 kB 4.7 MB/s eta 0:00:01\r\u001b[K     |██████████████▏                 | 563 kB 4.7 MB/s eta 0:00:01\r\u001b[K     |██████████████▍                 | 573 kB 4.7 MB/s eta 0:00:01\r\u001b[K     |██████████████▋                 | 583 kB 4.7 MB/s eta 0:00:01\r\u001b[K     |██████████████▉                 | 593 kB 4.7 MB/s eta 0:00:01\r\u001b[K     |███████████████▏                | 604 kB 4.7 MB/s eta 0:00:01\r\u001b[K     |███████████████▍                | 614 kB 4.7 MB/s eta 0:00:01\r\u001b[K     |███████████████▋                | 624 kB 4.7 MB/s eta 0:00:01\r\u001b[K     |████████████████                | 634 kB 4.7 MB/s eta 0:00:01\r\u001b[K     |████████████████▏               | 645 kB 4.7 MB/s eta 0:00:01\r\u001b[K     |████████████████▍               | 655 kB 4.7 MB/s eta 0:00:01\r\u001b[K     |████████████████▊               | 665 kB 4.7 MB/s eta 0:00:01\r\u001b[K     |█████████████████               | 675 kB 4.7 MB/s eta 0:00:01\r\u001b[K     |█████████████████▏              | 686 kB 4.7 MB/s eta 0:00:01\r\u001b[K     |█████████████████▌              | 696 kB 4.7 MB/s eta 0:00:01\r\u001b[K     |█████████████████▊              | 706 kB 4.7 MB/s eta 0:00:01\r\u001b[K     |██████████████████              | 716 kB 4.7 MB/s eta 0:00:01\r\u001b[K     |██████████████████▎             | 727 kB 4.7 MB/s eta 0:00:01\r\u001b[K     |██████████████████▌             | 737 kB 4.7 MB/s eta 0:00:01\r\u001b[K     |██████████████████▊             | 747 kB 4.7 MB/s eta 0:00:01\r\u001b[K     |███████████████████             | 757 kB 4.7 MB/s eta 0:00:01\r\u001b[K     |███████████████████▎            | 768 kB 4.7 MB/s eta 0:00:01\r\u001b[K     |███████████████████▌            | 778 kB 4.7 MB/s eta 0:00:01\r\u001b[K     |███████████████████▊            | 788 kB 4.7 MB/s eta 0:00:01\r\u001b[K     |████████████████████            | 798 kB 4.7 MB/s eta 0:00:01\r\u001b[K     |████████████████████▎           | 808 kB 4.7 MB/s eta 0:00:01\r\u001b[K     |████████████████████▌           | 819 kB 4.7 MB/s eta 0:00:01\r\u001b[K     |████████████████████▉           | 829 kB 4.7 MB/s eta 0:00:01\r\u001b[K     |█████████████████████           | 839 kB 4.7 MB/s eta 0:00:01\r\u001b[K     |█████████████████████▎          | 849 kB 4.7 MB/s eta 0:00:01\r\u001b[K     |█████████████████████▋          | 860 kB 4.7 MB/s eta 0:00:01\r\u001b[K     |█████████████████████▉          | 870 kB 4.7 MB/s eta 0:00:01\r\u001b[K     |██████████████████████          | 880 kB 4.7 MB/s eta 0:00:01\r\u001b[K     |██████████████████████▎         | 890 kB 4.7 MB/s eta 0:00:01\r\u001b[K     |██████████████████████▋         | 901 kB 4.7 MB/s eta 0:00:01\r\u001b[K     |██████████████████████▉         | 911 kB 4.7 MB/s eta 0:00:01\r\u001b[K     |███████████████████████         | 921 kB 4.7 MB/s eta 0:00:01\r\u001b[K     |███████████████████████▍        | 931 kB 4.7 MB/s eta 0:00:01\r\u001b[K     |███████████████████████▋        | 942 kB 4.7 MB/s eta 0:00:01\r\u001b[K     |███████████████████████▉        | 952 kB 4.7 MB/s eta 0:00:01\r\u001b[K     |████████████████████████▏       | 962 kB 4.7 MB/s eta 0:00:01\r\u001b[K     |████████████████████████▍       | 972 kB 4.7 MB/s eta 0:00:01\r\u001b[K     |████████████████████████▋       | 983 kB 4.7 MB/s eta 0:00:01\r\u001b[K     |█████████████████████████       | 993 kB 4.7 MB/s eta 0:00:01\r\u001b[K     |█████████████████████████▏      | 1.0 MB 4.7 MB/s eta 0:00:01\r\u001b[K     |█████████████████████████▍      | 1.0 MB 4.7 MB/s eta 0:00:01\r\u001b[K     |█████████████████████████▊      | 1.0 MB 4.7 MB/s eta 0:00:01\r\u001b[K     |██████████████████████████      | 1.0 MB 4.7 MB/s eta 0:00:01\r\u001b[K     |██████████████████████████▏     | 1.0 MB 4.7 MB/s eta 0:00:01\r\u001b[K     |██████████████████████████▍     | 1.1 MB 4.7 MB/s eta 0:00:01\r\u001b[K     |██████████████████████████▊     | 1.1 MB 4.7 MB/s eta 0:00:01\r\u001b[K     |███████████████████████████     | 1.1 MB 4.7 MB/s eta 0:00:01\r\u001b[K     |███████████████████████████▏    | 1.1 MB 4.7 MB/s eta 0:00:01\r\u001b[K     |███████████████████████████▌    | 1.1 MB 4.7 MB/s eta 0:00:01\r\u001b[K     |███████████████████████████▊    | 1.1 MB 4.7 MB/s eta 0:00:01\r\u001b[K     |████████████████████████████    | 1.1 MB 4.7 MB/s eta 0:00:01\r\u001b[K     |████████████████████████████▎   | 1.1 MB 4.7 MB/s eta 0:00:01\r\u001b[K     |████████████████████████████▌   | 1.1 MB 4.7 MB/s eta 0:00:01\r\u001b[K     |████████████████████████████▊   | 1.1 MB 4.7 MB/s eta 0:00:01\r\u001b[K     |█████████████████████████████   | 1.2 MB 4.7 MB/s eta 0:00:01\r\u001b[K     |█████████████████████████████▎  | 1.2 MB 4.7 MB/s eta 0:00:01\r\u001b[K     |█████████████████████████████▌  | 1.2 MB 4.7 MB/s eta 0:00:01\r\u001b[K     |█████████████████████████████▊  | 1.2 MB 4.7 MB/s eta 0:00:01\r\u001b[K     |██████████████████████████████  | 1.2 MB 4.7 MB/s eta 0:00:01\r\u001b[K     |██████████████████████████████▎ | 1.2 MB 4.7 MB/s eta 0:00:01\r\u001b[K     |██████████████████████████████▌ | 1.2 MB 4.7 MB/s eta 0:00:01\r\u001b[K     |██████████████████████████████▉ | 1.2 MB 4.7 MB/s eta 0:00:01\r\u001b[K     |███████████████████████████████ | 1.2 MB 4.7 MB/s eta 0:00:01\r\u001b[K     |███████████████████████████████▎| 1.2 MB 4.7 MB/s eta 0:00:01\r\u001b[K     |███████████████████████████████▋| 1.3 MB 4.7 MB/s eta 0:00:01\r\u001b[K     |███████████████████████████████▉| 1.3 MB 4.7 MB/s eta 0:00:01\r\u001b[K     |████████████████████████████████| 1.3 MB 4.7 MB/s \n",
            "\u001b[?25h"
          ]
        }
      ]
    },
    {
      "cell_type": "code",
      "source": [
        "model_path = DRIVE_PATH + f\"mbert_checkpoints/checkpoint-17000/\"  ## load model trained for 2 epochs\n",
        "model = AutoModelForQuestionAnswering.from_pretrained(model_path)\n",
        "tokenizer = AutoTokenizer.from_pretrained(model_path)\n"
      ],
      "metadata": {
        "id": "rNJP-ZZrHaBE",
        "colab": {
          "base_uri": "https://localhost:8080/"
        },
        "outputId": "d4f91572-ad38-47e6-fcaf-c8c17b251da4"
      },
      "execution_count": 18,
      "outputs": [
        {
          "output_type": "stream",
          "name": "stderr",
          "text": [
            "loading configuration file /content/drive/MyDrive/NLP_Final/mbert_checkpoints/checkpoint-17000/config.json\n",
            "Model config BertConfig {\n",
            "  \"_name_or_path\": \"/content/drive/MyDrive/NLP_Final/mbert_checkpoints/checkpoint-17000/\",\n",
            "  \"architectures\": [\n",
            "    \"BertForQuestionAnswering\"\n",
            "  ],\n",
            "  \"attention_probs_dropout_prob\": 0.1,\n",
            "  \"classifier_dropout\": null,\n",
            "  \"directionality\": \"bidi\",\n",
            "  \"hidden_act\": \"gelu\",\n",
            "  \"hidden_dropout_prob\": 0.1,\n",
            "  \"hidden_size\": 768,\n",
            "  \"initializer_range\": 0.02,\n",
            "  \"intermediate_size\": 3072,\n",
            "  \"layer_norm_eps\": 1e-12,\n",
            "  \"max_position_embeddings\": 512,\n",
            "  \"model_type\": \"bert\",\n",
            "  \"num_attention_heads\": 12,\n",
            "  \"num_hidden_layers\": 12,\n",
            "  \"pad_token_id\": 0,\n",
            "  \"pooler_fc_size\": 768,\n",
            "  \"pooler_num_attention_heads\": 12,\n",
            "  \"pooler_num_fc_layers\": 3,\n",
            "  \"pooler_size_per_head\": 128,\n",
            "  \"pooler_type\": \"first_token_transform\",\n",
            "  \"position_embedding_type\": \"absolute\",\n",
            "  \"torch_dtype\": \"float32\",\n",
            "  \"transformers_version\": \"4.21.1\",\n",
            "  \"type_vocab_size\": 2,\n",
            "  \"use_cache\": true,\n",
            "  \"vocab_size\": 105879\n",
            "}\n",
            "\n",
            "loading weights file /content/drive/MyDrive/NLP_Final/mbert_checkpoints/checkpoint-17000/pytorch_model.bin\n",
            "All model checkpoint weights were used when initializing BertForQuestionAnswering.\n",
            "\n",
            "All the weights of BertForQuestionAnswering were initialized from the model checkpoint at /content/drive/MyDrive/NLP_Final/mbert_checkpoints/checkpoint-17000/.\n",
            "If your task is similar to the task the model of the checkpoint was trained on, you can already use BertForQuestionAnswering for predictions without further training.\n",
            "Didn't find file /content/drive/MyDrive/NLP_Final/mbert_checkpoints/checkpoint-17000/added_tokens.json. We won't load it.\n",
            "loading file /content/drive/MyDrive/NLP_Final/mbert_checkpoints/checkpoint-17000/vocab.txt\n",
            "loading file /content/drive/MyDrive/NLP_Final/mbert_checkpoints/checkpoint-17000/tokenizer.json\n",
            "loading file None\n",
            "loading file /content/drive/MyDrive/NLP_Final/mbert_checkpoints/checkpoint-17000/special_tokens_map.json\n",
            "loading file /content/drive/MyDrive/NLP_Final/mbert_checkpoints/checkpoint-17000/tokenizer_config.json\n"
          ]
        }
      ]
    },
    {
      "cell_type": "code",
      "metadata": {
        "id": "842M_Yrz3WvF"
      },
      "source": [
        "class AnswerPredictor:\n",
        "  def __init__(self, model, tokenizer, device='cuda', n_best=10, max_length=512, stride=256, no_answer=False):\n",
        "      \"\"\"Initializes PyTorch Question Answering Prediction\n",
        "      It's best to leave use the default values.\n",
        "      Args:\n",
        "          model: Fine-tuned torch model\n",
        "          tokenizer: Transformers tokenizer\n",
        "          device (torch.device): Running device\n",
        "          n_best (int): Number of best possible answers\n",
        "          max_length (int): Tokenizer max length\n",
        "          stride (int): Tokenizer stride\n",
        "          no_answer (bool): If True, model can return \"no answer\"\n",
        "      \"\"\"\n",
        "      self.model = model.eval().to(device)\n",
        "      self.tokenizer = tokenizer\n",
        "      self.device = device\n",
        "      self.max_length = max_length\n",
        "      self.stride = stride\n",
        "      self.no_answer = no_answer\n",
        "      self.n_best = n_best\n",
        "\n",
        "\n",
        "  def model_pred(self, questions, contexts, batch_size=1):\n",
        "      n = len(contexts)\n",
        "      if n%batch_size!=0:\n",
        "          raise Exception(\"batch_size must be divisible by sample length\")\n",
        "\n",
        "      tokens = self.tokenizer(questions, contexts, add_special_tokens=True, \n",
        "                              return_token_type_ids=True, return_tensors=\"pt\", padding=True, \n",
        "                              return_offsets_mapping=True, truncation=\"only_second\", \n",
        "                              max_length=self.max_length, stride=self.stride)\n",
        "\n",
        "      start_logits, end_logits = [], []\n",
        "      for i in tqdm(range(0, n-batch_size+1, batch_size)):\n",
        "          with torch.no_grad():\n",
        "              out = self.model(tokens['input_ids'][i:i+batch_size].to(self.device), \n",
        "                          tokens['attention_mask'][i:i+batch_size].to(self.device), \n",
        "                          tokens['token_type_ids'][i:i+batch_size].to(self.device))\n",
        "\n",
        "              start_logits.append(out.start_logits)\n",
        "              end_logits.append(out.end_logits)\n",
        "\n",
        "      return tokens, torch.stack(start_logits).view(n, -1), torch.stack(end_logits).view(n, -1)\n",
        "\n",
        "\n",
        "  def __call__(self, questions, contexts, batch_size=1, answer_max_len=100):\n",
        "      \"\"\"Creates model prediction\n",
        "      \n",
        "      Args: \n",
        "          questions (list): Question strings\n",
        "          contexts (list): Contexts strings\n",
        "          batch_size (int): Batch size\n",
        "          answer_max_len (int): Sets the longests possible length for any answer\n",
        "        \n",
        "      Returns:\n",
        "          dict: The best prediction of the model\n",
        "              (e.g {0: {\"text\": str, \"score\": int}})\n",
        "      \"\"\"\n",
        "      tokens, starts, ends = self.model_pred(questions, contexts, batch_size=batch_size)\n",
        "      start_indexes = starts.argsort(dim=-1, descending=True)[:, :self.n_best]\n",
        "      end_indexes = ends.argsort(dim=-1, descending=True)[:, :self.n_best]\n",
        "\n",
        "      preds = {}\n",
        "      for i, (c, q) in enumerate(zip(contexts, questions)):  \n",
        "          min_null_score = starts[i][0] + ends[i][0] # 0 is CLS Token\n",
        "          start_context = tokens['input_ids'][i].tolist().index(self.tokenizer.sep_token_id)\n",
        "          \n",
        "          offset = tokens['offset_mapping'][i]\n",
        "          valid_answers = []\n",
        "          for start_index in start_indexes[i]:\n",
        "              # Don't consider answers that are in questions\n",
        "              if start_index<start_context:\n",
        "                  continue\n",
        "              for end_index in end_indexes[i]:\n",
        "                  # Don't consider out-of-scope answers, either because the indices are out of bounds or correspond\n",
        "                  # to part of the input_ids that are not in the context.\n",
        "                  if (start_index >= len(offset) or end_index >= len(offset)\n",
        "                      or offset[start_index] is None or offset[end_index] is None):\n",
        "                      continue\n",
        "                  # Don't consider answers with a length that is either < 0 or > max_answer_length.\n",
        "                  if end_index < start_index or (end_index-start_index+1) > answer_max_len:\n",
        "                      continue\n",
        "\n",
        "                  start_char = offset[start_index][0]\n",
        "                  end_char = offset[end_index][1]\n",
        "                  valid_answers.append({\"score\": (starts[i][start_index] + ends[i][end_index]).item(),\n",
        "                                        \"text\": c[start_char: end_char]})\n",
        "                  \n",
        "          if len(valid_answers) > 0:\n",
        "              best_answer = sorted(valid_answers, key=lambda x: x[\"score\"], reverse=True)[0]\n",
        "          else:\n",
        "              best_answer = {\"text\": \"\", \"score\": min_null_score}\n",
        "\n",
        "          if self.no_answer:\n",
        "              preds[i] = best_answer if best_answer[\"score\"] >= min_null_score else {\"text\": \"\", \"score\": min_null_score}\n",
        "          else:\n",
        "              preds[i] = best_answer\n",
        "\n",
        "      return preds\n"
      ],
      "execution_count": 19,
      "outputs": []
    },
    {
      "cell_type": "code",
      "source": [
        "predictor = AnswerPredictor(model, tokenizer, device='cuda', n_best=10, no_answer=True)\n"
      ],
      "metadata": {
        "id": "2xrKiaeYJLf-"
      },
      "execution_count": 20,
      "outputs": []
    },
    {
      "cell_type": "code",
      "source": [
        "test_dataset[9]"
      ],
      "metadata": {
        "colab": {
          "base_uri": "https://localhost:8080/"
        },
        "id": "JJH32GrFO0DT",
        "outputId": "19b7538a-5e09-4be9-fc97-416a8f9764c2"
      },
      "execution_count": 25,
      "outputs": [
        {
          "output_type": "execute_result",
          "data": {
            "text/plain": [
              "{'context': 'BSkyB سرویس HDTV خود را با نام Sky + HD در 22 مه 2006 راه اندازی کرد. قبل از راه اندازی ، BSkyB ادعا کرد که 40،000 نفر برای دریافت سرویس HD ثبت نام کرده اند. در هفته قبل از راه اندازی ، شایعاتی مبنی بر اینکه BSkyB در تهیه جعبه بالا (STB) خود از تولید کننده تامسون مشکل دارد ، آشکار شد. در روز پنجشنبه 18 مه 2006 ، و در آخر هفته قبل از راه اندازی ، مردم گزارش دادند که BSkyB نصب آن را لغو کرده یا دوباره برنامه ریزی کرده است. سرانجام ، بی بی سی گزارش داد که 17000 مشتری هنوز به دلیل تحویل ناموفق ، خدمات دریافت نکرده اند. در تاریخ 31 مارس 2012 ، آسمان تعداد کل خانه های دارای Sky + HD را 4222000 اعلام کرد.',\n",
              " 'question': 'چه زمانی BSkyB سرویس HDTV خود را راه اندازی کرد؟',\n",
              " 'answers': {'answer_start': [43, 40, 43],\n",
              "  'text': ['22 مه 2006', 'در 22 مه 2006', '22 مه 2006']}}"
            ]
          },
          "metadata": {},
          "execution_count": 25
        }
      ]
    },
    {
      "cell_type": "code",
      "source": [
        "context = test_dataset[9]['context'] \n",
        "question = test_dataset[9]['question'] \n",
        "\n",
        "preds = predictor([question], [context], batch_size=1)\n",
        "print('\\n\\n Model Prediction: ', preds[0]['text'].strip())"
      ],
      "metadata": {
        "colab": {
          "base_uri": "https://localhost:8080/"
        },
        "id": "WZkpZrQbJxjd",
        "outputId": "1883b279-741d-4dfa-cd9f-d0cb63ab3ccd"
      },
      "execution_count": 26,
      "outputs": [
        {
          "output_type": "stream",
          "name": "stderr",
          "text": [
            "100%|██████████| 1/1 [00:00<00:00, 53.09it/s]"
          ]
        },
        {
          "output_type": "stream",
          "name": "stdout",
          "text": [
            "\n",
            "\n",
            " Model Prediction:  22 مه 2006\n"
          ]
        },
        {
          "output_type": "stream",
          "name": "stderr",
          "text": [
            "\n"
          ]
        }
      ]
    }
  ]
}